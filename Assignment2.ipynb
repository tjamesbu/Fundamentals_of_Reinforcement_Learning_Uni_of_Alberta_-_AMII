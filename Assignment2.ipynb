





<!DOCTYPE html>
<html lang="en" data-color-mode="light" data-light-theme="light" data-dark-theme="dark">
  <head>
    <meta charset="utf-8">
  <link rel="dns-prefetch" href="https://github.githubassets.com">
  <link rel="dns-prefetch" href="https://avatars.githubusercontent.com">
  <link rel="dns-prefetch" href="https://github-cloud.s3.amazonaws.com">
  <link rel="dns-prefetch" href="https://user-images.githubusercontent.com/">



  <link crossorigin="anonymous" media="all" integrity="sha512-uGiH6wbEDXS0vWuvN3hZbENUuT1jRMWy2XVfJIgd3mEESUBtD/hnFdIiujVyRcPJ5dofwZ6e196xmCczSkgz9g==" rel="stylesheet" href="https://github.githubassets.com/assets/frameworks-b86887eb06c40d74b4bd6baf3778596c.css" />
  
    <link crossorigin="anonymous" media="all" integrity="sha512-8rXKu7ZOFdS3H7Rk0wJ38WQFoEp6b7HTSZ58yDoWzKX+JDPYC6vtbIdTIbhWT90/16upZIaZDCPOA8P9a8mv5A==" rel="stylesheet" href="https://github.githubassets.com/assets/behaviors-f2b5cabbb64e15d4b71fb464d30277f1.css" />
    
    
    
    <link crossorigin="anonymous" media="all" integrity="sha512-2Tv1VQoy2kaxDIPWa40DzxC7ou3lAWTHqe/npmKNz/mJnES617GVYxEkryY/xZ8U/RXi1EkE31stiFb4orAVXQ==" rel="stylesheet" href="https://github.githubassets.com/assets/github-d93bf5550a32da46b10c83d66b8d03cf.css" />

  <script crossorigin="anonymous" defer="defer" integrity="sha512-CzeY4A6TiG4fGZSWZU8FxmzFFmcQFoPpArF0hkH0/J/S7UL4eed/LKEXMQXfTwiG5yEJBI+9BdKG8KQJNbhcIQ==" type="application/javascript" src="https://github.githubassets.com/assets/environment-0b3798e0.js"></script>
    <script crossorigin="anonymous" defer="defer" integrity="sha512-oRkKscjEH1b2bAAJURl5E/Q7RFJnHgCDjcbhNpHzxJ3s5G5I2oNZc9b4KrHgOG2D8rpkXsPu88B5p8lOCe8f6Q==" type="application/javascript" src="https://github.githubassets.com/assets/chunk-frameworks-a1190ab1.js"></script>
    <script crossorigin="anonymous" defer="defer" integrity="sha512-8L7Awn9r6icJUbEhnp8KIHB7N6rzEQmJyDIL5WJO9l/eTeJ60nPC7krAsNYyydo10PQjZLOHbN+jorV80Xk9tQ==" type="application/javascript" src="https://github.githubassets.com/assets/chunk-vendor-f0bec0c2.js"></script>
  
  <script crossorigin="anonymous" defer="defer" integrity="sha512-+MwvC3rSAaQjKVbALblvS0KULukVYcqzY2ug5b5z0SjYWX4K+vXVEMZfgEK3viB9kTD2txkEu+XhQrmmAGGaUw==" type="application/javascript" src="https://github.githubassets.com/assets/behaviors-f8cc2f0b.js"></script>
  
    <script crossorigin="anonymous" defer="defer" integrity="sha512-aEeAsfpL9cBt2DYP2NfaqKLyYLkN4BS+/ikvLHM+abhqZsoNmd3Wxqwu6TGp7Pf/vqvvGeL26/NswwMkS1WwQg==" type="application/javascript" data-module-id="./chunk-color-modes.js" data-src="https://github.githubassets.com/assets/chunk-color-modes-684780b1.js"></script>
    <script crossorigin="anonymous" defer="defer" integrity="sha512-zaLwmM/bgGhKnDy4YPvbl92aZ1yaF7e3A+bjdCoWZSCls/co65VBCDE+blnNwcfc61E/cQHJiFDokMdSGmTYxQ==" type="application/javascript" data-module-id="./chunk-contributions-spider-graph.js" data-src="https://github.githubassets.com/assets/chunk-contributions-spider-graph-cda2f098.js"></script>
    <script crossorigin="anonymous" defer="defer" integrity="sha512-6j/oSF+kbW+yetNPvI684VzAu9pzug6Vj2h+3u1LdCuRhR4jnuiHZfeQKls3nxcT/S3H+oIt7FtigE/aeoj+gg==" type="application/javascript" data-module-id="./chunk-drag-drop.js" data-src="https://github.githubassets.com/assets/chunk-drag-drop-ea3fe848.js"></script>
    <script crossorigin="anonymous" defer="defer" integrity="sha512-ymxyvUviKFi+en2si3ZTyY4YCLRKlk0cKK/ngD9ir8xoeH44pCE1I4MBRQE5PcErmUJMhlcAk3+pgwHB7VcseA==" type="application/javascript" data-module-id="./chunk-edit.js" data-src="https://github.githubassets.com/assets/chunk-edit-ca6c72bd.js"></script>
    <script crossorigin="anonymous" defer="defer" integrity="sha512-aiqMIGGZGo8AQMjcoImKPMTsZVVRl6htCSY7BpRmpGPG/AF+Wq+P/Oj/dthWQOIk9cCNMPEas7O2zAR6oqn0tA==" type="application/javascript" data-module-id="./chunk-emoji-picker-element.js" data-src="https://github.githubassets.com/assets/chunk-emoji-picker-element-6a2a8c20.js"></script>
    <script crossorigin="anonymous" defer="defer" integrity="sha512-DAk56F8lz8k6kg6vf15oE4tu4MTIPDT9DUo3VwO8SLYyb3ws4QU433BG7eVXOS50wzl7dUuMFRfTP1rHlHi45g==" type="application/javascript" data-module-id="./chunk-filter-input.js" data-src="https://github.githubassets.com/assets/chunk-filter-input-0c0939e8.js"></script>
    <script crossorigin="anonymous" defer="defer" integrity="sha512-j5Eltv6XYkPt7XVCMWLH6qhNBoFOzxXLIsaoffjjTl2fw/sXVfluH+EGE5dYJPEBwsmqK0LenheRi9hmNcWnCA==" type="application/javascript" data-module-id="./chunk-insights-graph.js" data-src="https://github.githubassets.com/assets/chunk-insights-graph-8f9125b6.js"></script>
    <script crossorigin="anonymous" defer="defer" integrity="sha512-QM/lwlNqhmQdgdKAm7AmH4UPduFZRVyImbYS6vxhjNHvktVItzONWSYyvdRP83nsaNC1HZVeWmKSFh6uNHcF5A==" type="application/javascript" data-module-id="./chunk-jump-to.js" data-src="https://github.githubassets.com/assets/chunk-jump-to-40cfe5c2.js"></script>
    <script crossorigin="anonymous" defer="defer" integrity="sha512-ma0OOy3nj0c1cqBx0BkcmIFsLqcSZ+MIukQxyEFM/OWTzZpG+QMgOoWPAHZz43M6fyjAUG1jH6c/6LPiiKPCyw==" type="application/javascript" data-module-id="./chunk-profile-pins-element.js" data-src="https://github.githubassets.com/assets/chunk-profile-pins-element-99ad0e3b.js"></script>
    <script crossorigin="anonymous" defer="defer" integrity="sha512-9WNXtB07IyWypiPmkuucspwog4mme9q5GKGMSgd7FI0DPimmg/pEw+aaAofFV1vuWMt9I8H5QpsVtlbHGg1YBA==" type="application/javascript" data-module-id="./chunk-runner-groups.js" data-src="https://github.githubassets.com/assets/chunk-runner-groups-f56357b4.js"></script>
    <script crossorigin="anonymous" defer="defer" integrity="sha512-JoWpXsdKsRKFyspZP0lsV/mUnqLhErMvFLeq7PwLuptuR0JgHOv5NMWIeBqqWHuWmhIltMifR+/rEjO553Raug==" type="application/javascript" data-module-id="./chunk-sortable-behavior.js" data-src="https://github.githubassets.com/assets/chunk-sortable-behavior-2685a95e.js"></script>
    <script crossorigin="anonymous" defer="defer" integrity="sha512-WK8VXw3lfUQ/VRW0zlgKPhcMUqH0uTnB/KzePUPdZhCm/HpxfXXHKTGvj5C0Oex7+zbIM2ECzULbtTCT4ug3yg==" type="application/javascript" data-module-id="./chunk-toast.js" data-src="https://github.githubassets.com/assets/chunk-toast-58af155f.js"></script>
    <script crossorigin="anonymous" defer="defer" integrity="sha512-ZyozqjwhoIovRiwFwpwYmlQUgmIyGt5y8DgJhtiLHr9EM6f51vmXxaIIZap+ly64QSLa0zeA7DPCD6Yio2/AGA==" type="application/javascript" data-module-id="./chunk-tweetsodium.js" data-src="https://github.githubassets.com/assets/chunk-tweetsodium-672a33aa.js"></script>
    <script crossorigin="anonymous" defer="defer" integrity="sha512-x4kU6fFUhRRm2c+AcnGrKXfEBgPxFF8vMQ9RJQraR7T4kQEgj+3RsoU4+8FYsR359M0xSovamhNcCQlYA03c0g==" type="application/javascript" data-module-id="./chunk-user-status-submit.js" data-src="https://github.githubassets.com/assets/chunk-user-status-submit-c78914e9.js"></script>
  
  <script crossorigin="anonymous" defer="defer" integrity="sha512-pie86jFXYkXrzh6Po8PngdQW+QwcxxYsjdpWrmhjlMgDproaDYL2iWw3uVFw9qg+Nk75Uku6uXk77O/TiCRm1Q==" type="application/javascript" src="https://github.githubassets.com/assets/repositories-a627bcea.js"></script>
<script crossorigin="anonymous" defer="defer" integrity="sha512-eFYnS57PTpqhD1K304vIXUId0xF7yq7Gy1h6AJS967fceeH9R/hAI2nSyM5lGf2P+Tway9zZ4jXgi80U6kZIRQ==" type="application/javascript" src="https://github.githubassets.com/assets/diffs-7856274b.js"></script>

  <meta name="viewport" content="width=device-width">
  
  <title>Fundamentals-of-Reinforcement-Learning/Assignment2.json at main · Sahilofficial/Fundamentals-of-Reinforcement-Learning</title>
    <meta name="description" content="Contribute to Sahilofficial/Fundamentals-of-Reinforcement-Learning development by creating an account on GitHub.">
    <link rel="search" type="application/opensearchdescription+xml" href="/opensearch.xml" title="GitHub">
  <link rel="fluid-icon" href="https://github.com/fluidicon.png" title="GitHub">
  <meta property="fb:app_id" content="1401488693436528">
  <meta name="apple-itunes-app" content="app-id=1477376905" />
    <meta name="twitter:image:src" content="https://avatars.githubusercontent.com/u/61624974?s=400&amp;v=4" /><meta name="twitter:site" content="@github" /><meta name="twitter:card" content="summary" /><meta name="twitter:title" content="Sahilofficial/Fundamentals-of-Reinforcement-Learning" /><meta name="twitter:description" content="Contribute to Sahilofficial/Fundamentals-of-Reinforcement-Learning development by creating an account on GitHub." />
    <meta property="og:image" content="https://avatars.githubusercontent.com/u/61624974?s=400&amp;v=4" /><meta property="og:site_name" content="GitHub" /><meta property="og:type" content="object" /><meta property="og:title" content="Sahilofficial/Fundamentals-of-Reinforcement-Learning" /><meta property="og:url" content="https://github.com/Sahilofficial/Fundamentals-of-Reinforcement-Learning" /><meta property="og:description" content="Contribute to Sahilofficial/Fundamentals-of-Reinforcement-Learning development by creating an account on GitHub." />



    

  <link rel="assets" href="https://github.githubassets.com/">
    <link rel="shared-web-socket" href="wss://alive.github.com/_sockets/u/64707274/ws?session=eyJ2IjoiVjMiLCJ1Ijo2NDcwNzI3NCwicyI6NjU5MzE4MjA5LCJjIjo0MjAyMDgwOTM0LCJ0IjoxNjE3Mzk5NjI3fQ==--1d4cc46d9d03391aed8db7248490322ec0dab3619967fc18b5043e90be75327f" data-refresh-url="/_alive" data-session-id="bdc3c2a1d8cc889aeb2073a8b20160fa87777cf655ebdab9a4615a77ef2c9325">
    <link rel="shared-web-socket-src" href="/socket-worker-3f088aa2.js">
  <link rel="sudo-modal" href="/sessions/sudo_modal">

  <meta name="request-id" content="98CF:3167:2A7613:3F7204:60678F4B" data-pjax-transient="true" /><meta name="html-safe-nonce" content="5be1f0b48ed4f7ce9acfd536ac31ef6e2863f7cd5818334f3aa0b4158ca03f09" data-pjax-transient="true" /><meta name="visitor-payload" content="eyJyZWZlcnJlciI6Imh0dHBzOi8vZ2l0aHViLmNvbS9TYWhpbG9mZmljaWFsL0Z1bmRhbWVudGFscy1vZi1SZWluZm9yY2VtZW50LUxlYXJuaW5nL3RyZWUvbWFpbi9GdW5kYW1lbnRhbHNfb2ZfUmVpbmZvcmNlbWVudF9MZWFybmluZy9XZWVrJTIwNCIsInJlcXVlc3RfaWQiOiI5OENGOjMxNjc6MkE3NjEzOjNGNzIwNDo2MDY3OEY0QiIsInZpc2l0b3JfaWQiOiI0MzU5NDQyNDA2MDYzMzM1Mzg2IiwicmVnaW9uX2VkZ2UiOiJpYWQiLCJyZWdpb25fcmVuZGVyIjoiaWFkIn0=" data-pjax-transient="true" /><meta name="visitor-hmac" content="6ba5cd0bc30b2f410e14cce0393f57d7f526b6f4b115edb93056086e288e868f" data-pjax-transient="true" />

    <meta name="hovercard-subject-tag" content="repository:336804264" data-pjax-transient>


  <meta name="github-keyboard-shortcuts" content="repository,source-code" data-pjax-transient="true" />

  

  <meta name="selected-link" value="repo_source" data-pjax-transient>

    <meta name="google-site-verification" content="c1kuD-K2HIVF635lypcsWPoD4kilo5-jA_wBFyT4uMY">
  <meta name="google-site-verification" content="KT5gs8h0wvaagLKAVWq8bbeNwnZZK1r1XQysX3xurLU">
  <meta name="google-site-verification" content="ZzhVyEFwb7w3e0-uOTltm8Jsck2F5StVihD0exw2fsA">
  <meta name="google-site-verification" content="GXs5KoUUkNCoaAZn7wPN-t01Pywp9M3sEjnt_3_ZWPc">

  <meta name="octolytics-host" content="collector.githubapp.com" /><meta name="octolytics-app-id" content="github" /><meta name="octolytics-event-url" content="https://collector.githubapp.com/github-external/browser_event" /><meta name="octolytics-actor-id" content="64707274" /><meta name="octolytics-actor-login" content="tjamesbu" /><meta name="octolytics-actor-hash" content="1ff2f1fce067c2248801ccef692560edce39f7d55778e2b2ac77c4210bb5501d" />

  <meta name="analytics-location" content="/&lt;user-name&gt;/&lt;repo-name&gt;/blob/show" data-pjax-transient="true" />

  



  <meta name="optimizely-datafile" content="{&quot;version&quot;: &quot;4&quot;, &quot;rollouts&quot;: [], &quot;typedAudiences&quot;: [], &quot;anonymizeIP&quot;: true, &quot;projectId&quot;: &quot;16737760170&quot;, &quot;variables&quot;: [], &quot;featureFlags&quot;: [], &quot;experiments&quot;: [], &quot;audiences&quot;: [{&quot;conditions&quot;: &quot;[\&quot;or\&quot;, {\&quot;match\&quot;: \&quot;exact\&quot;, \&quot;name\&quot;: \&quot;$opt_dummy_attribute\&quot;, \&quot;type\&quot;: \&quot;custom_attribute\&quot;, \&quot;value\&quot;: \&quot;$opt_dummy_value\&quot;}]&quot;, &quot;id&quot;: &quot;$opt_dummy_audience&quot;, &quot;name&quot;: &quot;Optimizely-Generated Audience for Backwards Compatibility&quot;}], &quot;groups&quot;: [{&quot;policy&quot;: &quot;random&quot;, &quot;trafficAllocation&quot;: [{&quot;entityId&quot;: &quot;20065350824&quot;, &quot;endOfRange&quot;: 10000}], &quot;experiments&quot;: [{&quot;status&quot;: &quot;Running&quot;, &quot;audienceIds&quot;: [], &quot;variations&quot;: [{&quot;variables&quot;: [], &quot;id&quot;: &quot;20061181493&quot;, &quot;key&quot;: &quot;control&quot;}, {&quot;variables&quot;: [], &quot;id&quot;: &quot;20046091568&quot;, &quot;key&quot;: &quot;most_popular&quot;}], &quot;id&quot;: &quot;20065350824&quot;, &quot;key&quot;: &quot;pricing_page&quot;, &quot;layerId&quot;: &quot;20047761391&quot;, &quot;trafficAllocation&quot;: [{&quot;entityId&quot;: &quot;20061181493&quot;, &quot;endOfRange&quot;: 5000}, {&quot;entityId&quot;: &quot;20046091568&quot;, &quot;endOfRange&quot;: 10000}], &quot;forcedVariations&quot;: {&quot;890b7acea08c1711c74beff6bd78b5e7&quot;: &quot;control&quot;, &quot;235830406.1616679911&quot;: &quot;control&quot;, &quot;f7d5ee986ba8bcc155e2393401c920f7&quot;: &quot;most_popular&quot;, &quot;2022915492.1615428687&quot;: &quot;most_popular&quot;, &quot;1006574531.1617036769&quot;: &quot;control&quot;, &quot;1693726779.1607624005&quot;: &quot;most_popular&quot;, &quot;b3d9f4f9910bc46c43a8d65ab83d8570&quot;: &quot;most_popular&quot;, &quot;1800070736.1616613011&quot;: &quot;control&quot;}}], &quot;id&quot;: &quot;19972601768&quot;}], &quot;attributes&quot;: [{&quot;id&quot;: &quot;16822470375&quot;, &quot;key&quot;: &quot;user_id&quot;}, {&quot;id&quot;: &quot;17143601254&quot;, &quot;key&quot;: &quot;spammy&quot;}, {&quot;id&quot;: &quot;18175660309&quot;, &quot;key&quot;: &quot;organization_plan&quot;}, {&quot;id&quot;: &quot;18813001570&quot;, &quot;key&quot;: &quot;is_logged_in&quot;}, {&quot;id&quot;: &quot;19073851829&quot;, &quot;key&quot;: &quot;geo&quot;}], &quot;botFiltering&quot;: false, &quot;accountId&quot;: &quot;16737760170&quot;, &quot;events&quot;: [{&quot;experimentIds&quot;: [], &quot;id&quot;: &quot;17911811441&quot;, &quot;key&quot;: &quot;hydro_click.dashboard.teacher_toolbox_cta&quot;}, {&quot;experimentIds&quot;: [], &quot;id&quot;: &quot;18124116703&quot;, &quot;key&quot;: &quot;submit.organizations.complete_sign_up&quot;}, {&quot;experimentIds&quot;: [], &quot;id&quot;: &quot;18145892387&quot;, &quot;key&quot;: &quot;no_metric.tracked_outside_of_optimizely&quot;}, {&quot;experimentIds&quot;: [], &quot;id&quot;: &quot;18178755568&quot;, &quot;key&quot;: &quot;click.org_onboarding_checklist.add_repo&quot;}, {&quot;experimentIds&quot;: [], &quot;id&quot;: &quot;18180553241&quot;, &quot;key&quot;: &quot;submit.repository_imports.create&quot;}, {&quot;experimentIds&quot;: [], &quot;id&quot;: &quot;18186103728&quot;, &quot;key&quot;: &quot;click.help.learn_more_about_repository_creation&quot;}, {&quot;experimentIds&quot;: [], &quot;id&quot;: &quot;18188530140&quot;, &quot;key&quot;: &quot;test_event.do_not_use_in_production&quot;}, {&quot;experimentIds&quot;: [], &quot;id&quot;: &quot;18191963644&quot;, &quot;key&quot;: &quot;click.empty_org_repo_cta.transfer_repository&quot;}, {&quot;experimentIds&quot;: [], &quot;id&quot;: &quot;18195612788&quot;, &quot;key&quot;: &quot;click.empty_org_repo_cta.import_repository&quot;}, {&quot;experimentIds&quot;: [], &quot;id&quot;: &quot;18210945499&quot;, &quot;key&quot;: &quot;click.org_onboarding_checklist.invite_members&quot;}, {&quot;experimentIds&quot;: [], &quot;id&quot;: &quot;18211063248&quot;, &quot;key&quot;: &quot;click.empty_org_repo_cta.create_repository&quot;}, {&quot;experimentIds&quot;: [], &quot;id&quot;: &quot;18215721889&quot;, &quot;key&quot;: &quot;click.org_onboarding_checklist.update_profile&quot;}, {&quot;experimentIds&quot;: [], &quot;id&quot;: &quot;18224360785&quot;, &quot;key&quot;: &quot;click.org_onboarding_checklist.dismiss&quot;}, {&quot;experimentIds&quot;: [], &quot;id&quot;: &quot;18234832286&quot;, &quot;key&quot;: &quot;submit.organization_activation.complete&quot;}, {&quot;experimentIds&quot;: [], &quot;id&quot;: &quot;18252392383&quot;, &quot;key&quot;: &quot;submit.org_repository.create&quot;}, {&quot;experimentIds&quot;: [], &quot;id&quot;: &quot;18257551537&quot;, &quot;key&quot;: &quot;submit.org_member_invitation.create&quot;}, {&quot;experimentIds&quot;: [], &quot;id&quot;: &quot;18259522260&quot;, &quot;key&quot;: &quot;submit.organization_profile.update&quot;}, {&quot;experimentIds&quot;: [], &quot;id&quot;: &quot;18564603625&quot;, &quot;key&quot;: &quot;view.classroom_select_organization&quot;}, {&quot;experimentIds&quot;: [], &quot;id&quot;: &quot;18568612016&quot;, &quot;key&quot;: &quot;click.classroom_sign_in_click&quot;}, {&quot;experimentIds&quot;: [], &quot;id&quot;: &quot;18572592540&quot;, &quot;key&quot;: &quot;view.classroom_name&quot;}, {&quot;experimentIds&quot;: [], &quot;id&quot;: &quot;18574203855&quot;, &quot;key&quot;: &quot;click.classroom_create_organization&quot;}, {&quot;experimentIds&quot;: [], &quot;id&quot;: &quot;18582053415&quot;, &quot;key&quot;: &quot;click.classroom_select_organization&quot;}, {&quot;experimentIds&quot;: [], &quot;id&quot;: &quot;18589463420&quot;, &quot;key&quot;: &quot;click.classroom_create_classroom&quot;}, {&quot;experimentIds&quot;: [], &quot;id&quot;: &quot;18591323364&quot;, &quot;key&quot;: &quot;click.classroom_create_first_classroom&quot;}, {&quot;experimentIds&quot;: [], &quot;id&quot;: &quot;18591652321&quot;, &quot;key&quot;: &quot;click.classroom_grant_access&quot;}, {&quot;experimentIds&quot;: [], &quot;id&quot;: &quot;18607131425&quot;, &quot;key&quot;: &quot;view.classroom_creation&quot;}, {&quot;experimentIds&quot;: [], &quot;id&quot;: &quot;18831680583&quot;, &quot;key&quot;: &quot;upgrade_account_plan&quot;}, {&quot;experimentIds&quot;: [&quot;20065350824&quot;], &quot;id&quot;: &quot;19064064515&quot;, &quot;key&quot;: &quot;click.signup&quot;}, {&quot;experimentIds&quot;: [], &quot;id&quot;: &quot;19075373687&quot;, &quot;key&quot;: &quot;click.view_account_billing_page&quot;}, {&quot;experimentIds&quot;: [], &quot;id&quot;: &quot;19077355841&quot;, &quot;key&quot;: &quot;click.dismiss_signup_prompt&quot;}, {&quot;experimentIds&quot;: [&quot;20065350824&quot;], &quot;id&quot;: &quot;19079713938&quot;, &quot;key&quot;: &quot;click.contact_sales&quot;}, {&quot;experimentIds&quot;: [&quot;20065350824&quot;], &quot;id&quot;: &quot;19120963070&quot;, &quot;key&quot;: &quot;click.compare_account_plans&quot;}, {&quot;experimentIds&quot;: [&quot;20065350824&quot;], &quot;id&quot;: &quot;19151690317&quot;, &quot;key&quot;: &quot;click.upgrade_account_cta&quot;}, {&quot;experimentIds&quot;: [], &quot;id&quot;: &quot;19424193129&quot;, &quot;key&quot;: &quot;click.open_account_switcher&quot;}, {&quot;experimentIds&quot;: [], &quot;id&quot;: &quot;19520330825&quot;, &quot;key&quot;: &quot;click.visit_account_profile&quot;}, {&quot;experimentIds&quot;: [], &quot;id&quot;: &quot;19540970635&quot;, &quot;key&quot;: &quot;click.switch_account_context&quot;}, {&quot;experimentIds&quot;: [], &quot;id&quot;: &quot;19730198868&quot;, &quot;key&quot;: &quot;submit.homepage_signup&quot;}, {&quot;experimentIds&quot;: [], &quot;id&quot;: &quot;19820830627&quot;, &quot;key&quot;: &quot;click.homepage_signup&quot;}, {&quot;experimentIds&quot;: [&quot;20065350824&quot;], &quot;id&quot;: &quot;19988571001&quot;, &quot;key&quot;: &quot;click.create_enterprise_trial&quot;}, {&quot;experimentIds&quot;: [&quot;20065350824&quot;], &quot;id&quot;: &quot;20036538294&quot;, &quot;key&quot;: &quot;click.create_organization_team&quot;}, {&quot;experimentIds&quot;: [], &quot;id&quot;: &quot;20040653299&quot;, &quot;key&quot;: &quot;click.input_enterprise_trial_form&quot;}, {&quot;experimentIds&quot;: [&quot;20065350824&quot;], &quot;id&quot;: &quot;20062030003&quot;, &quot;key&quot;: &quot;click.continue_with_team&quot;}, {&quot;experimentIds&quot;: [&quot;20065350824&quot;], &quot;id&quot;: &quot;20068947153&quot;, &quot;key&quot;: &quot;click.create_organization_free&quot;}, {&quot;experimentIds&quot;: [], &quot;id&quot;: &quot;20086636658&quot;, &quot;key&quot;: &quot;click.signup_continue.username&quot;}, {&quot;experimentIds&quot;: [], &quot;id&quot;: &quot;20091648988&quot;, &quot;key&quot;: &quot;click.signup_continue.create_account&quot;}, {&quot;experimentIds&quot;: [], &quot;id&quot;: &quot;20103637615&quot;, &quot;key&quot;: &quot;click.signup_continue.email&quot;}, {&quot;experimentIds&quot;: [], &quot;id&quot;: &quot;20111574253&quot;, &quot;key&quot;: &quot;click.signup_continue.password&quot;}, {&quot;experimentIds&quot;: [], &quot;id&quot;: &quot;20120044111&quot;, &quot;key&quot;: &quot;view.pricing_page&quot;}], &quot;revision&quot;: &quot;569&quot;}" />
  <!-- To prevent page flashing, the optimizely JS needs to be loaded in the
    <head> tag before the DOM renders -->
  <script crossorigin="anonymous" defer="defer" integrity="sha512-EZSQUlbRcOFPw1/Ic/9rLPBgS49+0j3XEaY9FoFSk8jGUYueshp/DhTAugVkCMJm6pJ222J9WWcc28hNrf4z+g==" type="application/javascript" src="https://github.githubassets.com/assets/optimizely-11949052.js"></script>



  

      <meta name="hostname" content="github.com">
    <meta name="user-login" content="tjamesbu">


      <meta name="expected-hostname" content="github.com">

      <meta name="js-proxy-site-detection-payload" content="MmZiOGY3NzQ5MGM1ZDgxNzFhNDE0YjFlMmU2MjFlOGQ3Njg5MmI0ZDUxMDkzZjU3ODhkNjdhNTljNThjZDg1NXx7InJlbW90ZV9hZGRyZXNzIjoiMjAxLjE4My4xNjIuMTY1IiwicmVxdWVzdF9pZCI6Ijk4Q0Y6MzE2NzoyQTc2MTM6M0Y3MjA0OjYwNjc4RjRCIiwidGltZXN0YW1wIjoxNjE3Mzk5NjI3LCJob3N0IjoiZ2l0aHViLmNvbSJ9">

    <meta name="enabled-features" content="MARKETPLACE_PENDING_INSTALLATIONS,JS_HTTP_CACHE_HEADERS,AUTOCOMPLETE_EMOJIS_IN_MARKDOWN_EDITOR">

  <meta http-equiv="x-pjax-version" content="b8e3045b7d2b11b83bb85d7a0a894949e95a0d9c5cc80fefe87808a41088e6fa">
  

    
  <meta name="go-import" content="github.com/Sahilofficial/Fundamentals-of-Reinforcement-Learning git https://github.com/Sahilofficial/Fundamentals-of-Reinforcement-Learning.git">

  <meta name="octolytics-dimension-user_id" content="61624974" /><meta name="octolytics-dimension-user_login" content="Sahilofficial" /><meta name="octolytics-dimension-repository_id" content="336804264" /><meta name="octolytics-dimension-repository_nwo" content="Sahilofficial/Fundamentals-of-Reinforcement-Learning" /><meta name="octolytics-dimension-repository_public" content="true" /><meta name="octolytics-dimension-repository_is_fork" content="false" /><meta name="octolytics-dimension-repository_network_root_id" content="336804264" /><meta name="octolytics-dimension-repository_network_root_nwo" content="Sahilofficial/Fundamentals-of-Reinforcement-Learning" />



    <link rel="canonical" href="https://github.com/Sahilofficial/Fundamentals-of-Reinforcement-Learning/blob/main/Fundamentals_of_Reinforcement_Learning/Week%204/Assignment2.json" data-pjax-transient>


  <meta name="browser-stats-url" content="https://api.github.com/_private/browser/stats">

  <meta name="browser-errors-url" content="https://api.github.com/_private/browser/errors">

  <meta name="browser-optimizely-client-errors-url" content="https://api.github.com/_private/browser/optimizely_client/errors">

  <link rel="mask-icon" href="https://github.githubassets.com/pinned-octocat.svg" color="#000000">
  <link rel="alternate icon" class="js-site-favicon" type="image/png" href="https://github.githubassets.com/favicons/favicon.png">
  <link rel="icon" class="js-site-favicon" type="image/svg+xml" href="https://github.githubassets.com/favicons/favicon.svg">

<meta name="theme-color" content="#1e2327">
<meta name="color-scheme" content="light dark" />


  <link rel="manifest" href="/manifest.json" crossOrigin="use-credentials">

  </head>

  <body class="logged-in env-production page-responsive page-blob" style="word-wrap: break-word;">
    

    <div class="position-relative js-header-wrapper ">
      <a href="#start-of-content" class="p-3 color-bg-info-inverse color-text-white show-on-focus js-skip-to-content">Skip to content</a>
      <span class="progress-pjax-loader width-full js-pjax-loader-bar Progress position-fixed">
    <span style="background-color: #79b8ff;width: 0%;" class="Progress-item progress-pjax-loader-bar "></span>
</span>      
      


            <header class="Header js-details-container Details px-3 px-md-4 px-lg-5 flex-wrap flex-md-nowrap" role="banner" >
    <div class="Header-item mt-n1 mb-n1  d-none d-md-flex">
      <a class="Header-link " href="https://github.com/" data-hotkey="g d"
  aria-label="Homepage " data-ga-click="Header, go to dashboard, icon:logo">
  <svg class="octicon octicon-mark-github v-align-middle" height="32" viewBox="0 0 16 16" version="1.1" width="32" aria-hidden="true"><path fill-rule="evenodd" d="M8 0C3.58 0 0 3.58 0 8c0 3.54 2.29 6.53 5.47 7.59.4.07.55-.17.55-.38 0-.19-.01-.82-.01-1.49-2.01.37-2.53-.49-2.69-.94-.09-.23-.48-.94-.82-1.13-.28-.15-.68-.52-.01-.53.63-.01 1.08.58 1.23.82.72 1.21 1.87.87 2.33.66.07-.52.28-.87.51-1.07-1.78-.2-3.64-.89-3.64-3.95 0-.87.31-1.59.82-2.15-.08-.2-.36-1.02.08-2.12 0 0 .67-.21 2.2.82.64-.18 1.32-.27 2-.27.68 0 1.36.09 2 .27 1.53-1.04 2.2-.82 2.2-.82.44 1.1.16 1.92.08 2.12.51.56.82 1.27.82 2.15 0 3.07-1.87 3.75-3.65 3.95.29.25.54.73.54 1.48 0 1.07-.01 1.93-.01 2.2 0 .21.15.46.55.38A8.013 8.013 0 0016 8c0-4.42-3.58-8-8-8z"></path></svg>
</a>

    </div>

    <div class="Header-item d-md-none">
      <button class="Header-link btn-link js-details-target" type="button" aria-label="Toggle navigation" aria-expanded="false">
        <svg height="24" class="octicon octicon-three-bars" viewBox="0 0 16 16" version="1.1" width="24" aria-hidden="true"><path fill-rule="evenodd" d="M1 2.75A.75.75 0 011.75 2h12.5a.75.75 0 110 1.5H1.75A.75.75 0 011 2.75zm0 5A.75.75 0 011.75 7h12.5a.75.75 0 110 1.5H1.75A.75.75 0 011 7.75zM1.75 12a.75.75 0 100 1.5h12.5a.75.75 0 100-1.5H1.75z"></path></svg>
      </button>
    </div>

    <div class="Header-item Header-item--full flex-column flex-md-row width-full flex-order-2 flex-md-order-none mr-0 mr-md-3 mt-3 mt-md-0 Details-content--hidden-not-important d-md-flex">
          <div class="header-search flex-auto js-site-search position-relative flex-self-stretch flex-md-self-auto mb-3 mb-md-0 mr-0 mr-md-3 scoped-search site-scoped-search js-jump-to"
  role="combobox"
  aria-owns="jump-to-results"
  aria-label="Search or jump to"
  aria-haspopup="listbox"
  aria-expanded="false"
>
  <div class="position-relative">
    <!-- '"` --><!-- </textarea></xmp> --></option></form><form class="js-site-search-form" role="search" aria-label="Site" data-scope-type="Repository" data-scope-id="336804264" data-scoped-search-url="/Sahilofficial/Fundamentals-of-Reinforcement-Learning/search" data-owner-scoped-search-url="/users/Sahilofficial/search" data-unscoped-search-url="/search" action="/Sahilofficial/Fundamentals-of-Reinforcement-Learning/search" accept-charset="UTF-8" method="get">
      <label class="form-control input-sm header-search-wrapper p-0 js-chromeless-input-container header-search-wrapper-jump-to position-relative d-flex flex-justify-between flex-items-center">
        <input type="text"
          class="form-control input-sm header-search-input jump-to-field js-jump-to-field js-site-search-focus js-site-search-field is-clearable"
          data-hotkey="s,/"
          name="q"
          value=""
          placeholder="Search or jump to…"
          data-unscoped-placeholder="Search or jump to…"
          data-scoped-placeholder="Search or jump to…"
          autocapitalize="off"
          aria-autocomplete="list"
          aria-controls="jump-to-results"
          aria-label="Search or jump to…"
          data-jump-to-suggestions-path="/_graphql/GetSuggestedNavigationDestinations"
          spellcheck="false"
          autocomplete="off"
          >
          <input type="hidden" value="16SqciSTSYeCTKaNwJv2a6ozavInKUdtPWpGlL3FuIGuqUePhLzZpenBLPHj1Lo3yMCHCbGegJEg3wQygodrBQ==" data-csrf="true" class="js-data-jump-to-suggestions-path-csrf" />
          <input type="hidden" class="js-site-search-type-field" name="type" >
            <img src="https://github.githubassets.com/images/search-key-slash.svg" alt="" class="mr-2 header-search-key-slash">

            <div class="Box position-absolute overflow-hidden d-none jump-to-suggestions js-jump-to-suggestions-container">
              
<ul class="d-none js-jump-to-suggestions-template-container">
  

<li class="d-flex flex-justify-start flex-items-center p-0 f5 navigation-item js-navigation-item js-jump-to-suggestion" role="option">
  <a tabindex="-1" class="no-underline d-flex flex-auto flex-items-center jump-to-suggestions-path js-jump-to-suggestion-path js-navigation-open p-2" href="" data-item-type="suggestion">
    <div class="jump-to-octicon js-jump-to-octicon flex-shrink-0 mr-2 text-center d-none">
      <svg height="16" width="16" class="octicon octicon-repo flex-shrink-0 js-jump-to-octicon-repo d-none" title="Repository" aria-label="Repository" viewBox="0 0 16 16" version="1.1" role="img"><path fill-rule="evenodd" d="M2 2.5A2.5 2.5 0 014.5 0h8.75a.75.75 0 01.75.75v12.5a.75.75 0 01-.75.75h-2.5a.75.75 0 110-1.5h1.75v-2h-8a1 1 0 00-.714 1.7.75.75 0 01-1.072 1.05A2.495 2.495 0 012 11.5v-9zm10.5-1V9h-8c-.356 0-.694.074-1 .208V2.5a1 1 0 011-1h8zM5 12.25v3.25a.25.25 0 00.4.2l1.45-1.087a.25.25 0 01.3 0L8.6 15.7a.25.25 0 00.4-.2v-3.25a.25.25 0 00-.25-.25h-3.5a.25.25 0 00-.25.25z"></path></svg>
      <svg height="16" width="16" class="octicon octicon-project flex-shrink-0 js-jump-to-octicon-project d-none" title="Project" aria-label="Project" viewBox="0 0 16 16" version="1.1" role="img"><path fill-rule="evenodd" d="M1.75 0A1.75 1.75 0 000 1.75v12.5C0 15.216.784 16 1.75 16h12.5A1.75 1.75 0 0016 14.25V1.75A1.75 1.75 0 0014.25 0H1.75zM1.5 1.75a.25.25 0 01.25-.25h12.5a.25.25 0 01.25.25v12.5a.25.25 0 01-.25.25H1.75a.25.25 0 01-.25-.25V1.75zM11.75 3a.75.75 0 00-.75.75v7.5a.75.75 0 001.5 0v-7.5a.75.75 0 00-.75-.75zm-8.25.75a.75.75 0 011.5 0v5.5a.75.75 0 01-1.5 0v-5.5zM8 3a.75.75 0 00-.75.75v3.5a.75.75 0 001.5 0v-3.5A.75.75 0 008 3z"></path></svg>
      <svg height="16" width="16" class="octicon octicon-search flex-shrink-0 js-jump-to-octicon-search d-none" title="Search" aria-label="Search" viewBox="0 0 16 16" version="1.1" role="img"><path fill-rule="evenodd" d="M11.5 7a4.499 4.499 0 11-8.998 0A4.499 4.499 0 0111.5 7zm-.82 4.74a6 6 0 111.06-1.06l3.04 3.04a.75.75 0 11-1.06 1.06l-3.04-3.04z"></path></svg>
    </div>

    <img class="avatar mr-2 flex-shrink-0 js-jump-to-suggestion-avatar d-none" alt="" aria-label="Team" src="" width="28" height="28">

    <div class="jump-to-suggestion-name js-jump-to-suggestion-name flex-auto overflow-hidden text-left no-wrap css-truncate css-truncate-target">
    </div>

    <div class="border rounded-1 flex-shrink-0 color-bg-tertiary px-1 color-text-tertiary ml-1 f6 d-none js-jump-to-badge-search">
      <span class="js-jump-to-badge-search-text-default d-none" aria-label="in this repository">
        In this repository
      </span>
      <span class="js-jump-to-badge-search-text-global d-none" aria-label="in all of GitHub">
        All GitHub
      </span>
      <span aria-hidden="true" class="d-inline-block ml-1 v-align-middle">↵</span>
    </div>

    <div aria-hidden="true" class="border rounded-1 flex-shrink-0 color-bg-tertiary px-1 color-text-tertiary ml-1 f6 d-none d-on-nav-focus js-jump-to-badge-jump">
      Jump to
      <span class="d-inline-block ml-1 v-align-middle">↵</span>
    </div>
  </a>
</li>

</ul>

<ul class="d-none js-jump-to-no-results-template-container">
  <li class="d-flex flex-justify-center flex-items-center f5 d-none js-jump-to-suggestion p-2">
    <span class="color-text-secondary">No suggested jump to results</span>
  </li>
</ul>

<ul id="jump-to-results" role="listbox" class="p-0 m-0 js-navigation-container jump-to-suggestions-results-container js-jump-to-suggestions-results-container">
  

<li class="d-flex flex-justify-start flex-items-center p-0 f5 navigation-item js-navigation-item js-jump-to-scoped-search d-none" role="option">
  <a tabindex="-1" class="no-underline d-flex flex-auto flex-items-center jump-to-suggestions-path js-jump-to-suggestion-path js-navigation-open p-2" href="" data-item-type="scoped_search">
    <div class="jump-to-octicon js-jump-to-octicon flex-shrink-0 mr-2 text-center d-none">
      <svg height="16" width="16" class="octicon octicon-repo flex-shrink-0 js-jump-to-octicon-repo d-none" title="Repository" aria-label="Repository" viewBox="0 0 16 16" version="1.1" role="img"><path fill-rule="evenodd" d="M2 2.5A2.5 2.5 0 014.5 0h8.75a.75.75 0 01.75.75v12.5a.75.75 0 01-.75.75h-2.5a.75.75 0 110-1.5h1.75v-2h-8a1 1 0 00-.714 1.7.75.75 0 01-1.072 1.05A2.495 2.495 0 012 11.5v-9zm10.5-1V9h-8c-.356 0-.694.074-1 .208V2.5a1 1 0 011-1h8zM5 12.25v3.25a.25.25 0 00.4.2l1.45-1.087a.25.25 0 01.3 0L8.6 15.7a.25.25 0 00.4-.2v-3.25a.25.25 0 00-.25-.25h-3.5a.25.25 0 00-.25.25z"></path></svg>
      <svg height="16" width="16" class="octicon octicon-project flex-shrink-0 js-jump-to-octicon-project d-none" title="Project" aria-label="Project" viewBox="0 0 16 16" version="1.1" role="img"><path fill-rule="evenodd" d="M1.75 0A1.75 1.75 0 000 1.75v12.5C0 15.216.784 16 1.75 16h12.5A1.75 1.75 0 0016 14.25V1.75A1.75 1.75 0 0014.25 0H1.75zM1.5 1.75a.25.25 0 01.25-.25h12.5a.25.25 0 01.25.25v12.5a.25.25 0 01-.25.25H1.75a.25.25 0 01-.25-.25V1.75zM11.75 3a.75.75 0 00-.75.75v7.5a.75.75 0 001.5 0v-7.5a.75.75 0 00-.75-.75zm-8.25.75a.75.75 0 011.5 0v5.5a.75.75 0 01-1.5 0v-5.5zM8 3a.75.75 0 00-.75.75v3.5a.75.75 0 001.5 0v-3.5A.75.75 0 008 3z"></path></svg>
      <svg height="16" width="16" class="octicon octicon-search flex-shrink-0 js-jump-to-octicon-search d-none" title="Search" aria-label="Search" viewBox="0 0 16 16" version="1.1" role="img"><path fill-rule="evenodd" d="M11.5 7a4.499 4.499 0 11-8.998 0A4.499 4.499 0 0111.5 7zm-.82 4.74a6 6 0 111.06-1.06l3.04 3.04a.75.75 0 11-1.06 1.06l-3.04-3.04z"></path></svg>
    </div>

    <img class="avatar mr-2 flex-shrink-0 js-jump-to-suggestion-avatar d-none" alt="" aria-label="Team" src="" width="28" height="28">

    <div class="jump-to-suggestion-name js-jump-to-suggestion-name flex-auto overflow-hidden text-left no-wrap css-truncate css-truncate-target">
    </div>

    <div class="border rounded-1 flex-shrink-0 color-bg-tertiary px-1 color-text-tertiary ml-1 f6 d-none js-jump-to-badge-search">
      <span class="js-jump-to-badge-search-text-default d-none" aria-label="in this repository">
        In this repository
      </span>
      <span class="js-jump-to-badge-search-text-global d-none" aria-label="in all of GitHub">
        All GitHub
      </span>
      <span aria-hidden="true" class="d-inline-block ml-1 v-align-middle">↵</span>
    </div>

    <div aria-hidden="true" class="border rounded-1 flex-shrink-0 color-bg-tertiary px-1 color-text-tertiary ml-1 f6 d-none d-on-nav-focus js-jump-to-badge-jump">
      Jump to
      <span class="d-inline-block ml-1 v-align-middle">↵</span>
    </div>
  </a>
</li>

  

<li class="d-flex flex-justify-start flex-items-center p-0 f5 navigation-item js-navigation-item js-jump-to-owner-scoped-search d-none" role="option">
  <a tabindex="-1" class="no-underline d-flex flex-auto flex-items-center jump-to-suggestions-path js-jump-to-suggestion-path js-navigation-open p-2" href="" data-item-type="owner_scoped_search">
    <div class="jump-to-octicon js-jump-to-octicon flex-shrink-0 mr-2 text-center d-none">
      <svg height="16" width="16" class="octicon octicon-repo flex-shrink-0 js-jump-to-octicon-repo d-none" title="Repository" aria-label="Repository" viewBox="0 0 16 16" version="1.1" role="img"><path fill-rule="evenodd" d="M2 2.5A2.5 2.5 0 014.5 0h8.75a.75.75 0 01.75.75v12.5a.75.75 0 01-.75.75h-2.5a.75.75 0 110-1.5h1.75v-2h-8a1 1 0 00-.714 1.7.75.75 0 01-1.072 1.05A2.495 2.495 0 012 11.5v-9zm10.5-1V9h-8c-.356 0-.694.074-1 .208V2.5a1 1 0 011-1h8zM5 12.25v3.25a.25.25 0 00.4.2l1.45-1.087a.25.25 0 01.3 0L8.6 15.7a.25.25 0 00.4-.2v-3.25a.25.25 0 00-.25-.25h-3.5a.25.25 0 00-.25.25z"></path></svg>
      <svg height="16" width="16" class="octicon octicon-project flex-shrink-0 js-jump-to-octicon-project d-none" title="Project" aria-label="Project" viewBox="0 0 16 16" version="1.1" role="img"><path fill-rule="evenodd" d="M1.75 0A1.75 1.75 0 000 1.75v12.5C0 15.216.784 16 1.75 16h12.5A1.75 1.75 0 0016 14.25V1.75A1.75 1.75 0 0014.25 0H1.75zM1.5 1.75a.25.25 0 01.25-.25h12.5a.25.25 0 01.25.25v12.5a.25.25 0 01-.25.25H1.75a.25.25 0 01-.25-.25V1.75zM11.75 3a.75.75 0 00-.75.75v7.5a.75.75 0 001.5 0v-7.5a.75.75 0 00-.75-.75zm-8.25.75a.75.75 0 011.5 0v5.5a.75.75 0 01-1.5 0v-5.5zM8 3a.75.75 0 00-.75.75v3.5a.75.75 0 001.5 0v-3.5A.75.75 0 008 3z"></path></svg>
      <svg height="16" width="16" class="octicon octicon-search flex-shrink-0 js-jump-to-octicon-search d-none" title="Search" aria-label="Search" viewBox="0 0 16 16" version="1.1" role="img"><path fill-rule="evenodd" d="M11.5 7a4.499 4.499 0 11-8.998 0A4.499 4.499 0 0111.5 7zm-.82 4.74a6 6 0 111.06-1.06l3.04 3.04a.75.75 0 11-1.06 1.06l-3.04-3.04z"></path></svg>
    </div>

    <img class="avatar mr-2 flex-shrink-0 js-jump-to-suggestion-avatar d-none" alt="" aria-label="Team" src="" width="28" height="28">

    <div class="jump-to-suggestion-name js-jump-to-suggestion-name flex-auto overflow-hidden text-left no-wrap css-truncate css-truncate-target">
    </div>

    <div class="border rounded-1 flex-shrink-0 color-bg-tertiary px-1 color-text-tertiary ml-1 f6 d-none js-jump-to-badge-search">
      <span class="js-jump-to-badge-search-text-default d-none" aria-label="in this user">
        In this user
      </span>
      <span class="js-jump-to-badge-search-text-global d-none" aria-label="in all of GitHub">
        All GitHub
      </span>
      <span aria-hidden="true" class="d-inline-block ml-1 v-align-middle">↵</span>
    </div>

    <div aria-hidden="true" class="border rounded-1 flex-shrink-0 color-bg-tertiary px-1 color-text-tertiary ml-1 f6 d-none d-on-nav-focus js-jump-to-badge-jump">
      Jump to
      <span class="d-inline-block ml-1 v-align-middle">↵</span>
    </div>
  </a>
</li>

  

<li class="d-flex flex-justify-start flex-items-center p-0 f5 navigation-item js-navigation-item js-jump-to-global-search d-none" role="option">
  <a tabindex="-1" class="no-underline d-flex flex-auto flex-items-center jump-to-suggestions-path js-jump-to-suggestion-path js-navigation-open p-2" href="" data-item-type="global_search">
    <div class="jump-to-octicon js-jump-to-octicon flex-shrink-0 mr-2 text-center d-none">
      <svg height="16" width="16" class="octicon octicon-repo flex-shrink-0 js-jump-to-octicon-repo d-none" title="Repository" aria-label="Repository" viewBox="0 0 16 16" version="1.1" role="img"><path fill-rule="evenodd" d="M2 2.5A2.5 2.5 0 014.5 0h8.75a.75.75 0 01.75.75v12.5a.75.75 0 01-.75.75h-2.5a.75.75 0 110-1.5h1.75v-2h-8a1 1 0 00-.714 1.7.75.75 0 01-1.072 1.05A2.495 2.495 0 012 11.5v-9zm10.5-1V9h-8c-.356 0-.694.074-1 .208V2.5a1 1 0 011-1h8zM5 12.25v3.25a.25.25 0 00.4.2l1.45-1.087a.25.25 0 01.3 0L8.6 15.7a.25.25 0 00.4-.2v-3.25a.25.25 0 00-.25-.25h-3.5a.25.25 0 00-.25.25z"></path></svg>
      <svg height="16" width="16" class="octicon octicon-project flex-shrink-0 js-jump-to-octicon-project d-none" title="Project" aria-label="Project" viewBox="0 0 16 16" version="1.1" role="img"><path fill-rule="evenodd" d="M1.75 0A1.75 1.75 0 000 1.75v12.5C0 15.216.784 16 1.75 16h12.5A1.75 1.75 0 0016 14.25V1.75A1.75 1.75 0 0014.25 0H1.75zM1.5 1.75a.25.25 0 01.25-.25h12.5a.25.25 0 01.25.25v12.5a.25.25 0 01-.25.25H1.75a.25.25 0 01-.25-.25V1.75zM11.75 3a.75.75 0 00-.75.75v7.5a.75.75 0 001.5 0v-7.5a.75.75 0 00-.75-.75zm-8.25.75a.75.75 0 011.5 0v5.5a.75.75 0 01-1.5 0v-5.5zM8 3a.75.75 0 00-.75.75v3.5a.75.75 0 001.5 0v-3.5A.75.75 0 008 3z"></path></svg>
      <svg height="16" width="16" class="octicon octicon-search flex-shrink-0 js-jump-to-octicon-search d-none" title="Search" aria-label="Search" viewBox="0 0 16 16" version="1.1" role="img"><path fill-rule="evenodd" d="M11.5 7a4.499 4.499 0 11-8.998 0A4.499 4.499 0 0111.5 7zm-.82 4.74a6 6 0 111.06-1.06l3.04 3.04a.75.75 0 11-1.06 1.06l-3.04-3.04z"></path></svg>
    </div>

    <img class="avatar mr-2 flex-shrink-0 js-jump-to-suggestion-avatar d-none" alt="" aria-label="Team" src="" width="28" height="28">

    <div class="jump-to-suggestion-name js-jump-to-suggestion-name flex-auto overflow-hidden text-left no-wrap css-truncate css-truncate-target">
    </div>

    <div class="border rounded-1 flex-shrink-0 color-bg-tertiary px-1 color-text-tertiary ml-1 f6 d-none js-jump-to-badge-search">
      <span class="js-jump-to-badge-search-text-default d-none" aria-label="in this repository">
        In this repository
      </span>
      <span class="js-jump-to-badge-search-text-global d-none" aria-label="in all of GitHub">
        All GitHub
      </span>
      <span aria-hidden="true" class="d-inline-block ml-1 v-align-middle">↵</span>
    </div>

    <div aria-hidden="true" class="border rounded-1 flex-shrink-0 color-bg-tertiary px-1 color-text-tertiary ml-1 f6 d-none d-on-nav-focus js-jump-to-badge-jump">
      Jump to
      <span class="d-inline-block ml-1 v-align-middle">↵</span>
    </div>
  </a>
</li>


    <li class="d-flex flex-justify-center flex-items-center p-0 f5 js-jump-to-suggestion">
      <svg style="box-sizing: content-box; color: var(--color-icon-primary);" viewBox="0 0 16 16" fill="none" width="32" height="32" class="m-3 anim-rotate">
  <circle cx="8" cy="8" r="7" stroke="currentColor" stroke-opacity="0.25" stroke-width="2" vector-effect="non-scaling-stroke" />
  <path d="M15 8a7.002 7.002 0 00-7-7" stroke="currentColor" stroke-width="2" stroke-linecap="round" vector-effect="non-scaling-stroke" />
</svg>
    </li>
</ul>

            </div>
      </label>
</form>  </div>
</div>

        <nav class="d-flex flex-column flex-md-row flex-self-stretch flex-md-self-auto" aria-label="Global">
      <a class="Header-link py-md-3 d-block d-md-none py-2 border-top border-md-top-0 border-white-fade-15" data-ga-click="Header, click, Nav menu - item:dashboard:user" aria-label="Dashboard" href="/dashboard">
        Dashboard
</a>
    <a class="js-selected-navigation-item Header-link mt-md-n3 mb-md-n3 py-2 py-md-3 mr-0 mr-md-3 border-top border-md-top-0 border-white-fade-15" data-hotkey="g p" data-ga-click="Header, click, Nav menu - item:pulls context:user" aria-label="Pull requests you created" data-selected-links="/pulls /pulls/assigned /pulls/mentioned /pulls" href="/pulls">
        Pull<span class="d-inline d-md-none d-lg-inline"> request</span>s
</a>
    <a class="js-selected-navigation-item Header-link mt-md-n3 mb-md-n3 py-2 py-md-3 mr-0 mr-md-3 border-top border-md-top-0 border-white-fade-15" data-hotkey="g i" data-ga-click="Header, click, Nav menu - item:issues context:user" aria-label="Issues you created" data-selected-links="/issues /issues/assigned /issues/mentioned /issues" href="/issues">
      Issues
</a>
      <div class="d-flex position-relative">
        <a class="js-selected-navigation-item Header-link flex-auto mt-md-n3 mb-md-n3 py-2 py-md-3 mr-0 mr-md-3 border-top border-md-top-0 border-white-fade-15" data-ga-click="Header, click, Nav menu - item:marketplace context:user" data-octo-click="marketplace_click" data-octo-dimensions="location:nav_bar" data-selected-links=" /marketplace" href="/marketplace">
          Marketplace
</a>      </div>

    <a class="js-selected-navigation-item Header-link mt-md-n3 mb-md-n3 py-2 py-md-3 mr-0 mr-md-3 border-top border-md-top-0 border-white-fade-15" data-ga-click="Header, click, Nav menu - item:explore" data-selected-links="/explore /trending /trending/developers /integrations /integrations/feature/code /integrations/feature/collaborate /integrations/feature/ship showcases showcases_search showcases_landing /explore" href="/explore">
      Explore
</a>
    <a class="js-selected-navigation-item Header-link d-block d-md-none py-2 py-md-3 border-top border-md-top-0 border-white-fade-15" data-ga-click="Header, click, Nav menu - item:workspaces context:user" data-selected-links="/codespaces /codespaces" href="/codespaces">
      Codespaces
</a>
      <a class="js-selected-navigation-item Header-link d-block d-md-none py-2 py-md-3 border-top border-md-top-0 border-white-fade-15" data-ga-click="Header, click, Nav menu - item:Sponsors" data-hydro-click="{&quot;event_type&quot;:&quot;sponsors.button_click&quot;,&quot;payload&quot;:{&quot;button&quot;:&quot;HEADER_SPONSORS_DASHBOARD&quot;,&quot;sponsorable_login&quot;:&quot;tjamesbu&quot;,&quot;originating_url&quot;:&quot;https://github.com/Sahilofficial/Fundamentals-of-Reinforcement-Learning/blob/main/Fundamentals_of_Reinforcement_Learning/Week%204/Assignment2.json&quot;,&quot;user_id&quot;:64707274}}" data-hydro-click-hmac="37c41d8a7f4f36ee7903d01eb0f93181c496c2654bbedaae5ad456b3e77c01b7" data-selected-links=" /sponsors/accounts" href="/sponsors/accounts">Sponsors</a>

    <a class="Header-link d-block d-md-none mr-0 mr-md-3 py-2 py-md-3 border-top border-md-top-0 border-white-fade-15" href="/settings/profile">
      Settings
</a>
    <a class="Header-link d-block d-md-none mr-0 mr-md-3 py-2 py-md-3 border-top border-md-top-0 border-white-fade-15" href="/tjamesbu">
      <img class="avatar avatar-user" src="https://avatars.githubusercontent.com/u/64707274?s=40&amp;v=4" width="20" height="20" alt="@tjamesbu" />
      tjamesbu
</a>
    <!-- '"` --><!-- </textarea></xmp> --></option></form><form action="/logout" accept-charset="UTF-8" method="post"><input type="hidden" name="authenticity_token" value="PqDJIbyDTHM6LqxENXvbnocLrGIjxEoY9zhYDKfYrrzZ/EYErdzPKJMbNBm4NtXOtPIcnQlVyu/F5uL/ooNwdg==" />
      <button type="submit" class="Header-link mr-0 mr-md-3 py-2 py-md-3 border-top border-md-top-0 border-white-fade-15 d-md-none btn-link d-block width-full text-left" data-ga-click="Header, sign out, icon:logout" style="padding-left: 2px;">
        <svg class="octicon octicon-sign-out v-align-middle" viewBox="0 0 16 16" version="1.1" width="16" height="16" aria-hidden="true"><path fill-rule="evenodd" d="M2 2.75C2 1.784 2.784 1 3.75 1h2.5a.75.75 0 010 1.5h-2.5a.25.25 0 00-.25.25v10.5c0 .138.112.25.25.25h2.5a.75.75 0 010 1.5h-2.5A1.75 1.75 0 012 13.25V2.75zm10.44 4.5H6.75a.75.75 0 000 1.5h5.69l-1.97 1.97a.75.75 0 101.06 1.06l3.25-3.25a.75.75 0 000-1.06l-3.25-3.25a.75.75 0 10-1.06 1.06l1.97 1.97z"></path></svg>
        Sign out
      </button>
</form></nav>

    </div>

    <div class="Header-item Header-item--full flex-justify-center d-md-none position-relative">
        <a class="Header-link " href="https://github.com/" data-hotkey="g d"
  aria-label="Homepage " data-ga-click="Header, go to dashboard, icon:logo">
  <svg class="octicon octicon-mark-github v-align-middle" height="32" viewBox="0 0 16 16" version="1.1" width="32" aria-hidden="true"><path fill-rule="evenodd" d="M8 0C3.58 0 0 3.58 0 8c0 3.54 2.29 6.53 5.47 7.59.4.07.55-.17.55-.38 0-.19-.01-.82-.01-1.49-2.01.37-2.53-.49-2.69-.94-.09-.23-.48-.94-.82-1.13-.28-.15-.68-.52-.01-.53.63-.01 1.08.58 1.23.82.72 1.21 1.87.87 2.33.66.07-.52.28-.87.51-1.07-1.78-.2-3.64-.89-3.64-3.95 0-.87.31-1.59.82-2.15-.08-.2-.36-1.02.08-2.12 0 0 .67-.21 2.2.82.64-.18 1.32-.27 2-.27.68 0 1.36.09 2 .27 1.53-1.04 2.2-.82 2.2-.82.44 1.1.16 1.92.08 2.12.51.56.82 1.27.82 2.15 0 3.07-1.87 3.75-3.65 3.95.29.25.54.73.54 1.48 0 1.07-.01 1.93-.01 2.2 0 .21.15.46.55.38A8.013 8.013 0 0016 8c0-4.42-3.58-8-8-8z"></path></svg>
</a>

    </div>

    <div class="Header-item mr-0 mr-md-3 flex-order-1 flex-md-order-none">
        


      <notification-indicator
        class="js-socket-channel"
        data-test-selector="notifications-indicator"
        data-channel="eyJjIjoibm90aWZpY2F0aW9uLWNoYW5nZWQ6NjQ3MDcyNzQiLCJ0IjoxNjE3Mzk5NjI3fQ==--089edd2770e978903caa722d4794fbb7cbf9be77f86f974bbd995a5c23efedf0">
        <a href="/notifications"
          class="Header-link notification-indicator position-relative tooltipped tooltipped-sw"
          
          aria-label="You have no unread notifications"
          data-hotkey="g n"
          data-ga-click="Header, go to notifications, icon:read"
          data-target="notification-indicator.link">
          <span class="mail-status  " data-target="notification-indicator.modifier"></span>
          <svg class="octicon octicon-bell" viewBox="0 0 16 16" version="1.1" width="16" height="16" aria-hidden="true"><path d="M8 16a2 2 0 001.985-1.75c.017-.137-.097-.25-.235-.25h-3.5c-.138 0-.252.113-.235.25A2 2 0 008 16z"></path><path fill-rule="evenodd" d="M8 1.5A3.5 3.5 0 004.5 5v2.947c0 .346-.102.683-.294.97l-1.703 2.556a.018.018 0 00-.003.01l.001.006c0 .002.002.004.004.006a.017.017 0 00.006.004l.007.001h10.964l.007-.001a.016.016 0 00.006-.004.016.016 0 00.004-.006l.001-.007a.017.017 0 00-.003-.01l-1.703-2.554a1.75 1.75 0 01-.294-.97V5A3.5 3.5 0 008 1.5zM3 5a5 5 0 0110 0v2.947c0 .05.015.098.042.139l1.703 2.555A1.518 1.518 0 0113.482 13H2.518a1.518 1.518 0 01-1.263-2.36l1.703-2.554A.25.25 0 003 7.947V5z"></path></svg>
        </a>
      </notification-indicator>

    </div>


    <div class="Header-item position-relative d-none d-md-flex">
        <details class="details-overlay details-reset js-header-promo-toggle">
  <summary class="Header-link"
      aria-label="Create new…"
      data-ga-click="Header, create new, icon:add">
      <svg class="octicon octicon-plus" viewBox="0 0 16 16" version="1.1" width="16" height="16" aria-hidden="true"><path fill-rule="evenodd" d="M7.75 2a.75.75 0 01.75.75V7h4.25a.75.75 0 110 1.5H8.5v4.25a.75.75 0 11-1.5 0V8.5H2.75a.75.75 0 010-1.5H7V2.75A.75.75 0 017.75 2z"></path></svg> <span class="dropdown-caret"></span>
  </summary>
  <details-menu class="dropdown-menu dropdown-menu-sw">
    
<a role="menuitem" class="dropdown-item" href="/new" data-ga-click="Header, create new repository">
  New repository
</a>

  <a role="menuitem" class="dropdown-item" href="/new/import" data-ga-click="Header, import a repository">
    Import repository
  </a>

<a role="menuitem" class="dropdown-item" href="https://gist.github.com/" data-ga-click="Header, create new gist">
  New gist
</a>

  <a role="menuitem" class="dropdown-item" href="/organizations/new" data-ga-click="Header, create new organization">
    New organization
  </a>


  <div role="none" class="dropdown-divider"></div>
  <div class="dropdown-header">
    <span title="Sahilofficial/Fundamentals-of-Reinforcement-Learning">This repository</span>
  </div>
    <a role="menuitem" class="dropdown-item" href="/Sahilofficial/Fundamentals-of-Reinforcement-Learning/issues/new/choose" data-ga-click="Header, create new issue" data-skip-pjax>
      New issue
    </a>


  </details-menu>
</details>

    </div>

    <div class="Header-item position-relative mr-0 d-none d-md-flex">
        
  <details class="details-overlay details-reset js-header-promo-toggle js-feature-preview-indicator-container" data-feature-preview-indicator-src="/users/tjamesbu/feature_preview/indicator_check">

  <summary class="Header-link"
    aria-label="View profile and more"
    data-ga-click="Header, show menu, icon:avatar">
    <img src="https://avatars.githubusercontent.com/u/64707274?s=60&amp;v=4" alt="@tjamesbu" size="20" height="20" width="20" class="avatar-user avatar avatar-small "></img>
      <span class="feature-preview-indicator js-feature-preview-indicator" style="top: 1px;" hidden></span>
    <span class="dropdown-caret"></span>
  </summary>
  <details-menu class="dropdown-menu dropdown-menu-sw" style="width: 180px" 
      src="/users/64707274/menu" preload>
      <include-fragment>
        <p class="text-center mt-3" data-hide-on-error>
          <svg style="box-sizing: content-box; color: var(--color-icon-primary);" viewBox="0 0 16 16" fill="none" width="32" height="32" class="anim-rotate">
  <circle cx="8" cy="8" r="7" stroke="currentColor" stroke-opacity="0.25" stroke-width="2" vector-effect="non-scaling-stroke" />
  <path d="M15 8a7.002 7.002 0 00-7-7" stroke="currentColor" stroke-width="2" stroke-linecap="round" vector-effect="non-scaling-stroke" />
</svg>
        </p>
        <p class="ml-1 mb-2 mt-2 color-text-primary" data-show-on-error>
          <svg class="octicon octicon-alert" viewBox="0 0 16 16" version="1.1" width="16" height="16" aria-hidden="true"><path fill-rule="evenodd" d="M8.22 1.754a.25.25 0 00-.44 0L1.698 13.132a.25.25 0 00.22.368h12.164a.25.25 0 00.22-.368L8.22 1.754zm-1.763-.707c.659-1.234 2.427-1.234 3.086 0l6.082 11.378A1.75 1.75 0 0114.082 15H1.918a1.75 1.75 0 01-1.543-2.575L6.457 1.047zM9 11a1 1 0 11-2 0 1 1 0 012 0zm-.25-5.25a.75.75 0 00-1.5 0v2.5a.75.75 0 001.5 0v-2.5z"></path></svg>
          Sorry, something went wrong.
        </p>
      </include-fragment>
  </details-menu>
</details>

    </div>
</header>

              
    </div>

  <div id="start-of-content" class="show-on-focus"></div>





    <div data-pjax-replace id="js-flash-container">


  <template class="js-flash-template">
    <div class="flash flash-full  {{ className }}">
  <div class=" px-2" >
    <button class="flash-close js-flash-close" type="button" aria-label="Dismiss this message">
      <svg class="octicon octicon-x" viewBox="0 0 16 16" version="1.1" width="16" height="16" aria-hidden="true"><path fill-rule="evenodd" d="M3.72 3.72a.75.75 0 011.06 0L8 6.94l3.22-3.22a.75.75 0 111.06 1.06L9.06 8l3.22 3.22a.75.75 0 11-1.06 1.06L8 9.06l-3.22 3.22a.75.75 0 01-1.06-1.06L6.94 8 3.72 4.78a.75.75 0 010-1.06z"></path></svg>
    </button>
    
      <div>{{ message }}</div>

  </div>
</div>
  </template>
</div>


    

  <include-fragment class="js-notification-shelf-include-fragment" data-base-src="https://github.com/notifications/beta/shelf"></include-fragment>




  <div
    class="application-main "
    data-commit-hovercards-enabled
    data-discussion-hovercards-enabled
    data-issue-and-pr-hovercards-enabled
  >
        <div itemscope itemtype="http://schema.org/SoftwareSourceCode" class="">
    <main id="js-repo-pjax-container" data-pjax-container >
      

      





  


  <div class="color-bg-secondary pt-3 hide-full-screen mb-5">

      <div class="d-flex mb-3 px-3 px-md-4 px-lg-5">

        <div class="flex-auto min-width-0 width-fit mr-3">
            <h1 class=" d-flex flex-wrap flex-items-center break-word f3 text-normal">
    <svg class="octicon octicon-repo color-text-secondary mr-2" viewBox="0 0 16 16" version="1.1" width="16" height="16" aria-hidden="true"><path fill-rule="evenodd" d="M2 2.5A2.5 2.5 0 014.5 0h8.75a.75.75 0 01.75.75v12.5a.75.75 0 01-.75.75h-2.5a.75.75 0 110-1.5h1.75v-2h-8a1 1 0 00-.714 1.7.75.75 0 01-1.072 1.05A2.495 2.495 0 012 11.5v-9zm10.5-1V9h-8c-.356 0-.694.074-1 .208V2.5a1 1 0 011-1h8zM5 12.25v3.25a.25.25 0 00.4.2l1.45-1.087a.25.25 0 01.3 0L8.6 15.7a.25.25 0 00.4-.2v-3.25a.25.25 0 00-.25-.25h-3.5a.25.25 0 00-.25.25z"></path></svg>
  <span class="author flex-self-stretch" itemprop="author">
    <a class="url fn" rel="author" data-hovercard-type="user" data-hovercard-url="/users/Sahilofficial/hovercard" data-octo-click="hovercard-link-click" data-octo-dimensions="link_type:self" href="/Sahilofficial">Sahilofficial</a>
  </span>
  <span class="mx-1 flex-self-stretch color-text-secondary">/</span>
  <strong itemprop="name" class="mr-2 flex-self-stretch">
    <a data-pjax="#js-repo-pjax-container" href="/Sahilofficial/Fundamentals-of-Reinforcement-Learning">Fundamentals-of-Reinforcement-Learning</a>
  </strong>
  
</h1>


        </div>

          <ul class="pagehead-actions flex-shrink-0 d-none d-md-inline" style="padding: 2px 0;">

  <li>
        <notifications-list-subscription-form class="f5 position-relative d-flex">
      <details
        class="details-reset details-overlay f5 position-relative"
        data-target="notifications-list-subscription-form.details"
        data-action="toggle:notifications-list-subscription-form#detailsToggled"
      >

      <summary class="btn btn-sm rounded-right-0" data-hydro-click="{&quot;event_type&quot;:&quot;repository.click&quot;,&quot;payload&quot;:{&quot;target&quot;:&quot;WATCH_BUTTON&quot;,&quot;repository_id&quot;:336804264,&quot;originating_url&quot;:&quot;https://github.com/Sahilofficial/Fundamentals-of-Reinforcement-Learning/blob/main/Fundamentals_of_Reinforcement_Learning/Week%204/Assignment2.json&quot;,&quot;user_id&quot;:64707274}}" data-hydro-click-hmac="58fde0477e077a282f1596897cb2e9150440a6bab964e6d98f4eb1f8ce528bc3" data-ga-click="Repository, click Watch settings, action:blob#show" aria-label="Notifications settings">
          <span data-menu-button>
            <span
              hidden
              
              data-target="notifications-list-subscription-form.unwatchButtonCopy"
            >
              <svg class="octicon octicon-eye" height="16" viewBox="0 0 16 16" version="1.1" width="16" aria-hidden="true"><path fill-rule="evenodd" d="M1.679 7.932c.412-.621 1.242-1.75 2.366-2.717C5.175 4.242 6.527 3.5 8 3.5c1.473 0 2.824.742 3.955 1.715 1.124.967 1.954 2.096 2.366 2.717a.119.119 0 010 .136c-.412.621-1.242 1.75-2.366 2.717C10.825 11.758 9.473 12.5 8 12.5c-1.473 0-2.824-.742-3.955-1.715C2.92 9.818 2.09 8.69 1.679 8.068a.119.119 0 010-.136zM8 2c-1.981 0-3.67.992-4.933 2.078C1.797 5.169.88 6.423.43 7.1a1.619 1.619 0 000 1.798c.45.678 1.367 1.932 2.637 3.024C4.329 13.008 6.019 14 8 14c1.981 0 3.67-.992 4.933-2.078 1.27-1.091 2.187-2.345 2.637-3.023a1.619 1.619 0 000-1.798c-.45-.678-1.367-1.932-2.637-3.023C11.671 2.992 9.981 2 8 2zm0 8a2 2 0 100-4 2 2 0 000 4z"></path></svg>
              Unwatch
            </span>
            <span
              hidden
              
              data-target="notifications-list-subscription-form.stopIgnoringButtonCopy"
            >
              <svg class="octicon octicon-bell-slash" height="16" viewBox="0 0 16 16" version="1.1" width="16" aria-hidden="true"><path fill-rule="evenodd" d="M8 1.5c-.997 0-1.895.416-2.534 1.086A.75.75 0 014.38 1.55 5 5 0 0113 5v2.373a.75.75 0 01-1.5 0V5A3.5 3.5 0 008 1.5zM4.182 4.31L1.19 2.143a.75.75 0 10-.88 1.214L3 5.305v2.642a.25.25 0 01-.042.139L1.255 10.64A1.518 1.518 0 002.518 13h11.108l1.184.857a.75.75 0 10.88-1.214l-1.375-.996a1.196 1.196 0 00-.013-.01L4.198 4.321a.733.733 0 00-.016-.011zm7.373 7.19L4.5 6.391v1.556c0 .346-.102.683-.294.97l-1.703 2.556a.018.018 0 00-.003.01.015.015 0 00.005.012.017.017 0 00.006.004l.007.001h9.037zM8 16a2 2 0 001.985-1.75c.017-.137-.097-.25-.235-.25h-3.5c-.138 0-.252.113-.235.25A2 2 0 008 16z"></path></svg>
              Stop ignoring
            </span>
            <span
              
              
              data-target="notifications-list-subscription-form.watchButtonCopy"
            >
              <svg class="octicon octicon-eye" height="16" viewBox="0 0 16 16" version="1.1" width="16" aria-hidden="true"><path fill-rule="evenodd" d="M1.679 7.932c.412-.621 1.242-1.75 2.366-2.717C5.175 4.242 6.527 3.5 8 3.5c1.473 0 2.824.742 3.955 1.715 1.124.967 1.954 2.096 2.366 2.717a.119.119 0 010 .136c-.412.621-1.242 1.75-2.366 2.717C10.825 11.758 9.473 12.5 8 12.5c-1.473 0-2.824-.742-3.955-1.715C2.92 9.818 2.09 8.69 1.679 8.068a.119.119 0 010-.136zM8 2c-1.981 0-3.67.992-4.933 2.078C1.797 5.169.88 6.423.43 7.1a1.619 1.619 0 000 1.798c.45.678 1.367 1.932 2.637 3.024C4.329 13.008 6.019 14 8 14c1.981 0 3.67-.992 4.933-2.078 1.27-1.091 2.187-2.345 2.637-3.023a1.619 1.619 0 000-1.798c-.45-.678-1.367-1.932-2.637-3.023C11.671 2.992 9.981 2 8 2zm0 8a2 2 0 100-4 2 2 0 000 4z"></path></svg>
              Watch
            </span>
          </span>
          <span class="dropdown-caret"></span>
</summary>
        <details-menu
          class="SelectMenu  "
          role="menu"
          data-target="notifications-list-subscription-form.menu"
          
        >
          <div class="SelectMenu-modal notifications-component-menu-modal">
            <header class="SelectMenu-header">
              <h3 class="SelectMenu-title">Notifications</h3>
              <button class="SelectMenu-closeButton" type="button" aria-label="Close menu" data-action="click:notifications-list-subscription-form#closeMenu">
                <svg class="octicon octicon-x" viewBox="0 0 16 16" version="1.1" width="16" height="16" aria-hidden="true"><path fill-rule="evenodd" d="M3.72 3.72a.75.75 0 011.06 0L8 6.94l3.22-3.22a.75.75 0 111.06 1.06L9.06 8l3.22 3.22a.75.75 0 11-1.06 1.06L8 9.06l-3.22 3.22a.75.75 0 01-1.06-1.06L6.94 8 3.72 4.78a.75.75 0 010-1.06z"></path></svg>
              </button>
            </header>

            <div class="SelectMenu-list">
              <form data-target="notifications-list-subscription-form.form" data-action="submit:notifications-list-subscription-form#submitForm" action="/notifications/subscribe" accept-charset="UTF-8" method="post"><input type="hidden" name="authenticity_token" value="dOIPIIJ7VGKK/r62a3y/My+DCZpQI1kfKAipZfmoTeInU8AFdgyxSYBjPhyEy/VLhpsfTKR1KXPLrp1IlptoiA==" />

                <input type="hidden" name="repository_id" value="336804264">

                <button
                  type="submit"
                  name="do"
                  value="included"
                  class="SelectMenu-item flex-items-start"
                  role="menuitemradio"
                  aria-checked="true"
                  data-targets="notifications-list-subscription-form.subscriptionButtons"
                  
                >
                  <span class="f5">
                    <svg class="octicon octicon-check SelectMenu-icon SelectMenu-icon--check" height="16" viewBox="0 0 16 16" version="1.1" width="16" aria-hidden="true"><path fill-rule="evenodd" d="M13.78 4.22a.75.75 0 010 1.06l-7.25 7.25a.75.75 0 01-1.06 0L2.22 9.28a.75.75 0 011.06-1.06L6 10.94l6.72-6.72a.75.75 0 011.06 0z"></path></svg>
                  </span>
                  <div>
                    <div class="f5 text-bold">
                      Participating and @mentions
                    </div>
                    <div class="text-small color-text-secondary text-normal pb-1">
                      Only receive notifications from this repository when participating or @mentioned.
                    </div>
                  </div>
                </button>

                <button
                  type="submit"
                  name="do"
                  value="subscribed"
                  class="SelectMenu-item flex-items-start"
                  role="menuitemradio"
                  aria-checked="false"
                  data-targets="notifications-list-subscription-form.subscriptionButtons"
                >
                  <span class="f5">
                    <svg class="octicon octicon-check SelectMenu-icon SelectMenu-icon--check" height="16" viewBox="0 0 16 16" version="1.1" width="16" aria-hidden="true"><path fill-rule="evenodd" d="M13.78 4.22a.75.75 0 010 1.06l-7.25 7.25a.75.75 0 01-1.06 0L2.22 9.28a.75.75 0 011.06-1.06L6 10.94l6.72-6.72a.75.75 0 011.06 0z"></path></svg>
                  </span>
                  <div>
                    <div class="f5 text-bold">
                      All Activity
                    </div>
                    <div class="text-small color-text-secondary text-normal pb-1">
                      Notified of all notifications on this repository.
                    </div>
                  </div>
                </button>

                <button
                  type="submit"
                  name="do"
                  value="ignore"
                  class="SelectMenu-item flex-items-start"
                  role="menuitemradio"
                  aria-checked="false"
                  data-targets="notifications-list-subscription-form.subscriptionButtons"
                >
                  <span class="f5">
                    <svg class="octicon octicon-check SelectMenu-icon SelectMenu-icon--check" height="16" viewBox="0 0 16 16" version="1.1" width="16" aria-hidden="true"><path fill-rule="evenodd" d="M13.78 4.22a.75.75 0 010 1.06l-7.25 7.25a.75.75 0 01-1.06 0L2.22 9.28a.75.75 0 011.06-1.06L6 10.94l6.72-6.72a.75.75 0 011.06 0z"></path></svg>
                  </span>
                  <div>
                    <div class="f5 text-bold">
                      Ignore
                    </div>
                    <div class="text-small color-text-secondary text-normal pb-1">
                      Never be notified.
                    </div>
                  </div>
                </button>
</form>
              <button
                class="SelectMenu-item flex-items-start pr-3"
                type="button"
                role="menuitemradio"
                data-target="notifications-list-subscription-form.customButton"
                data-action="click:notifications-list-subscription-form#openCustomDialog"
                aria-haspopup="true"
                aria-checked="false"
                
              >
                <span class="f5">
                  <svg class="octicon octicon-check SelectMenu-icon SelectMenu-icon--check" height="16" viewBox="0 0 16 16" version="1.1" width="16" aria-hidden="true"><path fill-rule="evenodd" d="M13.78 4.22a.75.75 0 010 1.06l-7.25 7.25a.75.75 0 01-1.06 0L2.22 9.28a.75.75 0 011.06-1.06L6 10.94l6.72-6.72a.75.75 0 011.06 0z"></path></svg>
                </span>
                <div>
                  <div class="d-flex flex-items-start flex-justify-between">
                    <div class="f5 text-bold">Custom</div>
                    <div class="f5 pr-1">
                      <svg class="octicon octicon-arrow-right" height="16" viewBox="0 0 16 16" version="1.1" width="16" aria-hidden="true"><path fill-rule="evenodd" d="M8.22 2.97a.75.75 0 011.06 0l4.25 4.25a.75.75 0 010 1.06l-4.25 4.25a.75.75 0 01-1.06-1.06l2.97-2.97H3.75a.75.75 0 010-1.5h7.44L8.22 4.03a.75.75 0 010-1.06z"></path></svg>
                    </div>
                  </div>
                  <div class="text-small color-text-secondary text-normal pb-1">
                    Select events you want to be notified of in addition to participating and @mentions.
                  </div>
                </div>
              </button>
            </div>
          </div>
        </details-menu>

        <details-dialog class="notifications-component-dialog " data-target="notifications-list-subscription-form.customDialog" hidden>
          <div class="SelectMenu-modal notifications-component-dialog-modal overflow-visible">
            <form data-target="notifications-list-subscription-form.customform" data-action="submit:notifications-list-subscription-form#submitCustomForm" action="/notifications/subscribe" accept-charset="UTF-8" method="post"><input type="hidden" name="authenticity_token" value="NzMTdOTFGk3Ho3qU7xbjXn4HP2l3BCatrOnqhn364vJkgtxRELL/Zs0++j4Aoakm1x8pv4NSVsFPT96rEsnHmA==" />

              <input type="hidden" name="repository_id" value="336804264">

              <header class="d-sm-none SelectMenu-header pb-0 border-bottom-0 px-2 px-sm-3">
                <h1 class="f3 SelectMenu-title d-inline-flex">
                  <button
                    class="color-bg-primary border-0 px-2 py-0 m-0 Link--secondary f5"
                    aria-label="Return to menu"
                    type="button"
                    data-action="click:notifications-list-subscription-form#closeCustomDialog"
                  >
                    <svg style="" class="octicon octicon-arrow-left" height="16" viewBox="0 0 16 16" version="1.1" width="16" aria-hidden="true"><path fill-rule="evenodd" d="M7.78 12.53a.75.75 0 01-1.06 0L2.47 8.28a.75.75 0 010-1.06l4.25-4.25a.75.75 0 011.06 1.06L4.81 7h7.44a.75.75 0 010 1.5H4.81l2.97 2.97a.75.75 0 010 1.06z"></path></svg>
                  </button>
                  Custom
                </h3>
              </header>

              <header class="d-none d-sm-flex flex-items-start pt-1">
                <button
                  class="border-0 px-2 pt-1 m-0 Link--secondary f5"
                  style="background-color: transparent;"
                  aria-label="Return to menu"
                  type="button"
                  data-action="click:notifications-list-subscription-form#closeCustomDialog"
                >
                  <svg style="position: relative; left: 2px; top: 1px" class="octicon octicon-arrow-left" height="16" viewBox="0 0 16 16" version="1.1" width="16" aria-hidden="true"><path fill-rule="evenodd" d="M7.78 12.53a.75.75 0 01-1.06 0L2.47 8.28a.75.75 0 010-1.06l4.25-4.25a.75.75 0 011.06 1.06L4.81 7h7.44a.75.75 0 010 1.5H4.81l2.97 2.97a.75.75 0 010 1.06z"></path></svg>
                </button>

                <h1 class="pt-1 pr-4 pb-0 pl-0 f5 text-bold">
                  Custom
                </h1>
              </header>

              <fieldset>
                <legend>
                  <div class="text-small color-text-secondary pt-0 pr-3 pb-3 pl-6 pl-sm-5 border-bottom mb-3">
                    Select events you want to be notified of in addition to participating and @mentions.
                  </div>
                </legend>
                  <div class="form-checkbox mr-3 ml-6 ml-sm-5 mb-2 mt-0">
                    <label class="f5 text-normal">
                      <input
                        type="checkbox"
                        name="thread_types[]"
                        value="Issue"
                        data-targets="notifications-list-subscription-form.threadTypeCheckboxes"
                        data-action="change:notifications-list-subscription-form#threadTypeCheckboxesUpdated"
                        
                      >
                      Issues
                    </label>

                  </div>
                  <div class="form-checkbox mr-3 ml-6 ml-sm-5 mb-2 mt-0">
                    <label class="f5 text-normal">
                      <input
                        type="checkbox"
                        name="thread_types[]"
                        value="PullRequest"
                        data-targets="notifications-list-subscription-form.threadTypeCheckboxes"
                        data-action="change:notifications-list-subscription-form#threadTypeCheckboxesUpdated"
                        
                      >
                      Pull requests
                    </label>

                  </div>
                  <div class="form-checkbox mr-3 ml-6 ml-sm-5 mb-2 mt-0">
                    <label class="f5 text-normal">
                      <input
                        type="checkbox"
                        name="thread_types[]"
                        value="Release"
                        data-targets="notifications-list-subscription-form.threadTypeCheckboxes"
                        data-action="change:notifications-list-subscription-form#threadTypeCheckboxesUpdated"
                        
                      >
                      Releases
                    </label>

                  </div>
                  <div class="form-checkbox mr-3 ml-6 ml-sm-5 mb-2 mt-0">
                    <label class="f5 text-normal">
                      <input
                        type="checkbox"
                        name="thread_types[]"
                        value="Discussion"
                        data-targets="notifications-list-subscription-form.threadTypeCheckboxes"
                        data-action="change:notifications-list-subscription-form#threadTypeCheckboxesUpdated"
                        
                      >
                      Discussions
                    </label>

                      <span
                        class="tooltipped tooltipped-nw mr-2 p-1 float-right"
                        
                        aria-label="Discussions are not enabled for this repo">
                        <svg style="fill: var(--color-icon-tertiary)" class="octicon octicon-info" viewBox="0 0 16 16" version="1.1" width="16" height="16" aria-hidden="true"><path fill-rule="evenodd" d="M8 1.5a6.5 6.5 0 100 13 6.5 6.5 0 000-13zM0 8a8 8 0 1116 0A8 8 0 010 8zm6.5-.25A.75.75 0 017.25 7h1a.75.75 0 01.75.75v2.75h.25a.75.75 0 010 1.5h-2a.75.75 0 010-1.5h.25v-2h-.25a.75.75 0 01-.75-.75zM8 6a1 1 0 100-2 1 1 0 000 2z"></path></svg>
                      </span>
                  </div>
              </fieldset>
              <div class="pt-2 pb-3 px-3 d-flex flex-justify-start flex-row-reverse">
                <button
                  type="submit"
                  name="do"
                  value="custom"
                  class="btn btn-sm btn-primary ml-2"
                  data-target="notifications-list-subscription-form.customSubmit"
                  disabled
                >Apply</button>

                <button
                  class="btn btn-sm"
                  type="button"
                  data-action="click:notifications-list-subscription-form#resetForm"
                  data-close-dialog="">Cancel</button>
              </div>
</form>          </div>
        </details-dialog>
        <div class="notifications-component-dialog-overlay"></div>
      </details>
        <a class="social-count"
          href="/Sahilofficial/Fundamentals-of-Reinforcement-Learning/watchers"
          aria-label="1 user is watching this repository"
          data-target="notifications-list-subscription-form.socialCount"
        >
          1
        </a>
    </notifications-list-subscription-form>



  </li>

  <li>
        <div class="d-block js-toggler-container js-social-container starring-container ">
    <form class="starred js-social-form" action="/Sahilofficial/Fundamentals-of-Reinforcement-Learning/unstar" accept-charset="UTF-8" method="post"><input type="hidden" name="authenticity_token" value="dfuMCfQLtLw2wfgitqdiNHfOXr0Tkg4ZOuMVeVeTgS6O14wYmmC3a8h38Q3bY4szANFp9RnV/f9TB9imtsY5bA==" />
      <input type="hidden" name="context" value="repository">
      <button type="submit" class="btn btn-sm btn-with-count  js-toggler-target" aria-label="Unstar this repository" title="Unstar Sahilofficial/Fundamentals-of-Reinforcement-Learning" data-hydro-click="{&quot;event_type&quot;:&quot;repository.click&quot;,&quot;payload&quot;:{&quot;target&quot;:&quot;UNSTAR_BUTTON&quot;,&quot;repository_id&quot;:336804264,&quot;originating_url&quot;:&quot;https://github.com/Sahilofficial/Fundamentals-of-Reinforcement-Learning/blob/main/Fundamentals_of_Reinforcement_Learning/Week%204/Assignment2.json&quot;,&quot;user_id&quot;:64707274}}" data-hydro-click-hmac="c49757dc818dff644cb49245eb639077bda09f386bd5f3ee7fdb8fdbae88b41b" data-ga-click="Repository, click unstar button, action:blob#show; text:Unstar">        <svg class="octicon octicon-star-fill mr-1" height="16" viewBox="0 0 16 16" version="1.1" width="16" aria-hidden="true"><path fill-rule="evenodd" d="M8 .25a.75.75 0 01.673.418l1.882 3.815 4.21.612a.75.75 0 01.416 1.279l-3.046 2.97.719 4.192a.75.75 0 01-1.088.791L8 12.347l-3.766 1.98a.75.75 0 01-1.088-.79l.72-4.194L.818 6.374a.75.75 0 01.416-1.28l4.21-.611L7.327.668A.75.75 0 018 .25z"></path></svg>
        <span>
          Unstar
</span></button>        <a class="social-count js-social-count" href="/Sahilofficial/Fundamentals-of-Reinforcement-Learning/stargazers"
           aria-label="0 users starred this repository">
           0
        </a>
</form>
    <form class="unstarred js-social-form" action="/Sahilofficial/Fundamentals-of-Reinforcement-Learning/star" accept-charset="UTF-8" method="post"><input type="hidden" name="authenticity_token" value="P+Vszc9mvsDw/sjnjjrywVzKNMC/hPZ84Bzl5YzSFHwzDtbtXo38NYJdsfiS2Ee9LePOCB1vCTUabNetlxa0bA==" />
      <input type="hidden" name="context" value="repository">
      <button type="submit" class="btn btn-sm btn-with-count  js-toggler-target" aria-label="Unstar this repository" title="Star Sahilofficial/Fundamentals-of-Reinforcement-Learning" data-hydro-click="{&quot;event_type&quot;:&quot;repository.click&quot;,&quot;payload&quot;:{&quot;target&quot;:&quot;STAR_BUTTON&quot;,&quot;repository_id&quot;:336804264,&quot;originating_url&quot;:&quot;https://github.com/Sahilofficial/Fundamentals-of-Reinforcement-Learning/blob/main/Fundamentals_of_Reinforcement_Learning/Week%204/Assignment2.json&quot;,&quot;user_id&quot;:64707274}}" data-hydro-click-hmac="d5d2945622a127a2f19d112bb3f99fe7d4c1516c3f4aadd8ef2efc3eb8b70a69" data-ga-click="Repository, click star button, action:blob#show; text:Star">        <svg class="octicon octicon-star mr-1" height="16" viewBox="0 0 16 16" version="1.1" width="16" aria-hidden="true"><path fill-rule="evenodd" d="M8 .25a.75.75 0 01.673.418l1.882 3.815 4.21.612a.75.75 0 01.416 1.279l-3.046 2.97.719 4.192a.75.75 0 01-1.088.791L8 12.347l-3.766 1.98a.75.75 0 01-1.088-.79l.72-4.194L.818 6.374a.75.75 0 01.416-1.28l4.21-.611L7.327.668A.75.75 0 018 .25zm0 2.445L6.615 5.5a.75.75 0 01-.564.41l-3.097.45 2.24 2.184a.75.75 0 01.216.664l-.528 3.084 2.769-1.456a.75.75 0 01.698 0l2.77 1.456-.53-3.084a.75.75 0 01.216-.664l2.24-2.183-3.096-.45a.75.75 0 01-.564-.41L8 2.694v.001z"></path></svg>
        <span>
          Star
</span></button>        <a class="social-count js-social-count" href="/Sahilofficial/Fundamentals-of-Reinforcement-Learning/stargazers"
           aria-label="0 users starred this repository">
          0
        </a>
</form>  </div>

  </li>

  <li>
            <!-- '"` --><!-- </textarea></xmp> --></option></form><form class="btn-with-count" action="/Sahilofficial/Fundamentals-of-Reinforcement-Learning/fork" accept-charset="UTF-8" method="post"><input type="hidden" name="authenticity_token" value="7VvXYyrJHMH/5f211Ui1VAOzDSkOfGylwCEs6D3iorrcEzMUX9zTAYj56v/1Sm3AR9KfPkpgk6jOyNuKmC19Ew==" />
              <button class="btn btn-sm btn-with-count" data-hydro-click="{&quot;event_type&quot;:&quot;repository.click&quot;,&quot;payload&quot;:{&quot;target&quot;:&quot;FORK_BUTTON&quot;,&quot;repository_id&quot;:336804264,&quot;originating_url&quot;:&quot;https://github.com/Sahilofficial/Fundamentals-of-Reinforcement-Learning/blob/main/Fundamentals_of_Reinforcement_Learning/Week%204/Assignment2.json&quot;,&quot;user_id&quot;:64707274}}" data-hydro-click-hmac="1d6b1b7215bb93cc67f43f6d86b475de1ff91ca09df117178c80d84b2aa53502" data-ga-click="Repository, show fork modal, action:blob#show; text:Fork" type="submit" title="Fork your own copy of Sahilofficial/Fundamentals-of-Reinforcement-Learning to your account" aria-label="Fork your own copy of Sahilofficial/Fundamentals-of-Reinforcement-Learning to your account">                <svg class="octicon octicon-repo-forked" viewBox="0 0 16 16" version="1.1" width="16" height="16" aria-hidden="true"><path fill-rule="evenodd" d="M5 3.25a.75.75 0 11-1.5 0 .75.75 0 011.5 0zm0 2.122a2.25 2.25 0 10-1.5 0v.878A2.25 2.25 0 005.75 8.5h1.5v2.128a2.251 2.251 0 101.5 0V8.5h1.5a2.25 2.25 0 002.25-2.25v-.878a2.25 2.25 0 10-1.5 0v.878a.75.75 0 01-.75.75h-4.5A.75.75 0 015 6.25v-.878zm3.75 7.378a.75.75 0 11-1.5 0 .75.75 0 011.5 0zm3-8.75a.75.75 0 100-1.5.75.75 0 000 1.5z"></path></svg>
                Fork
</button></form>
      <a href="/Sahilofficial/Fundamentals-of-Reinforcement-Learning/network/members" class="social-count"
         aria-label="0 users forked this repository">
        0
      </a>
  </li>
</ul>

      </div>
        
<nav aria-label="Repository" data-pjax="#js-repo-pjax-container" class="js-repo-nav js-sidenav-container-pjax js-responsive-underlinenav overflow-hidden UnderlineNav px-3 px-md-4 px-lg-5 color-bg-secondary">
  <ul class="UnderlineNav-body list-style-none ">        <li class="d-flex">
          <a class="js-selected-navigation-item selected UnderlineNav-item hx_underlinenav-item no-wrap js-responsive-underlinenav-item" data-tab-item="i0code-tab" data-hotkey="g c" data-ga-click="Repository, Navigation click, Code tab" aria-current="page" data-selected-links="repo_source repo_downloads repo_commits repo_releases repo_tags repo_branches repo_packages repo_deployments /Sahilofficial/Fundamentals-of-Reinforcement-Learning" href="/Sahilofficial/Fundamentals-of-Reinforcement-Learning">
                <svg class="octicon octicon-code UnderlineNav-octicon d-none d-sm-inline" height="16" viewBox="0 0 16 16" version="1.1" width="16" aria-hidden="true"><path fill-rule="evenodd" d="M4.72 3.22a.75.75 0 011.06 1.06L2.06 8l3.72 3.72a.75.75 0 11-1.06 1.06L.47 8.53a.75.75 0 010-1.06l4.25-4.25zm6.56 0a.75.75 0 10-1.06 1.06L13.94 8l-3.72 3.72a.75.75 0 101.06 1.06l4.25-4.25a.75.75 0 000-1.06l-4.25-4.25z"></path></svg>
              <span data-content="Code">Code</span>
                <span title="Not available" class="Counter "></span>
</a>        </li>
        <li class="d-flex">
          <a class="js-selected-navigation-item UnderlineNav-item hx_underlinenav-item no-wrap js-responsive-underlinenav-item" data-tab-item="i1issues-tab" data-hotkey="g i" data-ga-click="Repository, Navigation click, Issues tab" data-selected-links="repo_issues repo_labels repo_milestones /Sahilofficial/Fundamentals-of-Reinforcement-Learning/issues" href="/Sahilofficial/Fundamentals-of-Reinforcement-Learning/issues">
                <svg class="octicon octicon-issue-opened UnderlineNav-octicon d-none d-sm-inline" height="16" viewBox="0 0 16 16" version="1.1" width="16" aria-hidden="true"><path fill-rule="evenodd" d="M8 1.5a6.5 6.5 0 100 13 6.5 6.5 0 000-13zM0 8a8 8 0 1116 0A8 8 0 010 8zm9 3a1 1 0 11-2 0 1 1 0 012 0zm-.25-6.25a.75.75 0 00-1.5 0v3.5a.75.75 0 001.5 0v-3.5z"></path></svg>
              <span data-content="Issues">Issues</span>
                <span title="0" hidden="hidden" class="Counter ">0</span>
</a>        </li>
        <li class="d-flex">
          <a class="js-selected-navigation-item UnderlineNav-item hx_underlinenav-item no-wrap js-responsive-underlinenav-item" data-tab-item="i2pull-requests-tab" data-hotkey="g p" data-ga-click="Repository, Navigation click, Pull requests tab" data-selected-links="repo_pulls checks /Sahilofficial/Fundamentals-of-Reinforcement-Learning/pulls" href="/Sahilofficial/Fundamentals-of-Reinforcement-Learning/pulls">
                <svg class="octicon octicon-git-pull-request UnderlineNav-octicon d-none d-sm-inline" height="16" viewBox="0 0 16 16" version="1.1" width="16" aria-hidden="true"><path fill-rule="evenodd" d="M7.177 3.073L9.573.677A.25.25 0 0110 .854v4.792a.25.25 0 01-.427.177L7.177 3.427a.25.25 0 010-.354zM3.75 2.5a.75.75 0 100 1.5.75.75 0 000-1.5zm-2.25.75a2.25 2.25 0 113 2.122v5.256a2.251 2.251 0 11-1.5 0V5.372A2.25 2.25 0 011.5 3.25zM11 2.5h-1V4h1a1 1 0 011 1v5.628a2.251 2.251 0 101.5 0V5A2.5 2.5 0 0011 2.5zm1 10.25a.75.75 0 111.5 0 .75.75 0 01-1.5 0zM3.75 12a.75.75 0 100 1.5.75.75 0 000-1.5z"></path></svg>
              <span data-content="Pull requests">Pull requests</span>
                <span title="0" hidden="hidden" class="Counter ">0</span>
</a>        </li>
        <li class="d-flex">
          <a class="js-selected-navigation-item UnderlineNav-item hx_underlinenav-item no-wrap js-responsive-underlinenav-item" data-tab-item="i3actions-tab" data-hotkey="g a" data-ga-click="Repository, Navigation click, Actions tab" data-selected-links="repo_actions /Sahilofficial/Fundamentals-of-Reinforcement-Learning/actions" href="/Sahilofficial/Fundamentals-of-Reinforcement-Learning/actions">
                <svg class="octicon octicon-play UnderlineNav-octicon d-none d-sm-inline" height="16" viewBox="0 0 16 16" version="1.1" width="16" aria-hidden="true"><path fill-rule="evenodd" d="M1.5 8a6.5 6.5 0 1113 0 6.5 6.5 0 01-13 0zM8 0a8 8 0 100 16A8 8 0 008 0zM6.379 5.227A.25.25 0 006 5.442v5.117a.25.25 0 00.379.214l4.264-2.559a.25.25 0 000-.428L6.379 5.227z"></path></svg>
              <span data-content="Actions">Actions</span>
                <span title="Not available" class="Counter "></span>
</a>        </li>
        <li class="d-flex">
          <a class="js-selected-navigation-item UnderlineNav-item hx_underlinenav-item no-wrap js-responsive-underlinenav-item" data-tab-item="i4projects-tab" data-hotkey="g b" data-ga-click="Repository, Navigation click, Projects tab" data-selected-links="repo_projects new_repo_project repo_project /Sahilofficial/Fundamentals-of-Reinforcement-Learning/projects" href="/Sahilofficial/Fundamentals-of-Reinforcement-Learning/projects">
                <svg class="octicon octicon-project UnderlineNav-octicon d-none d-sm-inline" height="16" viewBox="0 0 16 16" version="1.1" width="16" aria-hidden="true"><path fill-rule="evenodd" d="M1.75 0A1.75 1.75 0 000 1.75v12.5C0 15.216.784 16 1.75 16h12.5A1.75 1.75 0 0016 14.25V1.75A1.75 1.75 0 0014.25 0H1.75zM1.5 1.75a.25.25 0 01.25-.25h12.5a.25.25 0 01.25.25v12.5a.25.25 0 01-.25.25H1.75a.25.25 0 01-.25-.25V1.75zM11.75 3a.75.75 0 00-.75.75v7.5a.75.75 0 001.5 0v-7.5a.75.75 0 00-.75-.75zm-8.25.75a.75.75 0 011.5 0v5.5a.75.75 0 01-1.5 0v-5.5zM8 3a.75.75 0 00-.75.75v3.5a.75.75 0 001.5 0v-3.5A.75.75 0 008 3z"></path></svg>
              <span data-content="Projects">Projects</span>
                <span title="0" hidden="hidden" class="Counter ">0</span>
</a>        </li>
        <li class="d-flex">
          <a class="js-selected-navigation-item UnderlineNav-item hx_underlinenav-item no-wrap js-responsive-underlinenav-item" data-tab-item="i5wiki-tab" data-hotkey="g w" data-ga-click="Repository, Navigation click, Wikis tab" data-selected-links="repo_wiki /Sahilofficial/Fundamentals-of-Reinforcement-Learning/wiki" href="/Sahilofficial/Fundamentals-of-Reinforcement-Learning/wiki">
                <svg class="octicon octicon-book UnderlineNav-octicon d-none d-sm-inline" height="16" viewBox="0 0 16 16" version="1.1" width="16" aria-hidden="true"><path fill-rule="evenodd" d="M0 1.75A.75.75 0 01.75 1h4.253c1.227 0 2.317.59 3 1.501A3.744 3.744 0 0111.006 1h4.245a.75.75 0 01.75.75v10.5a.75.75 0 01-.75.75h-4.507a2.25 2.25 0 00-1.591.659l-.622.621a.75.75 0 01-1.06 0l-.622-.621A2.25 2.25 0 005.258 13H.75a.75.75 0 01-.75-.75V1.75zm8.755 3a2.25 2.25 0 012.25-2.25H14.5v9h-3.757c-.71 0-1.4.201-1.992.572l.004-7.322zm-1.504 7.324l.004-5.073-.002-2.253A2.25 2.25 0 005.003 2.5H1.5v9h3.757a3.75 3.75 0 011.994.574z"></path></svg>
              <span data-content="Wiki">Wiki</span>
                <span title="Not available" class="Counter "></span>
</a>        </li>
        <li class="d-flex">
          <a class="js-selected-navigation-item UnderlineNav-item hx_underlinenav-item no-wrap js-responsive-underlinenav-item" data-tab-item="i6security-tab" data-hotkey="g s" data-ga-click="Repository, Navigation click, Security tab" data-selected-links="security overview alerts policy token_scanning code_scanning /Sahilofficial/Fundamentals-of-Reinforcement-Learning/security" href="/Sahilofficial/Fundamentals-of-Reinforcement-Learning/security">
                <svg class="octicon octicon-shield UnderlineNav-octicon d-none d-sm-inline" height="16" viewBox="0 0 16 16" version="1.1" width="16" aria-hidden="true"><path fill-rule="evenodd" d="M7.467.133a1.75 1.75 0 011.066 0l5.25 1.68A1.75 1.75 0 0115 3.48V7c0 1.566-.32 3.182-1.303 4.682-.983 1.498-2.585 2.813-5.032 3.855a1.7 1.7 0 01-1.33 0c-2.447-1.042-4.049-2.357-5.032-3.855C1.32 10.182 1 8.566 1 7V3.48a1.75 1.75 0 011.217-1.667l5.25-1.68zm.61 1.429a.25.25 0 00-.153 0l-5.25 1.68a.25.25 0 00-.174.238V7c0 1.358.275 2.666 1.057 3.86.784 1.194 2.121 2.34 4.366 3.297a.2.2 0 00.154 0c2.245-.956 3.582-2.104 4.366-3.298C13.225 9.666 13.5 8.36 13.5 7V3.48a.25.25 0 00-.174-.237l-5.25-1.68zM9 10.5a1 1 0 11-2 0 1 1 0 012 0zm-.25-5.75a.75.75 0 10-1.5 0v3a.75.75 0 001.5 0v-3z"></path></svg>
              <span data-content="Security">Security</span>
                <include-fragment src="/Sahilofficial/Fundamentals-of-Reinforcement-Learning/security/overall-count" accept="text/fragment+html"></include-fragment>
</a>        </li>
        <li class="d-flex">
          <a class="js-selected-navigation-item UnderlineNav-item hx_underlinenav-item no-wrap js-responsive-underlinenav-item" data-tab-item="i7insights-tab" data-ga-click="Repository, Navigation click, Insights tab" data-selected-links="repo_graphs repo_contributors dependency_graph dependabot_updates pulse people community /Sahilofficial/Fundamentals-of-Reinforcement-Learning/pulse" href="/Sahilofficial/Fundamentals-of-Reinforcement-Learning/pulse">
                <svg class="octicon octicon-graph UnderlineNav-octicon d-none d-sm-inline" height="16" viewBox="0 0 16 16" version="1.1" width="16" aria-hidden="true"><path fill-rule="evenodd" d="M1.5 1.75a.75.75 0 00-1.5 0v12.5c0 .414.336.75.75.75h14.5a.75.75 0 000-1.5H1.5V1.75zm14.28 2.53a.75.75 0 00-1.06-1.06L10 7.94 7.53 5.47a.75.75 0 00-1.06 0L3.22 8.72a.75.75 0 001.06 1.06L7 7.06l2.47 2.47a.75.75 0 001.06 0l5.25-5.25z"></path></svg>
              <span data-content="Insights">Insights</span>
                <span title="Not available" class="Counter "></span>
</a>        </li>
</ul>
    <div style="visibility:hidden;" class="UnderlineNav-actions  js-responsive-underlinenav-overflow position-absolute pr-3 pr-md-4 pr-lg-5 right-0">    <details class="details-overlay details-reset position-relative">
  <summary role="button">        <div class="UnderlineNav-item mr-0 border-0">
          <svg class="octicon octicon-kebab-horizontal" viewBox="0 0 16 16" version="1.1" width="16" height="16" aria-hidden="true"><path d="M8 9a1.5 1.5 0 100-3 1.5 1.5 0 000 3zM1.5 9a1.5 1.5 0 100-3 1.5 1.5 0 000 3zm13 0a1.5 1.5 0 100-3 1.5 1.5 0 000 3z"></path></svg>
          <span class="sr-only">More</span>
        </div>
</summary>
  <div>        <details-menu role="menu" class="dropdown-menu dropdown-menu-sw ">
  
          <ul>
              <li data-menu-item="i0code-tab" hidden>
                <a role="menuitem" class="js-selected-navigation-item dropdown-item" data-selected-links=" /Sahilofficial/Fundamentals-of-Reinforcement-Learning" href="/Sahilofficial/Fundamentals-of-Reinforcement-Learning">
                  Code
</a>              </li>
              <li data-menu-item="i1issues-tab" hidden>
                <a role="menuitem" class="js-selected-navigation-item dropdown-item" data-selected-links=" /Sahilofficial/Fundamentals-of-Reinforcement-Learning/issues" href="/Sahilofficial/Fundamentals-of-Reinforcement-Learning/issues">
                  Issues
</a>              </li>
              <li data-menu-item="i2pull-requests-tab" hidden>
                <a role="menuitem" class="js-selected-navigation-item dropdown-item" data-selected-links=" /Sahilofficial/Fundamentals-of-Reinforcement-Learning/pulls" href="/Sahilofficial/Fundamentals-of-Reinforcement-Learning/pulls">
                  Pull requests
</a>              </li>
              <li data-menu-item="i3actions-tab" hidden>
                <a role="menuitem" class="js-selected-navigation-item dropdown-item" data-selected-links=" /Sahilofficial/Fundamentals-of-Reinforcement-Learning/actions" href="/Sahilofficial/Fundamentals-of-Reinforcement-Learning/actions">
                  Actions
</a>              </li>
              <li data-menu-item="i4projects-tab" hidden>
                <a role="menuitem" class="js-selected-navigation-item dropdown-item" data-selected-links=" /Sahilofficial/Fundamentals-of-Reinforcement-Learning/projects" href="/Sahilofficial/Fundamentals-of-Reinforcement-Learning/projects">
                  Projects
</a>              </li>
              <li data-menu-item="i5wiki-tab" hidden>
                <a role="menuitem" class="js-selected-navigation-item dropdown-item" data-selected-links=" /Sahilofficial/Fundamentals-of-Reinforcement-Learning/wiki" href="/Sahilofficial/Fundamentals-of-Reinforcement-Learning/wiki">
                  Wiki
</a>              </li>
              <li data-menu-item="i6security-tab" hidden>
                <a role="menuitem" class="js-selected-navigation-item dropdown-item" data-selected-links=" /Sahilofficial/Fundamentals-of-Reinforcement-Learning/security" href="/Sahilofficial/Fundamentals-of-Reinforcement-Learning/security">
                  Security
</a>              </li>
              <li data-menu-item="i7insights-tab" hidden>
                <a role="menuitem" class="js-selected-navigation-item dropdown-item" data-selected-links=" /Sahilofficial/Fundamentals-of-Reinforcement-Learning/pulse" href="/Sahilofficial/Fundamentals-of-Reinforcement-Learning/pulse">
                  Insights
</a>              </li>
          </ul>

</details-menu></div>
</details></div>
</nav>
  </div>


<div class="container-xl clearfix new-discussion-timeline px-3 px-md-4 px-lg-5">
  <div id="repo-content-pjax-container" class="repository-content " >

    
      
    

<div>
  


    <a class="d-none js-permalink-shortcut" data-hotkey="y" href="/Sahilofficial/Fundamentals-of-Reinforcement-Learning/blob/e607144241d366eb345f59442999b854d979a350/Fundamentals_of_Reinforcement_Learning/Week%204/Assignment2.json">Permalink</a>

    <!-- blob contrib key: blob_contributors:v22:cf19d7aa8ceab04b3d14d692defe90c71d1064244b5439b4862034fa4bd14a5e -->

    <div class="d-flex flex-items-start flex-shrink-0 pb-3 flex-wrap flex-md-nowrap flex-justify-between flex-md-justify-start">
      
<div class="position-relative">
  <details class="details-reset details-overlay mr-0 mb-0 " id="branch-select-menu">
    <summary class="btn css-truncate"
            data-hotkey="w"
            title="Switch branches or tags">
      <svg class="octicon octicon-git-branch text-gray" height="16" viewBox="0 0 16 16" version="1.1" width="16" aria-hidden="true"><path fill-rule="evenodd" d="M11.75 2.5a.75.75 0 100 1.5.75.75 0 000-1.5zm-2.25.75a2.25 2.25 0 113 2.122V6A2.5 2.5 0 0110 8.5H6a1 1 0 00-1 1v1.128a2.251 2.251 0 11-1.5 0V5.372a2.25 2.25 0 111.5 0v1.836A2.492 2.492 0 016 7h4a1 1 0 001-1v-.628A2.25 2.25 0 019.5 3.25zM4.25 12a.75.75 0 100 1.5.75.75 0 000-1.5zM3.5 3.25a.75.75 0 111.5 0 .75.75 0 01-1.5 0z"></path></svg>
      <span class="css-truncate-target" data-menu-button>main</span>
      <span class="dropdown-caret"></span>
    </summary>

      <div class="SelectMenu">
  <div class="SelectMenu-modal">
    <header class="SelectMenu-header">
      <span class="SelectMenu-title">Switch branches/tags</span>
      <button class="SelectMenu-closeButton" type="button" data-toggle-for="branch-select-menu"><svg aria-label="Close menu" aria-hidden="false" class="octicon octicon-x" height="16" viewBox="0 0 16 16" version="1.1" width="16" aria-hidden="true"><path fill-rule="evenodd" d="M3.72 3.72a.75.75 0 011.06 0L8 6.94l3.22-3.22a.75.75 0 111.06 1.06L9.06 8l3.22 3.22a.75.75 0 11-1.06 1.06L8 9.06l-3.22 3.22a.75.75 0 01-1.06-1.06L6.94 8 3.72 4.78a.75.75 0 010-1.06z"></path></svg></button>
    </header>

    <input-demux data-action="tab-container-change:input-demux#storeInput tab-container-changed:input-demux#updateInput">
      <tab-container class="d-flex flex-column js-branches-tags-tabs" style="min-height: 0;">
        <div class="SelectMenu-filter">
          <input data-target="input-demux.source"
                 id="context-commitish-filter-field"
                 class="SelectMenu-input form-control"
                 aria-owns="ref-list-branches"
                 data-controls-ref-menu-id="ref-list-branches"
                 autofocus
                 autocomplete="off"
                 aria-label="Filter branches/tags"
                 placeholder="Filter branches/tags"
                 type="text"
          >
        </div>

        <div class="SelectMenu-tabs" role="tablist" data-target="input-demux.control">
          <button class="SelectMenu-tab" type="button" role="tab" aria-selected="true">Branches</button>
          <button class="SelectMenu-tab" type="button" role="tab">Tags</button>
        </div>

        <div role="tabpanel" id="ref-list-branches" data-filter-placeholder="Filter branches/tags" class="d-flex flex-column flex-auto overflow-auto" tabindex="">
          <ref-selector
            type="branch"
            data-targets="input-demux.sinks"
            data-action="
              input-entered:ref-selector#inputEntered
              tab-selected:ref-selector#tabSelected
              focus-list:ref-selector#focusFirstListMember
            "
            query-endpoint="/Sahilofficial/Fundamentals-of-Reinforcement-Learning/refs"
            
            cache-key="v0:1612708600.654794"
            current-committish="bWFpbg=="
            default-branch="bWFpbg=="
            name-with-owner="U2FoaWxvZmZpY2lhbC9GdW5kYW1lbnRhbHMtb2YtUmVpbmZvcmNlbWVudC1MZWFybmluZw=="
          >

            <template data-target="ref-selector.noMatchTemplate">
                <div class="SelectMenu-message">Nothing to show</div>
            </template>

            <!-- TODO: this max-height is necessary or else the branch list won't scroll.  why? -->
            <div data-target="ref-selector.listContainer" role="menu" class="SelectMenu-list" style="max-height: 330px">
              <div class="SelectMenu-loading pt-3 pb-0" aria-label="Menu is loading">
                <svg style="box-sizing: content-box; color: var(--color-icon-primary);" viewBox="0 0 16 16" fill="none" width="32" height="32" class="anim-rotate">
  <circle cx="8" cy="8" r="7" stroke="currentColor" stroke-opacity="0.25" stroke-width="2" vector-effect="non-scaling-stroke" />
  <path d="M15 8a7.002 7.002 0 00-7-7" stroke="currentColor" stroke-width="2" stroke-linecap="round" vector-effect="non-scaling-stroke" />
</svg>
              </div>
            </div>

            <template data-target="ref-selector.itemTemplate">
              <a href="https://github.com/Sahilofficial/Fundamentals-of-Reinforcement-Learning/blob/{{ urlEncodedRefName }}/Fundamentals_of_Reinforcement_Learning/Week%204/Assignment2.json" class="SelectMenu-item" role="menuitemradio" rel="nofollow" aria-checked="{{ isCurrent }}" data-index="{{ index }}">
                <svg class="octicon octicon-check SelectMenu-icon SelectMenu-icon--check" viewBox="0 0 16 16" version="1.1" width="16" height="16" aria-hidden="true"><path fill-rule="evenodd" d="M13.78 4.22a.75.75 0 010 1.06l-7.25 7.25a.75.75 0 01-1.06 0L2.22 9.28a.75.75 0 011.06-1.06L6 10.94l6.72-6.72a.75.75 0 011.06 0z"></path></svg>
                <span class="flex-1 css-truncate css-truncate-overflow {{ isFilteringClass }}">{{ refName }}</span>
                <span hidden="{{ isNotDefault }}" class="Label Label--secondary flex-self-start">default</span> 
              </a>
            </template>
            <footer class="SelectMenu-footer"><a href="/Sahilofficial/Fundamentals-of-Reinforcement-Learning/branches">View all branches</a></footer>
          </ref-selector>

        </div>

        <div role="tabpanel" id="tags-menu" data-filter-placeholder="Find a tag" class="d-flex flex-column flex-auto overflow-auto" tabindex="" hidden>
          <ref-selector
            type="tag"
            data-action="
              input-entered:ref-selector#inputEntered
              tab-selected:ref-selector#tabSelected
              focus-list:ref-selector#focusFirstListMember
            "
            data-targets="input-demux.sinks"
            query-endpoint="/Sahilofficial/Fundamentals-of-Reinforcement-Learning/refs"
            cache-key="v0:1612708600.654794"
            current-committish="bWFpbg=="
            default-branch="bWFpbg=="
            name-with-owner="U2FoaWxvZmZpY2lhbC9GdW5kYW1lbnRhbHMtb2YtUmVpbmZvcmNlbWVudC1MZWFybmluZw=="
          >

            <template data-target="ref-selector.noMatchTemplate">
              <div class="SelectMenu-message" data-index="{{ index }}">Nothing to show</div>
            </template>

            <template data-target="ref-selector.itemTemplate">
              <a href="https://github.com/Sahilofficial/Fundamentals-of-Reinforcement-Learning/blob/{{ urlEncodedRefName }}/Fundamentals_of_Reinforcement_Learning/Week%204/Assignment2.json" class="SelectMenu-item" role="menuitemradio" rel="nofollow" aria-checked="{{ isCurrent }}" data-index="{{ index }}">
                <svg class="octicon octicon-check SelectMenu-icon SelectMenu-icon--check" viewBox="0 0 16 16" version="1.1" width="16" height="16" aria-hidden="true"><path fill-rule="evenodd" d="M13.78 4.22a.75.75 0 010 1.06l-7.25 7.25a.75.75 0 01-1.06 0L2.22 9.28a.75.75 0 011.06-1.06L6 10.94l6.72-6.72a.75.75 0 011.06 0z"></path></svg>
                <span class="flex-1 css-truncate css-truncate-overflow {{ isFilteringClass }}">{{ refName }}</span>
                <span hidden="{{ isNotDefault }}" class="Label Label--secondary flex-self-start">default</span>
              </a>
            </template>
            <div data-target="ref-selector.listContainer" role="menu" class="SelectMenu-list" style="max-height: 330px">
              <div class="SelectMenu-loading pt-3 pb-0" aria-label="Menu is loading">
                <svg style="box-sizing: content-box; color: var(--color-icon-primary);" viewBox="0 0 16 16" fill="none" width="32" height="32" class="anim-rotate">
  <circle cx="8" cy="8" r="7" stroke="currentColor" stroke-opacity="0.25" stroke-width="2" vector-effect="non-scaling-stroke" />
  <path d="M15 8a7.002 7.002 0 00-7-7" stroke="currentColor" stroke-width="2" stroke-linecap="round" vector-effect="non-scaling-stroke" />
</svg>
              </div>
            </div>
            <footer class="SelectMenu-footer"><a href="/Sahilofficial/Fundamentals-of-Reinforcement-Learning/tags">View all tags</a></footer>
          </ref-selector>
        </div>
      </tab-container>
    </input-demux>
  </div>
</div>

  </details>

</div>

      <h2 id="blob-path" class="breadcrumb flex-auto flex-self-center min-width-0 text-normal mx-2 width-full width-md-auto flex-order-1 flex-md-order-none mt-3 mt-md-0">
        <span class="js-repo-root text-bold"><span class="js-path-segment d-inline-block wb-break-all"><a data-pjax="true" href="/Sahilofficial/Fundamentals-of-Reinforcement-Learning"><span>Fundamentals-of-Reinforcement-Learning</span></a></span></span><span class="separator">/</span><span class="js-path-segment d-inline-block wb-break-all"><a data-pjax="true" href="/Sahilofficial/Fundamentals-of-Reinforcement-Learning/tree/main/Fundamentals_of_Reinforcement_Learning"><span>Fundamentals_of_Reinforcement_Learning</span></a></span><span class="separator">/</span><span class="js-path-segment d-inline-block wb-break-all"><a data-pjax="true" href="/Sahilofficial/Fundamentals-of-Reinforcement-Learning/tree/main/Fundamentals_of_Reinforcement_Learning/Week%204"><span>Week 4</span></a></span><span class="separator">/</span><strong class="final-path">Assignment2.json</strong>
      </h2>
      <a href="/Sahilofficial/Fundamentals-of-Reinforcement-Learning/find/main"
            class="js-pjax-capture-input btn mr-2 d-none d-md-block"
            data-pjax
            data-hotkey="t">
        Go to file
      </a>

      <details id="blob-more-options-details" class="details-overlay details-reset position-relative">
  <summary role="button" type="button" class="btn ">          <svg aria-label="More options" class="octicon octicon-kebab-horizontal" height="16" viewBox="0 0 16 16" version="1.1" width="16" role="img"><path d="M8 9a1.5 1.5 0 100-3 1.5 1.5 0 000 3zM1.5 9a1.5 1.5 0 100-3 1.5 1.5 0 000 3zm13 0a1.5 1.5 0 100-3 1.5 1.5 0 000 3z"></path></svg>
</summary>
  <div>          <ul class="dropdown-menu dropdown-menu-sw">
            <li class="d-block d-md-none">
              <a class="dropdown-item d-flex flex-items-baseline" data-hydro-click="{&quot;event_type&quot;:&quot;repository.click&quot;,&quot;payload&quot;:{&quot;target&quot;:&quot;FIND_FILE_BUTTON&quot;,&quot;repository_id&quot;:336804264,&quot;originating_url&quot;:&quot;https://github.com/Sahilofficial/Fundamentals-of-Reinforcement-Learning/blob/main/Fundamentals_of_Reinforcement_Learning/Week%204/Assignment2.json&quot;,&quot;user_id&quot;:64707274}}" data-hydro-click-hmac="c27e1846be7f9f824378d480db2e9bf11c1e1affa565b0dce6dce4a19a40f713" data-ga-click="Repository, find file, location:repo overview" data-hotkey="t" data-pjax="true" href="/Sahilofficial/Fundamentals-of-Reinforcement-Learning/find/main">
                <span class="flex-auto">Go to file</span>
                <span class="text-small color-text-secondary" aria-hidden="true">T</span>
</a>            </li>
            <li data-toggle-for="blob-more-options-details">
              <button type="button" data-toggle-for="jumpto-line-details-dialog" class="btn-link dropdown-item">
                <span class="d-flex flex-items-baseline">
                  <span class="flex-auto">Go to line</span>
                  <span class="text-small color-text-secondary" aria-hidden="true">L</span>
                </span>
              </button>
            </li>
            <li class="dropdown-divider" role="none"></li>
            <li>
              <clipboard-copy value="Fundamentals_of_Reinforcement_Learning/Week 4/Assignment2.json" class="dropdown-item cursor-pointer" data-toggle-for="blob-more-options-details">
                Copy path
              </clipboard-copy>
            </li>
            <li>
              <clipboard-copy value="https://github.com/Sahilofficial/Fundamentals-of-Reinforcement-Learning/blob/e607144241d366eb345f59442999b854d979a350/Fundamentals_of_Reinforcement_Learning/Week%204/Assignment2.json" class="dropdown-item cursor-pointer" data-toggle-for="blob-more-options-details" >
                <span class="d-flex flex-items-baseline">
                  <span class="flex-auto">Copy permalink</span>
                </span>
              </clipboard-copy>
            </li>
          </ul>
</div>
</details>    </div>



    <div class="Box d-flex flex-column flex-shrink-0 mb-3">
      
  <div class="Box-header Box-header--blue Details js-details-container">
      <div class="d-flex flex-items-center">
        <span class="flex-shrink-0 ml-n1 mr-n1 mt-n1 mb-n1">
          <a rel="author" data-skip-pjax="true" data-hovercard-type="user" data-hovercard-url="/users/Sahilofficial/hovercard" data-octo-click="hovercard-link-click" data-octo-dimensions="link_type:self" href="/Sahilofficial"><img class="avatar avatar-user" src="https://avatars.githubusercontent.com/u/61624974?s=48&amp;v=4" width="24" height="24" alt="@Sahilofficial" /></a>
        </span>
        <div class="flex-1 d-flex flex-items-center ml-3 min-width-0">
          <div class="css-truncate css-truncate-overflow">
            <a class="text-bold Link--primary" rel="author" data-hovercard-type="user" data-hovercard-url="/users/Sahilofficial/hovercard" data-octo-click="hovercard-link-click" data-octo-dimensions="link_type:self" href="/Sahilofficial">Sahilofficial</a>

              <span>
                <a data-pjax="true" title="Add files via upload" class="Link--secondary" href="/Sahilofficial/Fundamentals-of-Reinforcement-Learning/commit/834161f9c7ba83c444ce69f6b5ddb68165d86baa">Add files via upload</a>
              </span>
          </div>


          <span class="ml-2">
            <include-fragment accept="text/fragment+html" src="/Sahilofficial/Fundamentals-of-Reinforcement-Learning/commit/834161f9c7ba83c444ce69f6b5ddb68165d86baa/rollup?direction=e" class="d-inline"></include-fragment>
          </span>
        </div>
        <div class="ml-3 d-flex flex-shrink-0 flex-items-center flex-justify-end color-text-secondary no-wrap">
          <span class="d-none d-md-inline">
            <span>Latest commit</span>
            <a class="text-small text-mono Link--secondary" href="/Sahilofficial/Fundamentals-of-Reinforcement-Learning/commit/834161f9c7ba83c444ce69f6b5ddb68165d86baa" data-pjax>834161f</a>
            <span itemprop="dateModified"><relative-time datetime="2021-02-07T14:36:40Z" class="no-wrap">Feb 7, 2021</relative-time></span>
          </span>

          <a data-pjax href="/Sahilofficial/Fundamentals-of-Reinforcement-Learning/commits/main/Fundamentals_of_Reinforcement_Learning/Week%204/Assignment2.json" class="ml-3 no-wrap Link--primary no-underline">
            <svg class="octicon octicon-history text-gray" height="16" viewBox="0 0 16 16" version="1.1" width="16" aria-hidden="true"><path fill-rule="evenodd" d="M1.643 3.143L.427 1.927A.25.25 0 000 2.104V5.75c0 .138.112.25.25.25h3.646a.25.25 0 00.177-.427L2.715 4.215a6.5 6.5 0 11-1.18 4.458.75.75 0 10-1.493.154 8.001 8.001 0 101.6-5.684zM7.75 4a.75.75 0 01.75.75v2.992l2.028.812a.75.75 0 01-.557 1.392l-2.5-1A.75.75 0 017 8.25v-3.5A.75.75 0 017.75 4z"></path></svg>
            <span class="d-none d-sm-inline">
              <strong>History</strong>
            </span>
          </a>
        </div>
      </div>

  </div>

  <div class="Box-body d-flex flex-items-center flex-auto border-bottom-0 flex-wrap" >
    <details class="details-reset details-overlay details-overlay-dark lh-default color-text-primary float-left mr-3" id="blob_contributors_box">
      <summary class="Link--primary">
        <svg class="octicon octicon-people text-gray" height="16" viewBox="0 0 16 16" version="1.1" width="16" aria-hidden="true"><path fill-rule="evenodd" d="M5.5 3.5a2 2 0 100 4 2 2 0 000-4zM2 5.5a3.5 3.5 0 115.898 2.549 5.507 5.507 0 013.034 4.084.75.75 0 11-1.482.235 4.001 4.001 0 00-7.9 0 .75.75 0 01-1.482-.236A5.507 5.507 0 013.102 8.05 3.49 3.49 0 012 5.5zM11 4a.75.75 0 100 1.5 1.5 1.5 0 01.666 2.844.75.75 0 00-.416.672v.352a.75.75 0 00.574.73c1.2.289 2.162 1.2 2.522 2.372a.75.75 0 101.434-.44 5.01 5.01 0 00-2.56-3.012A3 3 0 0011 4z"></path></svg>
        <strong>1</strong>
        
        contributor
      </summary>
      <details-dialog
        class="Box Box--overlay d-flex flex-column anim-fade-in fast"
        aria-label="Users who have contributed to this file"
        src="/Sahilofficial/Fundamentals-of-Reinforcement-Learning/contributors-list/main/Fundamentals_of_Reinforcement_Learning/Week%204/Assignment2.json" preload>
        <div class="Box-header">
          <button class="Box-btn-octicon btn-octicon float-right" type="button" aria-label="Close dialog" data-close-dialog>
            <svg class="octicon octicon-x" viewBox="0 0 16 16" version="1.1" width="16" height="16" aria-hidden="true"><path fill-rule="evenodd" d="M3.72 3.72a.75.75 0 011.06 0L8 6.94l3.22-3.22a.75.75 0 111.06 1.06L9.06 8l3.22 3.22a.75.75 0 11-1.06 1.06L8 9.06l-3.22 3.22a.75.75 0 01-1.06-1.06L6.94 8 3.72 4.78a.75.75 0 010-1.06z"></path></svg>
          </button>
          <h3 class="Box-title">
            Users who have contributed to this file
          </h3>
        </div>
        <include-fragment>
          <svg style="box-sizing: content-box; color: var(--color-icon-primary);" viewBox="0 0 16 16" fill="none" width="32" height="32" class="my-3 mx-auto d-block anim-rotate">
  <circle cx="8" cy="8" r="7" stroke="currentColor" stroke-opacity="0.25" stroke-width="2" vector-effect="non-scaling-stroke" />
  <path d="M15 8a7.002 7.002 0 00-7-7" stroke="currentColor" stroke-width="2" stroke-linecap="round" vector-effect="non-scaling-stroke" />
</svg>
        </include-fragment>
      </details-dialog>
    </details>
  </div>
    </div>




      






    <div class="Box mt-3 position-relative
      ">
      
<div class="Box-header py-2 d-flex flex-column flex-shrink-0 flex-md-row flex-md-items-center">
  <div class="text-mono f6 flex-auto pr-3 flex-order-2 flex-md-order-1 mt-2 mt-md-0">

      1537 lines (1537 sloc)
      <span class="file-info-divider"></span>
    175 KB
  </div>

  <div class="d-flex py-1 py-md-0 flex-auto flex-order-1 flex-md-order-2 flex-sm-grow-0 flex-justify-between">

    <div class="BtnGroup">
      <a href="/Sahilofficial/Fundamentals-of-Reinforcement-Learning/raw/main/Fundamentals_of_Reinforcement_Learning/Week%204/Assignment2.json" id="raw-url" role="button" class="btn btn-sm BtnGroup-item ">Raw</a>
        <a href="/Sahilofficial/Fundamentals-of-Reinforcement-Learning/blame/main/Fundamentals_of_Reinforcement_Learning/Week%204/Assignment2.json" data-hotkey="b" role="button" class="btn js-update-url-with-hash btn-sm BtnGroup-item ">Blame</a>
    </div>

    <div>
          <a class="btn-octicon tooltipped tooltipped-nw js-remove-unless-platform"
             data-platforms="windows,mac"
             href="x-github-client://openRepo/https://github.com/Sahilofficial/Fundamentals-of-Reinforcement-Learning?branch=main&amp;filepath=Fundamentals_of_Reinforcement_Learning%2FWeek%204%2FAssignment2.json"
             aria-label="Open this file in GitHub Desktop"
             data-ga-click="Repository, open with desktop">
              <svg class="octicon octicon-device-desktop" viewBox="0 0 16 16" version="1.1" width="16" height="16" aria-hidden="true"><path fill-rule="evenodd" d="M1.75 2.5h12.5a.25.25 0 01.25.25v7.5a.25.25 0 01-.25.25H1.75a.25.25 0 01-.25-.25v-7.5a.25.25 0 01.25-.25zM14.25 1H1.75A1.75 1.75 0 000 2.75v7.5C0 11.216.784 12 1.75 12h3.727c-.1 1.041-.52 1.872-1.292 2.757A.75.75 0 004.75 16h6.5a.75.75 0 00.565-1.243c-.772-.885-1.193-1.716-1.292-2.757h3.727A1.75 1.75 0 0016 10.25v-7.5A1.75 1.75 0 0014.25 1zM9.018 12H6.982a5.72 5.72 0 01-.765 2.5h3.566a5.72 5.72 0 01-.765-2.5z"></path></svg>
          </a>

          <!-- '"` --><!-- </textarea></xmp> --></option></form><form class="inline-form js-update-url-with-hash" action="/Sahilofficial/Fundamentals-of-Reinforcement-Learning/edit/main/Fundamentals_of_Reinforcement_Learning/Week%204/Assignment2.json" accept-charset="UTF-8" method="post"><input type="hidden" name="authenticity_token" value="DSRCmApPYkoWgstPO66aHnM97WzN4TLb3xzPfBs5vLa+BhcDKdAI0zBWu/W/2EFzrsEItZf9LwtpRABUosy8+w==" />
            <button class="btn-octicon tooltipped tooltipped-nw" type="submit"
              aria-label="Fork this project and edit the file" data-hotkey="e" data-disable-with>
              <svg class="octicon octicon-pencil" height="16" viewBox="0 0 16 16" version="1.1" width="16" aria-hidden="true"><path fill-rule="evenodd" d="M11.013 1.427a1.75 1.75 0 012.474 0l1.086 1.086a1.75 1.75 0 010 2.474l-8.61 8.61c-.21.21-.47.364-.756.445l-3.251.93a.75.75 0 01-.927-.928l.929-3.25a1.75 1.75 0 01.445-.758l8.61-8.61zm1.414 1.06a.25.25 0 00-.354 0L10.811 3.75l1.439 1.44 1.263-1.263a.25.25 0 000-.354l-1.086-1.086zM11.189 6.25L9.75 4.81l-6.286 6.287a.25.25 0 00-.064.108l-.558 1.953 1.953-.558a.249.249 0 00.108-.064l6.286-6.286z"></path></svg>
            </button>
</form>
          <!-- '"` --><!-- </textarea></xmp> --></option></form><form class="inline-form" action="/Sahilofficial/Fundamentals-of-Reinforcement-Learning/delete/main/Fundamentals_of_Reinforcement_Learning/Week%204/Assignment2.json" accept-charset="UTF-8" method="post"><input type="hidden" name="authenticity_token" value="EjuVUGous4UavmcofB8hiawW5Jx+VaCLHwcDGZh3hfwgxWAj1tq2rBTFWcj5SrVn8CA3my4ZGN1FY+Mrm4saiA==" />
            <button class="btn-octicon btn-octicon-danger tooltipped tooltipped-nw" type="submit"
              aria-label="Fork this project and delete the file" data-disable-with>
              <svg class="octicon octicon-trash" viewBox="0 0 16 16" version="1.1" width="16" height="16" aria-hidden="true"><path fill-rule="evenodd" d="M6.5 1.75a.25.25 0 01.25-.25h2.5a.25.25 0 01.25.25V3h-3V1.75zm4.5 0V3h2.25a.75.75 0 010 1.5H2.75a.75.75 0 010-1.5H5V1.75C5 .784 5.784 0 6.75 0h2.5C10.216 0 11 .784 11 1.75zM4.496 6.675a.75.75 0 10-1.492.15l.66 6.6A1.75 1.75 0 005.405 15h5.19c.9 0 1.652-.681 1.741-1.576l.66-6.6a.75.75 0 00-1.492-.149l-.66 6.6a.25.25 0 01-.249.225h-5.19a.25.25 0 01-.249-.225l-.66-6.6z"></path></svg>
            </button>
</form>    </div>
  </div>
</div>

      

  <div itemprop="text" class="Box-body p-0 blob-wrapper data type-json  gist-border-0">
      
<table class="highlight tab-size js-file-line-container" data-tab-size="8" data-paste-markdown-skip>
      <tr>
        <td id="L1" class="blob-num js-line-number" data-line-number="1"></td>
        <td id="LC1" class="blob-code blob-code-inner js-file-line">{</td>
      </tr>
      <tr>
        <td id="L2" class="blob-num js-line-number" data-line-number="2"></td>
        <td id="LC2" class="blob-code blob-code-inner js-file-line"> <span class="pl-s"><span class="pl-pds">&quot;</span>cells<span class="pl-pds">&quot;</span></span>: [</td>
      </tr>
      <tr>
        <td id="L3" class="blob-num js-line-number" data-line-number="3"></td>
        <td id="LC3" class="blob-code blob-code-inner js-file-line">  {</td>
      </tr>
      <tr>
        <td id="L4" class="blob-num js-line-number" data-line-number="4"></td>
        <td id="LC4" class="blob-code blob-code-inner js-file-line">   <span class="pl-s"><span class="pl-pds">&quot;</span>cell_type<span class="pl-pds">&quot;</span></span>: <span class="pl-s"><span class="pl-pds">&quot;</span>markdown<span class="pl-pds">&quot;</span></span>,</td>
      </tr>
      <tr>
        <td id="L5" class="blob-num js-line-number" data-line-number="5"></td>
        <td id="LC5" class="blob-code blob-code-inner js-file-line">   <span class="pl-s"><span class="pl-pds">&quot;</span>metadata<span class="pl-pds">&quot;</span></span>: {</td>
      </tr>
      <tr>
        <td id="L6" class="blob-num js-line-number" data-line-number="6"></td>
        <td id="LC6" class="blob-code blob-code-inner js-file-line">    <span class="pl-s"><span class="pl-pds">&quot;</span>deletable<span class="pl-pds">&quot;</span></span>: <span class="pl-c1">false</span>,</td>
      </tr>
      <tr>
        <td id="L7" class="blob-num js-line-number" data-line-number="7"></td>
        <td id="LC7" class="blob-code blob-code-inner js-file-line">    <span class="pl-s"><span class="pl-pds">&quot;</span>editable<span class="pl-pds">&quot;</span></span>: <span class="pl-c1">false</span>,</td>
      </tr>
      <tr>
        <td id="L8" class="blob-num js-line-number" data-line-number="8"></td>
        <td id="LC8" class="blob-code blob-code-inner js-file-line">    <span class="pl-s"><span class="pl-pds">&quot;</span>nbgrader<span class="pl-pds">&quot;</span></span>: {</td>
      </tr>
      <tr>
        <td id="L9" class="blob-num js-line-number" data-line-number="9"></td>
        <td id="LC9" class="blob-code blob-code-inner js-file-line">     <span class="pl-s"><span class="pl-pds">&quot;</span>cell_type<span class="pl-pds">&quot;</span></span>: <span class="pl-s"><span class="pl-pds">&quot;</span>markdown<span class="pl-pds">&quot;</span></span>,</td>
      </tr>
      <tr>
        <td id="L10" class="blob-num js-line-number" data-line-number="10"></td>
        <td id="LC10" class="blob-code blob-code-inner js-file-line">     <span class="pl-s"><span class="pl-pds">&quot;</span>checksum<span class="pl-pds">&quot;</span></span>: <span class="pl-s"><span class="pl-pds">&quot;</span>3996977e7d68ec12f2c9ffcfe5ce214b<span class="pl-pds">&quot;</span></span>,</td>
      </tr>
      <tr>
        <td id="L11" class="blob-num js-line-number" data-line-number="11"></td>
        <td id="LC11" class="blob-code blob-code-inner js-file-line">     <span class="pl-s"><span class="pl-pds">&quot;</span>grade<span class="pl-pds">&quot;</span></span>: <span class="pl-c1">false</span>,</td>
      </tr>
      <tr>
        <td id="L12" class="blob-num js-line-number" data-line-number="12"></td>
        <td id="LC12" class="blob-code blob-code-inner js-file-line">     <span class="pl-s"><span class="pl-pds">&quot;</span>grade_id<span class="pl-pds">&quot;</span></span>: <span class="pl-s"><span class="pl-pds">&quot;</span>cell-649fd0b1aa7ccb0f<span class="pl-pds">&quot;</span></span>,</td>
      </tr>
      <tr>
        <td id="L13" class="blob-num js-line-number" data-line-number="13"></td>
        <td id="LC13" class="blob-code blob-code-inner js-file-line">     <span class="pl-s"><span class="pl-pds">&quot;</span>locked<span class="pl-pds">&quot;</span></span>: <span class="pl-c1">true</span>,</td>
      </tr>
      <tr>
        <td id="L14" class="blob-num js-line-number" data-line-number="14"></td>
        <td id="LC14" class="blob-code blob-code-inner js-file-line">     <span class="pl-s"><span class="pl-pds">&quot;</span>schema_version<span class="pl-pds">&quot;</span></span>: <span class="pl-c1">3</span>,</td>
      </tr>
      <tr>
        <td id="L15" class="blob-num js-line-number" data-line-number="15"></td>
        <td id="LC15" class="blob-code blob-code-inner js-file-line">     <span class="pl-s"><span class="pl-pds">&quot;</span>solution<span class="pl-pds">&quot;</span></span>: <span class="pl-c1">false</span></td>
      </tr>
      <tr>
        <td id="L16" class="blob-num js-line-number" data-line-number="16"></td>
        <td id="LC16" class="blob-code blob-code-inner js-file-line">    }</td>
      </tr>
      <tr>
        <td id="L17" class="blob-num js-line-number" data-line-number="17"></td>
        <td id="LC17" class="blob-code blob-code-inner js-file-line">   },</td>
      </tr>
      <tr>
        <td id="L18" class="blob-num js-line-number" data-line-number="18"></td>
        <td id="LC18" class="blob-code blob-code-inner js-file-line">   <span class="pl-s"><span class="pl-pds">&quot;</span>source<span class="pl-pds">&quot;</span></span>: [</td>
      </tr>
      <tr>
        <td id="L19" class="blob-num js-line-number" data-line-number="19"></td>
        <td id="LC19" class="blob-code blob-code-inner js-file-line">    <span class="pl-s"><span class="pl-pds">&quot;</span># Assignment 2: Optimal Policies with Dynamic Programming<span class="pl-cce">\n</span><span class="pl-pds">&quot;</span></span>,</td>
      </tr>
      <tr>
        <td id="L20" class="blob-num js-line-number" data-line-number="20"></td>
        <td id="LC20" class="blob-code blob-code-inner js-file-line">    <span class="pl-s"><span class="pl-pds">&quot;</span><span class="pl-cce">\n</span><span class="pl-pds">&quot;</span></span>,</td>
      </tr>
      <tr>
        <td id="L21" class="blob-num js-line-number" data-line-number="21"></td>
        <td id="LC21" class="blob-code blob-code-inner js-file-line">    <span class="pl-s"><span class="pl-pds">&quot;</span>Welcome to Assignment 2. This notebook will help you understand:<span class="pl-cce">\n</span><span class="pl-pds">&quot;</span></span>,</td>
      </tr>
      <tr>
        <td id="L22" class="blob-num js-line-number" data-line-number="22"></td>
        <td id="LC22" class="blob-code blob-code-inner js-file-line">    <span class="pl-s"><span class="pl-pds">&quot;</span>- Policy Evaluation and Policy Improvement.<span class="pl-cce">\n</span><span class="pl-pds">&quot;</span></span>,</td>
      </tr>
      <tr>
        <td id="L23" class="blob-num js-line-number" data-line-number="23"></td>
        <td id="LC23" class="blob-code blob-code-inner js-file-line">    <span class="pl-s"><span class="pl-pds">&quot;</span>- Value and Policy Iteration.<span class="pl-cce">\n</span><span class="pl-pds">&quot;</span></span>,</td>
      </tr>
      <tr>
        <td id="L24" class="blob-num js-line-number" data-line-number="24"></td>
        <td id="LC24" class="blob-code blob-code-inner js-file-line">    <span class="pl-s"><span class="pl-pds">&quot;</span>- Bellman Equations.<span class="pl-pds">&quot;</span></span></td>
      </tr>
      <tr>
        <td id="L25" class="blob-num js-line-number" data-line-number="25"></td>
        <td id="LC25" class="blob-code blob-code-inner js-file-line">   ]</td>
      </tr>
      <tr>
        <td id="L26" class="blob-num js-line-number" data-line-number="26"></td>
        <td id="LC26" class="blob-code blob-code-inner js-file-line">  },</td>
      </tr>
      <tr>
        <td id="L27" class="blob-num js-line-number" data-line-number="27"></td>
        <td id="LC27" class="blob-code blob-code-inner js-file-line">  {</td>
      </tr>
      <tr>
        <td id="L28" class="blob-num js-line-number" data-line-number="28"></td>
        <td id="LC28" class="blob-code blob-code-inner js-file-line">   <span class="pl-s"><span class="pl-pds">&quot;</span>cell_type<span class="pl-pds">&quot;</span></span>: <span class="pl-s"><span class="pl-pds">&quot;</span>markdown<span class="pl-pds">&quot;</span></span>,</td>
      </tr>
      <tr>
        <td id="L29" class="blob-num js-line-number" data-line-number="29"></td>
        <td id="LC29" class="blob-code blob-code-inner js-file-line">   <span class="pl-s"><span class="pl-pds">&quot;</span>metadata<span class="pl-pds">&quot;</span></span>: {</td>
      </tr>
      <tr>
        <td id="L30" class="blob-num js-line-number" data-line-number="30"></td>
        <td id="LC30" class="blob-code blob-code-inner js-file-line">    <span class="pl-s"><span class="pl-pds">&quot;</span>deletable<span class="pl-pds">&quot;</span></span>: <span class="pl-c1">false</span>,</td>
      </tr>
      <tr>
        <td id="L31" class="blob-num js-line-number" data-line-number="31"></td>
        <td id="LC31" class="blob-code blob-code-inner js-file-line">    <span class="pl-s"><span class="pl-pds">&quot;</span>editable<span class="pl-pds">&quot;</span></span>: <span class="pl-c1">false</span>,</td>
      </tr>
      <tr>
        <td id="L32" class="blob-num js-line-number" data-line-number="32"></td>
        <td id="LC32" class="blob-code blob-code-inner js-file-line">    <span class="pl-s"><span class="pl-pds">&quot;</span>nbgrader<span class="pl-pds">&quot;</span></span>: {</td>
      </tr>
      <tr>
        <td id="L33" class="blob-num js-line-number" data-line-number="33"></td>
        <td id="LC33" class="blob-code blob-code-inner js-file-line">     <span class="pl-s"><span class="pl-pds">&quot;</span>cell_type<span class="pl-pds">&quot;</span></span>: <span class="pl-s"><span class="pl-pds">&quot;</span>markdown<span class="pl-pds">&quot;</span></span>,</td>
      </tr>
      <tr>
        <td id="L34" class="blob-num js-line-number" data-line-number="34"></td>
        <td id="LC34" class="blob-code blob-code-inner js-file-line">     <span class="pl-s"><span class="pl-pds">&quot;</span>checksum<span class="pl-pds">&quot;</span></span>: <span class="pl-s"><span class="pl-pds">&quot;</span>20729884a9ceb3804a03589ce5938a2d<span class="pl-pds">&quot;</span></span>,</td>
      </tr>
      <tr>
        <td id="L35" class="blob-num js-line-number" data-line-number="35"></td>
        <td id="LC35" class="blob-code blob-code-inner js-file-line">     <span class="pl-s"><span class="pl-pds">&quot;</span>grade<span class="pl-pds">&quot;</span></span>: <span class="pl-c1">false</span>,</td>
      </tr>
      <tr>
        <td id="L36" class="blob-num js-line-number" data-line-number="36"></td>
        <td id="LC36" class="blob-code blob-code-inner js-file-line">     <span class="pl-s"><span class="pl-pds">&quot;</span>grade_id<span class="pl-pds">&quot;</span></span>: <span class="pl-s"><span class="pl-pds">&quot;</span>cell-9aafac39a58eeca4<span class="pl-pds">&quot;</span></span>,</td>
      </tr>
      <tr>
        <td id="L37" class="blob-num js-line-number" data-line-number="37"></td>
        <td id="LC37" class="blob-code blob-code-inner js-file-line">     <span class="pl-s"><span class="pl-pds">&quot;</span>locked<span class="pl-pds">&quot;</span></span>: <span class="pl-c1">true</span>,</td>
      </tr>
      <tr>
        <td id="L38" class="blob-num js-line-number" data-line-number="38"></td>
        <td id="LC38" class="blob-code blob-code-inner js-file-line">     <span class="pl-s"><span class="pl-pds">&quot;</span>schema_version<span class="pl-pds">&quot;</span></span>: <span class="pl-c1">3</span>,</td>
      </tr>
      <tr>
        <td id="L39" class="blob-num js-line-number" data-line-number="39"></td>
        <td id="LC39" class="blob-code blob-code-inner js-file-line">     <span class="pl-s"><span class="pl-pds">&quot;</span>solution<span class="pl-pds">&quot;</span></span>: <span class="pl-c1">false</span></td>
      </tr>
      <tr>
        <td id="L40" class="blob-num js-line-number" data-line-number="40"></td>
        <td id="LC40" class="blob-code blob-code-inner js-file-line">    }</td>
      </tr>
      <tr>
        <td id="L41" class="blob-num js-line-number" data-line-number="41"></td>
        <td id="LC41" class="blob-code blob-code-inner js-file-line">   },</td>
      </tr>
      <tr>
        <td id="L42" class="blob-num js-line-number" data-line-number="42"></td>
        <td id="LC42" class="blob-code blob-code-inner js-file-line">   <span class="pl-s"><span class="pl-pds">&quot;</span>source<span class="pl-pds">&quot;</span></span>: [</td>
      </tr>
      <tr>
        <td id="L43" class="blob-num js-line-number" data-line-number="43"></td>
        <td id="LC43" class="blob-code blob-code-inner js-file-line">    <span class="pl-s"><span class="pl-pds">&quot;</span>## Gridworld City<span class="pl-cce">\n</span><span class="pl-pds">&quot;</span></span>,</td>
      </tr>
      <tr>
        <td id="L44" class="blob-num js-line-number" data-line-number="44"></td>
        <td id="LC44" class="blob-code blob-code-inner js-file-line">    <span class="pl-s"><span class="pl-pds">&quot;</span><span class="pl-cce">\n</span><span class="pl-pds">&quot;</span></span>,</td>
      </tr>
      <tr>
        <td id="L45" class="blob-num js-line-number" data-line-number="45"></td>
        <td id="LC45" class="blob-code blob-code-inner js-file-line">    <span class="pl-s"><span class="pl-pds">&quot;</span>Gridworld City, a thriving metropolis with a booming technology industry, has recently experienced an influx of grid-loving software engineers. Unfortunately, the city&#39;s street parking system, which charges a fixed rate, is struggling to keep up with the increased demand. To address this, the city council has decided to modify the pricing scheme to better promote social welfare. In general, the city considers social welfare higher when more parking is being used, the exception being that the city prefers that at least one spot is left unoccupied (so that it is available in case someone really needs it). The city council has created a Markov decision process (MDP) to model the demand for parking with a reward function that reflects its preferences. Now the city has hired you &amp;mdash; an expert in dynamic programming &amp;mdash; to help determine an optimal policy.<span class="pl-pds">&quot;</span></span></td>
      </tr>
      <tr>
        <td id="L46" class="blob-num js-line-number" data-line-number="46"></td>
        <td id="LC46" class="blob-code blob-code-inner js-file-line">   ]</td>
      </tr>
      <tr>
        <td id="L47" class="blob-num js-line-number" data-line-number="47"></td>
        <td id="LC47" class="blob-code blob-code-inner js-file-line">  },</td>
      </tr>
      <tr>
        <td id="L48" class="blob-num js-line-number" data-line-number="48"></td>
        <td id="LC48" class="blob-code blob-code-inner js-file-line">  {</td>
      </tr>
      <tr>
        <td id="L49" class="blob-num js-line-number" data-line-number="49"></td>
        <td id="LC49" class="blob-code blob-code-inner js-file-line">   <span class="pl-s"><span class="pl-pds">&quot;</span>cell_type<span class="pl-pds">&quot;</span></span>: <span class="pl-s"><span class="pl-pds">&quot;</span>markdown<span class="pl-pds">&quot;</span></span>,</td>
      </tr>
      <tr>
        <td id="L50" class="blob-num js-line-number" data-line-number="50"></td>
        <td id="LC50" class="blob-code blob-code-inner js-file-line">   <span class="pl-s"><span class="pl-pds">&quot;</span>metadata<span class="pl-pds">&quot;</span></span>: {</td>
      </tr>
      <tr>
        <td id="L51" class="blob-num js-line-number" data-line-number="51"></td>
        <td id="LC51" class="blob-code blob-code-inner js-file-line">    <span class="pl-s"><span class="pl-pds">&quot;</span>deletable<span class="pl-pds">&quot;</span></span>: <span class="pl-c1">false</span>,</td>
      </tr>
      <tr>
        <td id="L52" class="blob-num js-line-number" data-line-number="52"></td>
        <td id="LC52" class="blob-code blob-code-inner js-file-line">    <span class="pl-s"><span class="pl-pds">&quot;</span>editable<span class="pl-pds">&quot;</span></span>: <span class="pl-c1">false</span>,</td>
      </tr>
      <tr>
        <td id="L53" class="blob-num js-line-number" data-line-number="53"></td>
        <td id="LC53" class="blob-code blob-code-inner js-file-line">    <span class="pl-s"><span class="pl-pds">&quot;</span>nbgrader<span class="pl-pds">&quot;</span></span>: {</td>
      </tr>
      <tr>
        <td id="L54" class="blob-num js-line-number" data-line-number="54"></td>
        <td id="LC54" class="blob-code blob-code-inner js-file-line">     <span class="pl-s"><span class="pl-pds">&quot;</span>cell_type<span class="pl-pds">&quot;</span></span>: <span class="pl-s"><span class="pl-pds">&quot;</span>markdown<span class="pl-pds">&quot;</span></span>,</td>
      </tr>
      <tr>
        <td id="L55" class="blob-num js-line-number" data-line-number="55"></td>
        <td id="LC55" class="blob-code blob-code-inner js-file-line">     <span class="pl-s"><span class="pl-pds">&quot;</span>checksum<span class="pl-pds">&quot;</span></span>: <span class="pl-s"><span class="pl-pds">&quot;</span>77a7b97ee700b6ce77ed26bd22749e80<span class="pl-pds">&quot;</span></span>,</td>
      </tr>
      <tr>
        <td id="L56" class="blob-num js-line-number" data-line-number="56"></td>
        <td id="LC56" class="blob-code blob-code-inner js-file-line">     <span class="pl-s"><span class="pl-pds">&quot;</span>grade<span class="pl-pds">&quot;</span></span>: <span class="pl-c1">false</span>,</td>
      </tr>
      <tr>
        <td id="L57" class="blob-num js-line-number" data-line-number="57"></td>
        <td id="LC57" class="blob-code blob-code-inner js-file-line">     <span class="pl-s"><span class="pl-pds">&quot;</span>grade_id<span class="pl-pds">&quot;</span></span>: <span class="pl-s"><span class="pl-pds">&quot;</span>cell-28ccff8d1e663850<span class="pl-pds">&quot;</span></span>,</td>
      </tr>
      <tr>
        <td id="L58" class="blob-num js-line-number" data-line-number="58"></td>
        <td id="LC58" class="blob-code blob-code-inner js-file-line">     <span class="pl-s"><span class="pl-pds">&quot;</span>locked<span class="pl-pds">&quot;</span></span>: <span class="pl-c1">true</span>,</td>
      </tr>
      <tr>
        <td id="L59" class="blob-num js-line-number" data-line-number="59"></td>
        <td id="LC59" class="blob-code blob-code-inner js-file-line">     <span class="pl-s"><span class="pl-pds">&quot;</span>schema_version<span class="pl-pds">&quot;</span></span>: <span class="pl-c1">3</span>,</td>
      </tr>
      <tr>
        <td id="L60" class="blob-num js-line-number" data-line-number="60"></td>
        <td id="LC60" class="blob-code blob-code-inner js-file-line">     <span class="pl-s"><span class="pl-pds">&quot;</span>solution<span class="pl-pds">&quot;</span></span>: <span class="pl-c1">false</span></td>
      </tr>
      <tr>
        <td id="L61" class="blob-num js-line-number" data-line-number="61"></td>
        <td id="LC61" class="blob-code blob-code-inner js-file-line">    }</td>
      </tr>
      <tr>
        <td id="L62" class="blob-num js-line-number" data-line-number="62"></td>
        <td id="LC62" class="blob-code blob-code-inner js-file-line">   },</td>
      </tr>
      <tr>
        <td id="L63" class="blob-num js-line-number" data-line-number="63"></td>
        <td id="LC63" class="blob-code blob-code-inner js-file-line">   <span class="pl-s"><span class="pl-pds">&quot;</span>source<span class="pl-pds">&quot;</span></span>: [</td>
      </tr>
      <tr>
        <td id="L64" class="blob-num js-line-number" data-line-number="64"></td>
        <td id="LC64" class="blob-code blob-code-inner js-file-line">    <span class="pl-s"><span class="pl-pds">&quot;</span>## Preliminaries<span class="pl-cce">\n</span><span class="pl-pds">&quot;</span></span>,</td>
      </tr>
      <tr>
        <td id="L65" class="blob-num js-line-number" data-line-number="65"></td>
        <td id="LC65" class="blob-code blob-code-inner js-file-line">    <span class="pl-s"><span class="pl-pds">&quot;</span>You&#39;ll need two imports to complete this assigment:<span class="pl-cce">\n</span><span class="pl-pds">&quot;</span></span>,</td>
      </tr>
      <tr>
        <td id="L66" class="blob-num js-line-number" data-line-number="66"></td>
        <td id="LC66" class="blob-code blob-code-inner js-file-line">    <span class="pl-s"><span class="pl-pds">&quot;</span>- numpy: The fundamental package for scientific computing with Python.<span class="pl-cce">\n</span><span class="pl-pds">&quot;</span></span>,</td>
      </tr>
      <tr>
        <td id="L67" class="blob-num js-line-number" data-line-number="67"></td>
        <td id="LC67" class="blob-code blob-code-inner js-file-line">    <span class="pl-s"><span class="pl-pds">&quot;</span>- tools: A module containing an environment and a plotting function.<span class="pl-cce">\n</span><span class="pl-pds">&quot;</span></span>,</td>
      </tr>
      <tr>
        <td id="L68" class="blob-num js-line-number" data-line-number="68"></td>
        <td id="LC68" class="blob-code blob-code-inner js-file-line">    <span class="pl-s"><span class="pl-pds">&quot;</span><span class="pl-cce">\n</span><span class="pl-pds">&quot;</span></span>,</td>
      </tr>
      <tr>
        <td id="L69" class="blob-num js-line-number" data-line-number="69"></td>
        <td id="LC69" class="blob-code blob-code-inner js-file-line">    <span class="pl-s"><span class="pl-pds">&quot;</span>There are also some other lines in the cell below that are used for grading and plotting &amp;mdash; you needn&#39;t worry about them.<span class="pl-cce">\n</span><span class="pl-pds">&quot;</span></span>,</td>
      </tr>
      <tr>
        <td id="L70" class="blob-num js-line-number" data-line-number="70"></td>
        <td id="LC70" class="blob-code blob-code-inner js-file-line">    <span class="pl-s"><span class="pl-pds">&quot;</span><span class="pl-cce">\n</span><span class="pl-pds">&quot;</span></span>,</td>
      </tr>
      <tr>
        <td id="L71" class="blob-num js-line-number" data-line-number="71"></td>
        <td id="LC71" class="blob-code blob-code-inner js-file-line">    <span class="pl-s"><span class="pl-pds">&quot;</span>In this notebook, all cells are locked except those that you are explicitly asked to modify. It is up to you to decide how to implement your solution in these cells, **but please do not import other libraries** &amp;mdash; doing so will break the autograder.<span class="pl-pds">&quot;</span></span></td>
      </tr>
      <tr>
        <td id="L72" class="blob-num js-line-number" data-line-number="72"></td>
        <td id="LC72" class="blob-code blob-code-inner js-file-line">   ]</td>
      </tr>
      <tr>
        <td id="L73" class="blob-num js-line-number" data-line-number="73"></td>
        <td id="LC73" class="blob-code blob-code-inner js-file-line">  },</td>
      </tr>
      <tr>
        <td id="L74" class="blob-num js-line-number" data-line-number="74"></td>
        <td id="LC74" class="blob-code blob-code-inner js-file-line">  {</td>
      </tr>
      <tr>
        <td id="L75" class="blob-num js-line-number" data-line-number="75"></td>
        <td id="LC75" class="blob-code blob-code-inner js-file-line">   <span class="pl-s"><span class="pl-pds">&quot;</span>cell_type<span class="pl-pds">&quot;</span></span>: <span class="pl-s"><span class="pl-pds">&quot;</span>code<span class="pl-pds">&quot;</span></span>,</td>
      </tr>
      <tr>
        <td id="L76" class="blob-num js-line-number" data-line-number="76"></td>
        <td id="LC76" class="blob-code blob-code-inner js-file-line">   <span class="pl-s"><span class="pl-pds">&quot;</span>execution_count<span class="pl-pds">&quot;</span></span>: <span class="pl-c1">1</span>,</td>
      </tr>
      <tr>
        <td id="L77" class="blob-num js-line-number" data-line-number="77"></td>
        <td id="LC77" class="blob-code blob-code-inner js-file-line">   <span class="pl-s"><span class="pl-pds">&quot;</span>metadata<span class="pl-pds">&quot;</span></span>: {</td>
      </tr>
      <tr>
        <td id="L78" class="blob-num js-line-number" data-line-number="78"></td>
        <td id="LC78" class="blob-code blob-code-inner js-file-line">    <span class="pl-s"><span class="pl-pds">&quot;</span>deletable<span class="pl-pds">&quot;</span></span>: <span class="pl-c1">false</span>,</td>
      </tr>
      <tr>
        <td id="L79" class="blob-num js-line-number" data-line-number="79"></td>
        <td id="LC79" class="blob-code blob-code-inner js-file-line">    <span class="pl-s"><span class="pl-pds">&quot;</span>editable<span class="pl-pds">&quot;</span></span>: <span class="pl-c1">false</span>,</td>
      </tr>
      <tr>
        <td id="L80" class="blob-num js-line-number" data-line-number="80"></td>
        <td id="LC80" class="blob-code blob-code-inner js-file-line">    <span class="pl-s"><span class="pl-pds">&quot;</span>nbgrader<span class="pl-pds">&quot;</span></span>: {</td>
      </tr>
      <tr>
        <td id="L81" class="blob-num js-line-number" data-line-number="81"></td>
        <td id="LC81" class="blob-code blob-code-inner js-file-line">     <span class="pl-s"><span class="pl-pds">&quot;</span>cell_type<span class="pl-pds">&quot;</span></span>: <span class="pl-s"><span class="pl-pds">&quot;</span>code<span class="pl-pds">&quot;</span></span>,</td>
      </tr>
      <tr>
        <td id="L82" class="blob-num js-line-number" data-line-number="82"></td>
        <td id="LC82" class="blob-code blob-code-inner js-file-line">     <span class="pl-s"><span class="pl-pds">&quot;</span>checksum<span class="pl-pds">&quot;</span></span>: <span class="pl-s"><span class="pl-pds">&quot;</span>2b5347a2a22c1bacff0c0453119c8d84<span class="pl-pds">&quot;</span></span>,</td>
      </tr>
      <tr>
        <td id="L83" class="blob-num js-line-number" data-line-number="83"></td>
        <td id="LC83" class="blob-code blob-code-inner js-file-line">     <span class="pl-s"><span class="pl-pds">&quot;</span>grade<span class="pl-pds">&quot;</span></span>: <span class="pl-c1">false</span>,</td>
      </tr>
      <tr>
        <td id="L84" class="blob-num js-line-number" data-line-number="84"></td>
        <td id="LC84" class="blob-code blob-code-inner js-file-line">     <span class="pl-s"><span class="pl-pds">&quot;</span>grade_id<span class="pl-pds">&quot;</span></span>: <span class="pl-s"><span class="pl-pds">&quot;</span>cell-c11ff54faaf3fd89<span class="pl-pds">&quot;</span></span>,</td>
      </tr>
      <tr>
        <td id="L85" class="blob-num js-line-number" data-line-number="85"></td>
        <td id="LC85" class="blob-code blob-code-inner js-file-line">     <span class="pl-s"><span class="pl-pds">&quot;</span>locked<span class="pl-pds">&quot;</span></span>: <span class="pl-c1">true</span>,</td>
      </tr>
      <tr>
        <td id="L86" class="blob-num js-line-number" data-line-number="86"></td>
        <td id="LC86" class="blob-code blob-code-inner js-file-line">     <span class="pl-s"><span class="pl-pds">&quot;</span>schema_version<span class="pl-pds">&quot;</span></span>: <span class="pl-c1">3</span>,</td>
      </tr>
      <tr>
        <td id="L87" class="blob-num js-line-number" data-line-number="87"></td>
        <td id="LC87" class="blob-code blob-code-inner js-file-line">     <span class="pl-s"><span class="pl-pds">&quot;</span>solution<span class="pl-pds">&quot;</span></span>: <span class="pl-c1">false</span></td>
      </tr>
      <tr>
        <td id="L88" class="blob-num js-line-number" data-line-number="88"></td>
        <td id="LC88" class="blob-code blob-code-inner js-file-line">    }</td>
      </tr>
      <tr>
        <td id="L89" class="blob-num js-line-number" data-line-number="89"></td>
        <td id="LC89" class="blob-code blob-code-inner js-file-line">   },</td>
      </tr>
      <tr>
        <td id="L90" class="blob-num js-line-number" data-line-number="90"></td>
        <td id="LC90" class="blob-code blob-code-inner js-file-line">   <span class="pl-s"><span class="pl-pds">&quot;</span>outputs<span class="pl-pds">&quot;</span></span>: [</td>
      </tr>
      <tr>
        <td id="L91" class="blob-num js-line-number" data-line-number="91"></td>
        <td id="LC91" class="blob-code blob-code-inner js-file-line">    {</td>
      </tr>
      <tr>
        <td id="L92" class="blob-num js-line-number" data-line-number="92"></td>
        <td id="LC92" class="blob-code blob-code-inner js-file-line">     <span class="pl-s"><span class="pl-pds">&quot;</span>data<span class="pl-pds">&quot;</span></span>: {</td>
      </tr>
      <tr>
        <td id="L93" class="blob-num js-line-number" data-line-number="93"></td>
        <td id="LC93" class="blob-code blob-code-inner js-file-line">      <span class="pl-s"><span class="pl-pds">&quot;</span>text/plain<span class="pl-pds">&quot;</span></span>: [</td>
      </tr>
      <tr>
        <td id="L94" class="blob-num js-line-number" data-line-number="94"></td>
        <td id="LC94" class="blob-code blob-code-inner js-file-line">       <span class="pl-s"><span class="pl-pds">&quot;</span>&lt;Figure size 432x288 with 0 Axes&gt;<span class="pl-pds">&quot;</span></span></td>
      </tr>
      <tr>
        <td id="L95" class="blob-num js-line-number" data-line-number="95"></td>
        <td id="LC95" class="blob-code blob-code-inner js-file-line">      ]</td>
      </tr>
      <tr>
        <td id="L96" class="blob-num js-line-number" data-line-number="96"></td>
        <td id="LC96" class="blob-code blob-code-inner js-file-line">     },</td>
      </tr>
      <tr>
        <td id="L97" class="blob-num js-line-number" data-line-number="97"></td>
        <td id="LC97" class="blob-code blob-code-inner js-file-line">     <span class="pl-s"><span class="pl-pds">&quot;</span>metadata<span class="pl-pds">&quot;</span></span>: {},</td>
      </tr>
      <tr>
        <td id="L98" class="blob-num js-line-number" data-line-number="98"></td>
        <td id="LC98" class="blob-code blob-code-inner js-file-line">     <span class="pl-s"><span class="pl-pds">&quot;</span>output_type<span class="pl-pds">&quot;</span></span>: <span class="pl-s"><span class="pl-pds">&quot;</span>display_data<span class="pl-pds">&quot;</span></span></td>
      </tr>
      <tr>
        <td id="L99" class="blob-num js-line-number" data-line-number="99"></td>
        <td id="LC99" class="blob-code blob-code-inner js-file-line">    }</td>
      </tr>
      <tr>
        <td id="L100" class="blob-num js-line-number" data-line-number="100"></td>
        <td id="LC100" class="blob-code blob-code-inner js-file-line">   ],</td>
      </tr>
      <tr>
        <td id="L101" class="blob-num js-line-number" data-line-number="101"></td>
        <td id="LC101" class="blob-code blob-code-inner js-file-line">   <span class="pl-s"><span class="pl-pds">&quot;</span>source<span class="pl-pds">&quot;</span></span>: [</td>
      </tr>
      <tr>
        <td id="L102" class="blob-num js-line-number" data-line-number="102"></td>
        <td id="LC102" class="blob-code blob-code-inner js-file-line">    <span class="pl-s"><span class="pl-pds">&quot;</span>%matplotlib inline<span class="pl-cce">\n</span><span class="pl-pds">&quot;</span></span>,</td>
      </tr>
      <tr>
        <td id="L103" class="blob-num js-line-number" data-line-number="103"></td>
        <td id="LC103" class="blob-code blob-code-inner js-file-line">    <span class="pl-s"><span class="pl-pds">&quot;</span>import numpy as np<span class="pl-cce">\n</span><span class="pl-pds">&quot;</span></span>,</td>
      </tr>
      <tr>
        <td id="L104" class="blob-num js-line-number" data-line-number="104"></td>
        <td id="LC104" class="blob-code blob-code-inner js-file-line">    <span class="pl-s"><span class="pl-pds">&quot;</span>import tools<span class="pl-cce">\n</span><span class="pl-pds">&quot;</span></span>,</td>
      </tr>
      <tr>
        <td id="L105" class="blob-num js-line-number" data-line-number="105"></td>
        <td id="LC105" class="blob-code blob-code-inner js-file-line">    <span class="pl-s"><span class="pl-pds">&quot;</span>import grader<span class="pl-pds">&quot;</span></span></td>
      </tr>
      <tr>
        <td id="L106" class="blob-num js-line-number" data-line-number="106"></td>
        <td id="LC106" class="blob-code blob-code-inner js-file-line">   ]</td>
      </tr>
      <tr>
        <td id="L107" class="blob-num js-line-number" data-line-number="107"></td>
        <td id="LC107" class="blob-code blob-code-inner js-file-line">  },</td>
      </tr>
      <tr>
        <td id="L108" class="blob-num js-line-number" data-line-number="108"></td>
        <td id="LC108" class="blob-code blob-code-inner js-file-line">  {</td>
      </tr>
      <tr>
        <td id="L109" class="blob-num js-line-number" data-line-number="109"></td>
        <td id="LC109" class="blob-code blob-code-inner js-file-line">   <span class="pl-s"><span class="pl-pds">&quot;</span>cell_type<span class="pl-pds">&quot;</span></span>: <span class="pl-s"><span class="pl-pds">&quot;</span>markdown<span class="pl-pds">&quot;</span></span>,</td>
      </tr>
      <tr>
        <td id="L110" class="blob-num js-line-number" data-line-number="110"></td>
        <td id="LC110" class="blob-code blob-code-inner js-file-line">   <span class="pl-s"><span class="pl-pds">&quot;</span>metadata<span class="pl-pds">&quot;</span></span>: {</td>
      </tr>
      <tr>
        <td id="L111" class="blob-num js-line-number" data-line-number="111"></td>
        <td id="LC111" class="blob-code blob-code-inner js-file-line">    <span class="pl-s"><span class="pl-pds">&quot;</span>deletable<span class="pl-pds">&quot;</span></span>: <span class="pl-c1">false</span>,</td>
      </tr>
      <tr>
        <td id="L112" class="blob-num js-line-number" data-line-number="112"></td>
        <td id="LC112" class="blob-code blob-code-inner js-file-line">    <span class="pl-s"><span class="pl-pds">&quot;</span>editable<span class="pl-pds">&quot;</span></span>: <span class="pl-c1">false</span>,</td>
      </tr>
      <tr>
        <td id="L113" class="blob-num js-line-number" data-line-number="113"></td>
        <td id="LC113" class="blob-code blob-code-inner js-file-line">    <span class="pl-s"><span class="pl-pds">&quot;</span>nbgrader<span class="pl-pds">&quot;</span></span>: {</td>
      </tr>
      <tr>
        <td id="L114" class="blob-num js-line-number" data-line-number="114"></td>
        <td id="LC114" class="blob-code blob-code-inner js-file-line">     <span class="pl-s"><span class="pl-pds">&quot;</span>cell_type<span class="pl-pds">&quot;</span></span>: <span class="pl-s"><span class="pl-pds">&quot;</span>markdown<span class="pl-pds">&quot;</span></span>,</td>
      </tr>
      <tr>
        <td id="L115" class="blob-num js-line-number" data-line-number="115"></td>
        <td id="LC115" class="blob-code blob-code-inner js-file-line">     <span class="pl-s"><span class="pl-pds">&quot;</span>checksum<span class="pl-pds">&quot;</span></span>: <span class="pl-s"><span class="pl-pds">&quot;</span>596fffc2a1391897952fcabe2a8db930<span class="pl-pds">&quot;</span></span>,</td>
      </tr>
      <tr>
        <td id="L116" class="blob-num js-line-number" data-line-number="116"></td>
        <td id="LC116" class="blob-code blob-code-inner js-file-line">     <span class="pl-s"><span class="pl-pds">&quot;</span>grade<span class="pl-pds">&quot;</span></span>: <span class="pl-c1">false</span>,</td>
      </tr>
      <tr>
        <td id="L117" class="blob-num js-line-number" data-line-number="117"></td>
        <td id="LC117" class="blob-code blob-code-inner js-file-line">     <span class="pl-s"><span class="pl-pds">&quot;</span>grade_id<span class="pl-pds">&quot;</span></span>: <span class="pl-s"><span class="pl-pds">&quot;</span>cell-4c7c5c4373be59ff<span class="pl-pds">&quot;</span></span>,</td>
      </tr>
      <tr>
        <td id="L118" class="blob-num js-line-number" data-line-number="118"></td>
        <td id="LC118" class="blob-code blob-code-inner js-file-line">     <span class="pl-s"><span class="pl-pds">&quot;</span>locked<span class="pl-pds">&quot;</span></span>: <span class="pl-c1">true</span>,</td>
      </tr>
      <tr>
        <td id="L119" class="blob-num js-line-number" data-line-number="119"></td>
        <td id="LC119" class="blob-code blob-code-inner js-file-line">     <span class="pl-s"><span class="pl-pds">&quot;</span>schema_version<span class="pl-pds">&quot;</span></span>: <span class="pl-c1">3</span>,</td>
      </tr>
      <tr>
        <td id="L120" class="blob-num js-line-number" data-line-number="120"></td>
        <td id="LC120" class="blob-code blob-code-inner js-file-line">     <span class="pl-s"><span class="pl-pds">&quot;</span>solution<span class="pl-pds">&quot;</span></span>: <span class="pl-c1">false</span></td>
      </tr>
      <tr>
        <td id="L121" class="blob-num js-line-number" data-line-number="121"></td>
        <td id="LC121" class="blob-code blob-code-inner js-file-line">    }</td>
      </tr>
      <tr>
        <td id="L122" class="blob-num js-line-number" data-line-number="122"></td>
        <td id="LC122" class="blob-code blob-code-inner js-file-line">   },</td>
      </tr>
      <tr>
        <td id="L123" class="blob-num js-line-number" data-line-number="123"></td>
        <td id="LC123" class="blob-code blob-code-inner js-file-line">   <span class="pl-s"><span class="pl-pds">&quot;</span>source<span class="pl-pds">&quot;</span></span>: [</td>
      </tr>
      <tr>
        <td id="L124" class="blob-num js-line-number" data-line-number="124"></td>
        <td id="LC124" class="blob-code blob-code-inner js-file-line">    <span class="pl-s"><span class="pl-pds">&quot;</span>In the city council&#39;s parking MDP, states are nonnegative integers indicating how many parking spaces are occupied, actions are nonnegative integers designating the price of street parking, the reward is a real value describing the city&#39;s preference for the situation, and time is discretized by hour. As might be expected, charging a high price is likely to decrease occupancy over the hour, while charging a low price is likely to increase it.<span class="pl-cce">\n</span><span class="pl-pds">&quot;</span></span>,</td>
      </tr>
      <tr>
        <td id="L125" class="blob-num js-line-number" data-line-number="125"></td>
        <td id="LC125" class="blob-code blob-code-inner js-file-line">    <span class="pl-s"><span class="pl-pds">&quot;</span><span class="pl-cce">\n</span><span class="pl-pds">&quot;</span></span>,</td>
      </tr>
      <tr>
        <td id="L126" class="blob-num js-line-number" data-line-number="126"></td>
        <td id="LC126" class="blob-code blob-code-inner js-file-line">    <span class="pl-s"><span class="pl-pds">&quot;</span>For now, let&#39;s consider an environment with three parking spaces and three price points. Note that an environment with three parking spaces actually has four states &amp;mdash; zero, one, two, or three spaces could be occupied.<span class="pl-pds">&quot;</span></span></td>
      </tr>
      <tr>
        <td id="L127" class="blob-num js-line-number" data-line-number="127"></td>
        <td id="LC127" class="blob-code blob-code-inner js-file-line">   ]</td>
      </tr>
      <tr>
        <td id="L128" class="blob-num js-line-number" data-line-number="128"></td>
        <td id="LC128" class="blob-code blob-code-inner js-file-line">  },</td>
      </tr>
      <tr>
        <td id="L129" class="blob-num js-line-number" data-line-number="129"></td>
        <td id="LC129" class="blob-code blob-code-inner js-file-line">  {</td>
      </tr>
      <tr>
        <td id="L130" class="blob-num js-line-number" data-line-number="130"></td>
        <td id="LC130" class="blob-code blob-code-inner js-file-line">   <span class="pl-s"><span class="pl-pds">&quot;</span>cell_type<span class="pl-pds">&quot;</span></span>: <span class="pl-s"><span class="pl-pds">&quot;</span>code<span class="pl-pds">&quot;</span></span>,</td>
      </tr>
      <tr>
        <td id="L131" class="blob-num js-line-number" data-line-number="131"></td>
        <td id="LC131" class="blob-code blob-code-inner js-file-line">   <span class="pl-s"><span class="pl-pds">&quot;</span>execution_count<span class="pl-pds">&quot;</span></span>: <span class="pl-c1">2</span>,</td>
      </tr>
      <tr>
        <td id="L132" class="blob-num js-line-number" data-line-number="132"></td>
        <td id="LC132" class="blob-code blob-code-inner js-file-line">   <span class="pl-s"><span class="pl-pds">&quot;</span>metadata<span class="pl-pds">&quot;</span></span>: {</td>
      </tr>
      <tr>
        <td id="L133" class="blob-num js-line-number" data-line-number="133"></td>
        <td id="LC133" class="blob-code blob-code-inner js-file-line">    <span class="pl-s"><span class="pl-pds">&quot;</span>deletable<span class="pl-pds">&quot;</span></span>: <span class="pl-c1">false</span>,</td>
      </tr>
      <tr>
        <td id="L134" class="blob-num js-line-number" data-line-number="134"></td>
        <td id="LC134" class="blob-code blob-code-inner js-file-line">    <span class="pl-s"><span class="pl-pds">&quot;</span>editable<span class="pl-pds">&quot;</span></span>: <span class="pl-c1">false</span>,</td>
      </tr>
      <tr>
        <td id="L135" class="blob-num js-line-number" data-line-number="135"></td>
        <td id="LC135" class="blob-code blob-code-inner js-file-line">    <span class="pl-s"><span class="pl-pds">&quot;</span>nbgrader<span class="pl-pds">&quot;</span></span>: {</td>
      </tr>
      <tr>
        <td id="L136" class="blob-num js-line-number" data-line-number="136"></td>
        <td id="LC136" class="blob-code blob-code-inner js-file-line">     <span class="pl-s"><span class="pl-pds">&quot;</span>cell_type<span class="pl-pds">&quot;</span></span>: <span class="pl-s"><span class="pl-pds">&quot;</span>code<span class="pl-pds">&quot;</span></span>,</td>
      </tr>
      <tr>
        <td id="L137" class="blob-num js-line-number" data-line-number="137"></td>
        <td id="LC137" class="blob-code blob-code-inner js-file-line">     <span class="pl-s"><span class="pl-pds">&quot;</span>checksum<span class="pl-pds">&quot;</span></span>: <span class="pl-s"><span class="pl-pds">&quot;</span>4f51ef4bc98021f90e701f76ed48f676<span class="pl-pds">&quot;</span></span>,</td>
      </tr>
      <tr>
        <td id="L138" class="blob-num js-line-number" data-line-number="138"></td>
        <td id="LC138" class="blob-code blob-code-inner js-file-line">     <span class="pl-s"><span class="pl-pds">&quot;</span>grade<span class="pl-pds">&quot;</span></span>: <span class="pl-c1">false</span>,</td>
      </tr>
      <tr>
        <td id="L139" class="blob-num js-line-number" data-line-number="139"></td>
        <td id="LC139" class="blob-code blob-code-inner js-file-line">     <span class="pl-s"><span class="pl-pds">&quot;</span>grade_id<span class="pl-pds">&quot;</span></span>: <span class="pl-s"><span class="pl-pds">&quot;</span>cell-d25d06a8bafc4c26<span class="pl-pds">&quot;</span></span>,</td>
      </tr>
      <tr>
        <td id="L140" class="blob-num js-line-number" data-line-number="140"></td>
        <td id="LC140" class="blob-code blob-code-inner js-file-line">     <span class="pl-s"><span class="pl-pds">&quot;</span>locked<span class="pl-pds">&quot;</span></span>: <span class="pl-c1">true</span>,</td>
      </tr>
      <tr>
        <td id="L141" class="blob-num js-line-number" data-line-number="141"></td>
        <td id="LC141" class="blob-code blob-code-inner js-file-line">     <span class="pl-s"><span class="pl-pds">&quot;</span>schema_version<span class="pl-pds">&quot;</span></span>: <span class="pl-c1">3</span>,</td>
      </tr>
      <tr>
        <td id="L142" class="blob-num js-line-number" data-line-number="142"></td>
        <td id="LC142" class="blob-code blob-code-inner js-file-line">     <span class="pl-s"><span class="pl-pds">&quot;</span>solution<span class="pl-pds">&quot;</span></span>: <span class="pl-c1">false</span></td>
      </tr>
      <tr>
        <td id="L143" class="blob-num js-line-number" data-line-number="143"></td>
        <td id="LC143" class="blob-code blob-code-inner js-file-line">    }</td>
      </tr>
      <tr>
        <td id="L144" class="blob-num js-line-number" data-line-number="144"></td>
        <td id="LC144" class="blob-code blob-code-inner js-file-line">   },</td>
      </tr>
      <tr>
        <td id="L145" class="blob-num js-line-number" data-line-number="145"></td>
        <td id="LC145" class="blob-code blob-code-inner js-file-line">   <span class="pl-s"><span class="pl-pds">&quot;</span>outputs<span class="pl-pds">&quot;</span></span>: [],</td>
      </tr>
      <tr>
        <td id="L146" class="blob-num js-line-number" data-line-number="146"></td>
        <td id="LC146" class="blob-code blob-code-inner js-file-line">   <span class="pl-s"><span class="pl-pds">&quot;</span>source<span class="pl-pds">&quot;</span></span>: [</td>
      </tr>
      <tr>
        <td id="L147" class="blob-num js-line-number" data-line-number="147"></td>
        <td id="LC147" class="blob-code blob-code-inner js-file-line">    <span class="pl-s"><span class="pl-pds">&quot;</span># ---------------<span class="pl-cce">\n</span><span class="pl-pds">&quot;</span></span>,</td>
      </tr>
      <tr>
        <td id="L148" class="blob-num js-line-number" data-line-number="148"></td>
        <td id="LC148" class="blob-code blob-code-inner js-file-line">    <span class="pl-s"><span class="pl-pds">&quot;</span># Discussion Cell<span class="pl-cce">\n</span><span class="pl-pds">&quot;</span></span>,</td>
      </tr>
      <tr>
        <td id="L149" class="blob-num js-line-number" data-line-number="149"></td>
        <td id="LC149" class="blob-code blob-code-inner js-file-line">    <span class="pl-s"><span class="pl-pds">&quot;</span># ---------------<span class="pl-cce">\n</span><span class="pl-pds">&quot;</span></span>,</td>
      </tr>
      <tr>
        <td id="L150" class="blob-num js-line-number" data-line-number="150"></td>
        <td id="LC150" class="blob-code blob-code-inner js-file-line">    <span class="pl-s"><span class="pl-pds">&quot;</span>num_spaces = 3<span class="pl-cce">\n</span><span class="pl-pds">&quot;</span></span>,</td>
      </tr>
      <tr>
        <td id="L151" class="blob-num js-line-number" data-line-number="151"></td>
        <td id="LC151" class="blob-code blob-code-inner js-file-line">    <span class="pl-s"><span class="pl-pds">&quot;</span>num_prices = 3<span class="pl-cce">\n</span><span class="pl-pds">&quot;</span></span>,</td>
      </tr>
      <tr>
        <td id="L152" class="blob-num js-line-number" data-line-number="152"></td>
        <td id="LC152" class="blob-code blob-code-inner js-file-line">    <span class="pl-s"><span class="pl-pds">&quot;</span>env = tools.ParkingWorld(num_spaces, num_prices)<span class="pl-cce">\n</span><span class="pl-pds">&quot;</span></span>,</td>
      </tr>
      <tr>
        <td id="L153" class="blob-num js-line-number" data-line-number="153"></td>
        <td id="LC153" class="blob-code blob-code-inner js-file-line">    <span class="pl-s"><span class="pl-pds">&quot;</span>V = np.zeros(num_spaces + 1)<span class="pl-cce">\n</span><span class="pl-pds">&quot;</span></span>,</td>
      </tr>
      <tr>
        <td id="L154" class="blob-num js-line-number" data-line-number="154"></td>
        <td id="LC154" class="blob-code blob-code-inner js-file-line">    <span class="pl-s"><span class="pl-pds">&quot;</span>pi = np.ones((num_spaces + 1, num_prices)) / num_prices<span class="pl-pds">&quot;</span></span></td>
      </tr>
      <tr>
        <td id="L155" class="blob-num js-line-number" data-line-number="155"></td>
        <td id="LC155" class="blob-code blob-code-inner js-file-line">   ]</td>
      </tr>
      <tr>
        <td id="L156" class="blob-num js-line-number" data-line-number="156"></td>
        <td id="LC156" class="blob-code blob-code-inner js-file-line">  },</td>
      </tr>
      <tr>
        <td id="L157" class="blob-num js-line-number" data-line-number="157"></td>
        <td id="LC157" class="blob-code blob-code-inner js-file-line">  {</td>
      </tr>
      <tr>
        <td id="L158" class="blob-num js-line-number" data-line-number="158"></td>
        <td id="LC158" class="blob-code blob-code-inner js-file-line">   <span class="pl-s"><span class="pl-pds">&quot;</span>cell_type<span class="pl-pds">&quot;</span></span>: <span class="pl-s"><span class="pl-pds">&quot;</span>markdown<span class="pl-pds">&quot;</span></span>,</td>
      </tr>
      <tr>
        <td id="L159" class="blob-num js-line-number" data-line-number="159"></td>
        <td id="LC159" class="blob-code blob-code-inner js-file-line">   <span class="pl-s"><span class="pl-pds">&quot;</span>metadata<span class="pl-pds">&quot;</span></span>: {</td>
      </tr>
      <tr>
        <td id="L160" class="blob-num js-line-number" data-line-number="160"></td>
        <td id="LC160" class="blob-code blob-code-inner js-file-line">    <span class="pl-s"><span class="pl-pds">&quot;</span>deletable<span class="pl-pds">&quot;</span></span>: <span class="pl-c1">false</span>,</td>
      </tr>
      <tr>
        <td id="L161" class="blob-num js-line-number" data-line-number="161"></td>
        <td id="LC161" class="blob-code blob-code-inner js-file-line">    <span class="pl-s"><span class="pl-pds">&quot;</span>editable<span class="pl-pds">&quot;</span></span>: <span class="pl-c1">false</span>,</td>
      </tr>
      <tr>
        <td id="L162" class="blob-num js-line-number" data-line-number="162"></td>
        <td id="LC162" class="blob-code blob-code-inner js-file-line">    <span class="pl-s"><span class="pl-pds">&quot;</span>nbgrader<span class="pl-pds">&quot;</span></span>: {</td>
      </tr>
      <tr>
        <td id="L163" class="blob-num js-line-number" data-line-number="163"></td>
        <td id="LC163" class="blob-code blob-code-inner js-file-line">     <span class="pl-s"><span class="pl-pds">&quot;</span>cell_type<span class="pl-pds">&quot;</span></span>: <span class="pl-s"><span class="pl-pds">&quot;</span>markdown<span class="pl-pds">&quot;</span></span>,</td>
      </tr>
      <tr>
        <td id="L164" class="blob-num js-line-number" data-line-number="164"></td>
        <td id="LC164" class="blob-code blob-code-inner js-file-line">     <span class="pl-s"><span class="pl-pds">&quot;</span>checksum<span class="pl-pds">&quot;</span></span>: <span class="pl-s"><span class="pl-pds">&quot;</span>0813b0f481e1f2f90e12f38456781410<span class="pl-pds">&quot;</span></span>,</td>
      </tr>
      <tr>
        <td id="L165" class="blob-num js-line-number" data-line-number="165"></td>
        <td id="LC165" class="blob-code blob-code-inner js-file-line">     <span class="pl-s"><span class="pl-pds">&quot;</span>grade<span class="pl-pds">&quot;</span></span>: <span class="pl-c1">false</span>,</td>
      </tr>
      <tr>
        <td id="L166" class="blob-num js-line-number" data-line-number="166"></td>
        <td id="LC166" class="blob-code blob-code-inner js-file-line">     <span class="pl-s"><span class="pl-pds">&quot;</span>grade_id<span class="pl-pds">&quot;</span></span>: <span class="pl-s"><span class="pl-pds">&quot;</span>cell-57212e031233c500<span class="pl-pds">&quot;</span></span>,</td>
      </tr>
      <tr>
        <td id="L167" class="blob-num js-line-number" data-line-number="167"></td>
        <td id="LC167" class="blob-code blob-code-inner js-file-line">     <span class="pl-s"><span class="pl-pds">&quot;</span>locked<span class="pl-pds">&quot;</span></span>: <span class="pl-c1">true</span>,</td>
      </tr>
      <tr>
        <td id="L168" class="blob-num js-line-number" data-line-number="168"></td>
        <td id="LC168" class="blob-code blob-code-inner js-file-line">     <span class="pl-s"><span class="pl-pds">&quot;</span>schema_version<span class="pl-pds">&quot;</span></span>: <span class="pl-c1">3</span>,</td>
      </tr>
      <tr>
        <td id="L169" class="blob-num js-line-number" data-line-number="169"></td>
        <td id="LC169" class="blob-code blob-code-inner js-file-line">     <span class="pl-s"><span class="pl-pds">&quot;</span>solution<span class="pl-pds">&quot;</span></span>: <span class="pl-c1">false</span></td>
      </tr>
      <tr>
        <td id="L170" class="blob-num js-line-number" data-line-number="170"></td>
        <td id="LC170" class="blob-code blob-code-inner js-file-line">    }</td>
      </tr>
      <tr>
        <td id="L171" class="blob-num js-line-number" data-line-number="171"></td>
        <td id="LC171" class="blob-code blob-code-inner js-file-line">   },</td>
      </tr>
      <tr>
        <td id="L172" class="blob-num js-line-number" data-line-number="172"></td>
        <td id="LC172" class="blob-code blob-code-inner js-file-line">   <span class="pl-s"><span class="pl-pds">&quot;</span>source<span class="pl-pds">&quot;</span></span>: [</td>
      </tr>
      <tr>
        <td id="L173" class="blob-num js-line-number" data-line-number="173"></td>
        <td id="LC173" class="blob-code blob-code-inner js-file-line">    <span class="pl-s"><span class="pl-pds">&quot;</span>The value function is a one-dimensional array where the $i$-th entry gives the value of $i$ spaces being occupied.<span class="pl-pds">&quot;</span></span></td>
      </tr>
      <tr>
        <td id="L174" class="blob-num js-line-number" data-line-number="174"></td>
        <td id="LC174" class="blob-code blob-code-inner js-file-line">   ]</td>
      </tr>
      <tr>
        <td id="L175" class="blob-num js-line-number" data-line-number="175"></td>
        <td id="LC175" class="blob-code blob-code-inner js-file-line">  },</td>
      </tr>
      <tr>
        <td id="L176" class="blob-num js-line-number" data-line-number="176"></td>
        <td id="LC176" class="blob-code blob-code-inner js-file-line">  {</td>
      </tr>
      <tr>
        <td id="L177" class="blob-num js-line-number" data-line-number="177"></td>
        <td id="LC177" class="blob-code blob-code-inner js-file-line">   <span class="pl-s"><span class="pl-pds">&quot;</span>cell_type<span class="pl-pds">&quot;</span></span>: <span class="pl-s"><span class="pl-pds">&quot;</span>code<span class="pl-pds">&quot;</span></span>,</td>
      </tr>
      <tr>
        <td id="L178" class="blob-num js-line-number" data-line-number="178"></td>
        <td id="LC178" class="blob-code blob-code-inner js-file-line">   <span class="pl-s"><span class="pl-pds">&quot;</span>execution_count<span class="pl-pds">&quot;</span></span>: <span class="pl-c1">3</span>,</td>
      </tr>
      <tr>
        <td id="L179" class="blob-num js-line-number" data-line-number="179"></td>
        <td id="LC179" class="blob-code blob-code-inner js-file-line">   <span class="pl-s"><span class="pl-pds">&quot;</span>metadata<span class="pl-pds">&quot;</span></span>: {</td>
      </tr>
      <tr>
        <td id="L180" class="blob-num js-line-number" data-line-number="180"></td>
        <td id="LC180" class="blob-code blob-code-inner js-file-line">    <span class="pl-s"><span class="pl-pds">&quot;</span>deletable<span class="pl-pds">&quot;</span></span>: <span class="pl-c1">false</span>,</td>
      </tr>
      <tr>
        <td id="L181" class="blob-num js-line-number" data-line-number="181"></td>
        <td id="LC181" class="blob-code blob-code-inner js-file-line">    <span class="pl-s"><span class="pl-pds">&quot;</span>editable<span class="pl-pds">&quot;</span></span>: <span class="pl-c1">false</span>,</td>
      </tr>
      <tr>
        <td id="L182" class="blob-num js-line-number" data-line-number="182"></td>
        <td id="LC182" class="blob-code blob-code-inner js-file-line">    <span class="pl-s"><span class="pl-pds">&quot;</span>nbgrader<span class="pl-pds">&quot;</span></span>: {</td>
      </tr>
      <tr>
        <td id="L183" class="blob-num js-line-number" data-line-number="183"></td>
        <td id="LC183" class="blob-code blob-code-inner js-file-line">     <span class="pl-s"><span class="pl-pds">&quot;</span>cell_type<span class="pl-pds">&quot;</span></span>: <span class="pl-s"><span class="pl-pds">&quot;</span>code<span class="pl-pds">&quot;</span></span>,</td>
      </tr>
      <tr>
        <td id="L184" class="blob-num js-line-number" data-line-number="184"></td>
        <td id="LC184" class="blob-code blob-code-inner js-file-line">     <span class="pl-s"><span class="pl-pds">&quot;</span>checksum<span class="pl-pds">&quot;</span></span>: <span class="pl-s"><span class="pl-pds">&quot;</span>6e59c4a32939d9211dfc0f8fdd939780<span class="pl-pds">&quot;</span></span>,</td>
      </tr>
      <tr>
        <td id="L185" class="blob-num js-line-number" data-line-number="185"></td>
        <td id="LC185" class="blob-code blob-code-inner js-file-line">     <span class="pl-s"><span class="pl-pds">&quot;</span>grade<span class="pl-pds">&quot;</span></span>: <span class="pl-c1">false</span>,</td>
      </tr>
      <tr>
        <td id="L186" class="blob-num js-line-number" data-line-number="186"></td>
        <td id="LC186" class="blob-code blob-code-inner js-file-line">     <span class="pl-s"><span class="pl-pds">&quot;</span>grade_id<span class="pl-pds">&quot;</span></span>: <span class="pl-s"><span class="pl-pds">&quot;</span>cell-c5f693a5ff49a888<span class="pl-pds">&quot;</span></span>,</td>
      </tr>
      <tr>
        <td id="L187" class="blob-num js-line-number" data-line-number="187"></td>
        <td id="LC187" class="blob-code blob-code-inner js-file-line">     <span class="pl-s"><span class="pl-pds">&quot;</span>locked<span class="pl-pds">&quot;</span></span>: <span class="pl-c1">true</span>,</td>
      </tr>
      <tr>
        <td id="L188" class="blob-num js-line-number" data-line-number="188"></td>
        <td id="LC188" class="blob-code blob-code-inner js-file-line">     <span class="pl-s"><span class="pl-pds">&quot;</span>schema_version<span class="pl-pds">&quot;</span></span>: <span class="pl-c1">3</span>,</td>
      </tr>
      <tr>
        <td id="L189" class="blob-num js-line-number" data-line-number="189"></td>
        <td id="LC189" class="blob-code blob-code-inner js-file-line">     <span class="pl-s"><span class="pl-pds">&quot;</span>solution<span class="pl-pds">&quot;</span></span>: <span class="pl-c1">false</span></td>
      </tr>
      <tr>
        <td id="L190" class="blob-num js-line-number" data-line-number="190"></td>
        <td id="LC190" class="blob-code blob-code-inner js-file-line">    }</td>
      </tr>
      <tr>
        <td id="L191" class="blob-num js-line-number" data-line-number="191"></td>
        <td id="LC191" class="blob-code blob-code-inner js-file-line">   },</td>
      </tr>
      <tr>
        <td id="L192" class="blob-num js-line-number" data-line-number="192"></td>
        <td id="LC192" class="blob-code blob-code-inner js-file-line">   <span class="pl-s"><span class="pl-pds">&quot;</span>outputs<span class="pl-pds">&quot;</span></span>: [</td>
      </tr>
      <tr>
        <td id="L193" class="blob-num js-line-number" data-line-number="193"></td>
        <td id="LC193" class="blob-code blob-code-inner js-file-line">    {</td>
      </tr>
      <tr>
        <td id="L194" class="blob-num js-line-number" data-line-number="194"></td>
        <td id="LC194" class="blob-code blob-code-inner js-file-line">     <span class="pl-s"><span class="pl-pds">&quot;</span>data<span class="pl-pds">&quot;</span></span>: {</td>
      </tr>
      <tr>
        <td id="L195" class="blob-num js-line-number" data-line-number="195"></td>
        <td id="LC195" class="blob-code blob-code-inner js-file-line">      <span class="pl-s"><span class="pl-pds">&quot;</span>text/plain<span class="pl-pds">&quot;</span></span>: [</td>
      </tr>
      <tr>
        <td id="L196" class="blob-num js-line-number" data-line-number="196"></td>
        <td id="LC196" class="blob-code blob-code-inner js-file-line">       <span class="pl-s"><span class="pl-pds">&quot;</span>array([0., 0., 0., 0.])<span class="pl-pds">&quot;</span></span></td>
      </tr>
      <tr>
        <td id="L197" class="blob-num js-line-number" data-line-number="197"></td>
        <td id="LC197" class="blob-code blob-code-inner js-file-line">      ]</td>
      </tr>
      <tr>
        <td id="L198" class="blob-num js-line-number" data-line-number="198"></td>
        <td id="LC198" class="blob-code blob-code-inner js-file-line">     },</td>
      </tr>
      <tr>
        <td id="L199" class="blob-num js-line-number" data-line-number="199"></td>
        <td id="LC199" class="blob-code blob-code-inner js-file-line">     <span class="pl-s"><span class="pl-pds">&quot;</span>execution_count<span class="pl-pds">&quot;</span></span>: <span class="pl-c1">3</span>,</td>
      </tr>
      <tr>
        <td id="L200" class="blob-num js-line-number" data-line-number="200"></td>
        <td id="LC200" class="blob-code blob-code-inner js-file-line">     <span class="pl-s"><span class="pl-pds">&quot;</span>metadata<span class="pl-pds">&quot;</span></span>: {},</td>
      </tr>
      <tr>
        <td id="L201" class="blob-num js-line-number" data-line-number="201"></td>
        <td id="LC201" class="blob-code blob-code-inner js-file-line">     <span class="pl-s"><span class="pl-pds">&quot;</span>output_type<span class="pl-pds">&quot;</span></span>: <span class="pl-s"><span class="pl-pds">&quot;</span>execute_result<span class="pl-pds">&quot;</span></span></td>
      </tr>
      <tr>
        <td id="L202" class="blob-num js-line-number" data-line-number="202"></td>
        <td id="LC202" class="blob-code blob-code-inner js-file-line">    }</td>
      </tr>
      <tr>
        <td id="L203" class="blob-num js-line-number" data-line-number="203"></td>
        <td id="LC203" class="blob-code blob-code-inner js-file-line">   ],</td>
      </tr>
      <tr>
        <td id="L204" class="blob-num js-line-number" data-line-number="204"></td>
        <td id="LC204" class="blob-code blob-code-inner js-file-line">   <span class="pl-s"><span class="pl-pds">&quot;</span>source<span class="pl-pds">&quot;</span></span>: [</td>
      </tr>
      <tr>
        <td id="L205" class="blob-num js-line-number" data-line-number="205"></td>
        <td id="LC205" class="blob-code blob-code-inner js-file-line">    <span class="pl-s"><span class="pl-pds">&quot;</span>V<span class="pl-pds">&quot;</span></span></td>
      </tr>
      <tr>
        <td id="L206" class="blob-num js-line-number" data-line-number="206"></td>
        <td id="LC206" class="blob-code blob-code-inner js-file-line">   ]</td>
      </tr>
      <tr>
        <td id="L207" class="blob-num js-line-number" data-line-number="207"></td>
        <td id="LC207" class="blob-code blob-code-inner js-file-line">  },</td>
      </tr>
      <tr>
        <td id="L208" class="blob-num js-line-number" data-line-number="208"></td>
        <td id="LC208" class="blob-code blob-code-inner js-file-line">  {</td>
      </tr>
      <tr>
        <td id="L209" class="blob-num js-line-number" data-line-number="209"></td>
        <td id="LC209" class="blob-code blob-code-inner js-file-line">   <span class="pl-s"><span class="pl-pds">&quot;</span>cell_type<span class="pl-pds">&quot;</span></span>: <span class="pl-s"><span class="pl-pds">&quot;</span>markdown<span class="pl-pds">&quot;</span></span>,</td>
      </tr>
      <tr>
        <td id="L210" class="blob-num js-line-number" data-line-number="210"></td>
        <td id="LC210" class="blob-code blob-code-inner js-file-line">   <span class="pl-s"><span class="pl-pds">&quot;</span>metadata<span class="pl-pds">&quot;</span></span>: {</td>
      </tr>
      <tr>
        <td id="L211" class="blob-num js-line-number" data-line-number="211"></td>
        <td id="LC211" class="blob-code blob-code-inner js-file-line">    <span class="pl-s"><span class="pl-pds">&quot;</span>deletable<span class="pl-pds">&quot;</span></span>: <span class="pl-c1">false</span>,</td>
      </tr>
      <tr>
        <td id="L212" class="blob-num js-line-number" data-line-number="212"></td>
        <td id="LC212" class="blob-code blob-code-inner js-file-line">    <span class="pl-s"><span class="pl-pds">&quot;</span>editable<span class="pl-pds">&quot;</span></span>: <span class="pl-c1">false</span>,</td>
      </tr>
      <tr>
        <td id="L213" class="blob-num js-line-number" data-line-number="213"></td>
        <td id="LC213" class="blob-code blob-code-inner js-file-line">    <span class="pl-s"><span class="pl-pds">&quot;</span>nbgrader<span class="pl-pds">&quot;</span></span>: {</td>
      </tr>
      <tr>
        <td id="L214" class="blob-num js-line-number" data-line-number="214"></td>
        <td id="LC214" class="blob-code blob-code-inner js-file-line">     <span class="pl-s"><span class="pl-pds">&quot;</span>cell_type<span class="pl-pds">&quot;</span></span>: <span class="pl-s"><span class="pl-pds">&quot;</span>markdown<span class="pl-pds">&quot;</span></span>,</td>
      </tr>
      <tr>
        <td id="L215" class="blob-num js-line-number" data-line-number="215"></td>
        <td id="LC215" class="blob-code blob-code-inner js-file-line">     <span class="pl-s"><span class="pl-pds">&quot;</span>checksum<span class="pl-pds">&quot;</span></span>: <span class="pl-s"><span class="pl-pds">&quot;</span>eadfa7b22b07f8c457cf09a78eb23c8c<span class="pl-pds">&quot;</span></span>,</td>
      </tr>
      <tr>
        <td id="L216" class="blob-num js-line-number" data-line-number="216"></td>
        <td id="LC216" class="blob-code blob-code-inner js-file-line">     <span class="pl-s"><span class="pl-pds">&quot;</span>grade<span class="pl-pds">&quot;</span></span>: <span class="pl-c1">false</span>,</td>
      </tr>
      <tr>
        <td id="L217" class="blob-num js-line-number" data-line-number="217"></td>
        <td id="LC217" class="blob-code blob-code-inner js-file-line">     <span class="pl-s"><span class="pl-pds">&quot;</span>grade_id<span class="pl-pds">&quot;</span></span>: <span class="pl-s"><span class="pl-pds">&quot;</span>cell-57154206afc97770<span class="pl-pds">&quot;</span></span>,</td>
      </tr>
      <tr>
        <td id="L218" class="blob-num js-line-number" data-line-number="218"></td>
        <td id="LC218" class="blob-code blob-code-inner js-file-line">     <span class="pl-s"><span class="pl-pds">&quot;</span>locked<span class="pl-pds">&quot;</span></span>: <span class="pl-c1">true</span>,</td>
      </tr>
      <tr>
        <td id="L219" class="blob-num js-line-number" data-line-number="219"></td>
        <td id="LC219" class="blob-code blob-code-inner js-file-line">     <span class="pl-s"><span class="pl-pds">&quot;</span>schema_version<span class="pl-pds">&quot;</span></span>: <span class="pl-c1">3</span>,</td>
      </tr>
      <tr>
        <td id="L220" class="blob-num js-line-number" data-line-number="220"></td>
        <td id="LC220" class="blob-code blob-code-inner js-file-line">     <span class="pl-s"><span class="pl-pds">&quot;</span>solution<span class="pl-pds">&quot;</span></span>: <span class="pl-c1">false</span></td>
      </tr>
      <tr>
        <td id="L221" class="blob-num js-line-number" data-line-number="221"></td>
        <td id="LC221" class="blob-code blob-code-inner js-file-line">    }</td>
      </tr>
      <tr>
        <td id="L222" class="blob-num js-line-number" data-line-number="222"></td>
        <td id="LC222" class="blob-code blob-code-inner js-file-line">   },</td>
      </tr>
      <tr>
        <td id="L223" class="blob-num js-line-number" data-line-number="223"></td>
        <td id="LC223" class="blob-code blob-code-inner js-file-line">   <span class="pl-s"><span class="pl-pds">&quot;</span>source<span class="pl-pds">&quot;</span></span>: [</td>
      </tr>
      <tr>
        <td id="L224" class="blob-num js-line-number" data-line-number="224"></td>
        <td id="LC224" class="blob-code blob-code-inner js-file-line">    <span class="pl-s"><span class="pl-pds">&quot;</span>We can represent the policy as a two-dimensional array where the $(i, j)$-th entry gives the probability of taking action $j$ in state $i$.<span class="pl-pds">&quot;</span></span></td>
      </tr>
      <tr>
        <td id="L225" class="blob-num js-line-number" data-line-number="225"></td>
        <td id="LC225" class="blob-code blob-code-inner js-file-line">   ]</td>
      </tr>
      <tr>
        <td id="L226" class="blob-num js-line-number" data-line-number="226"></td>
        <td id="LC226" class="blob-code blob-code-inner js-file-line">  },</td>
      </tr>
      <tr>
        <td id="L227" class="blob-num js-line-number" data-line-number="227"></td>
        <td id="LC227" class="blob-code blob-code-inner js-file-line">  {</td>
      </tr>
      <tr>
        <td id="L228" class="blob-num js-line-number" data-line-number="228"></td>
        <td id="LC228" class="blob-code blob-code-inner js-file-line">   <span class="pl-s"><span class="pl-pds">&quot;</span>cell_type<span class="pl-pds">&quot;</span></span>: <span class="pl-s"><span class="pl-pds">&quot;</span>code<span class="pl-pds">&quot;</span></span>,</td>
      </tr>
      <tr>
        <td id="L229" class="blob-num js-line-number" data-line-number="229"></td>
        <td id="LC229" class="blob-code blob-code-inner js-file-line">   <span class="pl-s"><span class="pl-pds">&quot;</span>execution_count<span class="pl-pds">&quot;</span></span>: <span class="pl-c1">4</span>,</td>
      </tr>
      <tr>
        <td id="L230" class="blob-num js-line-number" data-line-number="230"></td>
        <td id="LC230" class="blob-code blob-code-inner js-file-line">   <span class="pl-s"><span class="pl-pds">&quot;</span>metadata<span class="pl-pds">&quot;</span></span>: {</td>
      </tr>
      <tr>
        <td id="L231" class="blob-num js-line-number" data-line-number="231"></td>
        <td id="LC231" class="blob-code blob-code-inner js-file-line">    <span class="pl-s"><span class="pl-pds">&quot;</span>deletable<span class="pl-pds">&quot;</span></span>: <span class="pl-c1">false</span>,</td>
      </tr>
      <tr>
        <td id="L232" class="blob-num js-line-number" data-line-number="232"></td>
        <td id="LC232" class="blob-code blob-code-inner js-file-line">    <span class="pl-s"><span class="pl-pds">&quot;</span>editable<span class="pl-pds">&quot;</span></span>: <span class="pl-c1">false</span>,</td>
      </tr>
      <tr>
        <td id="L233" class="blob-num js-line-number" data-line-number="233"></td>
        <td id="LC233" class="blob-code blob-code-inner js-file-line">    <span class="pl-s"><span class="pl-pds">&quot;</span>nbgrader<span class="pl-pds">&quot;</span></span>: {</td>
      </tr>
      <tr>
        <td id="L234" class="blob-num js-line-number" data-line-number="234"></td>
        <td id="LC234" class="blob-code blob-code-inner js-file-line">     <span class="pl-s"><span class="pl-pds">&quot;</span>cell_type<span class="pl-pds">&quot;</span></span>: <span class="pl-s"><span class="pl-pds">&quot;</span>code<span class="pl-pds">&quot;</span></span>,</td>
      </tr>
      <tr>
        <td id="L235" class="blob-num js-line-number" data-line-number="235"></td>
        <td id="LC235" class="blob-code blob-code-inner js-file-line">     <span class="pl-s"><span class="pl-pds">&quot;</span>checksum<span class="pl-pds">&quot;</span></span>: <span class="pl-s"><span class="pl-pds">&quot;</span>d732d93b6545408fa819526c2e52a0cf<span class="pl-pds">&quot;</span></span>,</td>
      </tr>
      <tr>
        <td id="L236" class="blob-num js-line-number" data-line-number="236"></td>
        <td id="LC236" class="blob-code blob-code-inner js-file-line">     <span class="pl-s"><span class="pl-pds">&quot;</span>grade<span class="pl-pds">&quot;</span></span>: <span class="pl-c1">false</span>,</td>
      </tr>
      <tr>
        <td id="L237" class="blob-num js-line-number" data-line-number="237"></td>
        <td id="LC237" class="blob-code blob-code-inner js-file-line">     <span class="pl-s"><span class="pl-pds">&quot;</span>grade_id<span class="pl-pds">&quot;</span></span>: <span class="pl-s"><span class="pl-pds">&quot;</span>cell-85c017bb1e6fe4df<span class="pl-pds">&quot;</span></span>,</td>
      </tr>
      <tr>
        <td id="L238" class="blob-num js-line-number" data-line-number="238"></td>
        <td id="LC238" class="blob-code blob-code-inner js-file-line">     <span class="pl-s"><span class="pl-pds">&quot;</span>locked<span class="pl-pds">&quot;</span></span>: <span class="pl-c1">true</span>,</td>
      </tr>
      <tr>
        <td id="L239" class="blob-num js-line-number" data-line-number="239"></td>
        <td id="LC239" class="blob-code blob-code-inner js-file-line">     <span class="pl-s"><span class="pl-pds">&quot;</span>schema_version<span class="pl-pds">&quot;</span></span>: <span class="pl-c1">3</span>,</td>
      </tr>
      <tr>
        <td id="L240" class="blob-num js-line-number" data-line-number="240"></td>
        <td id="LC240" class="blob-code blob-code-inner js-file-line">     <span class="pl-s"><span class="pl-pds">&quot;</span>solution<span class="pl-pds">&quot;</span></span>: <span class="pl-c1">false</span></td>
      </tr>
      <tr>
        <td id="L241" class="blob-num js-line-number" data-line-number="241"></td>
        <td id="LC241" class="blob-code blob-code-inner js-file-line">    }</td>
      </tr>
      <tr>
        <td id="L242" class="blob-num js-line-number" data-line-number="242"></td>
        <td id="LC242" class="blob-code blob-code-inner js-file-line">   },</td>
      </tr>
      <tr>
        <td id="L243" class="blob-num js-line-number" data-line-number="243"></td>
        <td id="LC243" class="blob-code blob-code-inner js-file-line">   <span class="pl-s"><span class="pl-pds">&quot;</span>outputs<span class="pl-pds">&quot;</span></span>: [</td>
      </tr>
      <tr>
        <td id="L244" class="blob-num js-line-number" data-line-number="244"></td>
        <td id="LC244" class="blob-code blob-code-inner js-file-line">    {</td>
      </tr>
      <tr>
        <td id="L245" class="blob-num js-line-number" data-line-number="245"></td>
        <td id="LC245" class="blob-code blob-code-inner js-file-line">     <span class="pl-s"><span class="pl-pds">&quot;</span>data<span class="pl-pds">&quot;</span></span>: {</td>
      </tr>
      <tr>
        <td id="L246" class="blob-num js-line-number" data-line-number="246"></td>
        <td id="LC246" class="blob-code blob-code-inner js-file-line">      <span class="pl-s"><span class="pl-pds">&quot;</span>text/plain<span class="pl-pds">&quot;</span></span>: [</td>
      </tr>
      <tr>
        <td id="L247" class="blob-num js-line-number" data-line-number="247"></td>
        <td id="LC247" class="blob-code blob-code-inner js-file-line">       <span class="pl-s"><span class="pl-pds">&quot;</span>array([[0.33333333, 0.33333333, 0.33333333],<span class="pl-cce">\n</span><span class="pl-pds">&quot;</span></span>,</td>
      </tr>
      <tr>
        <td id="L248" class="blob-num js-line-number" data-line-number="248"></td>
        <td id="LC248" class="blob-code blob-code-inner js-file-line">       <span class="pl-s"><span class="pl-pds">&quot;</span>       [0.33333333, 0.33333333, 0.33333333],<span class="pl-cce">\n</span><span class="pl-pds">&quot;</span></span>,</td>
      </tr>
      <tr>
        <td id="L249" class="blob-num js-line-number" data-line-number="249"></td>
        <td id="LC249" class="blob-code blob-code-inner js-file-line">       <span class="pl-s"><span class="pl-pds">&quot;</span>       [0.33333333, 0.33333333, 0.33333333],<span class="pl-cce">\n</span><span class="pl-pds">&quot;</span></span>,</td>
      </tr>
      <tr>
        <td id="L250" class="blob-num js-line-number" data-line-number="250"></td>
        <td id="LC250" class="blob-code blob-code-inner js-file-line">       <span class="pl-s"><span class="pl-pds">&quot;</span>       [0.33333333, 0.33333333, 0.33333333]])<span class="pl-pds">&quot;</span></span></td>
      </tr>
      <tr>
        <td id="L251" class="blob-num js-line-number" data-line-number="251"></td>
        <td id="LC251" class="blob-code blob-code-inner js-file-line">      ]</td>
      </tr>
      <tr>
        <td id="L252" class="blob-num js-line-number" data-line-number="252"></td>
        <td id="LC252" class="blob-code blob-code-inner js-file-line">     },</td>
      </tr>
      <tr>
        <td id="L253" class="blob-num js-line-number" data-line-number="253"></td>
        <td id="LC253" class="blob-code blob-code-inner js-file-line">     <span class="pl-s"><span class="pl-pds">&quot;</span>execution_count<span class="pl-pds">&quot;</span></span>: <span class="pl-c1">4</span>,</td>
      </tr>
      <tr>
        <td id="L254" class="blob-num js-line-number" data-line-number="254"></td>
        <td id="LC254" class="blob-code blob-code-inner js-file-line">     <span class="pl-s"><span class="pl-pds">&quot;</span>metadata<span class="pl-pds">&quot;</span></span>: {},</td>
      </tr>
      <tr>
        <td id="L255" class="blob-num js-line-number" data-line-number="255"></td>
        <td id="LC255" class="blob-code blob-code-inner js-file-line">     <span class="pl-s"><span class="pl-pds">&quot;</span>output_type<span class="pl-pds">&quot;</span></span>: <span class="pl-s"><span class="pl-pds">&quot;</span>execute_result<span class="pl-pds">&quot;</span></span></td>
      </tr>
      <tr>
        <td id="L256" class="blob-num js-line-number" data-line-number="256"></td>
        <td id="LC256" class="blob-code blob-code-inner js-file-line">    }</td>
      </tr>
      <tr>
        <td id="L257" class="blob-num js-line-number" data-line-number="257"></td>
        <td id="LC257" class="blob-code blob-code-inner js-file-line">   ],</td>
      </tr>
      <tr>
        <td id="L258" class="blob-num js-line-number" data-line-number="258"></td>
        <td id="LC258" class="blob-code blob-code-inner js-file-line">   <span class="pl-s"><span class="pl-pds">&quot;</span>source<span class="pl-pds">&quot;</span></span>: [</td>
      </tr>
      <tr>
        <td id="L259" class="blob-num js-line-number" data-line-number="259"></td>
        <td id="LC259" class="blob-code blob-code-inner js-file-line">    <span class="pl-s"><span class="pl-pds">&quot;</span>pi<span class="pl-pds">&quot;</span></span></td>
      </tr>
      <tr>
        <td id="L260" class="blob-num js-line-number" data-line-number="260"></td>
        <td id="LC260" class="blob-code blob-code-inner js-file-line">   ]</td>
      </tr>
      <tr>
        <td id="L261" class="blob-num js-line-number" data-line-number="261"></td>
        <td id="LC261" class="blob-code blob-code-inner js-file-line">  },</td>
      </tr>
      <tr>
        <td id="L262" class="blob-num js-line-number" data-line-number="262"></td>
        <td id="LC262" class="blob-code blob-code-inner js-file-line">  {</td>
      </tr>
      <tr>
        <td id="L263" class="blob-num js-line-number" data-line-number="263"></td>
        <td id="LC263" class="blob-code blob-code-inner js-file-line">   <span class="pl-s"><span class="pl-pds">&quot;</span>cell_type<span class="pl-pds">&quot;</span></span>: <span class="pl-s"><span class="pl-pds">&quot;</span>code<span class="pl-pds">&quot;</span></span>,</td>
      </tr>
      <tr>
        <td id="L264" class="blob-num js-line-number" data-line-number="264"></td>
        <td id="LC264" class="blob-code blob-code-inner js-file-line">   <span class="pl-s"><span class="pl-pds">&quot;</span>execution_count<span class="pl-pds">&quot;</span></span>: <span class="pl-c1">5</span>,</td>
      </tr>
      <tr>
        <td id="L265" class="blob-num js-line-number" data-line-number="265"></td>
        <td id="LC265" class="blob-code blob-code-inner js-file-line">   <span class="pl-s"><span class="pl-pds">&quot;</span>metadata<span class="pl-pds">&quot;</span></span>: {</td>
      </tr>
      <tr>
        <td id="L266" class="blob-num js-line-number" data-line-number="266"></td>
        <td id="LC266" class="blob-code blob-code-inner js-file-line">    <span class="pl-s"><span class="pl-pds">&quot;</span>deletable<span class="pl-pds">&quot;</span></span>: <span class="pl-c1">false</span>,</td>
      </tr>
      <tr>
        <td id="L267" class="blob-num js-line-number" data-line-number="267"></td>
        <td id="LC267" class="blob-code blob-code-inner js-file-line">    <span class="pl-s"><span class="pl-pds">&quot;</span>editable<span class="pl-pds">&quot;</span></span>: <span class="pl-c1">false</span>,</td>
      </tr>
      <tr>
        <td id="L268" class="blob-num js-line-number" data-line-number="268"></td>
        <td id="LC268" class="blob-code blob-code-inner js-file-line">    <span class="pl-s"><span class="pl-pds">&quot;</span>nbgrader<span class="pl-pds">&quot;</span></span>: {</td>
      </tr>
      <tr>
        <td id="L269" class="blob-num js-line-number" data-line-number="269"></td>
        <td id="LC269" class="blob-code blob-code-inner js-file-line">     <span class="pl-s"><span class="pl-pds">&quot;</span>cell_type<span class="pl-pds">&quot;</span></span>: <span class="pl-s"><span class="pl-pds">&quot;</span>code<span class="pl-pds">&quot;</span></span>,</td>
      </tr>
      <tr>
        <td id="L270" class="blob-num js-line-number" data-line-number="270"></td>
        <td id="LC270" class="blob-code blob-code-inner js-file-line">     <span class="pl-s"><span class="pl-pds">&quot;</span>checksum<span class="pl-pds">&quot;</span></span>: <span class="pl-s"><span class="pl-pds">&quot;</span>96d9ee84404cf38466f1c8c93b4aca9a<span class="pl-pds">&quot;</span></span>,</td>
      </tr>
      <tr>
        <td id="L271" class="blob-num js-line-number" data-line-number="271"></td>
        <td id="LC271" class="blob-code blob-code-inner js-file-line">     <span class="pl-s"><span class="pl-pds">&quot;</span>grade<span class="pl-pds">&quot;</span></span>: <span class="pl-c1">false</span>,</td>
      </tr>
      <tr>
        <td id="L272" class="blob-num js-line-number" data-line-number="272"></td>
        <td id="LC272" class="blob-code blob-code-inner js-file-line">     <span class="pl-s"><span class="pl-pds">&quot;</span>grade_id<span class="pl-pds">&quot;</span></span>: <span class="pl-s"><span class="pl-pds">&quot;</span>cell-d7d514ba81bc686c<span class="pl-pds">&quot;</span></span>,</td>
      </tr>
      <tr>
        <td id="L273" class="blob-num js-line-number" data-line-number="273"></td>
        <td id="LC273" class="blob-code blob-code-inner js-file-line">     <span class="pl-s"><span class="pl-pds">&quot;</span>locked<span class="pl-pds">&quot;</span></span>: <span class="pl-c1">true</span>,</td>
      </tr>
      <tr>
        <td id="L274" class="blob-num js-line-number" data-line-number="274"></td>
        <td id="LC274" class="blob-code blob-code-inner js-file-line">     <span class="pl-s"><span class="pl-pds">&quot;</span>schema_version<span class="pl-pds">&quot;</span></span>: <span class="pl-c1">3</span>,</td>
      </tr>
      <tr>
        <td id="L275" class="blob-num js-line-number" data-line-number="275"></td>
        <td id="LC275" class="blob-code blob-code-inner js-file-line">     <span class="pl-s"><span class="pl-pds">&quot;</span>solution<span class="pl-pds">&quot;</span></span>: <span class="pl-c1">false</span></td>
      </tr>
      <tr>
        <td id="L276" class="blob-num js-line-number" data-line-number="276"></td>
        <td id="LC276" class="blob-code blob-code-inner js-file-line">    }</td>
      </tr>
      <tr>
        <td id="L277" class="blob-num js-line-number" data-line-number="277"></td>
        <td id="LC277" class="blob-code blob-code-inner js-file-line">   },</td>
      </tr>
      <tr>
        <td id="L278" class="blob-num js-line-number" data-line-number="278"></td>
        <td id="LC278" class="blob-code blob-code-inner js-file-line">   <span class="pl-s"><span class="pl-pds">&quot;</span>outputs<span class="pl-pds">&quot;</span></span>: [</td>
      </tr>
      <tr>
        <td id="L279" class="blob-num js-line-number" data-line-number="279"></td>
        <td id="LC279" class="blob-code blob-code-inner js-file-line">    {</td>
      </tr>
      <tr>
        <td id="L280" class="blob-num js-line-number" data-line-number="280"></td>
        <td id="LC280" class="blob-code blob-code-inner js-file-line">     <span class="pl-s"><span class="pl-pds">&quot;</span>name<span class="pl-pds">&quot;</span></span>: <span class="pl-s"><span class="pl-pds">&quot;</span>stdout<span class="pl-pds">&quot;</span></span>,</td>
      </tr>
      <tr>
        <td id="L281" class="blob-num js-line-number" data-line-number="281"></td>
        <td id="LC281" class="blob-code blob-code-inner js-file-line">     <span class="pl-s"><span class="pl-pds">&quot;</span>output_type<span class="pl-pds">&quot;</span></span>: <span class="pl-s"><span class="pl-pds">&quot;</span>stream<span class="pl-pds">&quot;</span></span>,</td>
      </tr>
      <tr>
        <td id="L282" class="blob-num js-line-number" data-line-number="282"></td>
        <td id="LC282" class="blob-code blob-code-inner js-file-line">     <span class="pl-s"><span class="pl-pds">&quot;</span>text<span class="pl-pds">&quot;</span></span>: [</td>
      </tr>
      <tr>
        <td id="L283" class="blob-num js-line-number" data-line-number="283"></td>
        <td id="LC283" class="blob-code blob-code-inner js-file-line">      <span class="pl-s"><span class="pl-pds">&quot;</span>pi(A=0|S=0) = 0.75    pi(A=1|S=0) = 0.11    pi(A=2|S=0) = 0.14    <span class="pl-cce">\n</span><span class="pl-pds">&quot;</span></span>,</td>
      </tr>
      <tr>
        <td id="L284" class="blob-num js-line-number" data-line-number="284"></td>
        <td id="LC284" class="blob-code blob-code-inner js-file-line">      <span class="pl-s"><span class="pl-pds">&quot;</span>pi(A=0|S=1) = 0.33    pi(A=1|S=1) = 0.33    pi(A=2|S=1) = 0.33    <span class="pl-cce">\n</span><span class="pl-pds">&quot;</span></span>,</td>
      </tr>
      <tr>
        <td id="L285" class="blob-num js-line-number" data-line-number="285"></td>
        <td id="LC285" class="blob-code blob-code-inner js-file-line">      <span class="pl-s"><span class="pl-pds">&quot;</span>pi(A=0|S=2) = 0.33    pi(A=1|S=2) = 0.33    pi(A=2|S=2) = 0.33    <span class="pl-cce">\n</span><span class="pl-pds">&quot;</span></span>,</td>
      </tr>
      <tr>
        <td id="L286" class="blob-num js-line-number" data-line-number="286"></td>
        <td id="LC286" class="blob-code blob-code-inner js-file-line">      <span class="pl-s"><span class="pl-pds">&quot;</span>pi(A=0|S=3) = 0.33    pi(A=1|S=3) = 0.33    pi(A=2|S=3) = 0.33    <span class="pl-cce">\n</span><span class="pl-pds">&quot;</span></span></td>
      </tr>
      <tr>
        <td id="L287" class="blob-num js-line-number" data-line-number="287"></td>
        <td id="LC287" class="blob-code blob-code-inner js-file-line">     ]</td>
      </tr>
      <tr>
        <td id="L288" class="blob-num js-line-number" data-line-number="288"></td>
        <td id="LC288" class="blob-code blob-code-inner js-file-line">    }</td>
      </tr>
      <tr>
        <td id="L289" class="blob-num js-line-number" data-line-number="289"></td>
        <td id="LC289" class="blob-code blob-code-inner js-file-line">   ],</td>
      </tr>
      <tr>
        <td id="L290" class="blob-num js-line-number" data-line-number="290"></td>
        <td id="LC290" class="blob-code blob-code-inner js-file-line">   <span class="pl-s"><span class="pl-pds">&quot;</span>source<span class="pl-pds">&quot;</span></span>: [</td>
      </tr>
      <tr>
        <td id="L291" class="blob-num js-line-number" data-line-number="291"></td>
        <td id="LC291" class="blob-code blob-code-inner js-file-line">    <span class="pl-s"><span class="pl-pds">&quot;</span>pi[0] = [0.75, 0.11, 0.14]<span class="pl-cce">\n</span><span class="pl-pds">&quot;</span></span>,</td>
      </tr>
      <tr>
        <td id="L292" class="blob-num js-line-number" data-line-number="292"></td>
        <td id="LC292" class="blob-code blob-code-inner js-file-line">    <span class="pl-s"><span class="pl-pds">&quot;</span><span class="pl-cce">\n</span><span class="pl-pds">&quot;</span></span>,</td>
      </tr>
      <tr>
        <td id="L293" class="blob-num js-line-number" data-line-number="293"></td>
        <td id="LC293" class="blob-code blob-code-inner js-file-line">    <span class="pl-s"><span class="pl-pds">&quot;</span>for s, pi_s in enumerate(pi):<span class="pl-cce">\n</span><span class="pl-pds">&quot;</span></span>,</td>
      </tr>
      <tr>
        <td id="L294" class="blob-num js-line-number" data-line-number="294"></td>
        <td id="LC294" class="blob-code blob-code-inner js-file-line">    <span class="pl-s"><span class="pl-pds">&quot;</span>    for a, p in enumerate(pi_s):<span class="pl-cce">\n</span><span class="pl-pds">&quot;</span></span>,</td>
      </tr>
      <tr>
        <td id="L295" class="blob-num js-line-number" data-line-number="295"></td>
        <td id="LC295" class="blob-code blob-code-inner js-file-line">    <span class="pl-s"><span class="pl-pds">&quot;</span>        print(f&#39;pi(A={a}|S={s}) = {p.round(2)}    &#39;, end=&#39;&#39;)<span class="pl-cce">\n</span><span class="pl-pds">&quot;</span></span>,</td>
      </tr>
      <tr>
        <td id="L296" class="blob-num js-line-number" data-line-number="296"></td>
        <td id="LC296" class="blob-code blob-code-inner js-file-line">    <span class="pl-s"><span class="pl-pds">&quot;</span>    print()<span class="pl-pds">&quot;</span></span></td>
      </tr>
      <tr>
        <td id="L297" class="blob-num js-line-number" data-line-number="297"></td>
        <td id="LC297" class="blob-code blob-code-inner js-file-line">   ]</td>
      </tr>
      <tr>
        <td id="L298" class="blob-num js-line-number" data-line-number="298"></td>
        <td id="LC298" class="blob-code blob-code-inner js-file-line">  },</td>
      </tr>
      <tr>
        <td id="L299" class="blob-num js-line-number" data-line-number="299"></td>
        <td id="LC299" class="blob-code blob-code-inner js-file-line">  {</td>
      </tr>
      <tr>
        <td id="L300" class="blob-num js-line-number" data-line-number="300"></td>
        <td id="LC300" class="blob-code blob-code-inner js-file-line">   <span class="pl-s"><span class="pl-pds">&quot;</span>cell_type<span class="pl-pds">&quot;</span></span>: <span class="pl-s"><span class="pl-pds">&quot;</span>code<span class="pl-pds">&quot;</span></span>,</td>
      </tr>
      <tr>
        <td id="L301" class="blob-num js-line-number" data-line-number="301"></td>
        <td id="LC301" class="blob-code blob-code-inner js-file-line">   <span class="pl-s"><span class="pl-pds">&quot;</span>execution_count<span class="pl-pds">&quot;</span></span>: <span class="pl-c1">6</span>,</td>
      </tr>
      <tr>
        <td id="L302" class="blob-num js-line-number" data-line-number="302"></td>
        <td id="LC302" class="blob-code blob-code-inner js-file-line">   <span class="pl-s"><span class="pl-pds">&quot;</span>metadata<span class="pl-pds">&quot;</span></span>: {</td>
      </tr>
      <tr>
        <td id="L303" class="blob-num js-line-number" data-line-number="303"></td>
        <td id="LC303" class="blob-code blob-code-inner js-file-line">    <span class="pl-s"><span class="pl-pds">&quot;</span>deletable<span class="pl-pds">&quot;</span></span>: <span class="pl-c1">false</span>,</td>
      </tr>
      <tr>
        <td id="L304" class="blob-num js-line-number" data-line-number="304"></td>
        <td id="LC304" class="blob-code blob-code-inner js-file-line">    <span class="pl-s"><span class="pl-pds">&quot;</span>editable<span class="pl-pds">&quot;</span></span>: <span class="pl-c1">false</span>,</td>
      </tr>
      <tr>
        <td id="L305" class="blob-num js-line-number" data-line-number="305"></td>
        <td id="LC305" class="blob-code blob-code-inner js-file-line">    <span class="pl-s"><span class="pl-pds">&quot;</span>nbgrader<span class="pl-pds">&quot;</span></span>: {</td>
      </tr>
      <tr>
        <td id="L306" class="blob-num js-line-number" data-line-number="306"></td>
        <td id="LC306" class="blob-code blob-code-inner js-file-line">     <span class="pl-s"><span class="pl-pds">&quot;</span>cell_type<span class="pl-pds">&quot;</span></span>: <span class="pl-s"><span class="pl-pds">&quot;</span>code<span class="pl-pds">&quot;</span></span>,</td>
      </tr>
      <tr>
        <td id="L307" class="blob-num js-line-number" data-line-number="307"></td>
        <td id="LC307" class="blob-code blob-code-inner js-file-line">     <span class="pl-s"><span class="pl-pds">&quot;</span>checksum<span class="pl-pds">&quot;</span></span>: <span class="pl-s"><span class="pl-pds">&quot;</span>faf7aa91a9f54e17835b6e5c3e28b4bf<span class="pl-pds">&quot;</span></span>,</td>
      </tr>
      <tr>
        <td id="L308" class="blob-num js-line-number" data-line-number="308"></td>
        <td id="LC308" class="blob-code blob-code-inner js-file-line">     <span class="pl-s"><span class="pl-pds">&quot;</span>grade<span class="pl-pds">&quot;</span></span>: <span class="pl-c1">false</span>,</td>
      </tr>
      <tr>
        <td id="L309" class="blob-num js-line-number" data-line-number="309"></td>
        <td id="LC309" class="blob-code blob-code-inner js-file-line">     <span class="pl-s"><span class="pl-pds">&quot;</span>grade_id<span class="pl-pds">&quot;</span></span>: <span class="pl-s"><span class="pl-pds">&quot;</span>cell-46b46b0dc80c68c7<span class="pl-pds">&quot;</span></span>,</td>
      </tr>
      <tr>
        <td id="L310" class="blob-num js-line-number" data-line-number="310"></td>
        <td id="LC310" class="blob-code blob-code-inner js-file-line">     <span class="pl-s"><span class="pl-pds">&quot;</span>locked<span class="pl-pds">&quot;</span></span>: <span class="pl-c1">true</span>,</td>
      </tr>
      <tr>
        <td id="L311" class="blob-num js-line-number" data-line-number="311"></td>
        <td id="LC311" class="blob-code blob-code-inner js-file-line">     <span class="pl-s"><span class="pl-pds">&quot;</span>schema_version<span class="pl-pds">&quot;</span></span>: <span class="pl-c1">3</span>,</td>
      </tr>
      <tr>
        <td id="L312" class="blob-num js-line-number" data-line-number="312"></td>
        <td id="LC312" class="blob-code blob-code-inner js-file-line">     <span class="pl-s"><span class="pl-pds">&quot;</span>solution<span class="pl-pds">&quot;</span></span>: <span class="pl-c1">false</span></td>
      </tr>
      <tr>
        <td id="L313" class="blob-num js-line-number" data-line-number="313"></td>
        <td id="LC313" class="blob-code blob-code-inner js-file-line">    }</td>
      </tr>
      <tr>
        <td id="L314" class="blob-num js-line-number" data-line-number="314"></td>
        <td id="LC314" class="blob-code blob-code-inner js-file-line">   },</td>
      </tr>
      <tr>
        <td id="L315" class="blob-num js-line-number" data-line-number="315"></td>
        <td id="LC315" class="blob-code blob-code-inner js-file-line">   <span class="pl-s"><span class="pl-pds">&quot;</span>outputs<span class="pl-pds">&quot;</span></span>: [</td>
      </tr>
      <tr>
        <td id="L316" class="blob-num js-line-number" data-line-number="316"></td>
        <td id="LC316" class="blob-code blob-code-inner js-file-line">    {</td>
      </tr>
      <tr>
        <td id="L317" class="blob-num js-line-number" data-line-number="317"></td>
        <td id="LC317" class="blob-code blob-code-inner js-file-line">     <span class="pl-s"><span class="pl-pds">&quot;</span>data<span class="pl-pds">&quot;</span></span>: {</td>
      </tr>
      <tr>
        <td id="L318" class="blob-num js-line-number" data-line-number="318"></td>
        <td id="LC318" class="blob-code blob-code-inner js-file-line">      &quot;image/png&quot;: &quot;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\n&quot;,</td>
      </tr>
      <tr>
        <td id="L319" class="blob-num js-line-number" data-line-number="319"></td>
        <td id="LC319" class="blob-code blob-code-inner js-file-line">      <span class="pl-s"><span class="pl-pds">&quot;</span>text/plain<span class="pl-pds">&quot;</span></span>: [</td>
      </tr>
      <tr>
        <td id="L320" class="blob-num js-line-number" data-line-number="320"></td>
        <td id="LC320" class="blob-code blob-code-inner js-file-line">       <span class="pl-s"><span class="pl-pds">&quot;</span>&lt;Figure size 900x360 with 3 Axes&gt;<span class="pl-pds">&quot;</span></span></td>
      </tr>
      <tr>
        <td id="L321" class="blob-num js-line-number" data-line-number="321"></td>
        <td id="LC321" class="blob-code blob-code-inner js-file-line">      ]</td>
      </tr>
      <tr>
        <td id="L322" class="blob-num js-line-number" data-line-number="322"></td>
        <td id="LC322" class="blob-code blob-code-inner js-file-line">     },</td>
      </tr>
      <tr>
        <td id="L323" class="blob-num js-line-number" data-line-number="323"></td>
        <td id="LC323" class="blob-code blob-code-inner js-file-line">     <span class="pl-s"><span class="pl-pds">&quot;</span>metadata<span class="pl-pds">&quot;</span></span>: {},</td>
      </tr>
      <tr>
        <td id="L324" class="blob-num js-line-number" data-line-number="324"></td>
        <td id="LC324" class="blob-code blob-code-inner js-file-line">     <span class="pl-s"><span class="pl-pds">&quot;</span>output_type<span class="pl-pds">&quot;</span></span>: <span class="pl-s"><span class="pl-pds">&quot;</span>display_data<span class="pl-pds">&quot;</span></span></td>
      </tr>
      <tr>
        <td id="L325" class="blob-num js-line-number" data-line-number="325"></td>
        <td id="LC325" class="blob-code blob-code-inner js-file-line">    }</td>
      </tr>
      <tr>
        <td id="L326" class="blob-num js-line-number" data-line-number="326"></td>
        <td id="LC326" class="blob-code blob-code-inner js-file-line">   ],</td>
      </tr>
      <tr>
        <td id="L327" class="blob-num js-line-number" data-line-number="327"></td>
        <td id="LC327" class="blob-code blob-code-inner js-file-line">   <span class="pl-s"><span class="pl-pds">&quot;</span>source<span class="pl-pds">&quot;</span></span>: [</td>
      </tr>
      <tr>
        <td id="L328" class="blob-num js-line-number" data-line-number="328"></td>
        <td id="LC328" class="blob-code blob-code-inner js-file-line">    <span class="pl-s"><span class="pl-pds">&quot;</span>V[0] = 1<span class="pl-cce">\n</span><span class="pl-pds">&quot;</span></span>,</td>
      </tr>
      <tr>
        <td id="L329" class="blob-num js-line-number" data-line-number="329"></td>
        <td id="LC329" class="blob-code blob-code-inner js-file-line">    <span class="pl-s"><span class="pl-pds">&quot;</span><span class="pl-cce">\n</span><span class="pl-pds">&quot;</span></span>,</td>
      </tr>
      <tr>
        <td id="L330" class="blob-num js-line-number" data-line-number="330"></td>
        <td id="LC330" class="blob-code blob-code-inner js-file-line">    <span class="pl-s"><span class="pl-pds">&quot;</span>tools.plot(V, pi)<span class="pl-pds">&quot;</span></span></td>
      </tr>
      <tr>
        <td id="L331" class="blob-num js-line-number" data-line-number="331"></td>
        <td id="LC331" class="blob-code blob-code-inner js-file-line">   ]</td>
      </tr>
      <tr>
        <td id="L332" class="blob-num js-line-number" data-line-number="332"></td>
        <td id="LC332" class="blob-code blob-code-inner js-file-line">  },</td>
      </tr>
      <tr>
        <td id="L333" class="blob-num js-line-number" data-line-number="333"></td>
        <td id="LC333" class="blob-code blob-code-inner js-file-line">  {</td>
      </tr>
      <tr>
        <td id="L334" class="blob-num js-line-number" data-line-number="334"></td>
        <td id="LC334" class="blob-code blob-code-inner js-file-line">   <span class="pl-s"><span class="pl-pds">&quot;</span>cell_type<span class="pl-pds">&quot;</span></span>: <span class="pl-s"><span class="pl-pds">&quot;</span>markdown<span class="pl-pds">&quot;</span></span>,</td>
      </tr>
      <tr>
        <td id="L335" class="blob-num js-line-number" data-line-number="335"></td>
        <td id="LC335" class="blob-code blob-code-inner js-file-line">   <span class="pl-s"><span class="pl-pds">&quot;</span>metadata<span class="pl-pds">&quot;</span></span>: {</td>
      </tr>
      <tr>
        <td id="L336" class="blob-num js-line-number" data-line-number="336"></td>
        <td id="LC336" class="blob-code blob-code-inner js-file-line">    <span class="pl-s"><span class="pl-pds">&quot;</span>deletable<span class="pl-pds">&quot;</span></span>: <span class="pl-c1">false</span>,</td>
      </tr>
      <tr>
        <td id="L337" class="blob-num js-line-number" data-line-number="337"></td>
        <td id="LC337" class="blob-code blob-code-inner js-file-line">    <span class="pl-s"><span class="pl-pds">&quot;</span>editable<span class="pl-pds">&quot;</span></span>: <span class="pl-c1">false</span>,</td>
      </tr>
      <tr>
        <td id="L338" class="blob-num js-line-number" data-line-number="338"></td>
        <td id="LC338" class="blob-code blob-code-inner js-file-line">    <span class="pl-s"><span class="pl-pds">&quot;</span>nbgrader<span class="pl-pds">&quot;</span></span>: {</td>
      </tr>
      <tr>
        <td id="L339" class="blob-num js-line-number" data-line-number="339"></td>
        <td id="LC339" class="blob-code blob-code-inner js-file-line">     <span class="pl-s"><span class="pl-pds">&quot;</span>cell_type<span class="pl-pds">&quot;</span></span>: <span class="pl-s"><span class="pl-pds">&quot;</span>markdown<span class="pl-pds">&quot;</span></span>,</td>
      </tr>
      <tr>
        <td id="L340" class="blob-num js-line-number" data-line-number="340"></td>
        <td id="LC340" class="blob-code blob-code-inner js-file-line">     <span class="pl-s"><span class="pl-pds">&quot;</span>checksum<span class="pl-pds">&quot;</span></span>: <span class="pl-s"><span class="pl-pds">&quot;</span>4f450ea0212f959d952e9b0272e57cf3<span class="pl-pds">&quot;</span></span>,</td>
      </tr>
      <tr>
        <td id="L341" class="blob-num js-line-number" data-line-number="341"></td>
        <td id="LC341" class="blob-code blob-code-inner js-file-line">     <span class="pl-s"><span class="pl-pds">&quot;</span>grade<span class="pl-pds">&quot;</span></span>: <span class="pl-c1">false</span>,</td>
      </tr>
      <tr>
        <td id="L342" class="blob-num js-line-number" data-line-number="342"></td>
        <td id="LC342" class="blob-code blob-code-inner js-file-line">     <span class="pl-s"><span class="pl-pds">&quot;</span>grade_id<span class="pl-pds">&quot;</span></span>: <span class="pl-s"><span class="pl-pds">&quot;</span>cell-ce3ac9318671059d<span class="pl-pds">&quot;</span></span>,</td>
      </tr>
      <tr>
        <td id="L343" class="blob-num js-line-number" data-line-number="343"></td>
        <td id="LC343" class="blob-code blob-code-inner js-file-line">     <span class="pl-s"><span class="pl-pds">&quot;</span>locked<span class="pl-pds">&quot;</span></span>: <span class="pl-c1">true</span>,</td>
      </tr>
      <tr>
        <td id="L344" class="blob-num js-line-number" data-line-number="344"></td>
        <td id="LC344" class="blob-code blob-code-inner js-file-line">     <span class="pl-s"><span class="pl-pds">&quot;</span>schema_version<span class="pl-pds">&quot;</span></span>: <span class="pl-c1">3</span>,</td>
      </tr>
      <tr>
        <td id="L345" class="blob-num js-line-number" data-line-number="345"></td>
        <td id="LC345" class="blob-code blob-code-inner js-file-line">     <span class="pl-s"><span class="pl-pds">&quot;</span>solution<span class="pl-pds">&quot;</span></span>: <span class="pl-c1">false</span></td>
      </tr>
      <tr>
        <td id="L346" class="blob-num js-line-number" data-line-number="346"></td>
        <td id="LC346" class="blob-code blob-code-inner js-file-line">    }</td>
      </tr>
      <tr>
        <td id="L347" class="blob-num js-line-number" data-line-number="347"></td>
        <td id="LC347" class="blob-code blob-code-inner js-file-line">   },</td>
      </tr>
      <tr>
        <td id="L348" class="blob-num js-line-number" data-line-number="348"></td>
        <td id="LC348" class="blob-code blob-code-inner js-file-line">   <span class="pl-s"><span class="pl-pds">&quot;</span>source<span class="pl-pds">&quot;</span></span>: [</td>
      </tr>
      <tr>
        <td id="L349" class="blob-num js-line-number" data-line-number="349"></td>
        <td id="LC349" class="blob-code blob-code-inner js-file-line">    <span class="pl-s"><span class="pl-pds">&quot;</span>We can visualize a value function and policy with the `plot` function in the `tools` module. On the left, the value function is displayed as a barplot. State zero has an expected return of ten, while the other states have an expected return of zero. On the right, the policy is displayed on a two-dimensional grid. Each vertical strip gives the policy at the labeled state. In state zero, action zero is the darkest because the agent&#39;s policy makes this choice with the highest probability. In the other states the agent has the equiprobable policy, so the vertical strips are colored uniformly.<span class="pl-pds">&quot;</span></span></td>
      </tr>
      <tr>
        <td id="L350" class="blob-num js-line-number" data-line-number="350"></td>
        <td id="LC350" class="blob-code blob-code-inner js-file-line">   ]</td>
      </tr>
      <tr>
        <td id="L351" class="blob-num js-line-number" data-line-number="351"></td>
        <td id="LC351" class="blob-code blob-code-inner js-file-line">  },</td>
      </tr>
      <tr>
        <td id="L352" class="blob-num js-line-number" data-line-number="352"></td>
        <td id="LC352" class="blob-code blob-code-inner js-file-line">  {</td>
      </tr>
      <tr>
        <td id="L353" class="blob-num js-line-number" data-line-number="353"></td>
        <td id="LC353" class="blob-code blob-code-inner js-file-line">   <span class="pl-s"><span class="pl-pds">&quot;</span>cell_type<span class="pl-pds">&quot;</span></span>: <span class="pl-s"><span class="pl-pds">&quot;</span>markdown<span class="pl-pds">&quot;</span></span>,</td>
      </tr>
      <tr>
        <td id="L354" class="blob-num js-line-number" data-line-number="354"></td>
        <td id="LC354" class="blob-code blob-code-inner js-file-line">   <span class="pl-s"><span class="pl-pds">&quot;</span>metadata<span class="pl-pds">&quot;</span></span>: {</td>
      </tr>
      <tr>
        <td id="L355" class="blob-num js-line-number" data-line-number="355"></td>
        <td id="LC355" class="blob-code blob-code-inner js-file-line">    <span class="pl-s"><span class="pl-pds">&quot;</span>deletable<span class="pl-pds">&quot;</span></span>: <span class="pl-c1">false</span>,</td>
      </tr>
      <tr>
        <td id="L356" class="blob-num js-line-number" data-line-number="356"></td>
        <td id="LC356" class="blob-code blob-code-inner js-file-line">    <span class="pl-s"><span class="pl-pds">&quot;</span>editable<span class="pl-pds">&quot;</span></span>: <span class="pl-c1">false</span>,</td>
      </tr>
      <tr>
        <td id="L357" class="blob-num js-line-number" data-line-number="357"></td>
        <td id="LC357" class="blob-code blob-code-inner js-file-line">    <span class="pl-s"><span class="pl-pds">&quot;</span>nbgrader<span class="pl-pds">&quot;</span></span>: {</td>
      </tr>
      <tr>
        <td id="L358" class="blob-num js-line-number" data-line-number="358"></td>
        <td id="LC358" class="blob-code blob-code-inner js-file-line">     <span class="pl-s"><span class="pl-pds">&quot;</span>cell_type<span class="pl-pds">&quot;</span></span>: <span class="pl-s"><span class="pl-pds">&quot;</span>markdown<span class="pl-pds">&quot;</span></span>,</td>
      </tr>
      <tr>
        <td id="L359" class="blob-num js-line-number" data-line-number="359"></td>
        <td id="LC359" class="blob-code blob-code-inner js-file-line">     <span class="pl-s"><span class="pl-pds">&quot;</span>checksum<span class="pl-pds">&quot;</span></span>: <span class="pl-s"><span class="pl-pds">&quot;</span>049e3d7344e203034323e1f86a503ee4<span class="pl-pds">&quot;</span></span>,</td>
      </tr>
      <tr>
        <td id="L360" class="blob-num js-line-number" data-line-number="360"></td>
        <td id="LC360" class="blob-code blob-code-inner js-file-line">     <span class="pl-s"><span class="pl-pds">&quot;</span>grade<span class="pl-pds">&quot;</span></span>: <span class="pl-c1">false</span>,</td>
      </tr>
      <tr>
        <td id="L361" class="blob-num js-line-number" data-line-number="361"></td>
        <td id="LC361" class="blob-code blob-code-inner js-file-line">     <span class="pl-s"><span class="pl-pds">&quot;</span>grade_id<span class="pl-pds">&quot;</span></span>: <span class="pl-s"><span class="pl-pds">&quot;</span>cell-3975c91dbe24e9e8<span class="pl-pds">&quot;</span></span>,</td>
      </tr>
      <tr>
        <td id="L362" class="blob-num js-line-number" data-line-number="362"></td>
        <td id="LC362" class="blob-code blob-code-inner js-file-line">     <span class="pl-s"><span class="pl-pds">&quot;</span>locked<span class="pl-pds">&quot;</span></span>: <span class="pl-c1">true</span>,</td>
      </tr>
      <tr>
        <td id="L363" class="blob-num js-line-number" data-line-number="363"></td>
        <td id="LC363" class="blob-code blob-code-inner js-file-line">     <span class="pl-s"><span class="pl-pds">&quot;</span>schema_version<span class="pl-pds">&quot;</span></span>: <span class="pl-c1">3</span>,</td>
      </tr>
      <tr>
        <td id="L364" class="blob-num js-line-number" data-line-number="364"></td>
        <td id="LC364" class="blob-code blob-code-inner js-file-line">     <span class="pl-s"><span class="pl-pds">&quot;</span>solution<span class="pl-pds">&quot;</span></span>: <span class="pl-c1">false</span></td>
      </tr>
      <tr>
        <td id="L365" class="blob-num js-line-number" data-line-number="365"></td>
        <td id="LC365" class="blob-code blob-code-inner js-file-line">    }</td>
      </tr>
      <tr>
        <td id="L366" class="blob-num js-line-number" data-line-number="366"></td>
        <td id="LC366" class="blob-code blob-code-inner js-file-line">   },</td>
      </tr>
      <tr>
        <td id="L367" class="blob-num js-line-number" data-line-number="367"></td>
        <td id="LC367" class="blob-code blob-code-inner js-file-line">   <span class="pl-s"><span class="pl-pds">&quot;</span>source<span class="pl-pds">&quot;</span></span>: [</td>
      </tr>
      <tr>
        <td id="L368" class="blob-num js-line-number" data-line-number="368"></td>
        <td id="LC368" class="blob-code blob-code-inner js-file-line">    <span class="pl-s"><span class="pl-pds">&quot;</span>You can access the state space and the action set as attributes of the environment.<span class="pl-pds">&quot;</span></span></td>
      </tr>
      <tr>
        <td id="L369" class="blob-num js-line-number" data-line-number="369"></td>
        <td id="LC369" class="blob-code blob-code-inner js-file-line">   ]</td>
      </tr>
      <tr>
        <td id="L370" class="blob-num js-line-number" data-line-number="370"></td>
        <td id="LC370" class="blob-code blob-code-inner js-file-line">  },</td>
      </tr>
      <tr>
        <td id="L371" class="blob-num js-line-number" data-line-number="371"></td>
        <td id="LC371" class="blob-code blob-code-inner js-file-line">  {</td>
      </tr>
      <tr>
        <td id="L372" class="blob-num js-line-number" data-line-number="372"></td>
        <td id="LC372" class="blob-code blob-code-inner js-file-line">   <span class="pl-s"><span class="pl-pds">&quot;</span>cell_type<span class="pl-pds">&quot;</span></span>: <span class="pl-s"><span class="pl-pds">&quot;</span>code<span class="pl-pds">&quot;</span></span>,</td>
      </tr>
      <tr>
        <td id="L373" class="blob-num js-line-number" data-line-number="373"></td>
        <td id="LC373" class="blob-code blob-code-inner js-file-line">   <span class="pl-s"><span class="pl-pds">&quot;</span>execution_count<span class="pl-pds">&quot;</span></span>: <span class="pl-c1">7</span>,</td>
      </tr>
      <tr>
        <td id="L374" class="blob-num js-line-number" data-line-number="374"></td>
        <td id="LC374" class="blob-code blob-code-inner js-file-line">   <span class="pl-s"><span class="pl-pds">&quot;</span>metadata<span class="pl-pds">&quot;</span></span>: {</td>
      </tr>
      <tr>
        <td id="L375" class="blob-num js-line-number" data-line-number="375"></td>
        <td id="LC375" class="blob-code blob-code-inner js-file-line">    <span class="pl-s"><span class="pl-pds">&quot;</span>deletable<span class="pl-pds">&quot;</span></span>: <span class="pl-c1">false</span>,</td>
      </tr>
      <tr>
        <td id="L376" class="blob-num js-line-number" data-line-number="376"></td>
        <td id="LC376" class="blob-code blob-code-inner js-file-line">    <span class="pl-s"><span class="pl-pds">&quot;</span>editable<span class="pl-pds">&quot;</span></span>: <span class="pl-c1">false</span>,</td>
      </tr>
      <tr>
        <td id="L377" class="blob-num js-line-number" data-line-number="377"></td>
        <td id="LC377" class="blob-code blob-code-inner js-file-line">    <span class="pl-s"><span class="pl-pds">&quot;</span>nbgrader<span class="pl-pds">&quot;</span></span>: {</td>
      </tr>
      <tr>
        <td id="L378" class="blob-num js-line-number" data-line-number="378"></td>
        <td id="LC378" class="blob-code blob-code-inner js-file-line">     <span class="pl-s"><span class="pl-pds">&quot;</span>cell_type<span class="pl-pds">&quot;</span></span>: <span class="pl-s"><span class="pl-pds">&quot;</span>code<span class="pl-pds">&quot;</span></span>,</td>
      </tr>
      <tr>
        <td id="L379" class="blob-num js-line-number" data-line-number="379"></td>
        <td id="LC379" class="blob-code blob-code-inner js-file-line">     <span class="pl-s"><span class="pl-pds">&quot;</span>checksum<span class="pl-pds">&quot;</span></span>: <span class="pl-s"><span class="pl-pds">&quot;</span>4fafc756424773278069199ff876300e<span class="pl-pds">&quot;</span></span>,</td>
      </tr>
      <tr>
        <td id="L380" class="blob-num js-line-number" data-line-number="380"></td>
        <td id="LC380" class="blob-code blob-code-inner js-file-line">     <span class="pl-s"><span class="pl-pds">&quot;</span>grade<span class="pl-pds">&quot;</span></span>: <span class="pl-c1">false</span>,</td>
      </tr>
      <tr>
        <td id="L381" class="blob-num js-line-number" data-line-number="381"></td>
        <td id="LC381" class="blob-code blob-code-inner js-file-line">     <span class="pl-s"><span class="pl-pds">&quot;</span>grade_id<span class="pl-pds">&quot;</span></span>: <span class="pl-s"><span class="pl-pds">&quot;</span>cell-94d868709c1a9eba<span class="pl-pds">&quot;</span></span>,</td>
      </tr>
      <tr>
        <td id="L382" class="blob-num js-line-number" data-line-number="382"></td>
        <td id="LC382" class="blob-code blob-code-inner js-file-line">     <span class="pl-s"><span class="pl-pds">&quot;</span>locked<span class="pl-pds">&quot;</span></span>: <span class="pl-c1">true</span>,</td>
      </tr>
      <tr>
        <td id="L383" class="blob-num js-line-number" data-line-number="383"></td>
        <td id="LC383" class="blob-code blob-code-inner js-file-line">     <span class="pl-s"><span class="pl-pds">&quot;</span>schema_version<span class="pl-pds">&quot;</span></span>: <span class="pl-c1">3</span>,</td>
      </tr>
      <tr>
        <td id="L384" class="blob-num js-line-number" data-line-number="384"></td>
        <td id="LC384" class="blob-code blob-code-inner js-file-line">     <span class="pl-s"><span class="pl-pds">&quot;</span>solution<span class="pl-pds">&quot;</span></span>: <span class="pl-c1">false</span></td>
      </tr>
      <tr>
        <td id="L385" class="blob-num js-line-number" data-line-number="385"></td>
        <td id="LC385" class="blob-code blob-code-inner js-file-line">    }</td>
      </tr>
      <tr>
        <td id="L386" class="blob-num js-line-number" data-line-number="386"></td>
        <td id="LC386" class="blob-code blob-code-inner js-file-line">   },</td>
      </tr>
      <tr>
        <td id="L387" class="blob-num js-line-number" data-line-number="387"></td>
        <td id="LC387" class="blob-code blob-code-inner js-file-line">   <span class="pl-s"><span class="pl-pds">&quot;</span>outputs<span class="pl-pds">&quot;</span></span>: [</td>
      </tr>
      <tr>
        <td id="L388" class="blob-num js-line-number" data-line-number="388"></td>
        <td id="LC388" class="blob-code blob-code-inner js-file-line">    {</td>
      </tr>
      <tr>
        <td id="L389" class="blob-num js-line-number" data-line-number="389"></td>
        <td id="LC389" class="blob-code blob-code-inner js-file-line">     <span class="pl-s"><span class="pl-pds">&quot;</span>data<span class="pl-pds">&quot;</span></span>: {</td>
      </tr>
      <tr>
        <td id="L390" class="blob-num js-line-number" data-line-number="390"></td>
        <td id="LC390" class="blob-code blob-code-inner js-file-line">      <span class="pl-s"><span class="pl-pds">&quot;</span>text/plain<span class="pl-pds">&quot;</span></span>: [</td>
      </tr>
      <tr>
        <td id="L391" class="blob-num js-line-number" data-line-number="391"></td>
        <td id="LC391" class="blob-code blob-code-inner js-file-line">       <span class="pl-s"><span class="pl-pds">&quot;</span>[0, 1, 2, 3]<span class="pl-pds">&quot;</span></span></td>
      </tr>
      <tr>
        <td id="L392" class="blob-num js-line-number" data-line-number="392"></td>
        <td id="LC392" class="blob-code blob-code-inner js-file-line">      ]</td>
      </tr>
      <tr>
        <td id="L393" class="blob-num js-line-number" data-line-number="393"></td>
        <td id="LC393" class="blob-code blob-code-inner js-file-line">     },</td>
      </tr>
      <tr>
        <td id="L394" class="blob-num js-line-number" data-line-number="394"></td>
        <td id="LC394" class="blob-code blob-code-inner js-file-line">     <span class="pl-s"><span class="pl-pds">&quot;</span>execution_count<span class="pl-pds">&quot;</span></span>: <span class="pl-c1">7</span>,</td>
      </tr>
      <tr>
        <td id="L395" class="blob-num js-line-number" data-line-number="395"></td>
        <td id="LC395" class="blob-code blob-code-inner js-file-line">     <span class="pl-s"><span class="pl-pds">&quot;</span>metadata<span class="pl-pds">&quot;</span></span>: {},</td>
      </tr>
      <tr>
        <td id="L396" class="blob-num js-line-number" data-line-number="396"></td>
        <td id="LC396" class="blob-code blob-code-inner js-file-line">     <span class="pl-s"><span class="pl-pds">&quot;</span>output_type<span class="pl-pds">&quot;</span></span>: <span class="pl-s"><span class="pl-pds">&quot;</span>execute_result<span class="pl-pds">&quot;</span></span></td>
      </tr>
      <tr>
        <td id="L397" class="blob-num js-line-number" data-line-number="397"></td>
        <td id="LC397" class="blob-code blob-code-inner js-file-line">    }</td>
      </tr>
      <tr>
        <td id="L398" class="blob-num js-line-number" data-line-number="398"></td>
        <td id="LC398" class="blob-code blob-code-inner js-file-line">   ],</td>
      </tr>
      <tr>
        <td id="L399" class="blob-num js-line-number" data-line-number="399"></td>
        <td id="LC399" class="blob-code blob-code-inner js-file-line">   <span class="pl-s"><span class="pl-pds">&quot;</span>source<span class="pl-pds">&quot;</span></span>: [</td>
      </tr>
      <tr>
        <td id="L400" class="blob-num js-line-number" data-line-number="400"></td>
        <td id="LC400" class="blob-code blob-code-inner js-file-line">    <span class="pl-s"><span class="pl-pds">&quot;</span>env.S<span class="pl-pds">&quot;</span></span></td>
      </tr>
      <tr>
        <td id="L401" class="blob-num js-line-number" data-line-number="401"></td>
        <td id="LC401" class="blob-code blob-code-inner js-file-line">   ]</td>
      </tr>
      <tr>
        <td id="L402" class="blob-num js-line-number" data-line-number="402"></td>
        <td id="LC402" class="blob-code blob-code-inner js-file-line">  },</td>
      </tr>
      <tr>
        <td id="L403" class="blob-num js-line-number" data-line-number="403"></td>
        <td id="LC403" class="blob-code blob-code-inner js-file-line">  {</td>
      </tr>
      <tr>
        <td id="L404" class="blob-num js-line-number" data-line-number="404"></td>
        <td id="LC404" class="blob-code blob-code-inner js-file-line">   <span class="pl-s"><span class="pl-pds">&quot;</span>cell_type<span class="pl-pds">&quot;</span></span>: <span class="pl-s"><span class="pl-pds">&quot;</span>code<span class="pl-pds">&quot;</span></span>,</td>
      </tr>
      <tr>
        <td id="L405" class="blob-num js-line-number" data-line-number="405"></td>
        <td id="LC405" class="blob-code blob-code-inner js-file-line">   <span class="pl-s"><span class="pl-pds">&quot;</span>execution_count<span class="pl-pds">&quot;</span></span>: <span class="pl-c1">8</span>,</td>
      </tr>
      <tr>
        <td id="L406" class="blob-num js-line-number" data-line-number="406"></td>
        <td id="LC406" class="blob-code blob-code-inner js-file-line">   <span class="pl-s"><span class="pl-pds">&quot;</span>metadata<span class="pl-pds">&quot;</span></span>: {</td>
      </tr>
      <tr>
        <td id="L407" class="blob-num js-line-number" data-line-number="407"></td>
        <td id="LC407" class="blob-code blob-code-inner js-file-line">    <span class="pl-s"><span class="pl-pds">&quot;</span>deletable<span class="pl-pds">&quot;</span></span>: <span class="pl-c1">false</span>,</td>
      </tr>
      <tr>
        <td id="L408" class="blob-num js-line-number" data-line-number="408"></td>
        <td id="LC408" class="blob-code blob-code-inner js-file-line">    <span class="pl-s"><span class="pl-pds">&quot;</span>editable<span class="pl-pds">&quot;</span></span>: <span class="pl-c1">false</span>,</td>
      </tr>
      <tr>
        <td id="L409" class="blob-num js-line-number" data-line-number="409"></td>
        <td id="LC409" class="blob-code blob-code-inner js-file-line">    <span class="pl-s"><span class="pl-pds">&quot;</span>nbgrader<span class="pl-pds">&quot;</span></span>: {</td>
      </tr>
      <tr>
        <td id="L410" class="blob-num js-line-number" data-line-number="410"></td>
        <td id="LC410" class="blob-code blob-code-inner js-file-line">     <span class="pl-s"><span class="pl-pds">&quot;</span>cell_type<span class="pl-pds">&quot;</span></span>: <span class="pl-s"><span class="pl-pds">&quot;</span>code<span class="pl-pds">&quot;</span></span>,</td>
      </tr>
      <tr>
        <td id="L411" class="blob-num js-line-number" data-line-number="411"></td>
        <td id="LC411" class="blob-code blob-code-inner js-file-line">     <span class="pl-s"><span class="pl-pds">&quot;</span>checksum<span class="pl-pds">&quot;</span></span>: <span class="pl-s"><span class="pl-pds">&quot;</span>dc72712f4890361c35c0b19f0df5befd<span class="pl-pds">&quot;</span></span>,</td>
      </tr>
      <tr>
        <td id="L412" class="blob-num js-line-number" data-line-number="412"></td>
        <td id="LC412" class="blob-code blob-code-inner js-file-line">     <span class="pl-s"><span class="pl-pds">&quot;</span>grade<span class="pl-pds">&quot;</span></span>: <span class="pl-c1">false</span>,</td>
      </tr>
      <tr>
        <td id="L413" class="blob-num js-line-number" data-line-number="413"></td>
        <td id="LC413" class="blob-code blob-code-inner js-file-line">     <span class="pl-s"><span class="pl-pds">&quot;</span>grade_id<span class="pl-pds">&quot;</span></span>: <span class="pl-s"><span class="pl-pds">&quot;</span>cell-6f16d9e8ebf01b60<span class="pl-pds">&quot;</span></span>,</td>
      </tr>
      <tr>
        <td id="L414" class="blob-num js-line-number" data-line-number="414"></td>
        <td id="LC414" class="blob-code blob-code-inner js-file-line">     <span class="pl-s"><span class="pl-pds">&quot;</span>locked<span class="pl-pds">&quot;</span></span>: <span class="pl-c1">true</span>,</td>
      </tr>
      <tr>
        <td id="L415" class="blob-num js-line-number" data-line-number="415"></td>
        <td id="LC415" class="blob-code blob-code-inner js-file-line">     <span class="pl-s"><span class="pl-pds">&quot;</span>schema_version<span class="pl-pds">&quot;</span></span>: <span class="pl-c1">3</span>,</td>
      </tr>
      <tr>
        <td id="L416" class="blob-num js-line-number" data-line-number="416"></td>
        <td id="LC416" class="blob-code blob-code-inner js-file-line">     <span class="pl-s"><span class="pl-pds">&quot;</span>solution<span class="pl-pds">&quot;</span></span>: <span class="pl-c1">false</span></td>
      </tr>
      <tr>
        <td id="L417" class="blob-num js-line-number" data-line-number="417"></td>
        <td id="LC417" class="blob-code blob-code-inner js-file-line">    }</td>
      </tr>
      <tr>
        <td id="L418" class="blob-num js-line-number" data-line-number="418"></td>
        <td id="LC418" class="blob-code blob-code-inner js-file-line">   },</td>
      </tr>
      <tr>
        <td id="L419" class="blob-num js-line-number" data-line-number="419"></td>
        <td id="LC419" class="blob-code blob-code-inner js-file-line">   <span class="pl-s"><span class="pl-pds">&quot;</span>outputs<span class="pl-pds">&quot;</span></span>: [</td>
      </tr>
      <tr>
        <td id="L420" class="blob-num js-line-number" data-line-number="420"></td>
        <td id="LC420" class="blob-code blob-code-inner js-file-line">    {</td>
      </tr>
      <tr>
        <td id="L421" class="blob-num js-line-number" data-line-number="421"></td>
        <td id="LC421" class="blob-code blob-code-inner js-file-line">     <span class="pl-s"><span class="pl-pds">&quot;</span>data<span class="pl-pds">&quot;</span></span>: {</td>
      </tr>
      <tr>
        <td id="L422" class="blob-num js-line-number" data-line-number="422"></td>
        <td id="LC422" class="blob-code blob-code-inner js-file-line">      <span class="pl-s"><span class="pl-pds">&quot;</span>text/plain<span class="pl-pds">&quot;</span></span>: [</td>
      </tr>
      <tr>
        <td id="L423" class="blob-num js-line-number" data-line-number="423"></td>
        <td id="LC423" class="blob-code blob-code-inner js-file-line">       <span class="pl-s"><span class="pl-pds">&quot;</span>[0, 1, 2]<span class="pl-pds">&quot;</span></span></td>
      </tr>
      <tr>
        <td id="L424" class="blob-num js-line-number" data-line-number="424"></td>
        <td id="LC424" class="blob-code blob-code-inner js-file-line">      ]</td>
      </tr>
      <tr>
        <td id="L425" class="blob-num js-line-number" data-line-number="425"></td>
        <td id="LC425" class="blob-code blob-code-inner js-file-line">     },</td>
      </tr>
      <tr>
        <td id="L426" class="blob-num js-line-number" data-line-number="426"></td>
        <td id="LC426" class="blob-code blob-code-inner js-file-line">     <span class="pl-s"><span class="pl-pds">&quot;</span>execution_count<span class="pl-pds">&quot;</span></span>: <span class="pl-c1">8</span>,</td>
      </tr>
      <tr>
        <td id="L427" class="blob-num js-line-number" data-line-number="427"></td>
        <td id="LC427" class="blob-code blob-code-inner js-file-line">     <span class="pl-s"><span class="pl-pds">&quot;</span>metadata<span class="pl-pds">&quot;</span></span>: {},</td>
      </tr>
      <tr>
        <td id="L428" class="blob-num js-line-number" data-line-number="428"></td>
        <td id="LC428" class="blob-code blob-code-inner js-file-line">     <span class="pl-s"><span class="pl-pds">&quot;</span>output_type<span class="pl-pds">&quot;</span></span>: <span class="pl-s"><span class="pl-pds">&quot;</span>execute_result<span class="pl-pds">&quot;</span></span></td>
      </tr>
      <tr>
        <td id="L429" class="blob-num js-line-number" data-line-number="429"></td>
        <td id="LC429" class="blob-code blob-code-inner js-file-line">    }</td>
      </tr>
      <tr>
        <td id="L430" class="blob-num js-line-number" data-line-number="430"></td>
        <td id="LC430" class="blob-code blob-code-inner js-file-line">   ],</td>
      </tr>
      <tr>
        <td id="L431" class="blob-num js-line-number" data-line-number="431"></td>
        <td id="LC431" class="blob-code blob-code-inner js-file-line">   <span class="pl-s"><span class="pl-pds">&quot;</span>source<span class="pl-pds">&quot;</span></span>: [</td>
      </tr>
      <tr>
        <td id="L432" class="blob-num js-line-number" data-line-number="432"></td>
        <td id="LC432" class="blob-code blob-code-inner js-file-line">    <span class="pl-s"><span class="pl-pds">&quot;</span>env.A<span class="pl-pds">&quot;</span></span></td>
      </tr>
      <tr>
        <td id="L433" class="blob-num js-line-number" data-line-number="433"></td>
        <td id="LC433" class="blob-code blob-code-inner js-file-line">   ]</td>
      </tr>
      <tr>
        <td id="L434" class="blob-num js-line-number" data-line-number="434"></td>
        <td id="LC434" class="blob-code blob-code-inner js-file-line">  },</td>
      </tr>
      <tr>
        <td id="L435" class="blob-num js-line-number" data-line-number="435"></td>
        <td id="LC435" class="blob-code blob-code-inner js-file-line">  {</td>
      </tr>
      <tr>
        <td id="L436" class="blob-num js-line-number" data-line-number="436"></td>
        <td id="LC436" class="blob-code blob-code-inner js-file-line">   <span class="pl-s"><span class="pl-pds">&quot;</span>cell_type<span class="pl-pds">&quot;</span></span>: <span class="pl-s"><span class="pl-pds">&quot;</span>markdown<span class="pl-pds">&quot;</span></span>,</td>
      </tr>
      <tr>
        <td id="L437" class="blob-num js-line-number" data-line-number="437"></td>
        <td id="LC437" class="blob-code blob-code-inner js-file-line">   <span class="pl-s"><span class="pl-pds">&quot;</span>metadata<span class="pl-pds">&quot;</span></span>: {</td>
      </tr>
      <tr>
        <td id="L438" class="blob-num js-line-number" data-line-number="438"></td>
        <td id="LC438" class="blob-code blob-code-inner js-file-line">    <span class="pl-s"><span class="pl-pds">&quot;</span>deletable<span class="pl-pds">&quot;</span></span>: <span class="pl-c1">false</span>,</td>
      </tr>
      <tr>
        <td id="L439" class="blob-num js-line-number" data-line-number="439"></td>
        <td id="LC439" class="blob-code blob-code-inner js-file-line">    <span class="pl-s"><span class="pl-pds">&quot;</span>editable<span class="pl-pds">&quot;</span></span>: <span class="pl-c1">false</span>,</td>
      </tr>
      <tr>
        <td id="L440" class="blob-num js-line-number" data-line-number="440"></td>
        <td id="LC440" class="blob-code blob-code-inner js-file-line">    <span class="pl-s"><span class="pl-pds">&quot;</span>nbgrader<span class="pl-pds">&quot;</span></span>: {</td>
      </tr>
      <tr>
        <td id="L441" class="blob-num js-line-number" data-line-number="441"></td>
        <td id="LC441" class="blob-code blob-code-inner js-file-line">     <span class="pl-s"><span class="pl-pds">&quot;</span>cell_type<span class="pl-pds">&quot;</span></span>: <span class="pl-s"><span class="pl-pds">&quot;</span>markdown<span class="pl-pds">&quot;</span></span>,</td>
      </tr>
      <tr>
        <td id="L442" class="blob-num js-line-number" data-line-number="442"></td>
        <td id="LC442" class="blob-code blob-code-inner js-file-line">     <span class="pl-s"><span class="pl-pds">&quot;</span>checksum<span class="pl-pds">&quot;</span></span>: <span class="pl-s"><span class="pl-pds">&quot;</span>12e6b88d7cf8ec6d20c7e14e3d43b5e2<span class="pl-pds">&quot;</span></span>,</td>
      </tr>
      <tr>
        <td id="L443" class="blob-num js-line-number" data-line-number="443"></td>
        <td id="LC443" class="blob-code blob-code-inner js-file-line">     <span class="pl-s"><span class="pl-pds">&quot;</span>grade<span class="pl-pds">&quot;</span></span>: <span class="pl-c1">false</span>,</td>
      </tr>
      <tr>
        <td id="L444" class="blob-num js-line-number" data-line-number="444"></td>
        <td id="LC444" class="blob-code blob-code-inner js-file-line">     <span class="pl-s"><span class="pl-pds">&quot;</span>grade_id<span class="pl-pds">&quot;</span></span>: <span class="pl-s"><span class="pl-pds">&quot;</span>cell-927e52efe516a816<span class="pl-pds">&quot;</span></span>,</td>
      </tr>
      <tr>
        <td id="L445" class="blob-num js-line-number" data-line-number="445"></td>
        <td id="LC445" class="blob-code blob-code-inner js-file-line">     <span class="pl-s"><span class="pl-pds">&quot;</span>locked<span class="pl-pds">&quot;</span></span>: <span class="pl-c1">true</span>,</td>
      </tr>
      <tr>
        <td id="L446" class="blob-num js-line-number" data-line-number="446"></td>
        <td id="LC446" class="blob-code blob-code-inner js-file-line">     <span class="pl-s"><span class="pl-pds">&quot;</span>schema_version<span class="pl-pds">&quot;</span></span>: <span class="pl-c1">3</span>,</td>
      </tr>
      <tr>
        <td id="L447" class="blob-num js-line-number" data-line-number="447"></td>
        <td id="LC447" class="blob-code blob-code-inner js-file-line">     <span class="pl-s"><span class="pl-pds">&quot;</span>solution<span class="pl-pds">&quot;</span></span>: <span class="pl-c1">false</span></td>
      </tr>
      <tr>
        <td id="L448" class="blob-num js-line-number" data-line-number="448"></td>
        <td id="LC448" class="blob-code blob-code-inner js-file-line">    }</td>
      </tr>
      <tr>
        <td id="L449" class="blob-num js-line-number" data-line-number="449"></td>
        <td id="LC449" class="blob-code blob-code-inner js-file-line">   },</td>
      </tr>
      <tr>
        <td id="L450" class="blob-num js-line-number" data-line-number="450"></td>
        <td id="LC450" class="blob-code blob-code-inner js-file-line">   <span class="pl-s"><span class="pl-pds">&quot;</span>source<span class="pl-pds">&quot;</span></span>: [</td>
      </tr>
      <tr>
        <td id="L451" class="blob-num js-line-number" data-line-number="451"></td>
        <td id="LC451" class="blob-code blob-code-inner js-file-line">    <span class="pl-s"><span class="pl-pds">&quot;</span>You will need to use the environment&#39;s `transitions` method to complete this assignment. The method takes a state and an action and returns a 2-dimensional array, where the entry at $(i, 0)$ is the reward for transitioning to state $i$ from the current state and the entry at $(i, 1)$ is the conditional probability of transitioning to state $i$ given the current state and action.<span class="pl-pds">&quot;</span></span></td>
      </tr>
      <tr>
        <td id="L452" class="blob-num js-line-number" data-line-number="452"></td>
        <td id="LC452" class="blob-code blob-code-inner js-file-line">   ]</td>
      </tr>
      <tr>
        <td id="L453" class="blob-num js-line-number" data-line-number="453"></td>
        <td id="LC453" class="blob-code blob-code-inner js-file-line">  },</td>
      </tr>
      <tr>
        <td id="L454" class="blob-num js-line-number" data-line-number="454"></td>
        <td id="LC454" class="blob-code blob-code-inner js-file-line">  {</td>
      </tr>
      <tr>
        <td id="L455" class="blob-num js-line-number" data-line-number="455"></td>
        <td id="LC455" class="blob-code blob-code-inner js-file-line">   <span class="pl-s"><span class="pl-pds">&quot;</span>cell_type<span class="pl-pds">&quot;</span></span>: <span class="pl-s"><span class="pl-pds">&quot;</span>code<span class="pl-pds">&quot;</span></span>,</td>
      </tr>
      <tr>
        <td id="L456" class="blob-num js-line-number" data-line-number="456"></td>
        <td id="LC456" class="blob-code blob-code-inner js-file-line">   <span class="pl-s"><span class="pl-pds">&quot;</span>execution_count<span class="pl-pds">&quot;</span></span>: <span class="pl-c1">9</span>,</td>
      </tr>
      <tr>
        <td id="L457" class="blob-num js-line-number" data-line-number="457"></td>
        <td id="LC457" class="blob-code blob-code-inner js-file-line">   <span class="pl-s"><span class="pl-pds">&quot;</span>metadata<span class="pl-pds">&quot;</span></span>: {</td>
      </tr>
      <tr>
        <td id="L458" class="blob-num js-line-number" data-line-number="458"></td>
        <td id="LC458" class="blob-code blob-code-inner js-file-line">    <span class="pl-s"><span class="pl-pds">&quot;</span>deletable<span class="pl-pds">&quot;</span></span>: <span class="pl-c1">false</span>,</td>
      </tr>
      <tr>
        <td id="L459" class="blob-num js-line-number" data-line-number="459"></td>
        <td id="LC459" class="blob-code blob-code-inner js-file-line">    <span class="pl-s"><span class="pl-pds">&quot;</span>editable<span class="pl-pds">&quot;</span></span>: <span class="pl-c1">false</span>,</td>
      </tr>
      <tr>
        <td id="L460" class="blob-num js-line-number" data-line-number="460"></td>
        <td id="LC460" class="blob-code blob-code-inner js-file-line">    <span class="pl-s"><span class="pl-pds">&quot;</span>nbgrader<span class="pl-pds">&quot;</span></span>: {</td>
      </tr>
      <tr>
        <td id="L461" class="blob-num js-line-number" data-line-number="461"></td>
        <td id="LC461" class="blob-code blob-code-inner js-file-line">     <span class="pl-s"><span class="pl-pds">&quot;</span>cell_type<span class="pl-pds">&quot;</span></span>: <span class="pl-s"><span class="pl-pds">&quot;</span>code<span class="pl-pds">&quot;</span></span>,</td>
      </tr>
      <tr>
        <td id="L462" class="blob-num js-line-number" data-line-number="462"></td>
        <td id="LC462" class="blob-code blob-code-inner js-file-line">     <span class="pl-s"><span class="pl-pds">&quot;</span>checksum<span class="pl-pds">&quot;</span></span>: <span class="pl-s"><span class="pl-pds">&quot;</span>4d32e329bafe53f2061e6b577751f291<span class="pl-pds">&quot;</span></span>,</td>
      </tr>
      <tr>
        <td id="L463" class="blob-num js-line-number" data-line-number="463"></td>
        <td id="LC463" class="blob-code blob-code-inner js-file-line">     <span class="pl-s"><span class="pl-pds">&quot;</span>grade<span class="pl-pds">&quot;</span></span>: <span class="pl-c1">false</span>,</td>
      </tr>
      <tr>
        <td id="L464" class="blob-num js-line-number" data-line-number="464"></td>
        <td id="LC464" class="blob-code blob-code-inner js-file-line">     <span class="pl-s"><span class="pl-pds">&quot;</span>grade_id<span class="pl-pds">&quot;</span></span>: <span class="pl-s"><span class="pl-pds">&quot;</span>cell-4185982b1a21cd04<span class="pl-pds">&quot;</span></span>,</td>
      </tr>
      <tr>
        <td id="L465" class="blob-num js-line-number" data-line-number="465"></td>
        <td id="LC465" class="blob-code blob-code-inner js-file-line">     <span class="pl-s"><span class="pl-pds">&quot;</span>locked<span class="pl-pds">&quot;</span></span>: <span class="pl-c1">true</span>,</td>
      </tr>
      <tr>
        <td id="L466" class="blob-num js-line-number" data-line-number="466"></td>
        <td id="LC466" class="blob-code blob-code-inner js-file-line">     <span class="pl-s"><span class="pl-pds">&quot;</span>schema_version<span class="pl-pds">&quot;</span></span>: <span class="pl-c1">3</span>,</td>
      </tr>
      <tr>
        <td id="L467" class="blob-num js-line-number" data-line-number="467"></td>
        <td id="LC467" class="blob-code blob-code-inner js-file-line">     <span class="pl-s"><span class="pl-pds">&quot;</span>solution<span class="pl-pds">&quot;</span></span>: <span class="pl-c1">false</span></td>
      </tr>
      <tr>
        <td id="L468" class="blob-num js-line-number" data-line-number="468"></td>
        <td id="LC468" class="blob-code blob-code-inner js-file-line">    }</td>
      </tr>
      <tr>
        <td id="L469" class="blob-num js-line-number" data-line-number="469"></td>
        <td id="LC469" class="blob-code blob-code-inner js-file-line">   },</td>
      </tr>
      <tr>
        <td id="L470" class="blob-num js-line-number" data-line-number="470"></td>
        <td id="LC470" class="blob-code blob-code-inner js-file-line">   <span class="pl-s"><span class="pl-pds">&quot;</span>outputs<span class="pl-pds">&quot;</span></span>: [</td>
      </tr>
      <tr>
        <td id="L471" class="blob-num js-line-number" data-line-number="471"></td>
        <td id="LC471" class="blob-code blob-code-inner js-file-line">    {</td>
      </tr>
      <tr>
        <td id="L472" class="blob-num js-line-number" data-line-number="472"></td>
        <td id="LC472" class="blob-code blob-code-inner js-file-line">     <span class="pl-s"><span class="pl-pds">&quot;</span>data<span class="pl-pds">&quot;</span></span>: {</td>
      </tr>
      <tr>
        <td id="L473" class="blob-num js-line-number" data-line-number="473"></td>
        <td id="LC473" class="blob-code blob-code-inner js-file-line">      <span class="pl-s"><span class="pl-pds">&quot;</span>text/plain<span class="pl-pds">&quot;</span></span>: [</td>
      </tr>
      <tr>
        <td id="L474" class="blob-num js-line-number" data-line-number="474"></td>
        <td id="LC474" class="blob-code blob-code-inner js-file-line">       <span class="pl-s"><span class="pl-pds">&quot;</span>array([[1.        , 0.12390437],<span class="pl-cce">\n</span><span class="pl-pds">&quot;</span></span>,</td>
      </tr>
      <tr>
        <td id="L475" class="blob-num js-line-number" data-line-number="475"></td>
        <td id="LC475" class="blob-code blob-code-inner js-file-line">       <span class="pl-s"><span class="pl-pds">&quot;</span>       [2.        , 0.15133714],<span class="pl-cce">\n</span><span class="pl-pds">&quot;</span></span>,</td>
      </tr>
      <tr>
        <td id="L476" class="blob-num js-line-number" data-line-number="476"></td>
        <td id="LC476" class="blob-code blob-code-inner js-file-line">       <span class="pl-s"><span class="pl-pds">&quot;</span>       [3.        , 0.1848436 ],<span class="pl-cce">\n</span><span class="pl-pds">&quot;</span></span>,</td>
      </tr>
      <tr>
        <td id="L477" class="blob-num js-line-number" data-line-number="477"></td>
        <td id="LC477" class="blob-code blob-code-inner js-file-line">       <span class="pl-s"><span class="pl-pds">&quot;</span>       [2.        , 0.53991488]])<span class="pl-pds">&quot;</span></span></td>
      </tr>
      <tr>
        <td id="L478" class="blob-num js-line-number" data-line-number="478"></td>
        <td id="LC478" class="blob-code blob-code-inner js-file-line">      ]</td>
      </tr>
      <tr>
        <td id="L479" class="blob-num js-line-number" data-line-number="479"></td>
        <td id="LC479" class="blob-code blob-code-inner js-file-line">     },</td>
      </tr>
      <tr>
        <td id="L480" class="blob-num js-line-number" data-line-number="480"></td>
        <td id="LC480" class="blob-code blob-code-inner js-file-line">     <span class="pl-s"><span class="pl-pds">&quot;</span>execution_count<span class="pl-pds">&quot;</span></span>: <span class="pl-c1">9</span>,</td>
      </tr>
      <tr>
        <td id="L481" class="blob-num js-line-number" data-line-number="481"></td>
        <td id="LC481" class="blob-code blob-code-inner js-file-line">     <span class="pl-s"><span class="pl-pds">&quot;</span>metadata<span class="pl-pds">&quot;</span></span>: {},</td>
      </tr>
      <tr>
        <td id="L482" class="blob-num js-line-number" data-line-number="482"></td>
        <td id="LC482" class="blob-code blob-code-inner js-file-line">     <span class="pl-s"><span class="pl-pds">&quot;</span>output_type<span class="pl-pds">&quot;</span></span>: <span class="pl-s"><span class="pl-pds">&quot;</span>execute_result<span class="pl-pds">&quot;</span></span></td>
      </tr>
      <tr>
        <td id="L483" class="blob-num js-line-number" data-line-number="483"></td>
        <td id="LC483" class="blob-code blob-code-inner js-file-line">    }</td>
      </tr>
      <tr>
        <td id="L484" class="blob-num js-line-number" data-line-number="484"></td>
        <td id="LC484" class="blob-code blob-code-inner js-file-line">   ],</td>
      </tr>
      <tr>
        <td id="L485" class="blob-num js-line-number" data-line-number="485"></td>
        <td id="LC485" class="blob-code blob-code-inner js-file-line">   <span class="pl-s"><span class="pl-pds">&quot;</span>source<span class="pl-pds">&quot;</span></span>: [</td>
      </tr>
      <tr>
        <td id="L486" class="blob-num js-line-number" data-line-number="486"></td>
        <td id="LC486" class="blob-code blob-code-inner js-file-line">    <span class="pl-s"><span class="pl-pds">&quot;</span>state = 3<span class="pl-cce">\n</span><span class="pl-pds">&quot;</span></span>,</td>
      </tr>
      <tr>
        <td id="L487" class="blob-num js-line-number" data-line-number="487"></td>
        <td id="LC487" class="blob-code blob-code-inner js-file-line">    <span class="pl-s"><span class="pl-pds">&quot;</span>action = 1<span class="pl-cce">\n</span><span class="pl-pds">&quot;</span></span>,</td>
      </tr>
      <tr>
        <td id="L488" class="blob-num js-line-number" data-line-number="488"></td>
        <td id="LC488" class="blob-code blob-code-inner js-file-line">    <span class="pl-s"><span class="pl-pds">&quot;</span>transitions = env.transitions(state, action)<span class="pl-cce">\n</span><span class="pl-pds">&quot;</span></span>,</td>
      </tr>
      <tr>
        <td id="L489" class="blob-num js-line-number" data-line-number="489"></td>
        <td id="LC489" class="blob-code blob-code-inner js-file-line">    <span class="pl-s"><span class="pl-pds">&quot;</span>transitions<span class="pl-pds">&quot;</span></span></td>
      </tr>
      <tr>
        <td id="L490" class="blob-num js-line-number" data-line-number="490"></td>
        <td id="LC490" class="blob-code blob-code-inner js-file-line">   ]</td>
      </tr>
      <tr>
        <td id="L491" class="blob-num js-line-number" data-line-number="491"></td>
        <td id="LC491" class="blob-code blob-code-inner js-file-line">  },</td>
      </tr>
      <tr>
        <td id="L492" class="blob-num js-line-number" data-line-number="492"></td>
        <td id="LC492" class="blob-code blob-code-inner js-file-line">  {</td>
      </tr>
      <tr>
        <td id="L493" class="blob-num js-line-number" data-line-number="493"></td>
        <td id="LC493" class="blob-code blob-code-inner js-file-line">   <span class="pl-s"><span class="pl-pds">&quot;</span>cell_type<span class="pl-pds">&quot;</span></span>: <span class="pl-s"><span class="pl-pds">&quot;</span>code<span class="pl-pds">&quot;</span></span>,</td>
      </tr>
      <tr>
        <td id="L494" class="blob-num js-line-number" data-line-number="494"></td>
        <td id="LC494" class="blob-code blob-code-inner js-file-line">   <span class="pl-s"><span class="pl-pds">&quot;</span>execution_count<span class="pl-pds">&quot;</span></span>: <span class="pl-c1">10</span>,</td>
      </tr>
      <tr>
        <td id="L495" class="blob-num js-line-number" data-line-number="495"></td>
        <td id="LC495" class="blob-code blob-code-inner js-file-line">   <span class="pl-s"><span class="pl-pds">&quot;</span>metadata<span class="pl-pds">&quot;</span></span>: {</td>
      </tr>
      <tr>
        <td id="L496" class="blob-num js-line-number" data-line-number="496"></td>
        <td id="LC496" class="blob-code blob-code-inner js-file-line">    <span class="pl-s"><span class="pl-pds">&quot;</span>deletable<span class="pl-pds">&quot;</span></span>: <span class="pl-c1">false</span>,</td>
      </tr>
      <tr>
        <td id="L497" class="blob-num js-line-number" data-line-number="497"></td>
        <td id="LC497" class="blob-code blob-code-inner js-file-line">    <span class="pl-s"><span class="pl-pds">&quot;</span>editable<span class="pl-pds">&quot;</span></span>: <span class="pl-c1">false</span>,</td>
      </tr>
      <tr>
        <td id="L498" class="blob-num js-line-number" data-line-number="498"></td>
        <td id="LC498" class="blob-code blob-code-inner js-file-line">    <span class="pl-s"><span class="pl-pds">&quot;</span>nbgrader<span class="pl-pds">&quot;</span></span>: {</td>
      </tr>
      <tr>
        <td id="L499" class="blob-num js-line-number" data-line-number="499"></td>
        <td id="LC499" class="blob-code blob-code-inner js-file-line">     <span class="pl-s"><span class="pl-pds">&quot;</span>cell_type<span class="pl-pds">&quot;</span></span>: <span class="pl-s"><span class="pl-pds">&quot;</span>code<span class="pl-pds">&quot;</span></span>,</td>
      </tr>
      <tr>
        <td id="L500" class="blob-num js-line-number" data-line-number="500"></td>
        <td id="LC500" class="blob-code blob-code-inner js-file-line">     <span class="pl-s"><span class="pl-pds">&quot;</span>checksum<span class="pl-pds">&quot;</span></span>: <span class="pl-s"><span class="pl-pds">&quot;</span>25cbea37d8b8c6404081852743cbc6bd<span class="pl-pds">&quot;</span></span>,</td>
      </tr>
      <tr>
        <td id="L501" class="blob-num js-line-number" data-line-number="501"></td>
        <td id="LC501" class="blob-code blob-code-inner js-file-line">     <span class="pl-s"><span class="pl-pds">&quot;</span>grade<span class="pl-pds">&quot;</span></span>: <span class="pl-c1">false</span>,</td>
      </tr>
      <tr>
        <td id="L502" class="blob-num js-line-number" data-line-number="502"></td>
        <td id="LC502" class="blob-code blob-code-inner js-file-line">     <span class="pl-s"><span class="pl-pds">&quot;</span>grade_id<span class="pl-pds">&quot;</span></span>: <span class="pl-s"><span class="pl-pds">&quot;</span>cell-379fdb797cae3afb<span class="pl-pds">&quot;</span></span>,</td>
      </tr>
      <tr>
        <td id="L503" class="blob-num js-line-number" data-line-number="503"></td>
        <td id="LC503" class="blob-code blob-code-inner js-file-line">     <span class="pl-s"><span class="pl-pds">&quot;</span>locked<span class="pl-pds">&quot;</span></span>: <span class="pl-c1">true</span>,</td>
      </tr>
      <tr>
        <td id="L504" class="blob-num js-line-number" data-line-number="504"></td>
        <td id="LC504" class="blob-code blob-code-inner js-file-line">     <span class="pl-s"><span class="pl-pds">&quot;</span>schema_version<span class="pl-pds">&quot;</span></span>: <span class="pl-c1">3</span>,</td>
      </tr>
      <tr>
        <td id="L505" class="blob-num js-line-number" data-line-number="505"></td>
        <td id="LC505" class="blob-code blob-code-inner js-file-line">     <span class="pl-s"><span class="pl-pds">&quot;</span>solution<span class="pl-pds">&quot;</span></span>: <span class="pl-c1">false</span></td>
      </tr>
      <tr>
        <td id="L506" class="blob-num js-line-number" data-line-number="506"></td>
        <td id="LC506" class="blob-code blob-code-inner js-file-line">    }</td>
      </tr>
      <tr>
        <td id="L507" class="blob-num js-line-number" data-line-number="507"></td>
        <td id="LC507" class="blob-code blob-code-inner js-file-line">   },</td>
      </tr>
      <tr>
        <td id="L508" class="blob-num js-line-number" data-line-number="508"></td>
        <td id="LC508" class="blob-code blob-code-inner js-file-line">   <span class="pl-s"><span class="pl-pds">&quot;</span>outputs<span class="pl-pds">&quot;</span></span>: [</td>
      </tr>
      <tr>
        <td id="L509" class="blob-num js-line-number" data-line-number="509"></td>
        <td id="LC509" class="blob-code blob-code-inner js-file-line">    {</td>
      </tr>
      <tr>
        <td id="L510" class="blob-num js-line-number" data-line-number="510"></td>
        <td id="LC510" class="blob-code blob-code-inner js-file-line">     <span class="pl-s"><span class="pl-pds">&quot;</span>name<span class="pl-pds">&quot;</span></span>: <span class="pl-s"><span class="pl-pds">&quot;</span>stdout<span class="pl-pds">&quot;</span></span>,</td>
      </tr>
      <tr>
        <td id="L511" class="blob-num js-line-number" data-line-number="511"></td>
        <td id="LC511" class="blob-code blob-code-inner js-file-line">     <span class="pl-s"><span class="pl-pds">&quot;</span>output_type<span class="pl-pds">&quot;</span></span>: <span class="pl-s"><span class="pl-pds">&quot;</span>stream<span class="pl-pds">&quot;</span></span>,</td>
      </tr>
      <tr>
        <td id="L512" class="blob-num js-line-number" data-line-number="512"></td>
        <td id="LC512" class="blob-code blob-code-inner js-file-line">     <span class="pl-s"><span class="pl-pds">&quot;</span>text<span class="pl-pds">&quot;</span></span>: [</td>
      </tr>
      <tr>
        <td id="L513" class="blob-num js-line-number" data-line-number="513"></td>
        <td id="LC513" class="blob-code blob-code-inner js-file-line">      <span class="pl-s"><span class="pl-pds">&quot;</span>p(S&#39;=0, R=1.0 | S=3, A=1) = 0.12<span class="pl-cce">\n</span><span class="pl-pds">&quot;</span></span>,</td>
      </tr>
      <tr>
        <td id="L514" class="blob-num js-line-number" data-line-number="514"></td>
        <td id="LC514" class="blob-code blob-code-inner js-file-line">      <span class="pl-s"><span class="pl-pds">&quot;</span>p(S&#39;=1, R=2.0 | S=3, A=1) = 0.15<span class="pl-cce">\n</span><span class="pl-pds">&quot;</span></span>,</td>
      </tr>
      <tr>
        <td id="L515" class="blob-num js-line-number" data-line-number="515"></td>
        <td id="LC515" class="blob-code blob-code-inner js-file-line">      <span class="pl-s"><span class="pl-pds">&quot;</span>p(S&#39;=2, R=3.0 | S=3, A=1) = 0.18<span class="pl-cce">\n</span><span class="pl-pds">&quot;</span></span>,</td>
      </tr>
      <tr>
        <td id="L516" class="blob-num js-line-number" data-line-number="516"></td>
        <td id="LC516" class="blob-code blob-code-inner js-file-line">      <span class="pl-s"><span class="pl-pds">&quot;</span>p(S&#39;=3, R=2.0 | S=3, A=1) = 0.54<span class="pl-cce">\n</span><span class="pl-pds">&quot;</span></span></td>
      </tr>
      <tr>
        <td id="L517" class="blob-num js-line-number" data-line-number="517"></td>
        <td id="LC517" class="blob-code blob-code-inner js-file-line">     ]</td>
      </tr>
      <tr>
        <td id="L518" class="blob-num js-line-number" data-line-number="518"></td>
        <td id="LC518" class="blob-code blob-code-inner js-file-line">    }</td>
      </tr>
      <tr>
        <td id="L519" class="blob-num js-line-number" data-line-number="519"></td>
        <td id="LC519" class="blob-code blob-code-inner js-file-line">   ],</td>
      </tr>
      <tr>
        <td id="L520" class="blob-num js-line-number" data-line-number="520"></td>
        <td id="LC520" class="blob-code blob-code-inner js-file-line">   <span class="pl-s"><span class="pl-pds">&quot;</span>source<span class="pl-pds">&quot;</span></span>: [</td>
      </tr>
      <tr>
        <td id="L521" class="blob-num js-line-number" data-line-number="521"></td>
        <td id="LC521" class="blob-code blob-code-inner js-file-line">    <span class="pl-s"><span class="pl-pds">&quot;</span>for sp, (r, p) in enumerate(transitions):<span class="pl-cce">\n</span><span class="pl-pds">&quot;</span></span>,</td>
      </tr>
      <tr>
        <td id="L522" class="blob-num js-line-number" data-line-number="522"></td>
        <td id="LC522" class="blob-code blob-code-inner js-file-line">    <span class="pl-s"><span class="pl-pds">&quot;</span>    print(f&#39;p(S<span class="pl-cce">\\</span>&#39;={sp}, R={r} | S={state}, A={action}) = {p.round(2)}&#39;)<span class="pl-pds">&quot;</span></span></td>
      </tr>
      <tr>
        <td id="L523" class="blob-num js-line-number" data-line-number="523"></td>
        <td id="LC523" class="blob-code blob-code-inner js-file-line">   ]</td>
      </tr>
      <tr>
        <td id="L524" class="blob-num js-line-number" data-line-number="524"></td>
        <td id="LC524" class="blob-code blob-code-inner js-file-line">  },</td>
      </tr>
      <tr>
        <td id="L525" class="blob-num js-line-number" data-line-number="525"></td>
        <td id="LC525" class="blob-code blob-code-inner js-file-line">  {</td>
      </tr>
      <tr>
        <td id="L526" class="blob-num js-line-number" data-line-number="526"></td>
        <td id="LC526" class="blob-code blob-code-inner js-file-line">   <span class="pl-s"><span class="pl-pds">&quot;</span>cell_type<span class="pl-pds">&quot;</span></span>: <span class="pl-s"><span class="pl-pds">&quot;</span>markdown<span class="pl-pds">&quot;</span></span>,</td>
      </tr>
      <tr>
        <td id="L527" class="blob-num js-line-number" data-line-number="527"></td>
        <td id="LC527" class="blob-code blob-code-inner js-file-line">   <span class="pl-s"><span class="pl-pds">&quot;</span>metadata<span class="pl-pds">&quot;</span></span>: {</td>
      </tr>
      <tr>
        <td id="L528" class="blob-num js-line-number" data-line-number="528"></td>
        <td id="LC528" class="blob-code blob-code-inner js-file-line">    <span class="pl-s"><span class="pl-pds">&quot;</span>deletable<span class="pl-pds">&quot;</span></span>: <span class="pl-c1">false</span>,</td>
      </tr>
      <tr>
        <td id="L529" class="blob-num js-line-number" data-line-number="529"></td>
        <td id="LC529" class="blob-code blob-code-inner js-file-line">    <span class="pl-s"><span class="pl-pds">&quot;</span>editable<span class="pl-pds">&quot;</span></span>: <span class="pl-c1">false</span>,</td>
      </tr>
      <tr>
        <td id="L530" class="blob-num js-line-number" data-line-number="530"></td>
        <td id="LC530" class="blob-code blob-code-inner js-file-line">    <span class="pl-s"><span class="pl-pds">&quot;</span>nbgrader<span class="pl-pds">&quot;</span></span>: {</td>
      </tr>
      <tr>
        <td id="L531" class="blob-num js-line-number" data-line-number="531"></td>
        <td id="LC531" class="blob-code blob-code-inner js-file-line">     <span class="pl-s"><span class="pl-pds">&quot;</span>cell_type<span class="pl-pds">&quot;</span></span>: <span class="pl-s"><span class="pl-pds">&quot;</span>markdown<span class="pl-pds">&quot;</span></span>,</td>
      </tr>
      <tr>
        <td id="L532" class="blob-num js-line-number" data-line-number="532"></td>
        <td id="LC532" class="blob-code blob-code-inner js-file-line">     <span class="pl-s"><span class="pl-pds">&quot;</span>checksum<span class="pl-pds">&quot;</span></span>: <span class="pl-s"><span class="pl-pds">&quot;</span>0869f6736a9ab680b0c82dccf72ba11c<span class="pl-pds">&quot;</span></span>,</td>
      </tr>
      <tr>
        <td id="L533" class="blob-num js-line-number" data-line-number="533"></td>
        <td id="LC533" class="blob-code blob-code-inner js-file-line">     <span class="pl-s"><span class="pl-pds">&quot;</span>grade<span class="pl-pds">&quot;</span></span>: <span class="pl-c1">false</span>,</td>
      </tr>
      <tr>
        <td id="L534" class="blob-num js-line-number" data-line-number="534"></td>
        <td id="LC534" class="blob-code blob-code-inner js-file-line">     <span class="pl-s"><span class="pl-pds">&quot;</span>grade_id<span class="pl-pds">&quot;</span></span>: <span class="pl-s"><span class="pl-pds">&quot;</span>cell-141d4e3806427283<span class="pl-pds">&quot;</span></span>,</td>
      </tr>
      <tr>
        <td id="L535" class="blob-num js-line-number" data-line-number="535"></td>
        <td id="LC535" class="blob-code blob-code-inner js-file-line">     <span class="pl-s"><span class="pl-pds">&quot;</span>locked<span class="pl-pds">&quot;</span></span>: <span class="pl-c1">true</span>,</td>
      </tr>
      <tr>
        <td id="L536" class="blob-num js-line-number" data-line-number="536"></td>
        <td id="LC536" class="blob-code blob-code-inner js-file-line">     <span class="pl-s"><span class="pl-pds">&quot;</span>schema_version<span class="pl-pds">&quot;</span></span>: <span class="pl-c1">3</span>,</td>
      </tr>
      <tr>
        <td id="L537" class="blob-num js-line-number" data-line-number="537"></td>
        <td id="LC537" class="blob-code blob-code-inner js-file-line">     <span class="pl-s"><span class="pl-pds">&quot;</span>solution<span class="pl-pds">&quot;</span></span>: <span class="pl-c1">false</span></td>
      </tr>
      <tr>
        <td id="L538" class="blob-num js-line-number" data-line-number="538"></td>
        <td id="LC538" class="blob-code blob-code-inner js-file-line">    }</td>
      </tr>
      <tr>
        <td id="L539" class="blob-num js-line-number" data-line-number="539"></td>
        <td id="LC539" class="blob-code blob-code-inner js-file-line">   },</td>
      </tr>
      <tr>
        <td id="L540" class="blob-num js-line-number" data-line-number="540"></td>
        <td id="LC540" class="blob-code blob-code-inner js-file-line">   <span class="pl-s"><span class="pl-pds">&quot;</span>source<span class="pl-pds">&quot;</span></span>: [</td>
      </tr>
      <tr>
        <td id="L541" class="blob-num js-line-number" data-line-number="541"></td>
        <td id="LC541" class="blob-code blob-code-inner js-file-line">    <span class="pl-s"><span class="pl-pds">&quot;</span>## Section 1: Policy Evaluation<span class="pl-cce">\n</span><span class="pl-pds">&quot;</span></span>,</td>
      </tr>
      <tr>
        <td id="L542" class="blob-num js-line-number" data-line-number="542"></td>
        <td id="LC542" class="blob-code blob-code-inner js-file-line">    <span class="pl-s"><span class="pl-pds">&quot;</span><span class="pl-cce">\n</span><span class="pl-pds">&quot;</span></span>,</td>
      </tr>
      <tr>
        <td id="L543" class="blob-num js-line-number" data-line-number="543"></td>
        <td id="LC543" class="blob-code blob-code-inner js-file-line">    <span class="pl-s"><span class="pl-pds">&quot;</span>You&#39;re now ready to begin the assignment! First, the city council would like you to evaluate the quality of the existing pricing scheme. Policy evaluation works by iteratively applying the Bellman equation for $v_{<span class="pl-cce">\\</span>pi}$ to a working value function, as an update rule, as shown below.<span class="pl-cce">\n</span><span class="pl-pds">&quot;</span></span>,</td>
      </tr>
      <tr>
        <td id="L544" class="blob-num js-line-number" data-line-number="544"></td>
        <td id="LC544" class="blob-code blob-code-inner js-file-line">    <span class="pl-s"><span class="pl-pds">&quot;</span><span class="pl-cce">\n</span><span class="pl-pds">&quot;</span></span>,</td>
      </tr>
      <tr>
        <td id="L545" class="blob-num js-line-number" data-line-number="545"></td>
        <td id="LC545" class="blob-code blob-code-inner js-file-line">    <span class="pl-s"><span class="pl-pds">&quot;</span>$$<span class="pl-cce">\\</span>large v(s) <span class="pl-cce">\\</span>leftarrow <span class="pl-cce">\\</span>sum_a <span class="pl-cce">\\</span>pi(a | s) <span class="pl-cce">\\</span>sum_{s&#39;, r} p(s&#39;, r | s, a)[r + <span class="pl-cce">\\</span>gamma v(s&#39;)]$$<span class="pl-cce">\n</span><span class="pl-pds">&quot;</span></span>,</td>
      </tr>
      <tr>
        <td id="L546" class="blob-num js-line-number" data-line-number="546"></td>
        <td id="LC546" class="blob-code blob-code-inner js-file-line">    <span class="pl-s"><span class="pl-pds">&quot;</span>This update can either occur <span class="pl-cce">\&quot;</span>in-place<span class="pl-cce">\&quot;</span> (i.e. the update rule is sequentially applied to each state) or with <span class="pl-cce">\&quot;</span>two-arrays<span class="pl-cce">\&quot;</span> (i.e. the update rule is simultaneously applied to each state). Both versions converge to $v_{<span class="pl-cce">\\</span>pi}$ but the in-place version usually converges faster. **In this assignment, we will be implementing all update rules in-place**, as is done in the pseudocode of chapter 4 of the textbook. <span class="pl-cce">\n</span><span class="pl-pds">&quot;</span></span>,</td>
      </tr>
      <tr>
        <td id="L547" class="blob-num js-line-number" data-line-number="547"></td>
        <td id="LC547" class="blob-code blob-code-inner js-file-line">    <span class="pl-s"><span class="pl-pds">&quot;</span><span class="pl-cce">\n</span><span class="pl-pds">&quot;</span></span>,</td>
      </tr>
      <tr>
        <td id="L548" class="blob-num js-line-number" data-line-number="548"></td>
        <td id="LC548" class="blob-code blob-code-inner js-file-line">    <span class="pl-s"><span class="pl-pds">&quot;</span>We have written an outline of the policy evaluation algorithm described in chapter 4.1 of the textbook. It is left to you to fill in the `bellman_update` function to complete the algorithm.<span class="pl-pds">&quot;</span></span></td>
      </tr>
      <tr>
        <td id="L549" class="blob-num js-line-number" data-line-number="549"></td>
        <td id="LC549" class="blob-code blob-code-inner js-file-line">   ]</td>
      </tr>
      <tr>
        <td id="L550" class="blob-num js-line-number" data-line-number="550"></td>
        <td id="LC550" class="blob-code blob-code-inner js-file-line">  },</td>
      </tr>
      <tr>
        <td id="L551" class="blob-num js-line-number" data-line-number="551"></td>
        <td id="LC551" class="blob-code blob-code-inner js-file-line">  {</td>
      </tr>
      <tr>
        <td id="L552" class="blob-num js-line-number" data-line-number="552"></td>
        <td id="LC552" class="blob-code blob-code-inner js-file-line">   <span class="pl-s"><span class="pl-pds">&quot;</span>cell_type<span class="pl-pds">&quot;</span></span>: <span class="pl-s"><span class="pl-pds">&quot;</span>code<span class="pl-pds">&quot;</span></span>,</td>
      </tr>
      <tr>
        <td id="L553" class="blob-num js-line-number" data-line-number="553"></td>
        <td id="LC553" class="blob-code blob-code-inner js-file-line">   <span class="pl-s"><span class="pl-pds">&quot;</span>execution_count<span class="pl-pds">&quot;</span></span>: <span class="pl-c1">11</span>,</td>
      </tr>
      <tr>
        <td id="L554" class="blob-num js-line-number" data-line-number="554"></td>
        <td id="LC554" class="blob-code blob-code-inner js-file-line">   <span class="pl-s"><span class="pl-pds">&quot;</span>metadata<span class="pl-pds">&quot;</span></span>: {</td>
      </tr>
      <tr>
        <td id="L555" class="blob-num js-line-number" data-line-number="555"></td>
        <td id="LC555" class="blob-code blob-code-inner js-file-line">    <span class="pl-s"><span class="pl-pds">&quot;</span>deletable<span class="pl-pds">&quot;</span></span>: <span class="pl-c1">false</span>,</td>
      </tr>
      <tr>
        <td id="L556" class="blob-num js-line-number" data-line-number="556"></td>
        <td id="LC556" class="blob-code blob-code-inner js-file-line">    <span class="pl-s"><span class="pl-pds">&quot;</span>editable<span class="pl-pds">&quot;</span></span>: <span class="pl-c1">false</span>,</td>
      </tr>
      <tr>
        <td id="L557" class="blob-num js-line-number" data-line-number="557"></td>
        <td id="LC557" class="blob-code blob-code-inner js-file-line">    <span class="pl-s"><span class="pl-pds">&quot;</span>nbgrader<span class="pl-pds">&quot;</span></span>: {</td>
      </tr>
      <tr>
        <td id="L558" class="blob-num js-line-number" data-line-number="558"></td>
        <td id="LC558" class="blob-code blob-code-inner js-file-line">     <span class="pl-s"><span class="pl-pds">&quot;</span>cell_type<span class="pl-pds">&quot;</span></span>: <span class="pl-s"><span class="pl-pds">&quot;</span>code<span class="pl-pds">&quot;</span></span>,</td>
      </tr>
      <tr>
        <td id="L559" class="blob-num js-line-number" data-line-number="559"></td>
        <td id="LC559" class="blob-code blob-code-inner js-file-line">     <span class="pl-s"><span class="pl-pds">&quot;</span>checksum<span class="pl-pds">&quot;</span></span>: <span class="pl-s"><span class="pl-pds">&quot;</span>d940b556433954baa2dfa76c55918ca1<span class="pl-pds">&quot;</span></span>,</td>
      </tr>
      <tr>
        <td id="L560" class="blob-num js-line-number" data-line-number="560"></td>
        <td id="LC560" class="blob-code blob-code-inner js-file-line">     <span class="pl-s"><span class="pl-pds">&quot;</span>grade<span class="pl-pds">&quot;</span></span>: <span class="pl-c1">false</span>,</td>
      </tr>
      <tr>
        <td id="L561" class="blob-num js-line-number" data-line-number="561"></td>
        <td id="LC561" class="blob-code blob-code-inner js-file-line">     <span class="pl-s"><span class="pl-pds">&quot;</span>grade_id<span class="pl-pds">&quot;</span></span>: <span class="pl-s"><span class="pl-pds">&quot;</span>cell-8d04cf6f6f397e17<span class="pl-pds">&quot;</span></span>,</td>
      </tr>
      <tr>
        <td id="L562" class="blob-num js-line-number" data-line-number="562"></td>
        <td id="LC562" class="blob-code blob-code-inner js-file-line">     <span class="pl-s"><span class="pl-pds">&quot;</span>locked<span class="pl-pds">&quot;</span></span>: <span class="pl-c1">true</span>,</td>
      </tr>
      <tr>
        <td id="L563" class="blob-num js-line-number" data-line-number="563"></td>
        <td id="LC563" class="blob-code blob-code-inner js-file-line">     <span class="pl-s"><span class="pl-pds">&quot;</span>schema_version<span class="pl-pds">&quot;</span></span>: <span class="pl-c1">3</span>,</td>
      </tr>
      <tr>
        <td id="L564" class="blob-num js-line-number" data-line-number="564"></td>
        <td id="LC564" class="blob-code blob-code-inner js-file-line">     <span class="pl-s"><span class="pl-pds">&quot;</span>solution<span class="pl-pds">&quot;</span></span>: <span class="pl-c1">false</span></td>
      </tr>
      <tr>
        <td id="L565" class="blob-num js-line-number" data-line-number="565"></td>
        <td id="LC565" class="blob-code blob-code-inner js-file-line">    }</td>
      </tr>
      <tr>
        <td id="L566" class="blob-num js-line-number" data-line-number="566"></td>
        <td id="LC566" class="blob-code blob-code-inner js-file-line">   },</td>
      </tr>
      <tr>
        <td id="L567" class="blob-num js-line-number" data-line-number="567"></td>
        <td id="LC567" class="blob-code blob-code-inner js-file-line">   <span class="pl-s"><span class="pl-pds">&quot;</span>outputs<span class="pl-pds">&quot;</span></span>: [],</td>
      </tr>
      <tr>
        <td id="L568" class="blob-num js-line-number" data-line-number="568"></td>
        <td id="LC568" class="blob-code blob-code-inner js-file-line">   <span class="pl-s"><span class="pl-pds">&quot;</span>source<span class="pl-pds">&quot;</span></span>: [</td>
      </tr>
      <tr>
        <td id="L569" class="blob-num js-line-number" data-line-number="569"></td>
        <td id="LC569" class="blob-code blob-code-inner js-file-line">    <span class="pl-s"><span class="pl-pds">&quot;</span># lock<span class="pl-cce">\n</span><span class="pl-pds">&quot;</span></span>,</td>
      </tr>
      <tr>
        <td id="L570" class="blob-num js-line-number" data-line-number="570"></td>
        <td id="LC570" class="blob-code blob-code-inner js-file-line">    <span class="pl-s"><span class="pl-pds">&quot;</span>def evaluate_policy(env, V, pi, gamma, theta):<span class="pl-cce">\n</span><span class="pl-pds">&quot;</span></span>,</td>
      </tr>
      <tr>
        <td id="L571" class="blob-num js-line-number" data-line-number="571"></td>
        <td id="LC571" class="blob-code blob-code-inner js-file-line">    <span class="pl-s"><span class="pl-pds">&quot;</span>    delta = float(&#39;inf&#39;)<span class="pl-cce">\n</span><span class="pl-pds">&quot;</span></span>,</td>
      </tr>
      <tr>
        <td id="L572" class="blob-num js-line-number" data-line-number="572"></td>
        <td id="LC572" class="blob-code blob-code-inner js-file-line">    <span class="pl-s"><span class="pl-pds">&quot;</span>    while delta &gt; theta:<span class="pl-cce">\n</span><span class="pl-pds">&quot;</span></span>,</td>
      </tr>
      <tr>
        <td id="L573" class="blob-num js-line-number" data-line-number="573"></td>
        <td id="LC573" class="blob-code blob-code-inner js-file-line">    <span class="pl-s"><span class="pl-pds">&quot;</span>        delta = 0<span class="pl-cce">\n</span><span class="pl-pds">&quot;</span></span>,</td>
      </tr>
      <tr>
        <td id="L574" class="blob-num js-line-number" data-line-number="574"></td>
        <td id="LC574" class="blob-code blob-code-inner js-file-line">    <span class="pl-s"><span class="pl-pds">&quot;</span>        for s in env.S:<span class="pl-cce">\n</span><span class="pl-pds">&quot;</span></span>,</td>
      </tr>
      <tr>
        <td id="L575" class="blob-num js-line-number" data-line-number="575"></td>
        <td id="LC575" class="blob-code blob-code-inner js-file-line">    <span class="pl-s"><span class="pl-pds">&quot;</span>            v = V[s]<span class="pl-cce">\n</span><span class="pl-pds">&quot;</span></span>,</td>
      </tr>
      <tr>
        <td id="L576" class="blob-num js-line-number" data-line-number="576"></td>
        <td id="LC576" class="blob-code blob-code-inner js-file-line">    <span class="pl-s"><span class="pl-pds">&quot;</span>            bellman_update(env, V, pi, s, gamma)<span class="pl-cce">\n</span><span class="pl-pds">&quot;</span></span>,</td>
      </tr>
      <tr>
        <td id="L577" class="blob-num js-line-number" data-line-number="577"></td>
        <td id="LC577" class="blob-code blob-code-inner js-file-line">    <span class="pl-s"><span class="pl-pds">&quot;</span>            delta = max(delta, abs(v - V[s]))<span class="pl-cce">\n</span><span class="pl-pds">&quot;</span></span>,</td>
      </tr>
      <tr>
        <td id="L578" class="blob-num js-line-number" data-line-number="578"></td>
        <td id="LC578" class="blob-code blob-code-inner js-file-line">    <span class="pl-s"><span class="pl-pds">&quot;</span>            <span class="pl-cce">\n</span><span class="pl-pds">&quot;</span></span>,</td>
      </tr>
      <tr>
        <td id="L579" class="blob-num js-line-number" data-line-number="579"></td>
        <td id="LC579" class="blob-code blob-code-inner js-file-line">    <span class="pl-s"><span class="pl-pds">&quot;</span>    return V<span class="pl-pds">&quot;</span></span></td>
      </tr>
      <tr>
        <td id="L580" class="blob-num js-line-number" data-line-number="580"></td>
        <td id="LC580" class="blob-code blob-code-inner js-file-line">   ]</td>
      </tr>
      <tr>
        <td id="L581" class="blob-num js-line-number" data-line-number="581"></td>
        <td id="LC581" class="blob-code blob-code-inner js-file-line">  },</td>
      </tr>
      <tr>
        <td id="L582" class="blob-num js-line-number" data-line-number="582"></td>
        <td id="LC582" class="blob-code blob-code-inner js-file-line">  {</td>
      </tr>
      <tr>
        <td id="L583" class="blob-num js-line-number" data-line-number="583"></td>
        <td id="LC583" class="blob-code blob-code-inner js-file-line">   <span class="pl-s"><span class="pl-pds">&quot;</span>cell_type<span class="pl-pds">&quot;</span></span>: <span class="pl-s"><span class="pl-pds">&quot;</span>code<span class="pl-pds">&quot;</span></span>,</td>
      </tr>
      <tr>
        <td id="L584" class="blob-num js-line-number" data-line-number="584"></td>
        <td id="LC584" class="blob-code blob-code-inner js-file-line">   <span class="pl-s"><span class="pl-pds">&quot;</span>execution_count<span class="pl-pds">&quot;</span></span>: <span class="pl-c1">12</span>,</td>
      </tr>
      <tr>
        <td id="L585" class="blob-num js-line-number" data-line-number="585"></td>
        <td id="LC585" class="blob-code blob-code-inner js-file-line">   <span class="pl-s"><span class="pl-pds">&quot;</span>metadata<span class="pl-pds">&quot;</span></span>: {</td>
      </tr>
      <tr>
        <td id="L586" class="blob-num js-line-number" data-line-number="586"></td>
        <td id="LC586" class="blob-code blob-code-inner js-file-line">    <span class="pl-s"><span class="pl-pds">&quot;</span>deletable<span class="pl-pds">&quot;</span></span>: <span class="pl-c1">false</span>,</td>
      </tr>
      <tr>
        <td id="L587" class="blob-num js-line-number" data-line-number="587"></td>
        <td id="LC587" class="blob-code blob-code-inner js-file-line">    <span class="pl-s"><span class="pl-pds">&quot;</span>nbgrader<span class="pl-pds">&quot;</span></span>: {</td>
      </tr>
      <tr>
        <td id="L588" class="blob-num js-line-number" data-line-number="588"></td>
        <td id="LC588" class="blob-code blob-code-inner js-file-line">     <span class="pl-s"><span class="pl-pds">&quot;</span>cell_type<span class="pl-pds">&quot;</span></span>: <span class="pl-s"><span class="pl-pds">&quot;</span>code<span class="pl-pds">&quot;</span></span>,</td>
      </tr>
      <tr>
        <td id="L589" class="blob-num js-line-number" data-line-number="589"></td>
        <td id="LC589" class="blob-code blob-code-inner js-file-line">     <span class="pl-s"><span class="pl-pds">&quot;</span>checksum<span class="pl-pds">&quot;</span></span>: <span class="pl-s"><span class="pl-pds">&quot;</span>3d9220b9c5e2dad29041be432e1898de<span class="pl-pds">&quot;</span></span>,</td>
      </tr>
      <tr>
        <td id="L590" class="blob-num js-line-number" data-line-number="590"></td>
        <td id="LC590" class="blob-code blob-code-inner js-file-line">     <span class="pl-s"><span class="pl-pds">&quot;</span>grade<span class="pl-pds">&quot;</span></span>: <span class="pl-c1">false</span>,</td>
      </tr>
      <tr>
        <td id="L591" class="blob-num js-line-number" data-line-number="591"></td>
        <td id="LC591" class="blob-code blob-code-inner js-file-line">     <span class="pl-s"><span class="pl-pds">&quot;</span>grade_id<span class="pl-pds">&quot;</span></span>: <span class="pl-s"><span class="pl-pds">&quot;</span>cell-4113388a5f8401b6<span class="pl-pds">&quot;</span></span>,</td>
      </tr>
      <tr>
        <td id="L592" class="blob-num js-line-number" data-line-number="592"></td>
        <td id="LC592" class="blob-code blob-code-inner js-file-line">     <span class="pl-s"><span class="pl-pds">&quot;</span>locked<span class="pl-pds">&quot;</span></span>: <span class="pl-c1">false</span>,</td>
      </tr>
      <tr>
        <td id="L593" class="blob-num js-line-number" data-line-number="593"></td>
        <td id="LC593" class="blob-code blob-code-inner js-file-line">     <span class="pl-s"><span class="pl-pds">&quot;</span>schema_version<span class="pl-pds">&quot;</span></span>: <span class="pl-c1">3</span>,</td>
      </tr>
      <tr>
        <td id="L594" class="blob-num js-line-number" data-line-number="594"></td>
        <td id="LC594" class="blob-code blob-code-inner js-file-line">     <span class="pl-s"><span class="pl-pds">&quot;</span>solution<span class="pl-pds">&quot;</span></span>: <span class="pl-c1">true</span></td>
      </tr>
      <tr>
        <td id="L595" class="blob-num js-line-number" data-line-number="595"></td>
        <td id="LC595" class="blob-code blob-code-inner js-file-line">    }</td>
      </tr>
      <tr>
        <td id="L596" class="blob-num js-line-number" data-line-number="596"></td>
        <td id="LC596" class="blob-code blob-code-inner js-file-line">   },</td>
      </tr>
      <tr>
        <td id="L597" class="blob-num js-line-number" data-line-number="597"></td>
        <td id="LC597" class="blob-code blob-code-inner js-file-line">   <span class="pl-s"><span class="pl-pds">&quot;</span>outputs<span class="pl-pds">&quot;</span></span>: [],</td>
      </tr>
      <tr>
        <td id="L598" class="blob-num js-line-number" data-line-number="598"></td>
        <td id="LC598" class="blob-code blob-code-inner js-file-line">   <span class="pl-s"><span class="pl-pds">&quot;</span>source<span class="pl-pds">&quot;</span></span>: [</td>
      </tr>
      <tr>
        <td id="L599" class="blob-num js-line-number" data-line-number="599"></td>
        <td id="LC599" class="blob-code blob-code-inner js-file-line">    <span class="pl-s"><span class="pl-pds">&quot;</span># -----------<span class="pl-cce">\n</span><span class="pl-pds">&quot;</span></span>,</td>
      </tr>
      <tr>
        <td id="L600" class="blob-num js-line-number" data-line-number="600"></td>
        <td id="LC600" class="blob-code blob-code-inner js-file-line">    <span class="pl-s"><span class="pl-pds">&quot;</span># Graded Cell<span class="pl-cce">\n</span><span class="pl-pds">&quot;</span></span>,</td>
      </tr>
      <tr>
        <td id="L601" class="blob-num js-line-number" data-line-number="601"></td>
        <td id="LC601" class="blob-code blob-code-inner js-file-line">    <span class="pl-s"><span class="pl-pds">&quot;</span># -----------<span class="pl-cce">\n</span><span class="pl-pds">&quot;</span></span>,</td>
      </tr>
      <tr>
        <td id="L602" class="blob-num js-line-number" data-line-number="602"></td>
        <td id="LC602" class="blob-code blob-code-inner js-file-line">    <span class="pl-s"><span class="pl-pds">&quot;</span>def bellman_update(env, V, pi, s, gamma):<span class="pl-cce">\n</span><span class="pl-pds">&quot;</span></span>,</td>
      </tr>
      <tr>
        <td id="L603" class="blob-num js-line-number" data-line-number="603"></td>
        <td id="LC603" class="blob-code blob-code-inner js-file-line">    <span class="pl-s"><span class="pl-pds">&quot;</span>    <span class="pl-cce">\&quot;\&quot;\&quot;</span>Mutate ``V`` according to the Bellman update equation.<span class="pl-cce">\&quot;\&quot;\&quot;\n</span><span class="pl-pds">&quot;</span></span>,</td>
      </tr>
      <tr>
        <td id="L604" class="blob-num js-line-number" data-line-number="604"></td>
        <td id="LC604" class="blob-code blob-code-inner js-file-line">    <span class="pl-s"><span class="pl-pds">&quot;</span>    # YOUR CODE HERE<span class="pl-cce">\n</span><span class="pl-pds">&quot;</span></span>,</td>
      </tr>
      <tr>
        <td id="L605" class="blob-num js-line-number" data-line-number="605"></td>
        <td id="LC605" class="blob-code blob-code-inner js-file-line">    <span class="pl-s"><span class="pl-pds">&quot;</span>    new_v = 0<span class="pl-cce">\n</span><span class="pl-pds">&quot;</span></span>,</td>
      </tr>
      <tr>
        <td id="L606" class="blob-num js-line-number" data-line-number="606"></td>
        <td id="LC606" class="blob-code blob-code-inner js-file-line">    <span class="pl-s"><span class="pl-pds">&quot;</span>    for a in env.A:<span class="pl-cce">\n</span><span class="pl-pds">&quot;</span></span>,</td>
      </tr>
      <tr>
        <td id="L607" class="blob-num js-line-number" data-line-number="607"></td>
        <td id="LC607" class="blob-code blob-code-inner js-file-line">    <span class="pl-s"><span class="pl-pds">&quot;</span>        for s_, (r,p) in enumerate(env.transitions(s, a)):<span class="pl-cce">\n</span><span class="pl-pds">&quot;</span></span>,</td>
      </tr>
      <tr>
        <td id="L608" class="blob-num js-line-number" data-line-number="608"></td>
        <td id="LC608" class="blob-code blob-code-inner js-file-line">    <span class="pl-s"><span class="pl-pds">&quot;</span>             new_v += pi[s,a]*( p*(r+(gamma*V[s_])) )<span class="pl-cce">\n</span><span class="pl-pds">&quot;</span></span>,</td>
      </tr>
      <tr>
        <td id="L609" class="blob-num js-line-number" data-line-number="609"></td>
        <td id="LC609" class="blob-code blob-code-inner js-file-line">    <span class="pl-s"><span class="pl-pds">&quot;</span>    V[s] = new_v <span class="pl-pds">&quot;</span></span></td>
      </tr>
      <tr>
        <td id="L610" class="blob-num js-line-number" data-line-number="610"></td>
        <td id="LC610" class="blob-code blob-code-inner js-file-line">   ]</td>
      </tr>
      <tr>
        <td id="L611" class="blob-num js-line-number" data-line-number="611"></td>
        <td id="LC611" class="blob-code blob-code-inner js-file-line">  },</td>
      </tr>
      <tr>
        <td id="L612" class="blob-num js-line-number" data-line-number="612"></td>
        <td id="LC612" class="blob-code blob-code-inner js-file-line">  {</td>
      </tr>
      <tr>
        <td id="L613" class="blob-num js-line-number" data-line-number="613"></td>
        <td id="LC613" class="blob-code blob-code-inner js-file-line">   <span class="pl-s"><span class="pl-pds">&quot;</span>cell_type<span class="pl-pds">&quot;</span></span>: <span class="pl-s"><span class="pl-pds">&quot;</span>markdown<span class="pl-pds">&quot;</span></span>,</td>
      </tr>
      <tr>
        <td id="L614" class="blob-num js-line-number" data-line-number="614"></td>
        <td id="LC614" class="blob-code blob-code-inner js-file-line">   <span class="pl-s"><span class="pl-pds">&quot;</span>metadata<span class="pl-pds">&quot;</span></span>: {</td>
      </tr>
      <tr>
        <td id="L615" class="blob-num js-line-number" data-line-number="615"></td>
        <td id="LC615" class="blob-code blob-code-inner js-file-line">    <span class="pl-s"><span class="pl-pds">&quot;</span>deletable<span class="pl-pds">&quot;</span></span>: <span class="pl-c1">false</span>,</td>
      </tr>
      <tr>
        <td id="L616" class="blob-num js-line-number" data-line-number="616"></td>
        <td id="LC616" class="blob-code blob-code-inner js-file-line">    <span class="pl-s"><span class="pl-pds">&quot;</span>editable<span class="pl-pds">&quot;</span></span>: <span class="pl-c1">false</span>,</td>
      </tr>
      <tr>
        <td id="L617" class="blob-num js-line-number" data-line-number="617"></td>
        <td id="LC617" class="blob-code blob-code-inner js-file-line">    <span class="pl-s"><span class="pl-pds">&quot;</span>nbgrader<span class="pl-pds">&quot;</span></span>: {</td>
      </tr>
      <tr>
        <td id="L618" class="blob-num js-line-number" data-line-number="618"></td>
        <td id="LC618" class="blob-code blob-code-inner js-file-line">     <span class="pl-s"><span class="pl-pds">&quot;</span>cell_type<span class="pl-pds">&quot;</span></span>: <span class="pl-s"><span class="pl-pds">&quot;</span>markdown<span class="pl-pds">&quot;</span></span>,</td>
      </tr>
      <tr>
        <td id="L619" class="blob-num js-line-number" data-line-number="619"></td>
        <td id="LC619" class="blob-code blob-code-inner js-file-line">     <span class="pl-s"><span class="pl-pds">&quot;</span>checksum<span class="pl-pds">&quot;</span></span>: <span class="pl-s"><span class="pl-pds">&quot;</span>4d9639225bc3d57f1079ceab1d57d411<span class="pl-pds">&quot;</span></span>,</td>
      </tr>
      <tr>
        <td id="L620" class="blob-num js-line-number" data-line-number="620"></td>
        <td id="LC620" class="blob-code blob-code-inner js-file-line">     <span class="pl-s"><span class="pl-pds">&quot;</span>grade<span class="pl-pds">&quot;</span></span>: <span class="pl-c1">false</span>,</td>
      </tr>
      <tr>
        <td id="L621" class="blob-num js-line-number" data-line-number="621"></td>
        <td id="LC621" class="blob-code blob-code-inner js-file-line">     <span class="pl-s"><span class="pl-pds">&quot;</span>grade_id<span class="pl-pds">&quot;</span></span>: <span class="pl-s"><span class="pl-pds">&quot;</span>cell-5c1f3ff4b0e1b0bf<span class="pl-pds">&quot;</span></span>,</td>
      </tr>
      <tr>
        <td id="L622" class="blob-num js-line-number" data-line-number="622"></td>
        <td id="LC622" class="blob-code blob-code-inner js-file-line">     <span class="pl-s"><span class="pl-pds">&quot;</span>locked<span class="pl-pds">&quot;</span></span>: <span class="pl-c1">true</span>,</td>
      </tr>
      <tr>
        <td id="L623" class="blob-num js-line-number" data-line-number="623"></td>
        <td id="LC623" class="blob-code blob-code-inner js-file-line">     <span class="pl-s"><span class="pl-pds">&quot;</span>schema_version<span class="pl-pds">&quot;</span></span>: <span class="pl-c1">3</span>,</td>
      </tr>
      <tr>
        <td id="L624" class="blob-num js-line-number" data-line-number="624"></td>
        <td id="LC624" class="blob-code blob-code-inner js-file-line">     <span class="pl-s"><span class="pl-pds">&quot;</span>solution<span class="pl-pds">&quot;</span></span>: <span class="pl-c1">false</span></td>
      </tr>
      <tr>
        <td id="L625" class="blob-num js-line-number" data-line-number="625"></td>
        <td id="LC625" class="blob-code blob-code-inner js-file-line">    }</td>
      </tr>
      <tr>
        <td id="L626" class="blob-num js-line-number" data-line-number="626"></td>
        <td id="LC626" class="blob-code blob-code-inner js-file-line">   },</td>
      </tr>
      <tr>
        <td id="L627" class="blob-num js-line-number" data-line-number="627"></td>
        <td id="LC627" class="blob-code blob-code-inner js-file-line">   <span class="pl-s"><span class="pl-pds">&quot;</span>source<span class="pl-pds">&quot;</span></span>: [</td>
      </tr>
      <tr>
        <td id="L628" class="blob-num js-line-number" data-line-number="628"></td>
        <td id="LC628" class="blob-code blob-code-inner js-file-line">    <span class="pl-s"><span class="pl-pds">&quot;</span>The cell below uses the policy evaluation algorithm to evaluate the city&#39;s policy, which charges a constant price of one.<span class="pl-pds">&quot;</span></span></td>
      </tr>
      <tr>
        <td id="L629" class="blob-num js-line-number" data-line-number="629"></td>
        <td id="LC629" class="blob-code blob-code-inner js-file-line">   ]</td>
      </tr>
      <tr>
        <td id="L630" class="blob-num js-line-number" data-line-number="630"></td>
        <td id="LC630" class="blob-code blob-code-inner js-file-line">  },</td>
      </tr>
      <tr>
        <td id="L631" class="blob-num js-line-number" data-line-number="631"></td>
        <td id="LC631" class="blob-code blob-code-inner js-file-line">  {</td>
      </tr>
      <tr>
        <td id="L632" class="blob-num js-line-number" data-line-number="632"></td>
        <td id="LC632" class="blob-code blob-code-inner js-file-line">   <span class="pl-s"><span class="pl-pds">&quot;</span>cell_type<span class="pl-pds">&quot;</span></span>: <span class="pl-s"><span class="pl-pds">&quot;</span>code<span class="pl-pds">&quot;</span></span>,</td>
      </tr>
      <tr>
        <td id="L633" class="blob-num js-line-number" data-line-number="633"></td>
        <td id="LC633" class="blob-code blob-code-inner js-file-line">   <span class="pl-s"><span class="pl-pds">&quot;</span>execution_count<span class="pl-pds">&quot;</span></span>: <span class="pl-c1">13</span>,</td>
      </tr>
      <tr>
        <td id="L634" class="blob-num js-line-number" data-line-number="634"></td>
        <td id="LC634" class="blob-code blob-code-inner js-file-line">   <span class="pl-s"><span class="pl-pds">&quot;</span>metadata<span class="pl-pds">&quot;</span></span>: {},</td>
      </tr>
      <tr>
        <td id="L635" class="blob-num js-line-number" data-line-number="635"></td>
        <td id="LC635" class="blob-code blob-code-inner js-file-line">   <span class="pl-s"><span class="pl-pds">&quot;</span>outputs<span class="pl-pds">&quot;</span></span>: [</td>
      </tr>
      <tr>
        <td id="L636" class="blob-num js-line-number" data-line-number="636"></td>
        <td id="LC636" class="blob-code blob-code-inner js-file-line">    {</td>
      </tr>
      <tr>
        <td id="L637" class="blob-num js-line-number" data-line-number="637"></td>
        <td id="LC637" class="blob-code blob-code-inner js-file-line">     <span class="pl-s"><span class="pl-pds">&quot;</span>name<span class="pl-pds">&quot;</span></span>: <span class="pl-s"><span class="pl-pds">&quot;</span>stdout<span class="pl-pds">&quot;</span></span>,</td>
      </tr>
      <tr>
        <td id="L638" class="blob-num js-line-number" data-line-number="638"></td>
        <td id="LC638" class="blob-code blob-code-inner js-file-line">     <span class="pl-s"><span class="pl-pds">&quot;</span>output_type<span class="pl-pds">&quot;</span></span>: <span class="pl-s"><span class="pl-pds">&quot;</span>stream<span class="pl-pds">&quot;</span></span>,</td>
      </tr>
      <tr>
        <td id="L639" class="blob-num js-line-number" data-line-number="639"></td>
        <td id="LC639" class="blob-code blob-code-inner js-file-line">     <span class="pl-s"><span class="pl-pds">&quot;</span>text<span class="pl-pds">&quot;</span></span>: [</td>
      </tr>
      <tr>
        <td id="L640" class="blob-num js-line-number" data-line-number="640"></td>
        <td id="LC640" class="blob-code blob-code-inner js-file-line">      <span class="pl-s"><span class="pl-pds">&quot;</span>[80.04173399 81.65532303 83.37394007 85.12975566 86.87174913 88.55589131<span class="pl-cce">\n</span><span class="pl-pds">&quot;</span></span>,</td>
      </tr>
      <tr>
        <td id="L641" class="blob-num js-line-number" data-line-number="641"></td>
        <td id="LC641" class="blob-code blob-code-inner js-file-line">      <span class="pl-s"><span class="pl-pds">&quot;</span> 90.14020422 91.58180605 92.81929841 93.78915889 87.77792991]<span class="pl-cce">\n</span><span class="pl-pds">&quot;</span></span></td>
      </tr>
      <tr>
        <td id="L642" class="blob-num js-line-number" data-line-number="642"></td>
        <td id="LC642" class="blob-code blob-code-inner js-file-line">     ]</td>
      </tr>
      <tr>
        <td id="L643" class="blob-num js-line-number" data-line-number="643"></td>
        <td id="LC643" class="blob-code blob-code-inner js-file-line">    }</td>
      </tr>
      <tr>
        <td id="L644" class="blob-num js-line-number" data-line-number="644"></td>
        <td id="LC644" class="blob-code blob-code-inner js-file-line">   ],</td>
      </tr>
      <tr>
        <td id="L645" class="blob-num js-line-number" data-line-number="645"></td>
        <td id="LC645" class="blob-code blob-code-inner js-file-line">   <span class="pl-s"><span class="pl-pds">&quot;</span>source<span class="pl-pds">&quot;</span></span>: [</td>
      </tr>
      <tr>
        <td id="L646" class="blob-num js-line-number" data-line-number="646"></td>
        <td id="LC646" class="blob-code blob-code-inner js-file-line">    <span class="pl-s"><span class="pl-pds">&quot;</span># --------------<span class="pl-cce">\n</span><span class="pl-pds">&quot;</span></span>,</td>
      </tr>
      <tr>
        <td id="L647" class="blob-num js-line-number" data-line-number="647"></td>
        <td id="LC647" class="blob-code blob-code-inner js-file-line">    <span class="pl-s"><span class="pl-pds">&quot;</span># Debugging Cell<span class="pl-cce">\n</span><span class="pl-pds">&quot;</span></span>,</td>
      </tr>
      <tr>
        <td id="L648" class="blob-num js-line-number" data-line-number="648"></td>
        <td id="LC648" class="blob-code blob-code-inner js-file-line">    <span class="pl-s"><span class="pl-pds">&quot;</span># --------------<span class="pl-cce">\n</span><span class="pl-pds">&quot;</span></span>,</td>
      </tr>
      <tr>
        <td id="L649" class="blob-num js-line-number" data-line-number="649"></td>
        <td id="LC649" class="blob-code blob-code-inner js-file-line">    <span class="pl-s"><span class="pl-pds">&quot;</span># Feel free to make any changes to this cell to debug your code<span class="pl-cce">\n</span><span class="pl-pds">&quot;</span></span>,</td>
      </tr>
      <tr>
        <td id="L650" class="blob-num js-line-number" data-line-number="650"></td>
        <td id="LC650" class="blob-code blob-code-inner js-file-line">    <span class="pl-s"><span class="pl-pds">&quot;</span><span class="pl-cce">\n</span><span class="pl-pds">&quot;</span></span>,</td>
      </tr>
      <tr>
        <td id="L651" class="blob-num js-line-number" data-line-number="651"></td>
        <td id="LC651" class="blob-code blob-code-inner js-file-line">    <span class="pl-s"><span class="pl-pds">&quot;</span># set up test environment<span class="pl-cce">\n</span><span class="pl-pds">&quot;</span></span>,</td>
      </tr>
      <tr>
        <td id="L652" class="blob-num js-line-number" data-line-number="652"></td>
        <td id="LC652" class="blob-code blob-code-inner js-file-line">    <span class="pl-s"><span class="pl-pds">&quot;</span>num_spaces = 10<span class="pl-cce">\n</span><span class="pl-pds">&quot;</span></span>,</td>
      </tr>
      <tr>
        <td id="L653" class="blob-num js-line-number" data-line-number="653"></td>
        <td id="LC653" class="blob-code blob-code-inner js-file-line">    <span class="pl-s"><span class="pl-pds">&quot;</span>num_prices = 4<span class="pl-cce">\n</span><span class="pl-pds">&quot;</span></span>,</td>
      </tr>
      <tr>
        <td id="L654" class="blob-num js-line-number" data-line-number="654"></td>
        <td id="LC654" class="blob-code blob-code-inner js-file-line">    <span class="pl-s"><span class="pl-pds">&quot;</span>env = tools.ParkingWorld(num_spaces, num_prices)<span class="pl-cce">\n</span><span class="pl-pds">&quot;</span></span>,</td>
      </tr>
      <tr>
        <td id="L655" class="blob-num js-line-number" data-line-number="655"></td>
        <td id="LC655" class="blob-code blob-code-inner js-file-line">    <span class="pl-s"><span class="pl-pds">&quot;</span><span class="pl-cce">\n</span><span class="pl-pds">&quot;</span></span>,</td>
      </tr>
      <tr>
        <td id="L656" class="blob-num js-line-number" data-line-number="656"></td>
        <td id="LC656" class="blob-code blob-code-inner js-file-line">    <span class="pl-s"><span class="pl-pds">&quot;</span># build test policy<span class="pl-cce">\n</span><span class="pl-pds">&quot;</span></span>,</td>
      </tr>
      <tr>
        <td id="L657" class="blob-num js-line-number" data-line-number="657"></td>
        <td id="LC657" class="blob-code blob-code-inner js-file-line">    <span class="pl-s"><span class="pl-pds">&quot;</span>city_policy = np.zeros((num_spaces + 1, num_prices))<span class="pl-cce">\n</span><span class="pl-pds">&quot;</span></span>,</td>
      </tr>
      <tr>
        <td id="L658" class="blob-num js-line-number" data-line-number="658"></td>
        <td id="LC658" class="blob-code blob-code-inner js-file-line">    <span class="pl-s"><span class="pl-pds">&quot;</span>city_policy[:, 1] = 1<span class="pl-cce">\n</span><span class="pl-pds">&quot;</span></span>,</td>
      </tr>
      <tr>
        <td id="L659" class="blob-num js-line-number" data-line-number="659"></td>
        <td id="LC659" class="blob-code blob-code-inner js-file-line">    <span class="pl-s"><span class="pl-pds">&quot;</span><span class="pl-cce">\n</span><span class="pl-pds">&quot;</span></span>,</td>
      </tr>
      <tr>
        <td id="L660" class="blob-num js-line-number" data-line-number="660"></td>
        <td id="LC660" class="blob-code blob-code-inner js-file-line">    <span class="pl-s"><span class="pl-pds">&quot;</span>gamma = 0.9<span class="pl-cce">\n</span><span class="pl-pds">&quot;</span></span>,</td>
      </tr>
      <tr>
        <td id="L661" class="blob-num js-line-number" data-line-number="661"></td>
        <td id="LC661" class="blob-code blob-code-inner js-file-line">    <span class="pl-s"><span class="pl-pds">&quot;</span>theta = 0.1<span class="pl-cce">\n</span><span class="pl-pds">&quot;</span></span>,</td>
      </tr>
      <tr>
        <td id="L662" class="blob-num js-line-number" data-line-number="662"></td>
        <td id="LC662" class="blob-code blob-code-inner js-file-line">    <span class="pl-s"><span class="pl-pds">&quot;</span><span class="pl-cce">\n</span><span class="pl-pds">&quot;</span></span>,</td>
      </tr>
      <tr>
        <td id="L663" class="blob-num js-line-number" data-line-number="663"></td>
        <td id="LC663" class="blob-code blob-code-inner js-file-line">    <span class="pl-s"><span class="pl-pds">&quot;</span>V = np.zeros(num_spaces + 1)<span class="pl-cce">\n</span><span class="pl-pds">&quot;</span></span>,</td>
      </tr>
      <tr>
        <td id="L664" class="blob-num js-line-number" data-line-number="664"></td>
        <td id="LC664" class="blob-code blob-code-inner js-file-line">    <span class="pl-s"><span class="pl-pds">&quot;</span>V = evaluate_policy(env, V, city_policy, gamma, theta)<span class="pl-cce">\n</span><span class="pl-pds">&quot;</span></span>,</td>
      </tr>
      <tr>
        <td id="L665" class="blob-num js-line-number" data-line-number="665"></td>
        <td id="LC665" class="blob-code blob-code-inner js-file-line">    <span class="pl-s"><span class="pl-pds">&quot;</span><span class="pl-cce">\n</span><span class="pl-pds">&quot;</span></span>,</td>
      </tr>
      <tr>
        <td id="L666" class="blob-num js-line-number" data-line-number="666"></td>
        <td id="LC666" class="blob-code blob-code-inner js-file-line">    <span class="pl-s"><span class="pl-pds">&quot;</span>print(V)<span class="pl-pds">&quot;</span></span></td>
      </tr>
      <tr>
        <td id="L667" class="blob-num js-line-number" data-line-number="667"></td>
        <td id="LC667" class="blob-code blob-code-inner js-file-line">   ]</td>
      </tr>
      <tr>
        <td id="L668" class="blob-num js-line-number" data-line-number="668"></td>
        <td id="LC668" class="blob-code blob-code-inner js-file-line">  },</td>
      </tr>
      <tr>
        <td id="L669" class="blob-num js-line-number" data-line-number="669"></td>
        <td id="LC669" class="blob-code blob-code-inner js-file-line">  {</td>
      </tr>
      <tr>
        <td id="L670" class="blob-num js-line-number" data-line-number="670"></td>
        <td id="LC670" class="blob-code blob-code-inner js-file-line">   <span class="pl-s"><span class="pl-pds">&quot;</span>cell_type<span class="pl-pds">&quot;</span></span>: <span class="pl-s"><span class="pl-pds">&quot;</span>code<span class="pl-pds">&quot;</span></span>,</td>
      </tr>
      <tr>
        <td id="L671" class="blob-num js-line-number" data-line-number="671"></td>
        <td id="LC671" class="blob-code blob-code-inner js-file-line">   <span class="pl-s"><span class="pl-pds">&quot;</span>execution_count<span class="pl-pds">&quot;</span></span>: <span class="pl-c1">14</span>,</td>
      </tr>
      <tr>
        <td id="L672" class="blob-num js-line-number" data-line-number="672"></td>
        <td id="LC672" class="blob-code blob-code-inner js-file-line">   <span class="pl-s"><span class="pl-pds">&quot;</span>metadata<span class="pl-pds">&quot;</span></span>: {</td>
      </tr>
      <tr>
        <td id="L673" class="blob-num js-line-number" data-line-number="673"></td>
        <td id="LC673" class="blob-code blob-code-inner js-file-line">    <span class="pl-s"><span class="pl-pds">&quot;</span>deletable<span class="pl-pds">&quot;</span></span>: <span class="pl-c1">false</span>,</td>
      </tr>
      <tr>
        <td id="L674" class="blob-num js-line-number" data-line-number="674"></td>
        <td id="LC674" class="blob-code blob-code-inner js-file-line">    <span class="pl-s"><span class="pl-pds">&quot;</span>editable<span class="pl-pds">&quot;</span></span>: <span class="pl-c1">false</span>,</td>
      </tr>
      <tr>
        <td id="L675" class="blob-num js-line-number" data-line-number="675"></td>
        <td id="LC675" class="blob-code blob-code-inner js-file-line">    <span class="pl-s"><span class="pl-pds">&quot;</span>nbgrader<span class="pl-pds">&quot;</span></span>: {</td>
      </tr>
      <tr>
        <td id="L676" class="blob-num js-line-number" data-line-number="676"></td>
        <td id="LC676" class="blob-code blob-code-inner js-file-line">     <span class="pl-s"><span class="pl-pds">&quot;</span>cell_type<span class="pl-pds">&quot;</span></span>: <span class="pl-s"><span class="pl-pds">&quot;</span>code<span class="pl-pds">&quot;</span></span>,</td>
      </tr>
      <tr>
        <td id="L677" class="blob-num js-line-number" data-line-number="677"></td>
        <td id="LC677" class="blob-code blob-code-inner js-file-line">     <span class="pl-s"><span class="pl-pds">&quot;</span>checksum<span class="pl-pds">&quot;</span></span>: <span class="pl-s"><span class="pl-pds">&quot;</span>fe42a26382eb7ed41954597ed701513c<span class="pl-pds">&quot;</span></span>,</td>
      </tr>
      <tr>
        <td id="L678" class="blob-num js-line-number" data-line-number="678"></td>
        <td id="LC678" class="blob-code blob-code-inner js-file-line">     <span class="pl-s"><span class="pl-pds">&quot;</span>grade<span class="pl-pds">&quot;</span></span>: <span class="pl-c1">true</span>,</td>
      </tr>
      <tr>
        <td id="L679" class="blob-num js-line-number" data-line-number="679"></td>
        <td id="LC679" class="blob-code blob-code-inner js-file-line">     <span class="pl-s"><span class="pl-pds">&quot;</span>grade_id<span class="pl-pds">&quot;</span></span>: <span class="pl-s"><span class="pl-pds">&quot;</span>cell-104d8ba132c36b33<span class="pl-pds">&quot;</span></span>,</td>
      </tr>
      <tr>
        <td id="L680" class="blob-num js-line-number" data-line-number="680"></td>
        <td id="LC680" class="blob-code blob-code-inner js-file-line">     <span class="pl-s"><span class="pl-pds">&quot;</span>locked<span class="pl-pds">&quot;</span></span>: <span class="pl-c1">true</span>,</td>
      </tr>
      <tr>
        <td id="L681" class="blob-num js-line-number" data-line-number="681"></td>
        <td id="LC681" class="blob-code blob-code-inner js-file-line">     <span class="pl-s"><span class="pl-pds">&quot;</span>points<span class="pl-pds">&quot;</span></span>: <span class="pl-c1">10</span>,</td>
      </tr>
      <tr>
        <td id="L682" class="blob-num js-line-number" data-line-number="682"></td>
        <td id="LC682" class="blob-code blob-code-inner js-file-line">     <span class="pl-s"><span class="pl-pds">&quot;</span>schema_version<span class="pl-pds">&quot;</span></span>: <span class="pl-c1">3</span>,</td>
      </tr>
      <tr>
        <td id="L683" class="blob-num js-line-number" data-line-number="683"></td>
        <td id="LC683" class="blob-code blob-code-inner js-file-line">     <span class="pl-s"><span class="pl-pds">&quot;</span>solution<span class="pl-pds">&quot;</span></span>: <span class="pl-c1">false</span>,</td>
      </tr>
      <tr>
        <td id="L684" class="blob-num js-line-number" data-line-number="684"></td>
        <td id="LC684" class="blob-code blob-code-inner js-file-line">     <span class="pl-s"><span class="pl-pds">&quot;</span>task<span class="pl-pds">&quot;</span></span>: <span class="pl-c1">false</span></td>
      </tr>
      <tr>
        <td id="L685" class="blob-num js-line-number" data-line-number="685"></td>
        <td id="LC685" class="blob-code blob-code-inner js-file-line">    }</td>
      </tr>
      <tr>
        <td id="L686" class="blob-num js-line-number" data-line-number="686"></td>
        <td id="LC686" class="blob-code blob-code-inner js-file-line">   },</td>
      </tr>
      <tr>
        <td id="L687" class="blob-num js-line-number" data-line-number="687"></td>
        <td id="LC687" class="blob-code blob-code-inner js-file-line">   <span class="pl-s"><span class="pl-pds">&quot;</span>outputs<span class="pl-pds">&quot;</span></span>: [],</td>
      </tr>
      <tr>
        <td id="L688" class="blob-num js-line-number" data-line-number="688"></td>
        <td id="LC688" class="blob-code blob-code-inner js-file-line">   <span class="pl-s"><span class="pl-pds">&quot;</span>source<span class="pl-pds">&quot;</span></span>: [</td>
      </tr>
      <tr>
        <td id="L689" class="blob-num js-line-number" data-line-number="689"></td>
        <td id="LC689" class="blob-code blob-code-inner js-file-line">    <span class="pl-s"><span class="pl-pds">&quot;</span># -----------<span class="pl-cce">\n</span><span class="pl-pds">&quot;</span></span>,</td>
      </tr>
      <tr>
        <td id="L690" class="blob-num js-line-number" data-line-number="690"></td>
        <td id="LC690" class="blob-code blob-code-inner js-file-line">    <span class="pl-s"><span class="pl-pds">&quot;</span># Tested Cell<span class="pl-cce">\n</span><span class="pl-pds">&quot;</span></span>,</td>
      </tr>
      <tr>
        <td id="L691" class="blob-num js-line-number" data-line-number="691"></td>
        <td id="LC691" class="blob-code blob-code-inner js-file-line">    <span class="pl-s"><span class="pl-pds">&quot;</span># -----------<span class="pl-cce">\n</span><span class="pl-pds">&quot;</span></span>,</td>
      </tr>
      <tr>
        <td id="L692" class="blob-num js-line-number" data-line-number="692"></td>
        <td id="LC692" class="blob-code blob-code-inner js-file-line">    <span class="pl-s"><span class="pl-pds">&quot;</span># The contents of the cell will be tested by the autograder.<span class="pl-cce">\n</span><span class="pl-pds">&quot;</span></span>,</td>
      </tr>
      <tr>
        <td id="L693" class="blob-num js-line-number" data-line-number="693"></td>
        <td id="LC693" class="blob-code blob-code-inner js-file-line">    <span class="pl-s"><span class="pl-pds">&quot;</span># If they do not pass here, they will not pass there.<span class="pl-cce">\n</span><span class="pl-pds">&quot;</span></span>,</td>
      </tr>
      <tr>
        <td id="L694" class="blob-num js-line-number" data-line-number="694"></td>
        <td id="LC694" class="blob-code blob-code-inner js-file-line">    <span class="pl-s"><span class="pl-pds">&quot;</span><span class="pl-cce">\n</span><span class="pl-pds">&quot;</span></span>,</td>
      </tr>
      <tr>
        <td id="L695" class="blob-num js-line-number" data-line-number="695"></td>
        <td id="LC695" class="blob-code blob-code-inner js-file-line">    <span class="pl-s"><span class="pl-pds">&quot;</span># set up test environment<span class="pl-cce">\n</span><span class="pl-pds">&quot;</span></span>,</td>
      </tr>
      <tr>
        <td id="L696" class="blob-num js-line-number" data-line-number="696"></td>
        <td id="LC696" class="blob-code blob-code-inner js-file-line">    <span class="pl-s"><span class="pl-pds">&quot;</span>num_spaces = 10<span class="pl-cce">\n</span><span class="pl-pds">&quot;</span></span>,</td>
      </tr>
      <tr>
        <td id="L697" class="blob-num js-line-number" data-line-number="697"></td>
        <td id="LC697" class="blob-code blob-code-inner js-file-line">    <span class="pl-s"><span class="pl-pds">&quot;</span>num_prices = 4<span class="pl-cce">\n</span><span class="pl-pds">&quot;</span></span>,</td>
      </tr>
      <tr>
        <td id="L698" class="blob-num js-line-number" data-line-number="698"></td>
        <td id="LC698" class="blob-code blob-code-inner js-file-line">    <span class="pl-s"><span class="pl-pds">&quot;</span>env = tools.ParkingWorld(num_spaces, num_prices)<span class="pl-cce">\n</span><span class="pl-pds">&quot;</span></span>,</td>
      </tr>
      <tr>
        <td id="L699" class="blob-num js-line-number" data-line-number="699"></td>
        <td id="LC699" class="blob-code blob-code-inner js-file-line">    <span class="pl-s"><span class="pl-pds">&quot;</span><span class="pl-cce">\n</span><span class="pl-pds">&quot;</span></span>,</td>
      </tr>
      <tr>
        <td id="L700" class="blob-num js-line-number" data-line-number="700"></td>
        <td id="LC700" class="blob-code blob-code-inner js-file-line">    <span class="pl-s"><span class="pl-pds">&quot;</span># build test policy<span class="pl-cce">\n</span><span class="pl-pds">&quot;</span></span>,</td>
      </tr>
      <tr>
        <td id="L701" class="blob-num js-line-number" data-line-number="701"></td>
        <td id="LC701" class="blob-code blob-code-inner js-file-line">    <span class="pl-s"><span class="pl-pds">&quot;</span>city_policy = np.zeros((num_spaces + 1, num_prices))<span class="pl-cce">\n</span><span class="pl-pds">&quot;</span></span>,</td>
      </tr>
      <tr>
        <td id="L702" class="blob-num js-line-number" data-line-number="702"></td>
        <td id="LC702" class="blob-code blob-code-inner js-file-line">    <span class="pl-s"><span class="pl-pds">&quot;</span>city_policy[:, 1] = 1<span class="pl-cce">\n</span><span class="pl-pds">&quot;</span></span>,</td>
      </tr>
      <tr>
        <td id="L703" class="blob-num js-line-number" data-line-number="703"></td>
        <td id="LC703" class="blob-code blob-code-inner js-file-line">    <span class="pl-s"><span class="pl-pds">&quot;</span><span class="pl-cce">\n</span><span class="pl-pds">&quot;</span></span>,</td>
      </tr>
      <tr>
        <td id="L704" class="blob-num js-line-number" data-line-number="704"></td>
        <td id="LC704" class="blob-code blob-code-inner js-file-line">    <span class="pl-s"><span class="pl-pds">&quot;</span>gamma = 0.9<span class="pl-cce">\n</span><span class="pl-pds">&quot;</span></span>,</td>
      </tr>
      <tr>
        <td id="L705" class="blob-num js-line-number" data-line-number="705"></td>
        <td id="LC705" class="blob-code blob-code-inner js-file-line">    <span class="pl-s"><span class="pl-pds">&quot;</span>theta = 0.1<span class="pl-cce">\n</span><span class="pl-pds">&quot;</span></span>,</td>
      </tr>
      <tr>
        <td id="L706" class="blob-num js-line-number" data-line-number="706"></td>
        <td id="LC706" class="blob-code blob-code-inner js-file-line">    <span class="pl-s"><span class="pl-pds">&quot;</span><span class="pl-cce">\n</span><span class="pl-pds">&quot;</span></span>,</td>
      </tr>
      <tr>
        <td id="L707" class="blob-num js-line-number" data-line-number="707"></td>
        <td id="LC707" class="blob-code blob-code-inner js-file-line">    <span class="pl-s"><span class="pl-pds">&quot;</span>V = np.zeros(num_spaces + 1)<span class="pl-cce">\n</span><span class="pl-pds">&quot;</span></span>,</td>
      </tr>
      <tr>
        <td id="L708" class="blob-num js-line-number" data-line-number="708"></td>
        <td id="LC708" class="blob-code blob-code-inner js-file-line">    <span class="pl-s"><span class="pl-pds">&quot;</span>V = evaluate_policy(env, V, city_policy, gamma, theta)<span class="pl-cce">\n</span><span class="pl-pds">&quot;</span></span>,</td>
      </tr>
      <tr>
        <td id="L709" class="blob-num js-line-number" data-line-number="709"></td>
        <td id="LC709" class="blob-code blob-code-inner js-file-line">    <span class="pl-s"><span class="pl-pds">&quot;</span><span class="pl-cce">\n</span><span class="pl-pds">&quot;</span></span>,</td>
      </tr>
      <tr>
        <td id="L710" class="blob-num js-line-number" data-line-number="710"></td>
        <td id="LC710" class="blob-code blob-code-inner js-file-line">    <span class="pl-s"><span class="pl-pds">&quot;</span># test the value function<span class="pl-cce">\n</span><span class="pl-pds">&quot;</span></span>,</td>
      </tr>
      <tr>
        <td id="L711" class="blob-num js-line-number" data-line-number="711"></td>
        <td id="LC711" class="blob-code blob-code-inner js-file-line">    <span class="pl-s"><span class="pl-pds">&quot;</span>answer = [80.04, 81.65, 83.37, 85.12, 86.87, 88.55, 90.14, 91.58, 92.81, 93.78, 87.77]<span class="pl-cce">\n</span><span class="pl-pds">&quot;</span></span>,</td>
      </tr>
      <tr>
        <td id="L712" class="blob-num js-line-number" data-line-number="712"></td>
        <td id="LC712" class="blob-code blob-code-inner js-file-line">    <span class="pl-s"><span class="pl-pds">&quot;</span><span class="pl-cce">\n</span><span class="pl-pds">&quot;</span></span>,</td>
      </tr>
      <tr>
        <td id="L713" class="blob-num js-line-number" data-line-number="713"></td>
        <td id="LC713" class="blob-code blob-code-inner js-file-line">    <span class="pl-s"><span class="pl-pds">&quot;</span># make sure the value function is within 2 decimal places of the correct answer<span class="pl-cce">\n</span><span class="pl-pds">&quot;</span></span>,</td>
      </tr>
      <tr>
        <td id="L714" class="blob-num js-line-number" data-line-number="714"></td>
        <td id="LC714" class="blob-code blob-code-inner js-file-line">    <span class="pl-s"><span class="pl-pds">&quot;</span>assert grader.near(V, answer, 1e-2)<span class="pl-pds">&quot;</span></span></td>
      </tr>
      <tr>
        <td id="L715" class="blob-num js-line-number" data-line-number="715"></td>
        <td id="LC715" class="blob-code blob-code-inner js-file-line">   ]</td>
      </tr>
      <tr>
        <td id="L716" class="blob-num js-line-number" data-line-number="716"></td>
        <td id="LC716" class="blob-code blob-code-inner js-file-line">  },</td>
      </tr>
      <tr>
        <td id="L717" class="blob-num js-line-number" data-line-number="717"></td>
        <td id="LC717" class="blob-code blob-code-inner js-file-line">  {</td>
      </tr>
      <tr>
        <td id="L718" class="blob-num js-line-number" data-line-number="718"></td>
        <td id="LC718" class="blob-code blob-code-inner js-file-line">   <span class="pl-s"><span class="pl-pds">&quot;</span>cell_type<span class="pl-pds">&quot;</span></span>: <span class="pl-s"><span class="pl-pds">&quot;</span>markdown<span class="pl-pds">&quot;</span></span>,</td>
      </tr>
      <tr>
        <td id="L719" class="blob-num js-line-number" data-line-number="719"></td>
        <td id="LC719" class="blob-code blob-code-inner js-file-line">   <span class="pl-s"><span class="pl-pds">&quot;</span>metadata<span class="pl-pds">&quot;</span></span>: {</td>
      </tr>
      <tr>
        <td id="L720" class="blob-num js-line-number" data-line-number="720"></td>
        <td id="LC720" class="blob-code blob-code-inner js-file-line">    <span class="pl-s"><span class="pl-pds">&quot;</span>deletable<span class="pl-pds">&quot;</span></span>: <span class="pl-c1">false</span>,</td>
      </tr>
      <tr>
        <td id="L721" class="blob-num js-line-number" data-line-number="721"></td>
        <td id="LC721" class="blob-code blob-code-inner js-file-line">    <span class="pl-s"><span class="pl-pds">&quot;</span>editable<span class="pl-pds">&quot;</span></span>: <span class="pl-c1">false</span>,</td>
      </tr>
      <tr>
        <td id="L722" class="blob-num js-line-number" data-line-number="722"></td>
        <td id="LC722" class="blob-code blob-code-inner js-file-line">    <span class="pl-s"><span class="pl-pds">&quot;</span>nbgrader<span class="pl-pds">&quot;</span></span>: {</td>
      </tr>
      <tr>
        <td id="L723" class="blob-num js-line-number" data-line-number="723"></td>
        <td id="LC723" class="blob-code blob-code-inner js-file-line">     <span class="pl-s"><span class="pl-pds">&quot;</span>cell_type<span class="pl-pds">&quot;</span></span>: <span class="pl-s"><span class="pl-pds">&quot;</span>markdown<span class="pl-pds">&quot;</span></span>,</td>
      </tr>
      <tr>
        <td id="L724" class="blob-num js-line-number" data-line-number="724"></td>
        <td id="LC724" class="blob-code blob-code-inner js-file-line">     <span class="pl-s"><span class="pl-pds">&quot;</span>checksum<span class="pl-pds">&quot;</span></span>: <span class="pl-s"><span class="pl-pds">&quot;</span>0f19b2dc70097c6425bbc3bd25a2a500<span class="pl-pds">&quot;</span></span>,</td>
      </tr>
      <tr>
        <td id="L725" class="blob-num js-line-number" data-line-number="725"></td>
        <td id="LC725" class="blob-code blob-code-inner js-file-line">     <span class="pl-s"><span class="pl-pds">&quot;</span>grade<span class="pl-pds">&quot;</span></span>: <span class="pl-c1">false</span>,</td>
      </tr>
      <tr>
        <td id="L726" class="blob-num js-line-number" data-line-number="726"></td>
        <td id="LC726" class="blob-code blob-code-inner js-file-line">     <span class="pl-s"><span class="pl-pds">&quot;</span>grade_id<span class="pl-pds">&quot;</span></span>: <span class="pl-s"><span class="pl-pds">&quot;</span>cell-b612ffe570dd7e29<span class="pl-pds">&quot;</span></span>,</td>
      </tr>
      <tr>
        <td id="L727" class="blob-num js-line-number" data-line-number="727"></td>
        <td id="LC727" class="blob-code blob-code-inner js-file-line">     <span class="pl-s"><span class="pl-pds">&quot;</span>locked<span class="pl-pds">&quot;</span></span>: <span class="pl-c1">true</span>,</td>
      </tr>
      <tr>
        <td id="L728" class="blob-num js-line-number" data-line-number="728"></td>
        <td id="LC728" class="blob-code blob-code-inner js-file-line">     <span class="pl-s"><span class="pl-pds">&quot;</span>schema_version<span class="pl-pds">&quot;</span></span>: <span class="pl-c1">3</span>,</td>
      </tr>
      <tr>
        <td id="L729" class="blob-num js-line-number" data-line-number="729"></td>
        <td id="LC729" class="blob-code blob-code-inner js-file-line">     <span class="pl-s"><span class="pl-pds">&quot;</span>solution<span class="pl-pds">&quot;</span></span>: <span class="pl-c1">false</span></td>
      </tr>
      <tr>
        <td id="L730" class="blob-num js-line-number" data-line-number="730"></td>
        <td id="LC730" class="blob-code blob-code-inner js-file-line">    }</td>
      </tr>
      <tr>
        <td id="L731" class="blob-num js-line-number" data-line-number="731"></td>
        <td id="LC731" class="blob-code blob-code-inner js-file-line">   },</td>
      </tr>
      <tr>
        <td id="L732" class="blob-num js-line-number" data-line-number="732"></td>
        <td id="LC732" class="blob-code blob-code-inner js-file-line">   <span class="pl-s"><span class="pl-pds">&quot;</span>source<span class="pl-pds">&quot;</span></span>: [</td>
      </tr>
      <tr>
        <td id="L733" class="blob-num js-line-number" data-line-number="733"></td>
        <td id="LC733" class="blob-code blob-code-inner js-file-line">    <span class="pl-s"><span class="pl-pds">&quot;</span>You can use the ``plot`` function to visualize the final value function and policy.<span class="pl-pds">&quot;</span></span></td>
      </tr>
      <tr>
        <td id="L734" class="blob-num js-line-number" data-line-number="734"></td>
        <td id="LC734" class="blob-code blob-code-inner js-file-line">   ]</td>
      </tr>
      <tr>
        <td id="L735" class="blob-num js-line-number" data-line-number="735"></td>
        <td id="LC735" class="blob-code blob-code-inner js-file-line">  },</td>
      </tr>
      <tr>
        <td id="L736" class="blob-num js-line-number" data-line-number="736"></td>
        <td id="LC736" class="blob-code blob-code-inner js-file-line">  {</td>
      </tr>
      <tr>
        <td id="L737" class="blob-num js-line-number" data-line-number="737"></td>
        <td id="LC737" class="blob-code blob-code-inner js-file-line">   <span class="pl-s"><span class="pl-pds">&quot;</span>cell_type<span class="pl-pds">&quot;</span></span>: <span class="pl-s"><span class="pl-pds">&quot;</span>code<span class="pl-pds">&quot;</span></span>,</td>
      </tr>
      <tr>
        <td id="L738" class="blob-num js-line-number" data-line-number="738"></td>
        <td id="LC738" class="blob-code blob-code-inner js-file-line">   <span class="pl-s"><span class="pl-pds">&quot;</span>execution_count<span class="pl-pds">&quot;</span></span>: <span class="pl-c1">15</span>,</td>
      </tr>
      <tr>
        <td id="L739" class="blob-num js-line-number" data-line-number="739"></td>
        <td id="LC739" class="blob-code blob-code-inner js-file-line">   <span class="pl-s"><span class="pl-pds">&quot;</span>metadata<span class="pl-pds">&quot;</span></span>: {</td>
      </tr>
      <tr>
        <td id="L740" class="blob-num js-line-number" data-line-number="740"></td>
        <td id="LC740" class="blob-code blob-code-inner js-file-line">    <span class="pl-s"><span class="pl-pds">&quot;</span>deletable<span class="pl-pds">&quot;</span></span>: <span class="pl-c1">false</span>,</td>
      </tr>
      <tr>
        <td id="L741" class="blob-num js-line-number" data-line-number="741"></td>
        <td id="LC741" class="blob-code blob-code-inner js-file-line">    <span class="pl-s"><span class="pl-pds">&quot;</span>editable<span class="pl-pds">&quot;</span></span>: <span class="pl-c1">false</span>,</td>
      </tr>
      <tr>
        <td id="L742" class="blob-num js-line-number" data-line-number="742"></td>
        <td id="LC742" class="blob-code blob-code-inner js-file-line">    <span class="pl-s"><span class="pl-pds">&quot;</span>nbgrader<span class="pl-pds">&quot;</span></span>: {</td>
      </tr>
      <tr>
        <td id="L743" class="blob-num js-line-number" data-line-number="743"></td>
        <td id="LC743" class="blob-code blob-code-inner js-file-line">     <span class="pl-s"><span class="pl-pds">&quot;</span>cell_type<span class="pl-pds">&quot;</span></span>: <span class="pl-s"><span class="pl-pds">&quot;</span>code<span class="pl-pds">&quot;</span></span>,</td>
      </tr>
      <tr>
        <td id="L744" class="blob-num js-line-number" data-line-number="744"></td>
        <td id="LC744" class="blob-code blob-code-inner js-file-line">     <span class="pl-s"><span class="pl-pds">&quot;</span>checksum<span class="pl-pds">&quot;</span></span>: <span class="pl-s"><span class="pl-pds">&quot;</span>ff7b2798b5af88f6444a49099599a06a<span class="pl-pds">&quot;</span></span>,</td>
      </tr>
      <tr>
        <td id="L745" class="blob-num js-line-number" data-line-number="745"></td>
        <td id="LC745" class="blob-code blob-code-inner js-file-line">     <span class="pl-s"><span class="pl-pds">&quot;</span>grade<span class="pl-pds">&quot;</span></span>: <span class="pl-c1">false</span>,</td>
      </tr>
      <tr>
        <td id="L746" class="blob-num js-line-number" data-line-number="746"></td>
        <td id="LC746" class="blob-code blob-code-inner js-file-line">     <span class="pl-s"><span class="pl-pds">&quot;</span>grade_id<span class="pl-pds">&quot;</span></span>: <span class="pl-s"><span class="pl-pds">&quot;</span>cell-fe5cf61a03a028fc<span class="pl-pds">&quot;</span></span>,</td>
      </tr>
      <tr>
        <td id="L747" class="blob-num js-line-number" data-line-number="747"></td>
        <td id="LC747" class="blob-code blob-code-inner js-file-line">     <span class="pl-s"><span class="pl-pds">&quot;</span>locked<span class="pl-pds">&quot;</span></span>: <span class="pl-c1">true</span>,</td>
      </tr>
      <tr>
        <td id="L748" class="blob-num js-line-number" data-line-number="748"></td>
        <td id="LC748" class="blob-code blob-code-inner js-file-line">     <span class="pl-s"><span class="pl-pds">&quot;</span>schema_version<span class="pl-pds">&quot;</span></span>: <span class="pl-c1">3</span>,</td>
      </tr>
      <tr>
        <td id="L749" class="blob-num js-line-number" data-line-number="749"></td>
        <td id="LC749" class="blob-code blob-code-inner js-file-line">     <span class="pl-s"><span class="pl-pds">&quot;</span>solution<span class="pl-pds">&quot;</span></span>: <span class="pl-c1">false</span></td>
      </tr>
      <tr>
        <td id="L750" class="blob-num js-line-number" data-line-number="750"></td>
        <td id="LC750" class="blob-code blob-code-inner js-file-line">    }</td>
      </tr>
      <tr>
        <td id="L751" class="blob-num js-line-number" data-line-number="751"></td>
        <td id="LC751" class="blob-code blob-code-inner js-file-line">   },</td>
      </tr>
      <tr>
        <td id="L752" class="blob-num js-line-number" data-line-number="752"></td>
        <td id="LC752" class="blob-code blob-code-inner js-file-line">   <span class="pl-s"><span class="pl-pds">&quot;</span>outputs<span class="pl-pds">&quot;</span></span>: [</td>
      </tr>
      <tr>
        <td id="L753" class="blob-num js-line-number" data-line-number="753"></td>
        <td id="LC753" class="blob-code blob-code-inner js-file-line">    {</td>
      </tr>
      <tr>
        <td id="L754" class="blob-num js-line-number" data-line-number="754"></td>
        <td id="LC754" class="blob-code blob-code-inner js-file-line">     <span class="pl-s"><span class="pl-pds">&quot;</span>data<span class="pl-pds">&quot;</span></span>: {</td>
      </tr>
      <tr>
        <td id="L755" class="blob-num js-line-number" data-line-number="755"></td>
        <td id="LC755" class="blob-code blob-code-inner js-file-line">      &quot;image/png&quot;: &quot;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\n&quot;,</td>
      </tr>
      <tr>
        <td id="L756" class="blob-num js-line-number" data-line-number="756"></td>
        <td id="LC756" class="blob-code blob-code-inner js-file-line">      <span class="pl-s"><span class="pl-pds">&quot;</span>text/plain<span class="pl-pds">&quot;</span></span>: [</td>
      </tr>
      <tr>
        <td id="L757" class="blob-num js-line-number" data-line-number="757"></td>
        <td id="LC757" class="blob-code blob-code-inner js-file-line">       <span class="pl-s"><span class="pl-pds">&quot;</span>&lt;Figure size 900x360 with 3 Axes&gt;<span class="pl-pds">&quot;</span></span></td>
      </tr>
      <tr>
        <td id="L758" class="blob-num js-line-number" data-line-number="758"></td>
        <td id="LC758" class="blob-code blob-code-inner js-file-line">      ]</td>
      </tr>
      <tr>
        <td id="L759" class="blob-num js-line-number" data-line-number="759"></td>
        <td id="LC759" class="blob-code blob-code-inner js-file-line">     },</td>
      </tr>
      <tr>
        <td id="L760" class="blob-num js-line-number" data-line-number="760"></td>
        <td id="LC760" class="blob-code blob-code-inner js-file-line">     <span class="pl-s"><span class="pl-pds">&quot;</span>metadata<span class="pl-pds">&quot;</span></span>: {},</td>
      </tr>
      <tr>
        <td id="L761" class="blob-num js-line-number" data-line-number="761"></td>
        <td id="LC761" class="blob-code blob-code-inner js-file-line">     <span class="pl-s"><span class="pl-pds">&quot;</span>output_type<span class="pl-pds">&quot;</span></span>: <span class="pl-s"><span class="pl-pds">&quot;</span>display_data<span class="pl-pds">&quot;</span></span></td>
      </tr>
      <tr>
        <td id="L762" class="blob-num js-line-number" data-line-number="762"></td>
        <td id="LC762" class="blob-code blob-code-inner js-file-line">    }</td>
      </tr>
      <tr>
        <td id="L763" class="blob-num js-line-number" data-line-number="763"></td>
        <td id="LC763" class="blob-code blob-code-inner js-file-line">   ],</td>
      </tr>
      <tr>
        <td id="L764" class="blob-num js-line-number" data-line-number="764"></td>
        <td id="LC764" class="blob-code blob-code-inner js-file-line">   <span class="pl-s"><span class="pl-pds">&quot;</span>source<span class="pl-pds">&quot;</span></span>: [</td>
      </tr>
      <tr>
        <td id="L765" class="blob-num js-line-number" data-line-number="765"></td>
        <td id="LC765" class="blob-code blob-code-inner js-file-line">    <span class="pl-s"><span class="pl-pds">&quot;</span># lock<span class="pl-cce">\n</span><span class="pl-pds">&quot;</span></span>,</td>
      </tr>
      <tr>
        <td id="L766" class="blob-num js-line-number" data-line-number="766"></td>
        <td id="LC766" class="blob-code blob-code-inner js-file-line">    <span class="pl-s"><span class="pl-pds">&quot;</span>tools.plot(V, city_policy)<span class="pl-pds">&quot;</span></span></td>
      </tr>
      <tr>
        <td id="L767" class="blob-num js-line-number" data-line-number="767"></td>
        <td id="LC767" class="blob-code blob-code-inner js-file-line">   ]</td>
      </tr>
      <tr>
        <td id="L768" class="blob-num js-line-number" data-line-number="768"></td>
        <td id="LC768" class="blob-code blob-code-inner js-file-line">  },</td>
      </tr>
      <tr>
        <td id="L769" class="blob-num js-line-number" data-line-number="769"></td>
        <td id="LC769" class="blob-code blob-code-inner js-file-line">  {</td>
      </tr>
      <tr>
        <td id="L770" class="blob-num js-line-number" data-line-number="770"></td>
        <td id="LC770" class="blob-code blob-code-inner js-file-line">   <span class="pl-s"><span class="pl-pds">&quot;</span>cell_type<span class="pl-pds">&quot;</span></span>: <span class="pl-s"><span class="pl-pds">&quot;</span>markdown<span class="pl-pds">&quot;</span></span>,</td>
      </tr>
      <tr>
        <td id="L771" class="blob-num js-line-number" data-line-number="771"></td>
        <td id="LC771" class="blob-code blob-code-inner js-file-line">   <span class="pl-s"><span class="pl-pds">&quot;</span>metadata<span class="pl-pds">&quot;</span></span>: {</td>
      </tr>
      <tr>
        <td id="L772" class="blob-num js-line-number" data-line-number="772"></td>
        <td id="LC772" class="blob-code blob-code-inner js-file-line">    <span class="pl-s"><span class="pl-pds">&quot;</span>deletable<span class="pl-pds">&quot;</span></span>: <span class="pl-c1">false</span>,</td>
      </tr>
      <tr>
        <td id="L773" class="blob-num js-line-number" data-line-number="773"></td>
        <td id="LC773" class="blob-code blob-code-inner js-file-line">    <span class="pl-s"><span class="pl-pds">&quot;</span>editable<span class="pl-pds">&quot;</span></span>: <span class="pl-c1">false</span>,</td>
      </tr>
      <tr>
        <td id="L774" class="blob-num js-line-number" data-line-number="774"></td>
        <td id="LC774" class="blob-code blob-code-inner js-file-line">    <span class="pl-s"><span class="pl-pds">&quot;</span>nbgrader<span class="pl-pds">&quot;</span></span>: {</td>
      </tr>
      <tr>
        <td id="L775" class="blob-num js-line-number" data-line-number="775"></td>
        <td id="LC775" class="blob-code blob-code-inner js-file-line">     <span class="pl-s"><span class="pl-pds">&quot;</span>cell_type<span class="pl-pds">&quot;</span></span>: <span class="pl-s"><span class="pl-pds">&quot;</span>markdown<span class="pl-pds">&quot;</span></span>,</td>
      </tr>
      <tr>
        <td id="L776" class="blob-num js-line-number" data-line-number="776"></td>
        <td id="LC776" class="blob-code blob-code-inner js-file-line">     <span class="pl-s"><span class="pl-pds">&quot;</span>checksum<span class="pl-pds">&quot;</span></span>: <span class="pl-s"><span class="pl-pds">&quot;</span>387eb9f1789b50daaa10e3503117525c<span class="pl-pds">&quot;</span></span>,</td>
      </tr>
      <tr>
        <td id="L777" class="blob-num js-line-number" data-line-number="777"></td>
        <td id="LC777" class="blob-code blob-code-inner js-file-line">     <span class="pl-s"><span class="pl-pds">&quot;</span>grade<span class="pl-pds">&quot;</span></span>: <span class="pl-c1">false</span>,</td>
      </tr>
      <tr>
        <td id="L778" class="blob-num js-line-number" data-line-number="778"></td>
        <td id="LC778" class="blob-code blob-code-inner js-file-line">     <span class="pl-s"><span class="pl-pds">&quot;</span>grade_id<span class="pl-pds">&quot;</span></span>: <span class="pl-s"><span class="pl-pds">&quot;</span>cell-7dbb5974798259f7<span class="pl-pds">&quot;</span></span>,</td>
      </tr>
      <tr>
        <td id="L779" class="blob-num js-line-number" data-line-number="779"></td>
        <td id="LC779" class="blob-code blob-code-inner js-file-line">     <span class="pl-s"><span class="pl-pds">&quot;</span>locked<span class="pl-pds">&quot;</span></span>: <span class="pl-c1">true</span>,</td>
      </tr>
      <tr>
        <td id="L780" class="blob-num js-line-number" data-line-number="780"></td>
        <td id="LC780" class="blob-code blob-code-inner js-file-line">     <span class="pl-s"><span class="pl-pds">&quot;</span>schema_version<span class="pl-pds">&quot;</span></span>: <span class="pl-c1">3</span>,</td>
      </tr>
      <tr>
        <td id="L781" class="blob-num js-line-number" data-line-number="781"></td>
        <td id="LC781" class="blob-code blob-code-inner js-file-line">     <span class="pl-s"><span class="pl-pds">&quot;</span>solution<span class="pl-pds">&quot;</span></span>: <span class="pl-c1">false</span></td>
      </tr>
      <tr>
        <td id="L782" class="blob-num js-line-number" data-line-number="782"></td>
        <td id="LC782" class="blob-code blob-code-inner js-file-line">    }</td>
      </tr>
      <tr>
        <td id="L783" class="blob-num js-line-number" data-line-number="783"></td>
        <td id="LC783" class="blob-code blob-code-inner js-file-line">   },</td>
      </tr>
      <tr>
        <td id="L784" class="blob-num js-line-number" data-line-number="784"></td>
        <td id="LC784" class="blob-code blob-code-inner js-file-line">   <span class="pl-s"><span class="pl-pds">&quot;</span>source<span class="pl-pds">&quot;</span></span>: [</td>
      </tr>
      <tr>
        <td id="L785" class="blob-num js-line-number" data-line-number="785"></td>
        <td id="LC785" class="blob-code blob-code-inner js-file-line">    &quot;Observe that the value function qualitatively resembles the city council&#39;s preferences &amp;mdash; it monotonically increases as more parking is used, until there is no parking left, in which case the value is lower. Because of the relatively simple reward function (more reward is accrued when many but not all parking spots are taken and less reward is accrued when few or all parking spots are taken) and the highly stochastic dynamics function (each state has positive probability of being reached each time step) the value functions of most policies will qualitatively resemble this graph. However, depending on the intelligence of the policy, the scale of the graph will differ. In other words, better policies will increase the expected return at every state rather than changing the relative desirability of the states. Intuitively, the value of a less desirable state can be increased by making it less likely to remain in a less desirable state. Similarly, the value of a more desirable state can be increased by making it more likely to remain in a more desirable state. That is to say, good policies are policies that spend more time in desirable states and less time in undesirable states. As we will see in this assignment, such a steady state distribution is achieved by setting the price to be low in low occupancy states (so that the occupancy will increase) and setting the price high when occupancy is high (so that full occupancy will be avoided).&quot;</td>
      </tr>
      <tr>
        <td id="L786" class="blob-num js-line-number" data-line-number="786"></td>
        <td id="LC786" class="blob-code blob-code-inner js-file-line">   ]</td>
      </tr>
      <tr>
        <td id="L787" class="blob-num js-line-number" data-line-number="787"></td>
        <td id="LC787" class="blob-code blob-code-inner js-file-line">  },</td>
      </tr>
      <tr>
        <td id="L788" class="blob-num js-line-number" data-line-number="788"></td>
        <td id="LC788" class="blob-code blob-code-inner js-file-line">  {</td>
      </tr>
      <tr>
        <td id="L789" class="blob-num js-line-number" data-line-number="789"></td>
        <td id="LC789" class="blob-code blob-code-inner js-file-line">   <span class="pl-s"><span class="pl-pds">&quot;</span>cell_type<span class="pl-pds">&quot;</span></span>: <span class="pl-s"><span class="pl-pds">&quot;</span>markdown<span class="pl-pds">&quot;</span></span>,</td>
      </tr>
      <tr>
        <td id="L790" class="blob-num js-line-number" data-line-number="790"></td>
        <td id="LC790" class="blob-code blob-code-inner js-file-line">   <span class="pl-s"><span class="pl-pds">&quot;</span>metadata<span class="pl-pds">&quot;</span></span>: {</td>
      </tr>
      <tr>
        <td id="L791" class="blob-num js-line-number" data-line-number="791"></td>
        <td id="LC791" class="blob-code blob-code-inner js-file-line">    <span class="pl-s"><span class="pl-pds">&quot;</span>deletable<span class="pl-pds">&quot;</span></span>: <span class="pl-c1">false</span>,</td>
      </tr>
      <tr>
        <td id="L792" class="blob-num js-line-number" data-line-number="792"></td>
        <td id="LC792" class="blob-code blob-code-inner js-file-line">    <span class="pl-s"><span class="pl-pds">&quot;</span>editable<span class="pl-pds">&quot;</span></span>: <span class="pl-c1">false</span>,</td>
      </tr>
      <tr>
        <td id="L793" class="blob-num js-line-number" data-line-number="793"></td>
        <td id="LC793" class="blob-code blob-code-inner js-file-line">    <span class="pl-s"><span class="pl-pds">&quot;</span>nbgrader<span class="pl-pds">&quot;</span></span>: {</td>
      </tr>
      <tr>
        <td id="L794" class="blob-num js-line-number" data-line-number="794"></td>
        <td id="LC794" class="blob-code blob-code-inner js-file-line">     <span class="pl-s"><span class="pl-pds">&quot;</span>cell_type<span class="pl-pds">&quot;</span></span>: <span class="pl-s"><span class="pl-pds">&quot;</span>markdown<span class="pl-pds">&quot;</span></span>,</td>
      </tr>
      <tr>
        <td id="L795" class="blob-num js-line-number" data-line-number="795"></td>
        <td id="LC795" class="blob-code blob-code-inner js-file-line">     <span class="pl-s"><span class="pl-pds">&quot;</span>checksum<span class="pl-pds">&quot;</span></span>: <span class="pl-s"><span class="pl-pds">&quot;</span>f0d6665789065c7bfa797664e0f43c8c<span class="pl-pds">&quot;</span></span>,</td>
      </tr>
      <tr>
        <td id="L796" class="blob-num js-line-number" data-line-number="796"></td>
        <td id="LC796" class="blob-code blob-code-inner js-file-line">     <span class="pl-s"><span class="pl-pds">&quot;</span>grade<span class="pl-pds">&quot;</span></span>: <span class="pl-c1">false</span>,</td>
      </tr>
      <tr>
        <td id="L797" class="blob-num js-line-number" data-line-number="797"></td>
        <td id="LC797" class="blob-code blob-code-inner js-file-line">     <span class="pl-s"><span class="pl-pds">&quot;</span>grade_id<span class="pl-pds">&quot;</span></span>: <span class="pl-s"><span class="pl-pds">&quot;</span>cell-45d6a1c8f905e939<span class="pl-pds">&quot;</span></span>,</td>
      </tr>
      <tr>
        <td id="L798" class="blob-num js-line-number" data-line-number="798"></td>
        <td id="LC798" class="blob-code blob-code-inner js-file-line">     <span class="pl-s"><span class="pl-pds">&quot;</span>locked<span class="pl-pds">&quot;</span></span>: <span class="pl-c1">true</span>,</td>
      </tr>
      <tr>
        <td id="L799" class="blob-num js-line-number" data-line-number="799"></td>
        <td id="LC799" class="blob-code blob-code-inner js-file-line">     <span class="pl-s"><span class="pl-pds">&quot;</span>schema_version<span class="pl-pds">&quot;</span></span>: <span class="pl-c1">3</span>,</td>
      </tr>
      <tr>
        <td id="L800" class="blob-num js-line-number" data-line-number="800"></td>
        <td id="LC800" class="blob-code blob-code-inner js-file-line">     <span class="pl-s"><span class="pl-pds">&quot;</span>solution<span class="pl-pds">&quot;</span></span>: <span class="pl-c1">false</span></td>
      </tr>
      <tr>
        <td id="L801" class="blob-num js-line-number" data-line-number="801"></td>
        <td id="LC801" class="blob-code blob-code-inner js-file-line">    }</td>
      </tr>
      <tr>
        <td id="L802" class="blob-num js-line-number" data-line-number="802"></td>
        <td id="LC802" class="blob-code blob-code-inner js-file-line">   },</td>
      </tr>
      <tr>
        <td id="L803" class="blob-num js-line-number" data-line-number="803"></td>
        <td id="LC803" class="blob-code blob-code-inner js-file-line">   <span class="pl-s"><span class="pl-pds">&quot;</span>source<span class="pl-pds">&quot;</span></span>: [</td>
      </tr>
      <tr>
        <td id="L804" class="blob-num js-line-number" data-line-number="804"></td>
        <td id="LC804" class="blob-code blob-code-inner js-file-line">    <span class="pl-s"><span class="pl-pds">&quot;</span>## Section 2: Policy Iteration<span class="pl-cce">\n</span><span class="pl-pds">&quot;</span></span>,</td>
      </tr>
      <tr>
        <td id="L805" class="blob-num js-line-number" data-line-number="805"></td>
        <td id="LC805" class="blob-code blob-code-inner js-file-line">    <span class="pl-s"><span class="pl-pds">&quot;</span>Now the city council would like you to compute a more efficient policy using policy iteration. Policy iteration works by alternating between evaluating the existing policy and making the policy greedy with respect to the existing value function. We have written an outline of the policy iteration algorithm described in chapter 4.3 of the textbook. We will make use of the policy evaluation algorithm you completed in section 1. It is left to you to fill in the `q_greedify_policy` function, such that it modifies the policy at $s$ to be greedy with respect to the q-values at $s$, to complete the policy improvement algorithm.<span class="pl-pds">&quot;</span></span></td>
      </tr>
      <tr>
        <td id="L806" class="blob-num js-line-number" data-line-number="806"></td>
        <td id="LC806" class="blob-code blob-code-inner js-file-line">   ]</td>
      </tr>
      <tr>
        <td id="L807" class="blob-num js-line-number" data-line-number="807"></td>
        <td id="LC807" class="blob-code blob-code-inner js-file-line">  },</td>
      </tr>
      <tr>
        <td id="L808" class="blob-num js-line-number" data-line-number="808"></td>
        <td id="LC808" class="blob-code blob-code-inner js-file-line">  {</td>
      </tr>
      <tr>
        <td id="L809" class="blob-num js-line-number" data-line-number="809"></td>
        <td id="LC809" class="blob-code blob-code-inner js-file-line">   <span class="pl-s"><span class="pl-pds">&quot;</span>cell_type<span class="pl-pds">&quot;</span></span>: <span class="pl-s"><span class="pl-pds">&quot;</span>code<span class="pl-pds">&quot;</span></span>,</td>
      </tr>
      <tr>
        <td id="L810" class="blob-num js-line-number" data-line-number="810"></td>
        <td id="LC810" class="blob-code blob-code-inner js-file-line">   <span class="pl-s"><span class="pl-pds">&quot;</span>execution_count<span class="pl-pds">&quot;</span></span>: <span class="pl-c1">16</span>,</td>
      </tr>
      <tr>
        <td id="L811" class="blob-num js-line-number" data-line-number="811"></td>
        <td id="LC811" class="blob-code blob-code-inner js-file-line">   <span class="pl-s"><span class="pl-pds">&quot;</span>metadata<span class="pl-pds">&quot;</span></span>: {</td>
      </tr>
      <tr>
        <td id="L812" class="blob-num js-line-number" data-line-number="812"></td>
        <td id="LC812" class="blob-code blob-code-inner js-file-line">    <span class="pl-s"><span class="pl-pds">&quot;</span>deletable<span class="pl-pds">&quot;</span></span>: <span class="pl-c1">false</span>,</td>
      </tr>
      <tr>
        <td id="L813" class="blob-num js-line-number" data-line-number="813"></td>
        <td id="LC813" class="blob-code blob-code-inner js-file-line">    <span class="pl-s"><span class="pl-pds">&quot;</span>editable<span class="pl-pds">&quot;</span></span>: <span class="pl-c1">false</span>,</td>
      </tr>
      <tr>
        <td id="L814" class="blob-num js-line-number" data-line-number="814"></td>
        <td id="LC814" class="blob-code blob-code-inner js-file-line">    <span class="pl-s"><span class="pl-pds">&quot;</span>nbgrader<span class="pl-pds">&quot;</span></span>: {</td>
      </tr>
      <tr>
        <td id="L815" class="blob-num js-line-number" data-line-number="815"></td>
        <td id="LC815" class="blob-code blob-code-inner js-file-line">     <span class="pl-s"><span class="pl-pds">&quot;</span>cell_type<span class="pl-pds">&quot;</span></span>: <span class="pl-s"><span class="pl-pds">&quot;</span>code<span class="pl-pds">&quot;</span></span>,</td>
      </tr>
      <tr>
        <td id="L816" class="blob-num js-line-number" data-line-number="816"></td>
        <td id="LC816" class="blob-code blob-code-inner js-file-line">     <span class="pl-s"><span class="pl-pds">&quot;</span>checksum<span class="pl-pds">&quot;</span></span>: <span class="pl-s"><span class="pl-pds">&quot;</span>cd767646e891985960e2d9c9b3b76ae1<span class="pl-pds">&quot;</span></span>,</td>
      </tr>
      <tr>
        <td id="L817" class="blob-num js-line-number" data-line-number="817"></td>
        <td id="LC817" class="blob-code blob-code-inner js-file-line">     <span class="pl-s"><span class="pl-pds">&quot;</span>grade<span class="pl-pds">&quot;</span></span>: <span class="pl-c1">false</span>,</td>
      </tr>
      <tr>
        <td id="L818" class="blob-num js-line-number" data-line-number="818"></td>
        <td id="LC818" class="blob-code blob-code-inner js-file-line">     <span class="pl-s"><span class="pl-pds">&quot;</span>grade_id<span class="pl-pds">&quot;</span></span>: <span class="pl-s"><span class="pl-pds">&quot;</span>cell-15ec36bbf7a6fdc6<span class="pl-pds">&quot;</span></span>,</td>
      </tr>
      <tr>
        <td id="L819" class="blob-num js-line-number" data-line-number="819"></td>
        <td id="LC819" class="blob-code blob-code-inner js-file-line">     <span class="pl-s"><span class="pl-pds">&quot;</span>locked<span class="pl-pds">&quot;</span></span>: <span class="pl-c1">true</span>,</td>
      </tr>
      <tr>
        <td id="L820" class="blob-num js-line-number" data-line-number="820"></td>
        <td id="LC820" class="blob-code blob-code-inner js-file-line">     <span class="pl-s"><span class="pl-pds">&quot;</span>schema_version<span class="pl-pds">&quot;</span></span>: <span class="pl-c1">3</span>,</td>
      </tr>
      <tr>
        <td id="L821" class="blob-num js-line-number" data-line-number="821"></td>
        <td id="LC821" class="blob-code blob-code-inner js-file-line">     <span class="pl-s"><span class="pl-pds">&quot;</span>solution<span class="pl-pds">&quot;</span></span>: <span class="pl-c1">false</span></td>
      </tr>
      <tr>
        <td id="L822" class="blob-num js-line-number" data-line-number="822"></td>
        <td id="LC822" class="blob-code blob-code-inner js-file-line">    }</td>
      </tr>
      <tr>
        <td id="L823" class="blob-num js-line-number" data-line-number="823"></td>
        <td id="LC823" class="blob-code blob-code-inner js-file-line">   },</td>
      </tr>
      <tr>
        <td id="L824" class="blob-num js-line-number" data-line-number="824"></td>
        <td id="LC824" class="blob-code blob-code-inner js-file-line">   <span class="pl-s"><span class="pl-pds">&quot;</span>outputs<span class="pl-pds">&quot;</span></span>: [],</td>
      </tr>
      <tr>
        <td id="L825" class="blob-num js-line-number" data-line-number="825"></td>
        <td id="LC825" class="blob-code blob-code-inner js-file-line">   <span class="pl-s"><span class="pl-pds">&quot;</span>source<span class="pl-pds">&quot;</span></span>: [</td>
      </tr>
      <tr>
        <td id="L826" class="blob-num js-line-number" data-line-number="826"></td>
        <td id="LC826" class="blob-code blob-code-inner js-file-line">    <span class="pl-s"><span class="pl-pds">&quot;</span>def improve_policy(env, V, pi, gamma):<span class="pl-cce">\n</span><span class="pl-pds">&quot;</span></span>,</td>
      </tr>
      <tr>
        <td id="L827" class="blob-num js-line-number" data-line-number="827"></td>
        <td id="LC827" class="blob-code blob-code-inner js-file-line">    <span class="pl-s"><span class="pl-pds">&quot;</span>    policy_stable = True<span class="pl-cce">\n</span><span class="pl-pds">&quot;</span></span>,</td>
      </tr>
      <tr>
        <td id="L828" class="blob-num js-line-number" data-line-number="828"></td>
        <td id="LC828" class="blob-code blob-code-inner js-file-line">    <span class="pl-s"><span class="pl-pds">&quot;</span>    for s in env.S:<span class="pl-cce">\n</span><span class="pl-pds">&quot;</span></span>,</td>
      </tr>
      <tr>
        <td id="L829" class="blob-num js-line-number" data-line-number="829"></td>
        <td id="LC829" class="blob-code blob-code-inner js-file-line">    <span class="pl-s"><span class="pl-pds">&quot;</span>        old = pi[s].copy()<span class="pl-cce">\n</span><span class="pl-pds">&quot;</span></span>,</td>
      </tr>
      <tr>
        <td id="L830" class="blob-num js-line-number" data-line-number="830"></td>
        <td id="LC830" class="blob-code blob-code-inner js-file-line">    <span class="pl-s"><span class="pl-pds">&quot;</span>        q_greedify_policy(env, V, pi, s, gamma)<span class="pl-cce">\n</span><span class="pl-pds">&quot;</span></span>,</td>
      </tr>
      <tr>
        <td id="L831" class="blob-num js-line-number" data-line-number="831"></td>
        <td id="LC831" class="blob-code blob-code-inner js-file-line">    <span class="pl-s"><span class="pl-pds">&quot;</span>        <span class="pl-cce">\n</span><span class="pl-pds">&quot;</span></span>,</td>
      </tr>
      <tr>
        <td id="L832" class="blob-num js-line-number" data-line-number="832"></td>
        <td id="LC832" class="blob-code blob-code-inner js-file-line">    <span class="pl-s"><span class="pl-pds">&quot;</span>        if not np.array_equal(pi[s], old):<span class="pl-cce">\n</span><span class="pl-pds">&quot;</span></span>,</td>
      </tr>
      <tr>
        <td id="L833" class="blob-num js-line-number" data-line-number="833"></td>
        <td id="LC833" class="blob-code blob-code-inner js-file-line">    <span class="pl-s"><span class="pl-pds">&quot;</span>            policy_stable = False<span class="pl-cce">\n</span><span class="pl-pds">&quot;</span></span>,</td>
      </tr>
      <tr>
        <td id="L834" class="blob-num js-line-number" data-line-number="834"></td>
        <td id="LC834" class="blob-code blob-code-inner js-file-line">    <span class="pl-s"><span class="pl-pds">&quot;</span>            <span class="pl-cce">\n</span><span class="pl-pds">&quot;</span></span>,</td>
      </tr>
      <tr>
        <td id="L835" class="blob-num js-line-number" data-line-number="835"></td>
        <td id="LC835" class="blob-code blob-code-inner js-file-line">    <span class="pl-s"><span class="pl-pds">&quot;</span>    return pi, policy_stable<span class="pl-cce">\n</span><span class="pl-pds">&quot;</span></span>,</td>
      </tr>
      <tr>
        <td id="L836" class="blob-num js-line-number" data-line-number="836"></td>
        <td id="LC836" class="blob-code blob-code-inner js-file-line">    <span class="pl-s"><span class="pl-pds">&quot;</span><span class="pl-cce">\n</span><span class="pl-pds">&quot;</span></span>,</td>
      </tr>
      <tr>
        <td id="L837" class="blob-num js-line-number" data-line-number="837"></td>
        <td id="LC837" class="blob-code blob-code-inner js-file-line">    <span class="pl-s"><span class="pl-pds">&quot;</span>def policy_iteration(env, gamma, theta):<span class="pl-cce">\n</span><span class="pl-pds">&quot;</span></span>,</td>
      </tr>
      <tr>
        <td id="L838" class="blob-num js-line-number" data-line-number="838"></td>
        <td id="LC838" class="blob-code blob-code-inner js-file-line">    <span class="pl-s"><span class="pl-pds">&quot;</span>    V = np.zeros(len(env.S))<span class="pl-cce">\n</span><span class="pl-pds">&quot;</span></span>,</td>
      </tr>
      <tr>
        <td id="L839" class="blob-num js-line-number" data-line-number="839"></td>
        <td id="LC839" class="blob-code blob-code-inner js-file-line">    <span class="pl-s"><span class="pl-pds">&quot;</span>    pi = np.ones((len(env.S), len(env.A))) / len(env.A)<span class="pl-cce">\n</span><span class="pl-pds">&quot;</span></span>,</td>
      </tr>
      <tr>
        <td id="L840" class="blob-num js-line-number" data-line-number="840"></td>
        <td id="LC840" class="blob-code blob-code-inner js-file-line">    <span class="pl-s"><span class="pl-pds">&quot;</span>    policy_stable = False<span class="pl-cce">\n</span><span class="pl-pds">&quot;</span></span>,</td>
      </tr>
      <tr>
        <td id="L841" class="blob-num js-line-number" data-line-number="841"></td>
        <td id="LC841" class="blob-code blob-code-inner js-file-line">    <span class="pl-s"><span class="pl-pds">&quot;</span>    <span class="pl-cce">\n</span><span class="pl-pds">&quot;</span></span>,</td>
      </tr>
      <tr>
        <td id="L842" class="blob-num js-line-number" data-line-number="842"></td>
        <td id="LC842" class="blob-code blob-code-inner js-file-line">    <span class="pl-s"><span class="pl-pds">&quot;</span>    while not policy_stable:<span class="pl-cce">\n</span><span class="pl-pds">&quot;</span></span>,</td>
      </tr>
      <tr>
        <td id="L843" class="blob-num js-line-number" data-line-number="843"></td>
        <td id="LC843" class="blob-code blob-code-inner js-file-line">    <span class="pl-s"><span class="pl-pds">&quot;</span>        V = evaluate_policy(env, V, pi, gamma, theta)<span class="pl-cce">\n</span><span class="pl-pds">&quot;</span></span>,</td>
      </tr>
      <tr>
        <td id="L844" class="blob-num js-line-number" data-line-number="844"></td>
        <td id="LC844" class="blob-code blob-code-inner js-file-line">    <span class="pl-s"><span class="pl-pds">&quot;</span>        pi, policy_stable = improve_policy(env, V, pi, gamma)<span class="pl-cce">\n</span><span class="pl-pds">&quot;</span></span>,</td>
      </tr>
      <tr>
        <td id="L845" class="blob-num js-line-number" data-line-number="845"></td>
        <td id="LC845" class="blob-code blob-code-inner js-file-line">    <span class="pl-s"><span class="pl-pds">&quot;</span>        <span class="pl-cce">\n</span><span class="pl-pds">&quot;</span></span>,</td>
      </tr>
      <tr>
        <td id="L846" class="blob-num js-line-number" data-line-number="846"></td>
        <td id="LC846" class="blob-code blob-code-inner js-file-line">    <span class="pl-s"><span class="pl-pds">&quot;</span>    return V, pi<span class="pl-pds">&quot;</span></span></td>
      </tr>
      <tr>
        <td id="L847" class="blob-num js-line-number" data-line-number="847"></td>
        <td id="LC847" class="blob-code blob-code-inner js-file-line">   ]</td>
      </tr>
      <tr>
        <td id="L848" class="blob-num js-line-number" data-line-number="848"></td>
        <td id="LC848" class="blob-code blob-code-inner js-file-line">  },</td>
      </tr>
      <tr>
        <td id="L849" class="blob-num js-line-number" data-line-number="849"></td>
        <td id="LC849" class="blob-code blob-code-inner js-file-line">  {</td>
      </tr>
      <tr>
        <td id="L850" class="blob-num js-line-number" data-line-number="850"></td>
        <td id="LC850" class="blob-code blob-code-inner js-file-line">   <span class="pl-s"><span class="pl-pds">&quot;</span>cell_type<span class="pl-pds">&quot;</span></span>: <span class="pl-s"><span class="pl-pds">&quot;</span>code<span class="pl-pds">&quot;</span></span>,</td>
      </tr>
      <tr>
        <td id="L851" class="blob-num js-line-number" data-line-number="851"></td>
        <td id="LC851" class="blob-code blob-code-inner js-file-line">   <span class="pl-s"><span class="pl-pds">&quot;</span>execution_count<span class="pl-pds">&quot;</span></span>: <span class="pl-c1">17</span>,</td>
      </tr>
      <tr>
        <td id="L852" class="blob-num js-line-number" data-line-number="852"></td>
        <td id="LC852" class="blob-code blob-code-inner js-file-line">   <span class="pl-s"><span class="pl-pds">&quot;</span>metadata<span class="pl-pds">&quot;</span></span>: {</td>
      </tr>
      <tr>
        <td id="L853" class="blob-num js-line-number" data-line-number="853"></td>
        <td id="LC853" class="blob-code blob-code-inner js-file-line">    <span class="pl-s"><span class="pl-pds">&quot;</span>deletable<span class="pl-pds">&quot;</span></span>: <span class="pl-c1">false</span>,</td>
      </tr>
      <tr>
        <td id="L854" class="blob-num js-line-number" data-line-number="854"></td>
        <td id="LC854" class="blob-code blob-code-inner js-file-line">    <span class="pl-s"><span class="pl-pds">&quot;</span>nbgrader<span class="pl-pds">&quot;</span></span>: {</td>
      </tr>
      <tr>
        <td id="L855" class="blob-num js-line-number" data-line-number="855"></td>
        <td id="LC855" class="blob-code blob-code-inner js-file-line">     <span class="pl-s"><span class="pl-pds">&quot;</span>cell_type<span class="pl-pds">&quot;</span></span>: <span class="pl-s"><span class="pl-pds">&quot;</span>code<span class="pl-pds">&quot;</span></span>,</td>
      </tr>
      <tr>
        <td id="L856" class="blob-num js-line-number" data-line-number="856"></td>
        <td id="LC856" class="blob-code blob-code-inner js-file-line">     <span class="pl-s"><span class="pl-pds">&quot;</span>checksum<span class="pl-pds">&quot;</span></span>: <span class="pl-s"><span class="pl-pds">&quot;</span>03f887ab5a215f3e89ba751895d7e9f8<span class="pl-pds">&quot;</span></span>,</td>
      </tr>
      <tr>
        <td id="L857" class="blob-num js-line-number" data-line-number="857"></td>
        <td id="LC857" class="blob-code blob-code-inner js-file-line">     <span class="pl-s"><span class="pl-pds">&quot;</span>grade<span class="pl-pds">&quot;</span></span>: <span class="pl-c1">false</span>,</td>
      </tr>
      <tr>
        <td id="L858" class="blob-num js-line-number" data-line-number="858"></td>
        <td id="LC858" class="blob-code blob-code-inner js-file-line">     <span class="pl-s"><span class="pl-pds">&quot;</span>grade_id<span class="pl-pds">&quot;</span></span>: <span class="pl-s"><span class="pl-pds">&quot;</span>cell-43cadb209544e857<span class="pl-pds">&quot;</span></span>,</td>
      </tr>
      <tr>
        <td id="L859" class="blob-num js-line-number" data-line-number="859"></td>
        <td id="LC859" class="blob-code blob-code-inner js-file-line">     <span class="pl-s"><span class="pl-pds">&quot;</span>locked<span class="pl-pds">&quot;</span></span>: <span class="pl-c1">false</span>,</td>
      </tr>
      <tr>
        <td id="L860" class="blob-num js-line-number" data-line-number="860"></td>
        <td id="LC860" class="blob-code blob-code-inner js-file-line">     <span class="pl-s"><span class="pl-pds">&quot;</span>schema_version<span class="pl-pds">&quot;</span></span>: <span class="pl-c1">3</span>,</td>
      </tr>
      <tr>
        <td id="L861" class="blob-num js-line-number" data-line-number="861"></td>
        <td id="LC861" class="blob-code blob-code-inner js-file-line">     <span class="pl-s"><span class="pl-pds">&quot;</span>solution<span class="pl-pds">&quot;</span></span>: <span class="pl-c1">true</span></td>
      </tr>
      <tr>
        <td id="L862" class="blob-num js-line-number" data-line-number="862"></td>
        <td id="LC862" class="blob-code blob-code-inner js-file-line">    }</td>
      </tr>
      <tr>
        <td id="L863" class="blob-num js-line-number" data-line-number="863"></td>
        <td id="LC863" class="blob-code blob-code-inner js-file-line">   },</td>
      </tr>
      <tr>
        <td id="L864" class="blob-num js-line-number" data-line-number="864"></td>
        <td id="LC864" class="blob-code blob-code-inner js-file-line">   <span class="pl-s"><span class="pl-pds">&quot;</span>outputs<span class="pl-pds">&quot;</span></span>: [],</td>
      </tr>
      <tr>
        <td id="L865" class="blob-num js-line-number" data-line-number="865"></td>
        <td id="LC865" class="blob-code blob-code-inner js-file-line">   <span class="pl-s"><span class="pl-pds">&quot;</span>source<span class="pl-pds">&quot;</span></span>: [</td>
      </tr>
      <tr>
        <td id="L866" class="blob-num js-line-number" data-line-number="866"></td>
        <td id="LC866" class="blob-code blob-code-inner js-file-line">    <span class="pl-s"><span class="pl-pds">&quot;</span># -----------<span class="pl-cce">\n</span><span class="pl-pds">&quot;</span></span>,</td>
      </tr>
      <tr>
        <td id="L867" class="blob-num js-line-number" data-line-number="867"></td>
        <td id="LC867" class="blob-code blob-code-inner js-file-line">    <span class="pl-s"><span class="pl-pds">&quot;</span># Graded Cell<span class="pl-cce">\n</span><span class="pl-pds">&quot;</span></span>,</td>
      </tr>
      <tr>
        <td id="L868" class="blob-num js-line-number" data-line-number="868"></td>
        <td id="LC868" class="blob-code blob-code-inner js-file-line">    <span class="pl-s"><span class="pl-pds">&quot;</span># -----------<span class="pl-cce">\n</span><span class="pl-pds">&quot;</span></span>,</td>
      </tr>
      <tr>
        <td id="L869" class="blob-num js-line-number" data-line-number="869"></td>
        <td id="LC869" class="blob-code blob-code-inner js-file-line">    <span class="pl-s"><span class="pl-pds">&quot;</span>def q_greedify_policy(env, V, pi, s, gamma):<span class="pl-cce">\n</span><span class="pl-pds">&quot;</span></span>,</td>
      </tr>
      <tr>
        <td id="L870" class="blob-num js-line-number" data-line-number="870"></td>
        <td id="LC870" class="blob-code blob-code-inner js-file-line">    <span class="pl-s"><span class="pl-pds">&quot;</span>    <span class="pl-cce">\&quot;\&quot;\&quot;</span>Mutate ``pi`` to be greedy with respect to the q-values induced by ``V``.<span class="pl-cce">\&quot;\&quot;\&quot;\n</span><span class="pl-pds">&quot;</span></span>,</td>
      </tr>
      <tr>
        <td id="L871" class="blob-num js-line-number" data-line-number="871"></td>
        <td id="LC871" class="blob-code blob-code-inner js-file-line">    <span class="pl-s"><span class="pl-pds">&quot;</span>    # YOUR CODE HERE<span class="pl-cce">\n</span><span class="pl-pds">&quot;</span></span>,</td>
      </tr>
      <tr>
        <td id="L872" class="blob-num js-line-number" data-line-number="872"></td>
        <td id="LC872" class="blob-code blob-code-inner js-file-line">    <span class="pl-s"><span class="pl-pds">&quot;</span>    best_v = float(&#39;-inf&#39;)<span class="pl-cce">\n</span><span class="pl-pds">&quot;</span></span>,</td>
      </tr>
      <tr>
        <td id="L873" class="blob-num js-line-number" data-line-number="873"></td>
        <td id="LC873" class="blob-code blob-code-inner js-file-line">    <span class="pl-s"><span class="pl-pds">&quot;</span>    best_a = 0<span class="pl-cce">\n</span><span class="pl-pds">&quot;</span></span>,</td>
      </tr>
      <tr>
        <td id="L874" class="blob-num js-line-number" data-line-number="874"></td>
        <td id="LC874" class="blob-code blob-code-inner js-file-line">    <span class="pl-s"><span class="pl-pds">&quot;</span>    for action in env.A:<span class="pl-cce">\n</span><span class="pl-pds">&quot;</span></span>,</td>
      </tr>
      <tr>
        <td id="L875" class="blob-num js-line-number" data-line-number="875"></td>
        <td id="LC875" class="blob-code blob-code-inner js-file-line">    <span class="pl-s"><span class="pl-pds">&quot;</span>        transitions = env.transitions(s,action)<span class="pl-cce">\n</span><span class="pl-pds">&quot;</span></span>,</td>
      </tr>
      <tr>
        <td id="L876" class="blob-num js-line-number" data-line-number="876"></td>
        <td id="LC876" class="blob-code blob-code-inner js-file-line">    <span class="pl-s"><span class="pl-pds">&quot;</span>        v = 0<span class="pl-cce">\n</span><span class="pl-pds">&quot;</span></span>,</td>
      </tr>
      <tr>
        <td id="L877" class="blob-num js-line-number" data-line-number="877"></td>
        <td id="LC877" class="blob-code blob-code-inner js-file-line">    <span class="pl-s"><span class="pl-pds">&quot;</span>        for s_ in env.S:<span class="pl-cce">\n</span><span class="pl-pds">&quot;</span></span>,</td>
      </tr>
      <tr>
        <td id="L878" class="blob-num js-line-number" data-line-number="878"></td>
        <td id="LC878" class="blob-code blob-code-inner js-file-line">    <span class="pl-s"><span class="pl-pds">&quot;</span>            v += transitions[s_][1] * ( transitions[s_][0] + gamma * V[s_] )<span class="pl-cce">\n</span><span class="pl-pds">&quot;</span></span>,</td>
      </tr>
      <tr>
        <td id="L879" class="blob-num js-line-number" data-line-number="879"></td>
        <td id="LC879" class="blob-code blob-code-inner js-file-line">    <span class="pl-s"><span class="pl-pds">&quot;</span>        if best_v &lt; v:<span class="pl-cce">\n</span><span class="pl-pds">&quot;</span></span>,</td>
      </tr>
      <tr>
        <td id="L880" class="blob-num js-line-number" data-line-number="880"></td>
        <td id="LC880" class="blob-code blob-code-inner js-file-line">    <span class="pl-s"><span class="pl-pds">&quot;</span>            best_v = v<span class="pl-cce">\n</span><span class="pl-pds">&quot;</span></span>,</td>
      </tr>
      <tr>
        <td id="L881" class="blob-num js-line-number" data-line-number="881"></td>
        <td id="LC881" class="blob-code blob-code-inner js-file-line">    <span class="pl-s"><span class="pl-pds">&quot;</span>            best_a = action<span class="pl-cce">\n</span><span class="pl-pds">&quot;</span></span>,</td>
      </tr>
      <tr>
        <td id="L882" class="blob-num js-line-number" data-line-number="882"></td>
        <td id="LC882" class="blob-code blob-code-inner js-file-line">    <span class="pl-s"><span class="pl-pds">&quot;</span>    pi[s] = np.zeros_like(pi[s])<span class="pl-cce">\n</span><span class="pl-pds">&quot;</span></span>,</td>
      </tr>
      <tr>
        <td id="L883" class="blob-num js-line-number" data-line-number="883"></td>
        <td id="LC883" class="blob-code blob-code-inner js-file-line">    <span class="pl-s"><span class="pl-pds">&quot;</span>    pi[s][best_a] = 1<span class="pl-pds">&quot;</span></span></td>
      </tr>
      <tr>
        <td id="L884" class="blob-num js-line-number" data-line-number="884"></td>
        <td id="LC884" class="blob-code blob-code-inner js-file-line">   ]</td>
      </tr>
      <tr>
        <td id="L885" class="blob-num js-line-number" data-line-number="885"></td>
        <td id="LC885" class="blob-code blob-code-inner js-file-line">  },</td>
      </tr>
      <tr>
        <td id="L886" class="blob-num js-line-number" data-line-number="886"></td>
        <td id="LC886" class="blob-code blob-code-inner js-file-line">  {</td>
      </tr>
      <tr>
        <td id="L887" class="blob-num js-line-number" data-line-number="887"></td>
        <td id="LC887" class="blob-code blob-code-inner js-file-line">   <span class="pl-s"><span class="pl-pds">&quot;</span>cell_type<span class="pl-pds">&quot;</span></span>: <span class="pl-s"><span class="pl-pds">&quot;</span>code<span class="pl-pds">&quot;</span></span>,</td>
      </tr>
      <tr>
        <td id="L888" class="blob-num js-line-number" data-line-number="888"></td>
        <td id="LC888" class="blob-code blob-code-inner js-file-line">   <span class="pl-s"><span class="pl-pds">&quot;</span>execution_count<span class="pl-pds">&quot;</span></span>: <span class="pl-c1">18</span>,</td>
      </tr>
      <tr>
        <td id="L889" class="blob-num js-line-number" data-line-number="889"></td>
        <td id="LC889" class="blob-code blob-code-inner js-file-line">   <span class="pl-s"><span class="pl-pds">&quot;</span>metadata<span class="pl-pds">&quot;</span></span>: {},</td>
      </tr>
      <tr>
        <td id="L890" class="blob-num js-line-number" data-line-number="890"></td>
        <td id="LC890" class="blob-code blob-code-inner js-file-line">   <span class="pl-s"><span class="pl-pds">&quot;</span>outputs<span class="pl-pds">&quot;</span></span>: [],</td>
      </tr>
      <tr>
        <td id="L891" class="blob-num js-line-number" data-line-number="891"></td>
        <td id="LC891" class="blob-code blob-code-inner js-file-line">   <span class="pl-s"><span class="pl-pds">&quot;</span>source<span class="pl-pds">&quot;</span></span>: [</td>
      </tr>
      <tr>
        <td id="L892" class="blob-num js-line-number" data-line-number="892"></td>
        <td id="LC892" class="blob-code blob-code-inner js-file-line">    <span class="pl-s"><span class="pl-pds">&quot;</span># --------------<span class="pl-cce">\n</span><span class="pl-pds">&quot;</span></span>,</td>
      </tr>
      <tr>
        <td id="L893" class="blob-num js-line-number" data-line-number="893"></td>
        <td id="LC893" class="blob-code blob-code-inner js-file-line">    <span class="pl-s"><span class="pl-pds">&quot;</span># Debugging Cell<span class="pl-cce">\n</span><span class="pl-pds">&quot;</span></span>,</td>
      </tr>
      <tr>
        <td id="L894" class="blob-num js-line-number" data-line-number="894"></td>
        <td id="LC894" class="blob-code blob-code-inner js-file-line">    <span class="pl-s"><span class="pl-pds">&quot;</span># --------------<span class="pl-cce">\n</span><span class="pl-pds">&quot;</span></span>,</td>
      </tr>
      <tr>
        <td id="L895" class="blob-num js-line-number" data-line-number="895"></td>
        <td id="LC895" class="blob-code blob-code-inner js-file-line">    <span class="pl-s"><span class="pl-pds">&quot;</span># Feel free to make any changes to this cell to debug your code<span class="pl-cce">\n</span><span class="pl-pds">&quot;</span></span>,</td>
      </tr>
      <tr>
        <td id="L896" class="blob-num js-line-number" data-line-number="896"></td>
        <td id="LC896" class="blob-code blob-code-inner js-file-line">    <span class="pl-s"><span class="pl-pds">&quot;</span><span class="pl-cce">\n</span><span class="pl-pds">&quot;</span></span>,</td>
      </tr>
      <tr>
        <td id="L897" class="blob-num js-line-number" data-line-number="897"></td>
        <td id="LC897" class="blob-code blob-code-inner js-file-line">    <span class="pl-s"><span class="pl-pds">&quot;</span>gamma = 0.9<span class="pl-cce">\n</span><span class="pl-pds">&quot;</span></span>,</td>
      </tr>
      <tr>
        <td id="L898" class="blob-num js-line-number" data-line-number="898"></td>
        <td id="LC898" class="blob-code blob-code-inner js-file-line">    <span class="pl-s"><span class="pl-pds">&quot;</span>theta = 0.1<span class="pl-cce">\n</span><span class="pl-pds">&quot;</span></span>,</td>
      </tr>
      <tr>
        <td id="L899" class="blob-num js-line-number" data-line-number="899"></td>
        <td id="LC899" class="blob-code blob-code-inner js-file-line">    <span class="pl-s"><span class="pl-pds">&quot;</span>env = tools.ParkingWorld(num_spaces=6, num_prices=4)<span class="pl-cce">\n</span><span class="pl-pds">&quot;</span></span>,</td>
      </tr>
      <tr>
        <td id="L900" class="blob-num js-line-number" data-line-number="900"></td>
        <td id="LC900" class="blob-code blob-code-inner js-file-line">    <span class="pl-s"><span class="pl-pds">&quot;</span><span class="pl-cce">\n</span><span class="pl-pds">&quot;</span></span>,</td>
      </tr>
      <tr>
        <td id="L901" class="blob-num js-line-number" data-line-number="901"></td>
        <td id="LC901" class="blob-code blob-code-inner js-file-line">    <span class="pl-s"><span class="pl-pds">&quot;</span>V = np.array([7, 6, 5, 4, 3, 2, 1])<span class="pl-cce">\n</span><span class="pl-pds">&quot;</span></span>,</td>
      </tr>
      <tr>
        <td id="L902" class="blob-num js-line-number" data-line-number="902"></td>
        <td id="LC902" class="blob-code blob-code-inner js-file-line">    <span class="pl-s"><span class="pl-pds">&quot;</span>pi = np.ones((7, 4)) / 4<span class="pl-cce">\n</span><span class="pl-pds">&quot;</span></span>,</td>
      </tr>
      <tr>
        <td id="L903" class="blob-num js-line-number" data-line-number="903"></td>
        <td id="LC903" class="blob-code blob-code-inner js-file-line">    <span class="pl-s"><span class="pl-pds">&quot;</span><span class="pl-cce">\n</span><span class="pl-pds">&quot;</span></span>,</td>
      </tr>
      <tr>
        <td id="L904" class="blob-num js-line-number" data-line-number="904"></td>
        <td id="LC904" class="blob-code blob-code-inner js-file-line">    <span class="pl-s"><span class="pl-pds">&quot;</span>new_pi, stable = improve_policy(env, V, pi, gamma)<span class="pl-cce">\n</span><span class="pl-pds">&quot;</span></span>,</td>
      </tr>
      <tr>
        <td id="L905" class="blob-num js-line-number" data-line-number="905"></td>
        <td id="LC905" class="blob-code blob-code-inner js-file-line">    <span class="pl-s"><span class="pl-pds">&quot;</span><span class="pl-cce">\n</span><span class="pl-pds">&quot;</span></span>,</td>
      </tr>
      <tr>
        <td id="L906" class="blob-num js-line-number" data-line-number="906"></td>
        <td id="LC906" class="blob-code blob-code-inner js-file-line">    <span class="pl-s"><span class="pl-pds">&quot;</span># expect first call to greedify policy<span class="pl-cce">\n</span><span class="pl-pds">&quot;</span></span>,</td>
      </tr>
      <tr>
        <td id="L907" class="blob-num js-line-number" data-line-number="907"></td>
        <td id="LC907" class="blob-code blob-code-inner js-file-line">    <span class="pl-s"><span class="pl-pds">&quot;</span>expected_pi = np.array([<span class="pl-cce">\n</span><span class="pl-pds">&quot;</span></span>,</td>
      </tr>
      <tr>
        <td id="L908" class="blob-num js-line-number" data-line-number="908"></td>
        <td id="LC908" class="blob-code blob-code-inner js-file-line">    <span class="pl-s"><span class="pl-pds">&quot;</span>    [0, 0, 0, 1],<span class="pl-cce">\n</span><span class="pl-pds">&quot;</span></span>,</td>
      </tr>
      <tr>
        <td id="L909" class="blob-num js-line-number" data-line-number="909"></td>
        <td id="LC909" class="blob-code blob-code-inner js-file-line">    <span class="pl-s"><span class="pl-pds">&quot;</span>    [0, 0, 0, 1],<span class="pl-cce">\n</span><span class="pl-pds">&quot;</span></span>,</td>
      </tr>
      <tr>
        <td id="L910" class="blob-num js-line-number" data-line-number="910"></td>
        <td id="LC910" class="blob-code blob-code-inner js-file-line">    <span class="pl-s"><span class="pl-pds">&quot;</span>    [0, 0, 0, 1],<span class="pl-cce">\n</span><span class="pl-pds">&quot;</span></span>,</td>
      </tr>
      <tr>
        <td id="L911" class="blob-num js-line-number" data-line-number="911"></td>
        <td id="LC911" class="blob-code blob-code-inner js-file-line">    <span class="pl-s"><span class="pl-pds">&quot;</span>    [0, 0, 0, 1],<span class="pl-cce">\n</span><span class="pl-pds">&quot;</span></span>,</td>
      </tr>
      <tr>
        <td id="L912" class="blob-num js-line-number" data-line-number="912"></td>
        <td id="LC912" class="blob-code blob-code-inner js-file-line">    <span class="pl-s"><span class="pl-pds">&quot;</span>    [0, 0, 0, 1],<span class="pl-cce">\n</span><span class="pl-pds">&quot;</span></span>,</td>
      </tr>
      <tr>
        <td id="L913" class="blob-num js-line-number" data-line-number="913"></td>
        <td id="LC913" class="blob-code blob-code-inner js-file-line">    <span class="pl-s"><span class="pl-pds">&quot;</span>    [0, 0, 0, 1],<span class="pl-cce">\n</span><span class="pl-pds">&quot;</span></span>,</td>
      </tr>
      <tr>
        <td id="L914" class="blob-num js-line-number" data-line-number="914"></td>
        <td id="LC914" class="blob-code blob-code-inner js-file-line">    <span class="pl-s"><span class="pl-pds">&quot;</span>    [0, 0, 0, 1],<span class="pl-cce">\n</span><span class="pl-pds">&quot;</span></span>,</td>
      </tr>
      <tr>
        <td id="L915" class="blob-num js-line-number" data-line-number="915"></td>
        <td id="LC915" class="blob-code blob-code-inner js-file-line">    <span class="pl-s"><span class="pl-pds">&quot;</span>])<span class="pl-cce">\n</span><span class="pl-pds">&quot;</span></span>,</td>
      </tr>
      <tr>
        <td id="L916" class="blob-num js-line-number" data-line-number="916"></td>
        <td id="LC916" class="blob-code blob-code-inner js-file-line">    <span class="pl-s"><span class="pl-pds">&quot;</span>assert np.all(new_pi == expected_pi)<span class="pl-cce">\n</span><span class="pl-pds">&quot;</span></span>,</td>
      </tr>
      <tr>
        <td id="L917" class="blob-num js-line-number" data-line-number="917"></td>
        <td id="LC917" class="blob-code blob-code-inner js-file-line">    <span class="pl-s"><span class="pl-pds">&quot;</span>assert stable == False<span class="pl-cce">\n</span><span class="pl-pds">&quot;</span></span>,</td>
      </tr>
      <tr>
        <td id="L918" class="blob-num js-line-number" data-line-number="918"></td>
        <td id="LC918" class="blob-code blob-code-inner js-file-line">    <span class="pl-s"><span class="pl-pds">&quot;</span><span class="pl-cce">\n</span><span class="pl-pds">&quot;</span></span>,</td>
      </tr>
      <tr>
        <td id="L919" class="blob-num js-line-number" data-line-number="919"></td>
        <td id="LC919" class="blob-code blob-code-inner js-file-line">    <span class="pl-s"><span class="pl-pds">&quot;</span># the value function has not changed, so the greedy policy should not change<span class="pl-cce">\n</span><span class="pl-pds">&quot;</span></span>,</td>
      </tr>
      <tr>
        <td id="L920" class="blob-num js-line-number" data-line-number="920"></td>
        <td id="LC920" class="blob-code blob-code-inner js-file-line">    <span class="pl-s"><span class="pl-pds">&quot;</span>new_pi, stable = improve_policy(env, V, new_pi, gamma)<span class="pl-cce">\n</span><span class="pl-pds">&quot;</span></span>,</td>
      </tr>
      <tr>
        <td id="L921" class="blob-num js-line-number" data-line-number="921"></td>
        <td id="LC921" class="blob-code blob-code-inner js-file-line">    <span class="pl-s"><span class="pl-pds">&quot;</span><span class="pl-cce">\n</span><span class="pl-pds">&quot;</span></span>,</td>
      </tr>
      <tr>
        <td id="L922" class="blob-num js-line-number" data-line-number="922"></td>
        <td id="LC922" class="blob-code blob-code-inner js-file-line">    <span class="pl-s"><span class="pl-pds">&quot;</span>assert np.all(new_pi == expected_pi)<span class="pl-cce">\n</span><span class="pl-pds">&quot;</span></span>,</td>
      </tr>
      <tr>
        <td id="L923" class="blob-num js-line-number" data-line-number="923"></td>
        <td id="LC923" class="blob-code blob-code-inner js-file-line">    <span class="pl-s"><span class="pl-pds">&quot;</span>assert stable == True<span class="pl-pds">&quot;</span></span></td>
      </tr>
      <tr>
        <td id="L924" class="blob-num js-line-number" data-line-number="924"></td>
        <td id="LC924" class="blob-code blob-code-inner js-file-line">   ]</td>
      </tr>
      <tr>
        <td id="L925" class="blob-num js-line-number" data-line-number="925"></td>
        <td id="LC925" class="blob-code blob-code-inner js-file-line">  },</td>
      </tr>
      <tr>
        <td id="L926" class="blob-num js-line-number" data-line-number="926"></td>
        <td id="LC926" class="blob-code blob-code-inner js-file-line">  {</td>
      </tr>
      <tr>
        <td id="L927" class="blob-num js-line-number" data-line-number="927"></td>
        <td id="LC927" class="blob-code blob-code-inner js-file-line">   <span class="pl-s"><span class="pl-pds">&quot;</span>cell_type<span class="pl-pds">&quot;</span></span>: <span class="pl-s"><span class="pl-pds">&quot;</span>code<span class="pl-pds">&quot;</span></span>,</td>
      </tr>
      <tr>
        <td id="L928" class="blob-num js-line-number" data-line-number="928"></td>
        <td id="LC928" class="blob-code blob-code-inner js-file-line">   <span class="pl-s"><span class="pl-pds">&quot;</span>execution_count<span class="pl-pds">&quot;</span></span>: <span class="pl-c1">19</span>,</td>
      </tr>
      <tr>
        <td id="L929" class="blob-num js-line-number" data-line-number="929"></td>
        <td id="LC929" class="blob-code blob-code-inner js-file-line">   <span class="pl-s"><span class="pl-pds">&quot;</span>metadata<span class="pl-pds">&quot;</span></span>: {</td>
      </tr>
      <tr>
        <td id="L930" class="blob-num js-line-number" data-line-number="930"></td>
        <td id="LC930" class="blob-code blob-code-inner js-file-line">    <span class="pl-s"><span class="pl-pds">&quot;</span>deletable<span class="pl-pds">&quot;</span></span>: <span class="pl-c1">false</span>,</td>
      </tr>
      <tr>
        <td id="L931" class="blob-num js-line-number" data-line-number="931"></td>
        <td id="LC931" class="blob-code blob-code-inner js-file-line">    <span class="pl-s"><span class="pl-pds">&quot;</span>editable<span class="pl-pds">&quot;</span></span>: <span class="pl-c1">false</span>,</td>
      </tr>
      <tr>
        <td id="L932" class="blob-num js-line-number" data-line-number="932"></td>
        <td id="LC932" class="blob-code blob-code-inner js-file-line">    <span class="pl-s"><span class="pl-pds">&quot;</span>nbgrader<span class="pl-pds">&quot;</span></span>: {</td>
      </tr>
      <tr>
        <td id="L933" class="blob-num js-line-number" data-line-number="933"></td>
        <td id="LC933" class="blob-code blob-code-inner js-file-line">     <span class="pl-s"><span class="pl-pds">&quot;</span>cell_type<span class="pl-pds">&quot;</span></span>: <span class="pl-s"><span class="pl-pds">&quot;</span>code<span class="pl-pds">&quot;</span></span>,</td>
      </tr>
      <tr>
        <td id="L934" class="blob-num js-line-number" data-line-number="934"></td>
        <td id="LC934" class="blob-code blob-code-inner js-file-line">     <span class="pl-s"><span class="pl-pds">&quot;</span>checksum<span class="pl-pds">&quot;</span></span>: <span class="pl-s"><span class="pl-pds">&quot;</span>9b8b71edde57f8aab6356de9a38527e3<span class="pl-pds">&quot;</span></span>,</td>
      </tr>
      <tr>
        <td id="L935" class="blob-num js-line-number" data-line-number="935"></td>
        <td id="LC935" class="blob-code blob-code-inner js-file-line">     <span class="pl-s"><span class="pl-pds">&quot;</span>grade<span class="pl-pds">&quot;</span></span>: <span class="pl-c1">true</span>,</td>
      </tr>
      <tr>
        <td id="L936" class="blob-num js-line-number" data-line-number="936"></td>
        <td id="LC936" class="blob-code blob-code-inner js-file-line">     <span class="pl-s"><span class="pl-pds">&quot;</span>grade_id<span class="pl-pds">&quot;</span></span>: <span class="pl-s"><span class="pl-pds">&quot;</span>cell-468eb92e69c7f65e<span class="pl-pds">&quot;</span></span>,</td>
      </tr>
      <tr>
        <td id="L937" class="blob-num js-line-number" data-line-number="937"></td>
        <td id="LC937" class="blob-code blob-code-inner js-file-line">     <span class="pl-s"><span class="pl-pds">&quot;</span>locked<span class="pl-pds">&quot;</span></span>: <span class="pl-c1">true</span>,</td>
      </tr>
      <tr>
        <td id="L938" class="blob-num js-line-number" data-line-number="938"></td>
        <td id="LC938" class="blob-code blob-code-inner js-file-line">     <span class="pl-s"><span class="pl-pds">&quot;</span>points<span class="pl-pds">&quot;</span></span>: <span class="pl-c1">10</span>,</td>
      </tr>
      <tr>
        <td id="L939" class="blob-num js-line-number" data-line-number="939"></td>
        <td id="LC939" class="blob-code blob-code-inner js-file-line">     <span class="pl-s"><span class="pl-pds">&quot;</span>schema_version<span class="pl-pds">&quot;</span></span>: <span class="pl-c1">3</span>,</td>
      </tr>
      <tr>
        <td id="L940" class="blob-num js-line-number" data-line-number="940"></td>
        <td id="LC940" class="blob-code blob-code-inner js-file-line">     <span class="pl-s"><span class="pl-pds">&quot;</span>solution<span class="pl-pds">&quot;</span></span>: <span class="pl-c1">false</span>,</td>
      </tr>
      <tr>
        <td id="L941" class="blob-num js-line-number" data-line-number="941"></td>
        <td id="LC941" class="blob-code blob-code-inner js-file-line">     <span class="pl-s"><span class="pl-pds">&quot;</span>task<span class="pl-pds">&quot;</span></span>: <span class="pl-c1">false</span></td>
      </tr>
      <tr>
        <td id="L942" class="blob-num js-line-number" data-line-number="942"></td>
        <td id="LC942" class="blob-code blob-code-inner js-file-line">    }</td>
      </tr>
      <tr>
        <td id="L943" class="blob-num js-line-number" data-line-number="943"></td>
        <td id="LC943" class="blob-code blob-code-inner js-file-line">   },</td>
      </tr>
      <tr>
        <td id="L944" class="blob-num js-line-number" data-line-number="944"></td>
        <td id="LC944" class="blob-code blob-code-inner js-file-line">   <span class="pl-s"><span class="pl-pds">&quot;</span>outputs<span class="pl-pds">&quot;</span></span>: [],</td>
      </tr>
      <tr>
        <td id="L945" class="blob-num js-line-number" data-line-number="945"></td>
        <td id="LC945" class="blob-code blob-code-inner js-file-line">   <span class="pl-s"><span class="pl-pds">&quot;</span>source<span class="pl-pds">&quot;</span></span>: [</td>
      </tr>
      <tr>
        <td id="L946" class="blob-num js-line-number" data-line-number="946"></td>
        <td id="LC946" class="blob-code blob-code-inner js-file-line">    <span class="pl-s"><span class="pl-pds">&quot;</span># -----------<span class="pl-cce">\n</span><span class="pl-pds">&quot;</span></span>,</td>
      </tr>
      <tr>
        <td id="L947" class="blob-num js-line-number" data-line-number="947"></td>
        <td id="LC947" class="blob-code blob-code-inner js-file-line">    <span class="pl-s"><span class="pl-pds">&quot;</span># Tested Cell<span class="pl-cce">\n</span><span class="pl-pds">&quot;</span></span>,</td>
      </tr>
      <tr>
        <td id="L948" class="blob-num js-line-number" data-line-number="948"></td>
        <td id="LC948" class="blob-code blob-code-inner js-file-line">    <span class="pl-s"><span class="pl-pds">&quot;</span># -----------<span class="pl-cce">\n</span><span class="pl-pds">&quot;</span></span>,</td>
      </tr>
      <tr>
        <td id="L949" class="blob-num js-line-number" data-line-number="949"></td>
        <td id="LC949" class="blob-code blob-code-inner js-file-line">    <span class="pl-s"><span class="pl-pds">&quot;</span># The contents of the cell will be tested by the autograder.<span class="pl-cce">\n</span><span class="pl-pds">&quot;</span></span>,</td>
      </tr>
      <tr>
        <td id="L950" class="blob-num js-line-number" data-line-number="950"></td>
        <td id="LC950" class="blob-code blob-code-inner js-file-line">    <span class="pl-s"><span class="pl-pds">&quot;</span># If they do not pass here, they will not pass there.<span class="pl-cce">\n</span><span class="pl-pds">&quot;</span></span>,</td>
      </tr>
      <tr>
        <td id="L951" class="blob-num js-line-number" data-line-number="951"></td>
        <td id="LC951" class="blob-code blob-code-inner js-file-line">    <span class="pl-s"><span class="pl-pds">&quot;</span>gamma = 0.9<span class="pl-cce">\n</span><span class="pl-pds">&quot;</span></span>,</td>
      </tr>
      <tr>
        <td id="L952" class="blob-num js-line-number" data-line-number="952"></td>
        <td id="LC952" class="blob-code blob-code-inner js-file-line">    <span class="pl-s"><span class="pl-pds">&quot;</span>theta = 0.1<span class="pl-cce">\n</span><span class="pl-pds">&quot;</span></span>,</td>
      </tr>
      <tr>
        <td id="L953" class="blob-num js-line-number" data-line-number="953"></td>
        <td id="LC953" class="blob-code blob-code-inner js-file-line">    <span class="pl-s"><span class="pl-pds">&quot;</span>env = tools.ParkingWorld(num_spaces=10, num_prices=4)<span class="pl-cce">\n</span><span class="pl-pds">&quot;</span></span>,</td>
      </tr>
      <tr>
        <td id="L954" class="blob-num js-line-number" data-line-number="954"></td>
        <td id="LC954" class="blob-code blob-code-inner js-file-line">    <span class="pl-s"><span class="pl-pds">&quot;</span><span class="pl-cce">\n</span><span class="pl-pds">&quot;</span></span>,</td>
      </tr>
      <tr>
        <td id="L955" class="blob-num js-line-number" data-line-number="955"></td>
        <td id="LC955" class="blob-code blob-code-inner js-file-line">    <span class="pl-s"><span class="pl-pds">&quot;</span>V, pi = policy_iteration(env, gamma, theta)<span class="pl-cce">\n</span><span class="pl-pds">&quot;</span></span>,</td>
      </tr>
      <tr>
        <td id="L956" class="blob-num js-line-number" data-line-number="956"></td>
        <td id="LC956" class="blob-code blob-code-inner js-file-line">    <span class="pl-s"><span class="pl-pds">&quot;</span><span class="pl-cce">\n</span><span class="pl-pds">&quot;</span></span>,</td>
      </tr>
      <tr>
        <td id="L957" class="blob-num js-line-number" data-line-number="957"></td>
        <td id="LC957" class="blob-code blob-code-inner js-file-line">    <span class="pl-s"><span class="pl-pds">&quot;</span>V_answer = [81.60, 83.28, 85.03, 86.79, 88.51, 90.16, 91.70, 93.08, 94.25, 95.25, 89.45]<span class="pl-cce">\n</span><span class="pl-pds">&quot;</span></span>,</td>
      </tr>
      <tr>
        <td id="L958" class="blob-num js-line-number" data-line-number="958"></td>
        <td id="LC958" class="blob-code blob-code-inner js-file-line">    <span class="pl-s"><span class="pl-pds">&quot;</span>pi_answer = [<span class="pl-cce">\n</span><span class="pl-pds">&quot;</span></span>,</td>
      </tr>
      <tr>
        <td id="L959" class="blob-num js-line-number" data-line-number="959"></td>
        <td id="LC959" class="blob-code blob-code-inner js-file-line">    <span class="pl-s"><span class="pl-pds">&quot;</span>    [1, 0, 0, 0],<span class="pl-cce">\n</span><span class="pl-pds">&quot;</span></span>,</td>
      </tr>
      <tr>
        <td id="L960" class="blob-num js-line-number" data-line-number="960"></td>
        <td id="LC960" class="blob-code blob-code-inner js-file-line">    <span class="pl-s"><span class="pl-pds">&quot;</span>    [1, 0, 0, 0],<span class="pl-cce">\n</span><span class="pl-pds">&quot;</span></span>,</td>
      </tr>
      <tr>
        <td id="L961" class="blob-num js-line-number" data-line-number="961"></td>
        <td id="LC961" class="blob-code blob-code-inner js-file-line">    <span class="pl-s"><span class="pl-pds">&quot;</span>    [1, 0, 0, 0],<span class="pl-cce">\n</span><span class="pl-pds">&quot;</span></span>,</td>
      </tr>
      <tr>
        <td id="L962" class="blob-num js-line-number" data-line-number="962"></td>
        <td id="LC962" class="blob-code blob-code-inner js-file-line">    <span class="pl-s"><span class="pl-pds">&quot;</span>    [1, 0, 0, 0],<span class="pl-cce">\n</span><span class="pl-pds">&quot;</span></span>,</td>
      </tr>
      <tr>
        <td id="L963" class="blob-num js-line-number" data-line-number="963"></td>
        <td id="LC963" class="blob-code blob-code-inner js-file-line">    <span class="pl-s"><span class="pl-pds">&quot;</span>    [1, 0, 0, 0],<span class="pl-cce">\n</span><span class="pl-pds">&quot;</span></span>,</td>
      </tr>
      <tr>
        <td id="L964" class="blob-num js-line-number" data-line-number="964"></td>
        <td id="LC964" class="blob-code blob-code-inner js-file-line">    <span class="pl-s"><span class="pl-pds">&quot;</span>    [1, 0, 0, 0],<span class="pl-cce">\n</span><span class="pl-pds">&quot;</span></span>,</td>
      </tr>
      <tr>
        <td id="L965" class="blob-num js-line-number" data-line-number="965"></td>
        <td id="LC965" class="blob-code blob-code-inner js-file-line">    <span class="pl-s"><span class="pl-pds">&quot;</span>    [1, 0, 0, 0],<span class="pl-cce">\n</span><span class="pl-pds">&quot;</span></span>,</td>
      </tr>
      <tr>
        <td id="L966" class="blob-num js-line-number" data-line-number="966"></td>
        <td id="LC966" class="blob-code blob-code-inner js-file-line">    <span class="pl-s"><span class="pl-pds">&quot;</span>    [1, 0, 0, 0],<span class="pl-cce">\n</span><span class="pl-pds">&quot;</span></span>,</td>
      </tr>
      <tr>
        <td id="L967" class="blob-num js-line-number" data-line-number="967"></td>
        <td id="LC967" class="blob-code blob-code-inner js-file-line">    <span class="pl-s"><span class="pl-pds">&quot;</span>    [1, 0, 0, 0],<span class="pl-cce">\n</span><span class="pl-pds">&quot;</span></span>,</td>
      </tr>
      <tr>
        <td id="L968" class="blob-num js-line-number" data-line-number="968"></td>
        <td id="LC968" class="blob-code blob-code-inner js-file-line">    <span class="pl-s"><span class="pl-pds">&quot;</span>    [0, 0, 0, 1],<span class="pl-cce">\n</span><span class="pl-pds">&quot;</span></span>,</td>
      </tr>
      <tr>
        <td id="L969" class="blob-num js-line-number" data-line-number="969"></td>
        <td id="LC969" class="blob-code blob-code-inner js-file-line">    <span class="pl-s"><span class="pl-pds">&quot;</span>    [0, 0, 0, 1],<span class="pl-cce">\n</span><span class="pl-pds">&quot;</span></span>,</td>
      </tr>
      <tr>
        <td id="L970" class="blob-num js-line-number" data-line-number="970"></td>
        <td id="LC970" class="blob-code blob-code-inner js-file-line">    <span class="pl-s"><span class="pl-pds">&quot;</span>]<span class="pl-cce">\n</span><span class="pl-pds">&quot;</span></span>,</td>
      </tr>
      <tr>
        <td id="L971" class="blob-num js-line-number" data-line-number="971"></td>
        <td id="LC971" class="blob-code blob-code-inner js-file-line">    <span class="pl-s"><span class="pl-pds">&quot;</span><span class="pl-cce">\n</span><span class="pl-pds">&quot;</span></span>,</td>
      </tr>
      <tr>
        <td id="L972" class="blob-num js-line-number" data-line-number="972"></td>
        <td id="LC972" class="blob-code blob-code-inner js-file-line">    <span class="pl-s"><span class="pl-pds">&quot;</span># make sure value function is within 2 decimal places of answer<span class="pl-cce">\n</span><span class="pl-pds">&quot;</span></span>,</td>
      </tr>
      <tr>
        <td id="L973" class="blob-num js-line-number" data-line-number="973"></td>
        <td id="LC973" class="blob-code blob-code-inner js-file-line">    <span class="pl-s"><span class="pl-pds">&quot;</span>assert grader.near(V, V_answer, 1e-2)<span class="pl-cce">\n</span><span class="pl-pds">&quot;</span></span>,</td>
      </tr>
      <tr>
        <td id="L974" class="blob-num js-line-number" data-line-number="974"></td>
        <td id="LC974" class="blob-code blob-code-inner js-file-line">    <span class="pl-s"><span class="pl-pds">&quot;</span># make sure policy is exactly correct<span class="pl-cce">\n</span><span class="pl-pds">&quot;</span></span>,</td>
      </tr>
      <tr>
        <td id="L975" class="blob-num js-line-number" data-line-number="975"></td>
        <td id="LC975" class="blob-code blob-code-inner js-file-line">    <span class="pl-s"><span class="pl-pds">&quot;</span>assert np.all(pi == pi_answer)<span class="pl-pds">&quot;</span></span></td>
      </tr>
      <tr>
        <td id="L976" class="blob-num js-line-number" data-line-number="976"></td>
        <td id="LC976" class="blob-code blob-code-inner js-file-line">   ]</td>
      </tr>
      <tr>
        <td id="L977" class="blob-num js-line-number" data-line-number="977"></td>
        <td id="LC977" class="blob-code blob-code-inner js-file-line">  },</td>
      </tr>
      <tr>
        <td id="L978" class="blob-num js-line-number" data-line-number="978"></td>
        <td id="LC978" class="blob-code blob-code-inner js-file-line">  {</td>
      </tr>
      <tr>
        <td id="L979" class="blob-num js-line-number" data-line-number="979"></td>
        <td id="LC979" class="blob-code blob-code-inner js-file-line">   <span class="pl-s"><span class="pl-pds">&quot;</span>cell_type<span class="pl-pds">&quot;</span></span>: <span class="pl-s"><span class="pl-pds">&quot;</span>markdown<span class="pl-pds">&quot;</span></span>,</td>
      </tr>
      <tr>
        <td id="L980" class="blob-num js-line-number" data-line-number="980"></td>
        <td id="LC980" class="blob-code blob-code-inner js-file-line">   <span class="pl-s"><span class="pl-pds">&quot;</span>metadata<span class="pl-pds">&quot;</span></span>: {</td>
      </tr>
      <tr>
        <td id="L981" class="blob-num js-line-number" data-line-number="981"></td>
        <td id="LC981" class="blob-code blob-code-inner js-file-line">    <span class="pl-s"><span class="pl-pds">&quot;</span>deletable<span class="pl-pds">&quot;</span></span>: <span class="pl-c1">false</span>,</td>
      </tr>
      <tr>
        <td id="L982" class="blob-num js-line-number" data-line-number="982"></td>
        <td id="LC982" class="blob-code blob-code-inner js-file-line">    <span class="pl-s"><span class="pl-pds">&quot;</span>editable<span class="pl-pds">&quot;</span></span>: <span class="pl-c1">false</span>,</td>
      </tr>
      <tr>
        <td id="L983" class="blob-num js-line-number" data-line-number="983"></td>
        <td id="LC983" class="blob-code blob-code-inner js-file-line">    <span class="pl-s"><span class="pl-pds">&quot;</span>nbgrader<span class="pl-pds">&quot;</span></span>: {</td>
      </tr>
      <tr>
        <td id="L984" class="blob-num js-line-number" data-line-number="984"></td>
        <td id="LC984" class="blob-code blob-code-inner js-file-line">     <span class="pl-s"><span class="pl-pds">&quot;</span>cell_type<span class="pl-pds">&quot;</span></span>: <span class="pl-s"><span class="pl-pds">&quot;</span>markdown<span class="pl-pds">&quot;</span></span>,</td>
      </tr>
      <tr>
        <td id="L985" class="blob-num js-line-number" data-line-number="985"></td>
        <td id="LC985" class="blob-code blob-code-inner js-file-line">     <span class="pl-s"><span class="pl-pds">&quot;</span>checksum<span class="pl-pds">&quot;</span></span>: <span class="pl-s"><span class="pl-pds">&quot;</span>b70073346d140503e1572043f2be5c7e<span class="pl-pds">&quot;</span></span>,</td>
      </tr>
      <tr>
        <td id="L986" class="blob-num js-line-number" data-line-number="986"></td>
        <td id="LC986" class="blob-code blob-code-inner js-file-line">     <span class="pl-s"><span class="pl-pds">&quot;</span>grade<span class="pl-pds">&quot;</span></span>: <span class="pl-c1">false</span>,</td>
      </tr>
      <tr>
        <td id="L987" class="blob-num js-line-number" data-line-number="987"></td>
        <td id="LC987" class="blob-code blob-code-inner js-file-line">     <span class="pl-s"><span class="pl-pds">&quot;</span>grade_id<span class="pl-pds">&quot;</span></span>: <span class="pl-s"><span class="pl-pds">&quot;</span>cell-d82e51ee8122647c<span class="pl-pds">&quot;</span></span>,</td>
      </tr>
      <tr>
        <td id="L988" class="blob-num js-line-number" data-line-number="988"></td>
        <td id="LC988" class="blob-code blob-code-inner js-file-line">     <span class="pl-s"><span class="pl-pds">&quot;</span>locked<span class="pl-pds">&quot;</span></span>: <span class="pl-c1">true</span>,</td>
      </tr>
      <tr>
        <td id="L989" class="blob-num js-line-number" data-line-number="989"></td>
        <td id="LC989" class="blob-code blob-code-inner js-file-line">     <span class="pl-s"><span class="pl-pds">&quot;</span>schema_version<span class="pl-pds">&quot;</span></span>: <span class="pl-c1">3</span>,</td>
      </tr>
      <tr>
        <td id="L990" class="blob-num js-line-number" data-line-number="990"></td>
        <td id="LC990" class="blob-code blob-code-inner js-file-line">     <span class="pl-s"><span class="pl-pds">&quot;</span>solution<span class="pl-pds">&quot;</span></span>: <span class="pl-c1">false</span></td>
      </tr>
      <tr>
        <td id="L991" class="blob-num js-line-number" data-line-number="991"></td>
        <td id="LC991" class="blob-code blob-code-inner js-file-line">    }</td>
      </tr>
      <tr>
        <td id="L992" class="blob-num js-line-number" data-line-number="992"></td>
        <td id="LC992" class="blob-code blob-code-inner js-file-line">   },</td>
      </tr>
      <tr>
        <td id="L993" class="blob-num js-line-number" data-line-number="993"></td>
        <td id="LC993" class="blob-code blob-code-inner js-file-line">   <span class="pl-s"><span class="pl-pds">&quot;</span>source<span class="pl-pds">&quot;</span></span>: [</td>
      </tr>
      <tr>
        <td id="L994" class="blob-num js-line-number" data-line-number="994"></td>
        <td id="LC994" class="blob-code blob-code-inner js-file-line">    <span class="pl-s"><span class="pl-pds">&quot;</span>When you are ready to test the policy iteration algorithm, run the cell below.<span class="pl-pds">&quot;</span></span></td>
      </tr>
      <tr>
        <td id="L995" class="blob-num js-line-number" data-line-number="995"></td>
        <td id="LC995" class="blob-code blob-code-inner js-file-line">   ]</td>
      </tr>
      <tr>
        <td id="L996" class="blob-num js-line-number" data-line-number="996"></td>
        <td id="LC996" class="blob-code blob-code-inner js-file-line">  },</td>
      </tr>
      <tr>
        <td id="L997" class="blob-num js-line-number" data-line-number="997"></td>
        <td id="LC997" class="blob-code blob-code-inner js-file-line">  {</td>
      </tr>
      <tr>
        <td id="L998" class="blob-num js-line-number" data-line-number="998"></td>
        <td id="LC998" class="blob-code blob-code-inner js-file-line">   <span class="pl-s"><span class="pl-pds">&quot;</span>cell_type<span class="pl-pds">&quot;</span></span>: <span class="pl-s"><span class="pl-pds">&quot;</span>code<span class="pl-pds">&quot;</span></span>,</td>
      </tr>
      <tr>
        <td id="L999" class="blob-num js-line-number" data-line-number="999"></td>
        <td id="LC999" class="blob-code blob-code-inner js-file-line">   <span class="pl-s"><span class="pl-pds">&quot;</span>execution_count<span class="pl-pds">&quot;</span></span>: <span class="pl-c1">20</span>,</td>
      </tr>
      <tr>
        <td id="L1000" class="blob-num js-line-number" data-line-number="1000"></td>
        <td id="LC1000" class="blob-code blob-code-inner js-file-line">   <span class="pl-s"><span class="pl-pds">&quot;</span>metadata<span class="pl-pds">&quot;</span></span>: {</td>
      </tr>
      <tr>
        <td id="L1001" class="blob-num js-line-number" data-line-number="1001"></td>
        <td id="LC1001" class="blob-code blob-code-inner js-file-line">    <span class="pl-s"><span class="pl-pds">&quot;</span>deletable<span class="pl-pds">&quot;</span></span>: <span class="pl-c1">false</span>,</td>
      </tr>
      <tr>
        <td id="L1002" class="blob-num js-line-number" data-line-number="1002"></td>
        <td id="LC1002" class="blob-code blob-code-inner js-file-line">    <span class="pl-s"><span class="pl-pds">&quot;</span>editable<span class="pl-pds">&quot;</span></span>: <span class="pl-c1">false</span>,</td>
      </tr>
      <tr>
        <td id="L1003" class="blob-num js-line-number" data-line-number="1003"></td>
        <td id="LC1003" class="blob-code blob-code-inner js-file-line">    <span class="pl-s"><span class="pl-pds">&quot;</span>nbgrader<span class="pl-pds">&quot;</span></span>: {</td>
      </tr>
      <tr>
        <td id="L1004" class="blob-num js-line-number" data-line-number="1004"></td>
        <td id="LC1004" class="blob-code blob-code-inner js-file-line">     <span class="pl-s"><span class="pl-pds">&quot;</span>cell_type<span class="pl-pds">&quot;</span></span>: <span class="pl-s"><span class="pl-pds">&quot;</span>code<span class="pl-pds">&quot;</span></span>,</td>
      </tr>
      <tr>
        <td id="L1005" class="blob-num js-line-number" data-line-number="1005"></td>
        <td id="LC1005" class="blob-code blob-code-inner js-file-line">     <span class="pl-s"><span class="pl-pds">&quot;</span>checksum<span class="pl-pds">&quot;</span></span>: <span class="pl-s"><span class="pl-pds">&quot;</span>aeedaa745e6dc30ebbc6b822c670c9b3<span class="pl-pds">&quot;</span></span>,</td>
      </tr>
      <tr>
        <td id="L1006" class="blob-num js-line-number" data-line-number="1006"></td>
        <td id="LC1006" class="blob-code blob-code-inner js-file-line">     <span class="pl-s"><span class="pl-pds">&quot;</span>grade<span class="pl-pds">&quot;</span></span>: <span class="pl-c1">false</span>,</td>
      </tr>
      <tr>
        <td id="L1007" class="blob-num js-line-number" data-line-number="1007"></td>
        <td id="LC1007" class="blob-code blob-code-inner js-file-line">     <span class="pl-s"><span class="pl-pds">&quot;</span>grade_id<span class="pl-pds">&quot;</span></span>: <span class="pl-s"><span class="pl-pds">&quot;</span>cell-6939985ef9ad58a3<span class="pl-pds">&quot;</span></span>,</td>
      </tr>
      <tr>
        <td id="L1008" class="blob-num js-line-number" data-line-number="1008"></td>
        <td id="LC1008" class="blob-code blob-code-inner js-file-line">     <span class="pl-s"><span class="pl-pds">&quot;</span>locked<span class="pl-pds">&quot;</span></span>: <span class="pl-c1">true</span>,</td>
      </tr>
      <tr>
        <td id="L1009" class="blob-num js-line-number" data-line-number="1009"></td>
        <td id="LC1009" class="blob-code blob-code-inner js-file-line">     <span class="pl-s"><span class="pl-pds">&quot;</span>schema_version<span class="pl-pds">&quot;</span></span>: <span class="pl-c1">3</span>,</td>
      </tr>
      <tr>
        <td id="L1010" class="blob-num js-line-number" data-line-number="1010"></td>
        <td id="LC1010" class="blob-code blob-code-inner js-file-line">     <span class="pl-s"><span class="pl-pds">&quot;</span>solution<span class="pl-pds">&quot;</span></span>: <span class="pl-c1">false</span></td>
      </tr>
      <tr>
        <td id="L1011" class="blob-num js-line-number" data-line-number="1011"></td>
        <td id="LC1011" class="blob-code blob-code-inner js-file-line">    }</td>
      </tr>
      <tr>
        <td id="L1012" class="blob-num js-line-number" data-line-number="1012"></td>
        <td id="LC1012" class="blob-code blob-code-inner js-file-line">   },</td>
      </tr>
      <tr>
        <td id="L1013" class="blob-num js-line-number" data-line-number="1013"></td>
        <td id="LC1013" class="blob-code blob-code-inner js-file-line">   <span class="pl-s"><span class="pl-pds">&quot;</span>outputs<span class="pl-pds">&quot;</span></span>: [],</td>
      </tr>
      <tr>
        <td id="L1014" class="blob-num js-line-number" data-line-number="1014"></td>
        <td id="LC1014" class="blob-code blob-code-inner js-file-line">   <span class="pl-s"><span class="pl-pds">&quot;</span>source<span class="pl-pds">&quot;</span></span>: [</td>
      </tr>
      <tr>
        <td id="L1015" class="blob-num js-line-number" data-line-number="1015"></td>
        <td id="LC1015" class="blob-code blob-code-inner js-file-line">    <span class="pl-s"><span class="pl-pds">&quot;</span>env = tools.ParkingWorld(num_spaces=10, num_prices=4)<span class="pl-cce">\n</span><span class="pl-pds">&quot;</span></span>,</td>
      </tr>
      <tr>
        <td id="L1016" class="blob-num js-line-number" data-line-number="1016"></td>
        <td id="LC1016" class="blob-code blob-code-inner js-file-line">    <span class="pl-s"><span class="pl-pds">&quot;</span>gamma = 0.9<span class="pl-cce">\n</span><span class="pl-pds">&quot;</span></span>,</td>
      </tr>
      <tr>
        <td id="L1017" class="blob-num js-line-number" data-line-number="1017"></td>
        <td id="LC1017" class="blob-code blob-code-inner js-file-line">    <span class="pl-s"><span class="pl-pds">&quot;</span>theta = 0.1<span class="pl-cce">\n</span><span class="pl-pds">&quot;</span></span>,</td>
      </tr>
      <tr>
        <td id="L1018" class="blob-num js-line-number" data-line-number="1018"></td>
        <td id="LC1018" class="blob-code blob-code-inner js-file-line">    <span class="pl-s"><span class="pl-pds">&quot;</span>V, pi = policy_iteration(env, gamma, theta)<span class="pl-pds">&quot;</span></span></td>
      </tr>
      <tr>
        <td id="L1019" class="blob-num js-line-number" data-line-number="1019"></td>
        <td id="LC1019" class="blob-code blob-code-inner js-file-line">   ]</td>
      </tr>
      <tr>
        <td id="L1020" class="blob-num js-line-number" data-line-number="1020"></td>
        <td id="LC1020" class="blob-code blob-code-inner js-file-line">  },</td>
      </tr>
      <tr>
        <td id="L1021" class="blob-num js-line-number" data-line-number="1021"></td>
        <td id="LC1021" class="blob-code blob-code-inner js-file-line">  {</td>
      </tr>
      <tr>
        <td id="L1022" class="blob-num js-line-number" data-line-number="1022"></td>
        <td id="LC1022" class="blob-code blob-code-inner js-file-line">   <span class="pl-s"><span class="pl-pds">&quot;</span>cell_type<span class="pl-pds">&quot;</span></span>: <span class="pl-s"><span class="pl-pds">&quot;</span>markdown<span class="pl-pds">&quot;</span></span>,</td>
      </tr>
      <tr>
        <td id="L1023" class="blob-num js-line-number" data-line-number="1023"></td>
        <td id="LC1023" class="blob-code blob-code-inner js-file-line">   <span class="pl-s"><span class="pl-pds">&quot;</span>metadata<span class="pl-pds">&quot;</span></span>: {</td>
      </tr>
      <tr>
        <td id="L1024" class="blob-num js-line-number" data-line-number="1024"></td>
        <td id="LC1024" class="blob-code blob-code-inner js-file-line">    <span class="pl-s"><span class="pl-pds">&quot;</span>deletable<span class="pl-pds">&quot;</span></span>: <span class="pl-c1">false</span>,</td>
      </tr>
      <tr>
        <td id="L1025" class="blob-num js-line-number" data-line-number="1025"></td>
        <td id="LC1025" class="blob-code blob-code-inner js-file-line">    <span class="pl-s"><span class="pl-pds">&quot;</span>editable<span class="pl-pds">&quot;</span></span>: <span class="pl-c1">false</span>,</td>
      </tr>
      <tr>
        <td id="L1026" class="blob-num js-line-number" data-line-number="1026"></td>
        <td id="LC1026" class="blob-code blob-code-inner js-file-line">    <span class="pl-s"><span class="pl-pds">&quot;</span>nbgrader<span class="pl-pds">&quot;</span></span>: {</td>
      </tr>
      <tr>
        <td id="L1027" class="blob-num js-line-number" data-line-number="1027"></td>
        <td id="LC1027" class="blob-code blob-code-inner js-file-line">     <span class="pl-s"><span class="pl-pds">&quot;</span>cell_type<span class="pl-pds">&quot;</span></span>: <span class="pl-s"><span class="pl-pds">&quot;</span>markdown<span class="pl-pds">&quot;</span></span>,</td>
      </tr>
      <tr>
        <td id="L1028" class="blob-num js-line-number" data-line-number="1028"></td>
        <td id="LC1028" class="blob-code blob-code-inner js-file-line">     <span class="pl-s"><span class="pl-pds">&quot;</span>checksum<span class="pl-pds">&quot;</span></span>: <span class="pl-s"><span class="pl-pds">&quot;</span>dcd619f8fcc010b6933b2bba4ce9f9e7<span class="pl-pds">&quot;</span></span>,</td>
      </tr>
      <tr>
        <td id="L1029" class="blob-num js-line-number" data-line-number="1029"></td>
        <td id="LC1029" class="blob-code blob-code-inner js-file-line">     <span class="pl-s"><span class="pl-pds">&quot;</span>grade<span class="pl-pds">&quot;</span></span>: <span class="pl-c1">false</span>,</td>
      </tr>
      <tr>
        <td id="L1030" class="blob-num js-line-number" data-line-number="1030"></td>
        <td id="LC1030" class="blob-code blob-code-inner js-file-line">     <span class="pl-s"><span class="pl-pds">&quot;</span>grade_id<span class="pl-pds">&quot;</span></span>: <span class="pl-s"><span class="pl-pds">&quot;</span>cell-acd7f476ed298570<span class="pl-pds">&quot;</span></span>,</td>
      </tr>
      <tr>
        <td id="L1031" class="blob-num js-line-number" data-line-number="1031"></td>
        <td id="LC1031" class="blob-code blob-code-inner js-file-line">     <span class="pl-s"><span class="pl-pds">&quot;</span>locked<span class="pl-pds">&quot;</span></span>: <span class="pl-c1">true</span>,</td>
      </tr>
      <tr>
        <td id="L1032" class="blob-num js-line-number" data-line-number="1032"></td>
        <td id="LC1032" class="blob-code blob-code-inner js-file-line">     <span class="pl-s"><span class="pl-pds">&quot;</span>schema_version<span class="pl-pds">&quot;</span></span>: <span class="pl-c1">3</span>,</td>
      </tr>
      <tr>
        <td id="L1033" class="blob-num js-line-number" data-line-number="1033"></td>
        <td id="LC1033" class="blob-code blob-code-inner js-file-line">     <span class="pl-s"><span class="pl-pds">&quot;</span>solution<span class="pl-pds">&quot;</span></span>: <span class="pl-c1">false</span></td>
      </tr>
      <tr>
        <td id="L1034" class="blob-num js-line-number" data-line-number="1034"></td>
        <td id="LC1034" class="blob-code blob-code-inner js-file-line">    }</td>
      </tr>
      <tr>
        <td id="L1035" class="blob-num js-line-number" data-line-number="1035"></td>
        <td id="LC1035" class="blob-code blob-code-inner js-file-line">   },</td>
      </tr>
      <tr>
        <td id="L1036" class="blob-num js-line-number" data-line-number="1036"></td>
        <td id="LC1036" class="blob-code blob-code-inner js-file-line">   <span class="pl-s"><span class="pl-pds">&quot;</span>source<span class="pl-pds">&quot;</span></span>: [</td>
      </tr>
      <tr>
        <td id="L1037" class="blob-num js-line-number" data-line-number="1037"></td>
        <td id="LC1037" class="blob-code blob-code-inner js-file-line">    <span class="pl-s"><span class="pl-pds">&quot;</span>You can use the ``plot`` function to visualize the final value function and policy.<span class="pl-pds">&quot;</span></span></td>
      </tr>
      <tr>
        <td id="L1038" class="blob-num js-line-number" data-line-number="1038"></td>
        <td id="LC1038" class="blob-code blob-code-inner js-file-line">   ]</td>
      </tr>
      <tr>
        <td id="L1039" class="blob-num js-line-number" data-line-number="1039"></td>
        <td id="LC1039" class="blob-code blob-code-inner js-file-line">  },</td>
      </tr>
      <tr>
        <td id="L1040" class="blob-num js-line-number" data-line-number="1040"></td>
        <td id="LC1040" class="blob-code blob-code-inner js-file-line">  {</td>
      </tr>
      <tr>
        <td id="L1041" class="blob-num js-line-number" data-line-number="1041"></td>
        <td id="LC1041" class="blob-code blob-code-inner js-file-line">   <span class="pl-s"><span class="pl-pds">&quot;</span>cell_type<span class="pl-pds">&quot;</span></span>: <span class="pl-s"><span class="pl-pds">&quot;</span>code<span class="pl-pds">&quot;</span></span>,</td>
      </tr>
      <tr>
        <td id="L1042" class="blob-num js-line-number" data-line-number="1042"></td>
        <td id="LC1042" class="blob-code blob-code-inner js-file-line">   <span class="pl-s"><span class="pl-pds">&quot;</span>execution_count<span class="pl-pds">&quot;</span></span>: <span class="pl-c1">21</span>,</td>
      </tr>
      <tr>
        <td id="L1043" class="blob-num js-line-number" data-line-number="1043"></td>
        <td id="LC1043" class="blob-code blob-code-inner js-file-line">   <span class="pl-s"><span class="pl-pds">&quot;</span>metadata<span class="pl-pds">&quot;</span></span>: {</td>
      </tr>
      <tr>
        <td id="L1044" class="blob-num js-line-number" data-line-number="1044"></td>
        <td id="LC1044" class="blob-code blob-code-inner js-file-line">    <span class="pl-s"><span class="pl-pds">&quot;</span>deletable<span class="pl-pds">&quot;</span></span>: <span class="pl-c1">false</span>,</td>
      </tr>
      <tr>
        <td id="L1045" class="blob-num js-line-number" data-line-number="1045"></td>
        <td id="LC1045" class="blob-code blob-code-inner js-file-line">    <span class="pl-s"><span class="pl-pds">&quot;</span>editable<span class="pl-pds">&quot;</span></span>: <span class="pl-c1">false</span>,</td>
      </tr>
      <tr>
        <td id="L1046" class="blob-num js-line-number" data-line-number="1046"></td>
        <td id="LC1046" class="blob-code blob-code-inner js-file-line">    <span class="pl-s"><span class="pl-pds">&quot;</span>nbgrader<span class="pl-pds">&quot;</span></span>: {</td>
      </tr>
      <tr>
        <td id="L1047" class="blob-num js-line-number" data-line-number="1047"></td>
        <td id="LC1047" class="blob-code blob-code-inner js-file-line">     <span class="pl-s"><span class="pl-pds">&quot;</span>cell_type<span class="pl-pds">&quot;</span></span>: <span class="pl-s"><span class="pl-pds">&quot;</span>code<span class="pl-pds">&quot;</span></span>,</td>
      </tr>
      <tr>
        <td id="L1048" class="blob-num js-line-number" data-line-number="1048"></td>
        <td id="LC1048" class="blob-code blob-code-inner js-file-line">     <span class="pl-s"><span class="pl-pds">&quot;</span>checksum<span class="pl-pds">&quot;</span></span>: <span class="pl-s"><span class="pl-pds">&quot;</span>da17cf77a51f4fabd0ce3a93e2803af8<span class="pl-pds">&quot;</span></span>,</td>
      </tr>
      <tr>
        <td id="L1049" class="blob-num js-line-number" data-line-number="1049"></td>
        <td id="LC1049" class="blob-code blob-code-inner js-file-line">     <span class="pl-s"><span class="pl-pds">&quot;</span>grade<span class="pl-pds">&quot;</span></span>: <span class="pl-c1">false</span>,</td>
      </tr>
      <tr>
        <td id="L1050" class="blob-num js-line-number" data-line-number="1050"></td>
        <td id="LC1050" class="blob-code blob-code-inner js-file-line">     <span class="pl-s"><span class="pl-pds">&quot;</span>grade_id<span class="pl-pds">&quot;</span></span>: <span class="pl-s"><span class="pl-pds">&quot;</span>cell-73a1da64ca84a151<span class="pl-pds">&quot;</span></span>,</td>
      </tr>
      <tr>
        <td id="L1051" class="blob-num js-line-number" data-line-number="1051"></td>
        <td id="LC1051" class="blob-code blob-code-inner js-file-line">     <span class="pl-s"><span class="pl-pds">&quot;</span>locked<span class="pl-pds">&quot;</span></span>: <span class="pl-c1">true</span>,</td>
      </tr>
      <tr>
        <td id="L1052" class="blob-num js-line-number" data-line-number="1052"></td>
        <td id="LC1052" class="blob-code blob-code-inner js-file-line">     <span class="pl-s"><span class="pl-pds">&quot;</span>schema_version<span class="pl-pds">&quot;</span></span>: <span class="pl-c1">3</span>,</td>
      </tr>
      <tr>
        <td id="L1053" class="blob-num js-line-number" data-line-number="1053"></td>
        <td id="LC1053" class="blob-code blob-code-inner js-file-line">     <span class="pl-s"><span class="pl-pds">&quot;</span>solution<span class="pl-pds">&quot;</span></span>: <span class="pl-c1">false</span></td>
      </tr>
      <tr>
        <td id="L1054" class="blob-num js-line-number" data-line-number="1054"></td>
        <td id="LC1054" class="blob-code blob-code-inner js-file-line">    }</td>
      </tr>
      <tr>
        <td id="L1055" class="blob-num js-line-number" data-line-number="1055"></td>
        <td id="LC1055" class="blob-code blob-code-inner js-file-line">   },</td>
      </tr>
      <tr>
        <td id="L1056" class="blob-num js-line-number" data-line-number="1056"></td>
        <td id="LC1056" class="blob-code blob-code-inner js-file-line">   <span class="pl-s"><span class="pl-pds">&quot;</span>outputs<span class="pl-pds">&quot;</span></span>: [</td>
      </tr>
      <tr>
        <td id="L1057" class="blob-num js-line-number" data-line-number="1057"></td>
        <td id="LC1057" class="blob-code blob-code-inner js-file-line">    {</td>
      </tr>
      <tr>
        <td id="L1058" class="blob-num js-line-number" data-line-number="1058"></td>
        <td id="LC1058" class="blob-code blob-code-inner js-file-line">     <span class="pl-s"><span class="pl-pds">&quot;</span>data<span class="pl-pds">&quot;</span></span>: {</td>
      </tr>
      <tr>
        <td id="L1059" class="blob-num js-line-number" data-line-number="1059"></td>
        <td id="LC1059" class="blob-code blob-code-inner js-file-line">      &quot;image/png&quot;: &quot;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\n&quot;,</td>
      </tr>
      <tr>
        <td id="L1060" class="blob-num js-line-number" data-line-number="1060"></td>
        <td id="LC1060" class="blob-code blob-code-inner js-file-line">      <span class="pl-s"><span class="pl-pds">&quot;</span>text/plain<span class="pl-pds">&quot;</span></span>: [</td>
      </tr>
      <tr>
        <td id="L1061" class="blob-num js-line-number" data-line-number="1061"></td>
        <td id="LC1061" class="blob-code blob-code-inner js-file-line">       <span class="pl-s"><span class="pl-pds">&quot;</span>&lt;Figure size 900x360 with 3 Axes&gt;<span class="pl-pds">&quot;</span></span></td>
      </tr>
      <tr>
        <td id="L1062" class="blob-num js-line-number" data-line-number="1062"></td>
        <td id="LC1062" class="blob-code blob-code-inner js-file-line">      ]</td>
      </tr>
      <tr>
        <td id="L1063" class="blob-num js-line-number" data-line-number="1063"></td>
        <td id="LC1063" class="blob-code blob-code-inner js-file-line">     },</td>
      </tr>
      <tr>
        <td id="L1064" class="blob-num js-line-number" data-line-number="1064"></td>
        <td id="LC1064" class="blob-code blob-code-inner js-file-line">     <span class="pl-s"><span class="pl-pds">&quot;</span>metadata<span class="pl-pds">&quot;</span></span>: {},</td>
      </tr>
      <tr>
        <td id="L1065" class="blob-num js-line-number" data-line-number="1065"></td>
        <td id="LC1065" class="blob-code blob-code-inner js-file-line">     <span class="pl-s"><span class="pl-pds">&quot;</span>output_type<span class="pl-pds">&quot;</span></span>: <span class="pl-s"><span class="pl-pds">&quot;</span>display_data<span class="pl-pds">&quot;</span></span></td>
      </tr>
      <tr>
        <td id="L1066" class="blob-num js-line-number" data-line-number="1066"></td>
        <td id="LC1066" class="blob-code blob-code-inner js-file-line">    }</td>
      </tr>
      <tr>
        <td id="L1067" class="blob-num js-line-number" data-line-number="1067"></td>
        <td id="LC1067" class="blob-code blob-code-inner js-file-line">   ],</td>
      </tr>
      <tr>
        <td id="L1068" class="blob-num js-line-number" data-line-number="1068"></td>
        <td id="LC1068" class="blob-code blob-code-inner js-file-line">   <span class="pl-s"><span class="pl-pds">&quot;</span>source<span class="pl-pds">&quot;</span></span>: [</td>
      </tr>
      <tr>
        <td id="L1069" class="blob-num js-line-number" data-line-number="1069"></td>
        <td id="LC1069" class="blob-code blob-code-inner js-file-line">    <span class="pl-s"><span class="pl-pds">&quot;</span>tools.plot(V, pi)<span class="pl-pds">&quot;</span></span></td>
      </tr>
      <tr>
        <td id="L1070" class="blob-num js-line-number" data-line-number="1070"></td>
        <td id="LC1070" class="blob-code blob-code-inner js-file-line">   ]</td>
      </tr>
      <tr>
        <td id="L1071" class="blob-num js-line-number" data-line-number="1071"></td>
        <td id="LC1071" class="blob-code blob-code-inner js-file-line">  },</td>
      </tr>
      <tr>
        <td id="L1072" class="blob-num js-line-number" data-line-number="1072"></td>
        <td id="LC1072" class="blob-code blob-code-inner js-file-line">  {</td>
      </tr>
      <tr>
        <td id="L1073" class="blob-num js-line-number" data-line-number="1073"></td>
        <td id="LC1073" class="blob-code blob-code-inner js-file-line">   <span class="pl-s"><span class="pl-pds">&quot;</span>cell_type<span class="pl-pds">&quot;</span></span>: <span class="pl-s"><span class="pl-pds">&quot;</span>markdown<span class="pl-pds">&quot;</span></span>,</td>
      </tr>
      <tr>
        <td id="L1074" class="blob-num js-line-number" data-line-number="1074"></td>
        <td id="LC1074" class="blob-code blob-code-inner js-file-line">   <span class="pl-s"><span class="pl-pds">&quot;</span>metadata<span class="pl-pds">&quot;</span></span>: {</td>
      </tr>
      <tr>
        <td id="L1075" class="blob-num js-line-number" data-line-number="1075"></td>
        <td id="LC1075" class="blob-code blob-code-inner js-file-line">    <span class="pl-s"><span class="pl-pds">&quot;</span>deletable<span class="pl-pds">&quot;</span></span>: <span class="pl-c1">false</span>,</td>
      </tr>
      <tr>
        <td id="L1076" class="blob-num js-line-number" data-line-number="1076"></td>
        <td id="LC1076" class="blob-code blob-code-inner js-file-line">    <span class="pl-s"><span class="pl-pds">&quot;</span>editable<span class="pl-pds">&quot;</span></span>: <span class="pl-c1">false</span>,</td>
      </tr>
      <tr>
        <td id="L1077" class="blob-num js-line-number" data-line-number="1077"></td>
        <td id="LC1077" class="blob-code blob-code-inner js-file-line">    <span class="pl-s"><span class="pl-pds">&quot;</span>nbgrader<span class="pl-pds">&quot;</span></span>: {</td>
      </tr>
      <tr>
        <td id="L1078" class="blob-num js-line-number" data-line-number="1078"></td>
        <td id="LC1078" class="blob-code blob-code-inner js-file-line">     <span class="pl-s"><span class="pl-pds">&quot;</span>cell_type<span class="pl-pds">&quot;</span></span>: <span class="pl-s"><span class="pl-pds">&quot;</span>markdown<span class="pl-pds">&quot;</span></span>,</td>
      </tr>
      <tr>
        <td id="L1079" class="blob-num js-line-number" data-line-number="1079"></td>
        <td id="LC1079" class="blob-code blob-code-inner js-file-line">     <span class="pl-s"><span class="pl-pds">&quot;</span>checksum<span class="pl-pds">&quot;</span></span>: <span class="pl-s"><span class="pl-pds">&quot;</span>0943d42dc7e60e40739b606700125da1<span class="pl-pds">&quot;</span></span>,</td>
      </tr>
      <tr>
        <td id="L1080" class="blob-num js-line-number" data-line-number="1080"></td>
        <td id="LC1080" class="blob-code blob-code-inner js-file-line">     <span class="pl-s"><span class="pl-pds">&quot;</span>grade<span class="pl-pds">&quot;</span></span>: <span class="pl-c1">false</span>,</td>
      </tr>
      <tr>
        <td id="L1081" class="blob-num js-line-number" data-line-number="1081"></td>
        <td id="LC1081" class="blob-code blob-code-inner js-file-line">     <span class="pl-s"><span class="pl-pds">&quot;</span>grade_id<span class="pl-pds">&quot;</span></span>: <span class="pl-s"><span class="pl-pds">&quot;</span>cell-92139bf490757a44<span class="pl-pds">&quot;</span></span>,</td>
      </tr>
      <tr>
        <td id="L1082" class="blob-num js-line-number" data-line-number="1082"></td>
        <td id="LC1082" class="blob-code blob-code-inner js-file-line">     <span class="pl-s"><span class="pl-pds">&quot;</span>locked<span class="pl-pds">&quot;</span></span>: <span class="pl-c1">true</span>,</td>
      </tr>
      <tr>
        <td id="L1083" class="blob-num js-line-number" data-line-number="1083"></td>
        <td id="LC1083" class="blob-code blob-code-inner js-file-line">     <span class="pl-s"><span class="pl-pds">&quot;</span>schema_version<span class="pl-pds">&quot;</span></span>: <span class="pl-c1">3</span>,</td>
      </tr>
      <tr>
        <td id="L1084" class="blob-num js-line-number" data-line-number="1084"></td>
        <td id="LC1084" class="blob-code blob-code-inner js-file-line">     <span class="pl-s"><span class="pl-pds">&quot;</span>solution<span class="pl-pds">&quot;</span></span>: <span class="pl-c1">false</span></td>
      </tr>
      <tr>
        <td id="L1085" class="blob-num js-line-number" data-line-number="1085"></td>
        <td id="LC1085" class="blob-code blob-code-inner js-file-line">    }</td>
      </tr>
      <tr>
        <td id="L1086" class="blob-num js-line-number" data-line-number="1086"></td>
        <td id="LC1086" class="blob-code blob-code-inner js-file-line">   },</td>
      </tr>
      <tr>
        <td id="L1087" class="blob-num js-line-number" data-line-number="1087"></td>
        <td id="LC1087" class="blob-code blob-code-inner js-file-line">   <span class="pl-s"><span class="pl-pds">&quot;</span>source<span class="pl-pds">&quot;</span></span>: [</td>
      </tr>
      <tr>
        <td id="L1088" class="blob-num js-line-number" data-line-number="1088"></td>
        <td id="LC1088" class="blob-code blob-code-inner js-file-line">    <span class="pl-s"><span class="pl-pds">&quot;</span>You can check the value function (rounded to one decimal place) and policy against the answer below:&lt;br&gt;<span class="pl-cce">\n</span><span class="pl-pds">&quot;</span></span>,</td>
      </tr>
      <tr>
        <td id="L1089" class="blob-num js-line-number" data-line-number="1089"></td>
        <td id="LC1089" class="blob-code blob-code-inner js-file-line">    <span class="pl-s"><span class="pl-pds">&quot;</span>State $<span class="pl-cce">\\</span>quad<span class="pl-cce">\\</span>quad$    Value $<span class="pl-cce">\\</span>quad<span class="pl-cce">\\</span>quad$ Action&lt;br&gt;<span class="pl-cce">\n</span><span class="pl-pds">&quot;</span></span>,</td>
      </tr>
      <tr>
        <td id="L1090" class="blob-num js-line-number" data-line-number="1090"></td>
        <td id="LC1090" class="blob-code blob-code-inner js-file-line">    <span class="pl-s"><span class="pl-pds">&quot;</span>0 $<span class="pl-cce">\\</span>quad<span class="pl-cce">\\</span>quad<span class="pl-cce">\\</span>quad<span class="pl-cce">\\</span>;$        81.6 $<span class="pl-cce">\\</span>quad<span class="pl-cce">\\</span>quad<span class="pl-cce">\\</span>;$ 0&lt;br&gt;<span class="pl-cce">\n</span><span class="pl-pds">&quot;</span></span>,</td>
      </tr>
      <tr>
        <td id="L1091" class="blob-num js-line-number" data-line-number="1091"></td>
        <td id="LC1091" class="blob-code blob-code-inner js-file-line">    <span class="pl-s"><span class="pl-pds">&quot;</span>1 $<span class="pl-cce">\\</span>quad<span class="pl-cce">\\</span>quad<span class="pl-cce">\\</span>quad<span class="pl-cce">\\</span>;$        83.3 $<span class="pl-cce">\\</span>quad<span class="pl-cce">\\</span>quad<span class="pl-cce">\\</span>;$ 0&lt;br&gt;<span class="pl-cce">\n</span><span class="pl-pds">&quot;</span></span>,</td>
      </tr>
      <tr>
        <td id="L1092" class="blob-num js-line-number" data-line-number="1092"></td>
        <td id="LC1092" class="blob-code blob-code-inner js-file-line">    <span class="pl-s"><span class="pl-pds">&quot;</span>2 $<span class="pl-cce">\\</span>quad<span class="pl-cce">\\</span>quad<span class="pl-cce">\\</span>quad<span class="pl-cce">\\</span>;$        85.0 $<span class="pl-cce">\\</span>quad<span class="pl-cce">\\</span>quad<span class="pl-cce">\\</span>;$ 0&lt;br&gt;<span class="pl-cce">\n</span><span class="pl-pds">&quot;</span></span>,</td>
      </tr>
      <tr>
        <td id="L1093" class="blob-num js-line-number" data-line-number="1093"></td>
        <td id="LC1093" class="blob-code blob-code-inner js-file-line">    <span class="pl-s"><span class="pl-pds">&quot;</span>3 $<span class="pl-cce">\\</span>quad<span class="pl-cce">\\</span>quad<span class="pl-cce">\\</span>quad<span class="pl-cce">\\</span>;$        86.8 $<span class="pl-cce">\\</span>quad<span class="pl-cce">\\</span>quad<span class="pl-cce">\\</span>;$ 0&lt;br&gt;<span class="pl-cce">\n</span><span class="pl-pds">&quot;</span></span>,</td>
      </tr>
      <tr>
        <td id="L1094" class="blob-num js-line-number" data-line-number="1094"></td>
        <td id="LC1094" class="blob-code blob-code-inner js-file-line">    <span class="pl-s"><span class="pl-pds">&quot;</span>4 $<span class="pl-cce">\\</span>quad<span class="pl-cce">\\</span>quad<span class="pl-cce">\\</span>quad<span class="pl-cce">\\</span>;$        88.5 $<span class="pl-cce">\\</span>quad<span class="pl-cce">\\</span>quad<span class="pl-cce">\\</span>;$ 0&lt;br&gt;<span class="pl-cce">\n</span><span class="pl-pds">&quot;</span></span>,</td>
      </tr>
      <tr>
        <td id="L1095" class="blob-num js-line-number" data-line-number="1095"></td>
        <td id="LC1095" class="blob-code blob-code-inner js-file-line">    <span class="pl-s"><span class="pl-pds">&quot;</span>5 $<span class="pl-cce">\\</span>quad<span class="pl-cce">\\</span>quad<span class="pl-cce">\\</span>quad<span class="pl-cce">\\</span>;$        90.2 $<span class="pl-cce">\\</span>quad<span class="pl-cce">\\</span>quad<span class="pl-cce">\\</span>;$ 0&lt;br&gt;<span class="pl-cce">\n</span><span class="pl-pds">&quot;</span></span>,</td>
      </tr>
      <tr>
        <td id="L1096" class="blob-num js-line-number" data-line-number="1096"></td>
        <td id="LC1096" class="blob-code blob-code-inner js-file-line">    <span class="pl-s"><span class="pl-pds">&quot;</span>6 $<span class="pl-cce">\\</span>quad<span class="pl-cce">\\</span>quad<span class="pl-cce">\\</span>quad<span class="pl-cce">\\</span>;$        91.7 $<span class="pl-cce">\\</span>quad<span class="pl-cce">\\</span>quad<span class="pl-cce">\\</span>;$ 0&lt;br&gt;<span class="pl-cce">\n</span><span class="pl-pds">&quot;</span></span>,</td>
      </tr>
      <tr>
        <td id="L1097" class="blob-num js-line-number" data-line-number="1097"></td>
        <td id="LC1097" class="blob-code blob-code-inner js-file-line">    <span class="pl-s"><span class="pl-pds">&quot;</span>7 $<span class="pl-cce">\\</span>quad<span class="pl-cce">\\</span>quad<span class="pl-cce">\\</span>quad<span class="pl-cce">\\</span>;$        93.1 $<span class="pl-cce">\\</span>quad<span class="pl-cce">\\</span>quad<span class="pl-cce">\\</span>;$ 0&lt;br&gt;<span class="pl-cce">\n</span><span class="pl-pds">&quot;</span></span>,</td>
      </tr>
      <tr>
        <td id="L1098" class="blob-num js-line-number" data-line-number="1098"></td>
        <td id="LC1098" class="blob-code blob-code-inner js-file-line">    <span class="pl-s"><span class="pl-pds">&quot;</span>8 $<span class="pl-cce">\\</span>quad<span class="pl-cce">\\</span>quad<span class="pl-cce">\\</span>quad<span class="pl-cce">\\</span>;$        94.3 $<span class="pl-cce">\\</span>quad<span class="pl-cce">\\</span>quad<span class="pl-cce">\\</span>;$ 0&lt;br&gt;<span class="pl-cce">\n</span><span class="pl-pds">&quot;</span></span>,</td>
      </tr>
      <tr>
        <td id="L1099" class="blob-num js-line-number" data-line-number="1099"></td>
        <td id="LC1099" class="blob-code blob-code-inner js-file-line">    <span class="pl-s"><span class="pl-pds">&quot;</span>9 $<span class="pl-cce">\\</span>quad<span class="pl-cce">\\</span>quad<span class="pl-cce">\\</span>quad<span class="pl-cce">\\</span>;$        95.3 $<span class="pl-cce">\\</span>quad<span class="pl-cce">\\</span>quad<span class="pl-cce">\\</span>;$ 3&lt;br&gt;<span class="pl-cce">\n</span><span class="pl-pds">&quot;</span></span>,</td>
      </tr>
      <tr>
        <td id="L1100" class="blob-num js-line-number" data-line-number="1100"></td>
        <td id="LC1100" class="blob-code blob-code-inner js-file-line">    <span class="pl-s"><span class="pl-pds">&quot;</span>10 $<span class="pl-cce">\\</span>quad<span class="pl-cce">\\</span>quad<span class="pl-cce">\\</span>;<span class="pl-cce">\\</span>;<span class="pl-cce">\\</span>,<span class="pl-cce">\\</span>,$      89.5 $<span class="pl-cce">\\</span>quad<span class="pl-cce">\\</span>quad<span class="pl-cce">\\</span>;$ 3&lt;br&gt;<span class="pl-pds">&quot;</span></span></td>
      </tr>
      <tr>
        <td id="L1101" class="blob-num js-line-number" data-line-number="1101"></td>
        <td id="LC1101" class="blob-code blob-code-inner js-file-line">   ]</td>
      </tr>
      <tr>
        <td id="L1102" class="blob-num js-line-number" data-line-number="1102"></td>
        <td id="LC1102" class="blob-code blob-code-inner js-file-line">  },</td>
      </tr>
      <tr>
        <td id="L1103" class="blob-num js-line-number" data-line-number="1103"></td>
        <td id="LC1103" class="blob-code blob-code-inner js-file-line">  {</td>
      </tr>
      <tr>
        <td id="L1104" class="blob-num js-line-number" data-line-number="1104"></td>
        <td id="LC1104" class="blob-code blob-code-inner js-file-line">   <span class="pl-s"><span class="pl-pds">&quot;</span>cell_type<span class="pl-pds">&quot;</span></span>: <span class="pl-s"><span class="pl-pds">&quot;</span>markdown<span class="pl-pds">&quot;</span></span>,</td>
      </tr>
      <tr>
        <td id="L1105" class="blob-num js-line-number" data-line-number="1105"></td>
        <td id="LC1105" class="blob-code blob-code-inner js-file-line">   <span class="pl-s"><span class="pl-pds">&quot;</span>metadata<span class="pl-pds">&quot;</span></span>: {</td>
      </tr>
      <tr>
        <td id="L1106" class="blob-num js-line-number" data-line-number="1106"></td>
        <td id="LC1106" class="blob-code blob-code-inner js-file-line">    <span class="pl-s"><span class="pl-pds">&quot;</span>deletable<span class="pl-pds">&quot;</span></span>: <span class="pl-c1">false</span>,</td>
      </tr>
      <tr>
        <td id="L1107" class="blob-num js-line-number" data-line-number="1107"></td>
        <td id="LC1107" class="blob-code blob-code-inner js-file-line">    <span class="pl-s"><span class="pl-pds">&quot;</span>editable<span class="pl-pds">&quot;</span></span>: <span class="pl-c1">false</span>,</td>
      </tr>
      <tr>
        <td id="L1108" class="blob-num js-line-number" data-line-number="1108"></td>
        <td id="LC1108" class="blob-code blob-code-inner js-file-line">    <span class="pl-s"><span class="pl-pds">&quot;</span>nbgrader<span class="pl-pds">&quot;</span></span>: {</td>
      </tr>
      <tr>
        <td id="L1109" class="blob-num js-line-number" data-line-number="1109"></td>
        <td id="LC1109" class="blob-code blob-code-inner js-file-line">     <span class="pl-s"><span class="pl-pds">&quot;</span>cell_type<span class="pl-pds">&quot;</span></span>: <span class="pl-s"><span class="pl-pds">&quot;</span>markdown<span class="pl-pds">&quot;</span></span>,</td>
      </tr>
      <tr>
        <td id="L1110" class="blob-num js-line-number" data-line-number="1110"></td>
        <td id="LC1110" class="blob-code blob-code-inner js-file-line">     <span class="pl-s"><span class="pl-pds">&quot;</span>checksum<span class="pl-pds">&quot;</span></span>: <span class="pl-s"><span class="pl-pds">&quot;</span>e59b175ca7605a8002c2040043f7b1af<span class="pl-pds">&quot;</span></span>,</td>
      </tr>
      <tr>
        <td id="L1111" class="blob-num js-line-number" data-line-number="1111"></td>
        <td id="LC1111" class="blob-code blob-code-inner js-file-line">     <span class="pl-s"><span class="pl-pds">&quot;</span>grade<span class="pl-pds">&quot;</span></span>: <span class="pl-c1">false</span>,</td>
      </tr>
      <tr>
        <td id="L1112" class="blob-num js-line-number" data-line-number="1112"></td>
        <td id="LC1112" class="blob-code blob-code-inner js-file-line">     <span class="pl-s"><span class="pl-pds">&quot;</span>grade_id<span class="pl-pds">&quot;</span></span>: <span class="pl-s"><span class="pl-pds">&quot;</span>cell-e7628124eafb2fc2<span class="pl-pds">&quot;</span></span>,</td>
      </tr>
      <tr>
        <td id="L1113" class="blob-num js-line-number" data-line-number="1113"></td>
        <td id="LC1113" class="blob-code blob-code-inner js-file-line">     <span class="pl-s"><span class="pl-pds">&quot;</span>locked<span class="pl-pds">&quot;</span></span>: <span class="pl-c1">true</span>,</td>
      </tr>
      <tr>
        <td id="L1114" class="blob-num js-line-number" data-line-number="1114"></td>
        <td id="LC1114" class="blob-code blob-code-inner js-file-line">     <span class="pl-s"><span class="pl-pds">&quot;</span>schema_version<span class="pl-pds">&quot;</span></span>: <span class="pl-c1">3</span>,</td>
      </tr>
      <tr>
        <td id="L1115" class="blob-num js-line-number" data-line-number="1115"></td>
        <td id="LC1115" class="blob-code blob-code-inner js-file-line">     <span class="pl-s"><span class="pl-pds">&quot;</span>solution<span class="pl-pds">&quot;</span></span>: <span class="pl-c1">false</span></td>
      </tr>
      <tr>
        <td id="L1116" class="blob-num js-line-number" data-line-number="1116"></td>
        <td id="LC1116" class="blob-code blob-code-inner js-file-line">    }</td>
      </tr>
      <tr>
        <td id="L1117" class="blob-num js-line-number" data-line-number="1117"></td>
        <td id="LC1117" class="blob-code blob-code-inner js-file-line">   },</td>
      </tr>
      <tr>
        <td id="L1118" class="blob-num js-line-number" data-line-number="1118"></td>
        <td id="LC1118" class="blob-code blob-code-inner js-file-line">   <span class="pl-s"><span class="pl-pds">&quot;</span>source<span class="pl-pds">&quot;</span></span>: [</td>
      </tr>
      <tr>
        <td id="L1119" class="blob-num js-line-number" data-line-number="1119"></td>
        <td id="LC1119" class="blob-code blob-code-inner js-file-line">    <span class="pl-s"><span class="pl-pds">&quot;</span>## Section 3: Value Iteration<span class="pl-cce">\n</span><span class="pl-pds">&quot;</span></span>,</td>
      </tr>
      <tr>
        <td id="L1120" class="blob-num js-line-number" data-line-number="1120"></td>
        <td id="LC1120" class="blob-code blob-code-inner js-file-line">    <span class="pl-s"><span class="pl-pds">&quot;</span>The city has also heard about value iteration and would like you to implement it. Value iteration works by iteratively applying the Bellman optimality equation for $v_{<span class="pl-cce">\\</span>ast}$ to a working value function, as an update rule, as shown below.<span class="pl-cce">\n</span><span class="pl-pds">&quot;</span></span>,</td>
      </tr>
      <tr>
        <td id="L1121" class="blob-num js-line-number" data-line-number="1121"></td>
        <td id="LC1121" class="blob-code blob-code-inner js-file-line">    <span class="pl-s"><span class="pl-pds">&quot;</span><span class="pl-cce">\n</span><span class="pl-pds">&quot;</span></span>,</td>
      </tr>
      <tr>
        <td id="L1122" class="blob-num js-line-number" data-line-number="1122"></td>
        <td id="LC1122" class="blob-code blob-code-inner js-file-line">    <span class="pl-s"><span class="pl-pds">&quot;</span>$$<span class="pl-cce">\\</span>large v(s) <span class="pl-cce">\\</span>leftarrow <span class="pl-cce">\\</span>max_a <span class="pl-cce">\\</span>sum_{s&#39;, r} p(s&#39;, r | s, a)[r + <span class="pl-cce">\\</span>gamma v(s&#39;)]$$<span class="pl-cce">\n</span><span class="pl-pds">&quot;</span></span>,</td>
      </tr>
      <tr>
        <td id="L1123" class="blob-num js-line-number" data-line-number="1123"></td>
        <td id="LC1123" class="blob-code blob-code-inner js-file-line">    <span class="pl-s"><span class="pl-pds">&quot;</span>We have written an outline of the value iteration algorithm described in chapter 4.4 of the textbook. It is left to you to fill in the `bellman_optimality_update` function to complete the value iteration algorithm.<span class="pl-pds">&quot;</span></span></td>
      </tr>
      <tr>
        <td id="L1124" class="blob-num js-line-number" data-line-number="1124"></td>
        <td id="LC1124" class="blob-code blob-code-inner js-file-line">   ]</td>
      </tr>
      <tr>
        <td id="L1125" class="blob-num js-line-number" data-line-number="1125"></td>
        <td id="LC1125" class="blob-code blob-code-inner js-file-line">  },</td>
      </tr>
      <tr>
        <td id="L1126" class="blob-num js-line-number" data-line-number="1126"></td>
        <td id="LC1126" class="blob-code blob-code-inner js-file-line">  {</td>
      </tr>
      <tr>
        <td id="L1127" class="blob-num js-line-number" data-line-number="1127"></td>
        <td id="LC1127" class="blob-code blob-code-inner js-file-line">   <span class="pl-s"><span class="pl-pds">&quot;</span>cell_type<span class="pl-pds">&quot;</span></span>: <span class="pl-s"><span class="pl-pds">&quot;</span>code<span class="pl-pds">&quot;</span></span>,</td>
      </tr>
      <tr>
        <td id="L1128" class="blob-num js-line-number" data-line-number="1128"></td>
        <td id="LC1128" class="blob-code blob-code-inner js-file-line">   <span class="pl-s"><span class="pl-pds">&quot;</span>execution_count<span class="pl-pds">&quot;</span></span>: <span class="pl-c1">22</span>,</td>
      </tr>
      <tr>
        <td id="L1129" class="blob-num js-line-number" data-line-number="1129"></td>
        <td id="LC1129" class="blob-code blob-code-inner js-file-line">   <span class="pl-s"><span class="pl-pds">&quot;</span>metadata<span class="pl-pds">&quot;</span></span>: {</td>
      </tr>
      <tr>
        <td id="L1130" class="blob-num js-line-number" data-line-number="1130"></td>
        <td id="LC1130" class="blob-code blob-code-inner js-file-line">    <span class="pl-s"><span class="pl-pds">&quot;</span>deletable<span class="pl-pds">&quot;</span></span>: <span class="pl-c1">false</span>,</td>
      </tr>
      <tr>
        <td id="L1131" class="blob-num js-line-number" data-line-number="1131"></td>
        <td id="LC1131" class="blob-code blob-code-inner js-file-line">    <span class="pl-s"><span class="pl-pds">&quot;</span>editable<span class="pl-pds">&quot;</span></span>: <span class="pl-c1">false</span>,</td>
      </tr>
      <tr>
        <td id="L1132" class="blob-num js-line-number" data-line-number="1132"></td>
        <td id="LC1132" class="blob-code blob-code-inner js-file-line">    <span class="pl-s"><span class="pl-pds">&quot;</span>nbgrader<span class="pl-pds">&quot;</span></span>: {</td>
      </tr>
      <tr>
        <td id="L1133" class="blob-num js-line-number" data-line-number="1133"></td>
        <td id="LC1133" class="blob-code blob-code-inner js-file-line">     <span class="pl-s"><span class="pl-pds">&quot;</span>cell_type<span class="pl-pds">&quot;</span></span>: <span class="pl-s"><span class="pl-pds">&quot;</span>code<span class="pl-pds">&quot;</span></span>,</td>
      </tr>
      <tr>
        <td id="L1134" class="blob-num js-line-number" data-line-number="1134"></td>
        <td id="LC1134" class="blob-code blob-code-inner js-file-line">     <span class="pl-s"><span class="pl-pds">&quot;</span>checksum<span class="pl-pds">&quot;</span></span>: <span class="pl-s"><span class="pl-pds">&quot;</span>3743399285b929801497af405783d06e<span class="pl-pds">&quot;</span></span>,</td>
      </tr>
      <tr>
        <td id="L1135" class="blob-num js-line-number" data-line-number="1135"></td>
        <td id="LC1135" class="blob-code blob-code-inner js-file-line">     <span class="pl-s"><span class="pl-pds">&quot;</span>grade<span class="pl-pds">&quot;</span></span>: <span class="pl-c1">false</span>,</td>
      </tr>
      <tr>
        <td id="L1136" class="blob-num js-line-number" data-line-number="1136"></td>
        <td id="LC1136" class="blob-code blob-code-inner js-file-line">     <span class="pl-s"><span class="pl-pds">&quot;</span>grade_id<span class="pl-pds">&quot;</span></span>: <span class="pl-s"><span class="pl-pds">&quot;</span>cell-75baf962376afa7c<span class="pl-pds">&quot;</span></span>,</td>
      </tr>
      <tr>
        <td id="L1137" class="blob-num js-line-number" data-line-number="1137"></td>
        <td id="LC1137" class="blob-code blob-code-inner js-file-line">     <span class="pl-s"><span class="pl-pds">&quot;</span>locked<span class="pl-pds">&quot;</span></span>: <span class="pl-c1">true</span>,</td>
      </tr>
      <tr>
        <td id="L1138" class="blob-num js-line-number" data-line-number="1138"></td>
        <td id="LC1138" class="blob-code blob-code-inner js-file-line">     <span class="pl-s"><span class="pl-pds">&quot;</span>schema_version<span class="pl-pds">&quot;</span></span>: <span class="pl-c1">3</span>,</td>
      </tr>
      <tr>
        <td id="L1139" class="blob-num js-line-number" data-line-number="1139"></td>
        <td id="LC1139" class="blob-code blob-code-inner js-file-line">     <span class="pl-s"><span class="pl-pds">&quot;</span>solution<span class="pl-pds">&quot;</span></span>: <span class="pl-c1">false</span></td>
      </tr>
      <tr>
        <td id="L1140" class="blob-num js-line-number" data-line-number="1140"></td>
        <td id="LC1140" class="blob-code blob-code-inner js-file-line">    }</td>
      </tr>
      <tr>
        <td id="L1141" class="blob-num js-line-number" data-line-number="1141"></td>
        <td id="LC1141" class="blob-code blob-code-inner js-file-line">   },</td>
      </tr>
      <tr>
        <td id="L1142" class="blob-num js-line-number" data-line-number="1142"></td>
        <td id="LC1142" class="blob-code blob-code-inner js-file-line">   <span class="pl-s"><span class="pl-pds">&quot;</span>outputs<span class="pl-pds">&quot;</span></span>: [],</td>
      </tr>
      <tr>
        <td id="L1143" class="blob-num js-line-number" data-line-number="1143"></td>
        <td id="LC1143" class="blob-code blob-code-inner js-file-line">   <span class="pl-s"><span class="pl-pds">&quot;</span>source<span class="pl-pds">&quot;</span></span>: [</td>
      </tr>
      <tr>
        <td id="L1144" class="blob-num js-line-number" data-line-number="1144"></td>
        <td id="LC1144" class="blob-code blob-code-inner js-file-line">    <span class="pl-s"><span class="pl-pds">&quot;</span>def value_iteration(env, gamma, theta):<span class="pl-cce">\n</span><span class="pl-pds">&quot;</span></span>,</td>
      </tr>
      <tr>
        <td id="L1145" class="blob-num js-line-number" data-line-number="1145"></td>
        <td id="LC1145" class="blob-code blob-code-inner js-file-line">    <span class="pl-s"><span class="pl-pds">&quot;</span>    V = np.zeros(len(env.S))<span class="pl-cce">\n</span><span class="pl-pds">&quot;</span></span>,</td>
      </tr>
      <tr>
        <td id="L1146" class="blob-num js-line-number" data-line-number="1146"></td>
        <td id="LC1146" class="blob-code blob-code-inner js-file-line">    <span class="pl-s"><span class="pl-pds">&quot;</span>    while True:<span class="pl-cce">\n</span><span class="pl-pds">&quot;</span></span>,</td>
      </tr>
      <tr>
        <td id="L1147" class="blob-num js-line-number" data-line-number="1147"></td>
        <td id="LC1147" class="blob-code blob-code-inner js-file-line">    <span class="pl-s"><span class="pl-pds">&quot;</span>        delta = 0<span class="pl-cce">\n</span><span class="pl-pds">&quot;</span></span>,</td>
      </tr>
      <tr>
        <td id="L1148" class="blob-num js-line-number" data-line-number="1148"></td>
        <td id="LC1148" class="blob-code blob-code-inner js-file-line">    <span class="pl-s"><span class="pl-pds">&quot;</span>        for s in env.S:<span class="pl-cce">\n</span><span class="pl-pds">&quot;</span></span>,</td>
      </tr>
      <tr>
        <td id="L1149" class="blob-num js-line-number" data-line-number="1149"></td>
        <td id="LC1149" class="blob-code blob-code-inner js-file-line">    <span class="pl-s"><span class="pl-pds">&quot;</span>            v = V[s]<span class="pl-cce">\n</span><span class="pl-pds">&quot;</span></span>,</td>
      </tr>
      <tr>
        <td id="L1150" class="blob-num js-line-number" data-line-number="1150"></td>
        <td id="LC1150" class="blob-code blob-code-inner js-file-line">    <span class="pl-s"><span class="pl-pds">&quot;</span>            bellman_optimality_update(env, V, s, gamma)<span class="pl-cce">\n</span><span class="pl-pds">&quot;</span></span>,</td>
      </tr>
      <tr>
        <td id="L1151" class="blob-num js-line-number" data-line-number="1151"></td>
        <td id="LC1151" class="blob-code blob-code-inner js-file-line">    <span class="pl-s"><span class="pl-pds">&quot;</span>            delta = max(delta, abs(v - V[s]))<span class="pl-cce">\n</span><span class="pl-pds">&quot;</span></span>,</td>
      </tr>
      <tr>
        <td id="L1152" class="blob-num js-line-number" data-line-number="1152"></td>
        <td id="LC1152" class="blob-code blob-code-inner js-file-line">    <span class="pl-s"><span class="pl-pds">&quot;</span>        if delta &lt; theta:<span class="pl-cce">\n</span><span class="pl-pds">&quot;</span></span>,</td>
      </tr>
      <tr>
        <td id="L1153" class="blob-num js-line-number" data-line-number="1153"></td>
        <td id="LC1153" class="blob-code blob-code-inner js-file-line">    <span class="pl-s"><span class="pl-pds">&quot;</span>            break<span class="pl-cce">\n</span><span class="pl-pds">&quot;</span></span>,</td>
      </tr>
      <tr>
        <td id="L1154" class="blob-num js-line-number" data-line-number="1154"></td>
        <td id="LC1154" class="blob-code blob-code-inner js-file-line">    <span class="pl-s"><span class="pl-pds">&quot;</span>    pi = np.ones((len(env.S), len(env.A))) / len(env.A)<span class="pl-cce">\n</span><span class="pl-pds">&quot;</span></span>,</td>
      </tr>
      <tr>
        <td id="L1155" class="blob-num js-line-number" data-line-number="1155"></td>
        <td id="LC1155" class="blob-code blob-code-inner js-file-line">    <span class="pl-s"><span class="pl-pds">&quot;</span>    for s in env.S:<span class="pl-cce">\n</span><span class="pl-pds">&quot;</span></span>,</td>
      </tr>
      <tr>
        <td id="L1156" class="blob-num js-line-number" data-line-number="1156"></td>
        <td id="LC1156" class="blob-code blob-code-inner js-file-line">    <span class="pl-s"><span class="pl-pds">&quot;</span>        q_greedify_policy(env, V, pi, s, gamma)<span class="pl-cce">\n</span><span class="pl-pds">&quot;</span></span>,</td>
      </tr>
      <tr>
        <td id="L1157" class="blob-num js-line-number" data-line-number="1157"></td>
        <td id="LC1157" class="blob-code blob-code-inner js-file-line">    <span class="pl-s"><span class="pl-pds">&quot;</span>    return V, pi<span class="pl-pds">&quot;</span></span></td>
      </tr>
      <tr>
        <td id="L1158" class="blob-num js-line-number" data-line-number="1158"></td>
        <td id="LC1158" class="blob-code blob-code-inner js-file-line">   ]</td>
      </tr>
      <tr>
        <td id="L1159" class="blob-num js-line-number" data-line-number="1159"></td>
        <td id="LC1159" class="blob-code blob-code-inner js-file-line">  },</td>
      </tr>
      <tr>
        <td id="L1160" class="blob-num js-line-number" data-line-number="1160"></td>
        <td id="LC1160" class="blob-code blob-code-inner js-file-line">  {</td>
      </tr>
      <tr>
        <td id="L1161" class="blob-num js-line-number" data-line-number="1161"></td>
        <td id="LC1161" class="blob-code blob-code-inner js-file-line">   <span class="pl-s"><span class="pl-pds">&quot;</span>cell_type<span class="pl-pds">&quot;</span></span>: <span class="pl-s"><span class="pl-pds">&quot;</span>code<span class="pl-pds">&quot;</span></span>,</td>
      </tr>
      <tr>
        <td id="L1162" class="blob-num js-line-number" data-line-number="1162"></td>
        <td id="LC1162" class="blob-code blob-code-inner js-file-line">   <span class="pl-s"><span class="pl-pds">&quot;</span>execution_count<span class="pl-pds">&quot;</span></span>: <span class="pl-c1">23</span>,</td>
      </tr>
      <tr>
        <td id="L1163" class="blob-num js-line-number" data-line-number="1163"></td>
        <td id="LC1163" class="blob-code blob-code-inner js-file-line">   <span class="pl-s"><span class="pl-pds">&quot;</span>metadata<span class="pl-pds">&quot;</span></span>: {</td>
      </tr>
      <tr>
        <td id="L1164" class="blob-num js-line-number" data-line-number="1164"></td>
        <td id="LC1164" class="blob-code blob-code-inner js-file-line">    <span class="pl-s"><span class="pl-pds">&quot;</span>deletable<span class="pl-pds">&quot;</span></span>: <span class="pl-c1">false</span>,</td>
      </tr>
      <tr>
        <td id="L1165" class="blob-num js-line-number" data-line-number="1165"></td>
        <td id="LC1165" class="blob-code blob-code-inner js-file-line">    <span class="pl-s"><span class="pl-pds">&quot;</span>nbgrader<span class="pl-pds">&quot;</span></span>: {</td>
      </tr>
      <tr>
        <td id="L1166" class="blob-num js-line-number" data-line-number="1166"></td>
        <td id="LC1166" class="blob-code blob-code-inner js-file-line">     <span class="pl-s"><span class="pl-pds">&quot;</span>cell_type<span class="pl-pds">&quot;</span></span>: <span class="pl-s"><span class="pl-pds">&quot;</span>code<span class="pl-pds">&quot;</span></span>,</td>
      </tr>
      <tr>
        <td id="L1167" class="blob-num js-line-number" data-line-number="1167"></td>
        <td id="LC1167" class="blob-code blob-code-inner js-file-line">     <span class="pl-s"><span class="pl-pds">&quot;</span>checksum<span class="pl-pds">&quot;</span></span>: <span class="pl-s"><span class="pl-pds">&quot;</span>5b8c52e5f66f45467b7f7262fc98e89b<span class="pl-pds">&quot;</span></span>,</td>
      </tr>
      <tr>
        <td id="L1168" class="blob-num js-line-number" data-line-number="1168"></td>
        <td id="LC1168" class="blob-code blob-code-inner js-file-line">     <span class="pl-s"><span class="pl-pds">&quot;</span>grade<span class="pl-pds">&quot;</span></span>: <span class="pl-c1">false</span>,</td>
      </tr>
      <tr>
        <td id="L1169" class="blob-num js-line-number" data-line-number="1169"></td>
        <td id="LC1169" class="blob-code blob-code-inner js-file-line">     <span class="pl-s"><span class="pl-pds">&quot;</span>grade_id<span class="pl-pds">&quot;</span></span>: <span class="pl-s"><span class="pl-pds">&quot;</span>cell-f2c6a183cc0923fb<span class="pl-pds">&quot;</span></span>,</td>
      </tr>
      <tr>
        <td id="L1170" class="blob-num js-line-number" data-line-number="1170"></td>
        <td id="LC1170" class="blob-code blob-code-inner js-file-line">     <span class="pl-s"><span class="pl-pds">&quot;</span>locked<span class="pl-pds">&quot;</span></span>: <span class="pl-c1">false</span>,</td>
      </tr>
      <tr>
        <td id="L1171" class="blob-num js-line-number" data-line-number="1171"></td>
        <td id="LC1171" class="blob-code blob-code-inner js-file-line">     <span class="pl-s"><span class="pl-pds">&quot;</span>schema_version<span class="pl-pds">&quot;</span></span>: <span class="pl-c1">3</span>,</td>
      </tr>
      <tr>
        <td id="L1172" class="blob-num js-line-number" data-line-number="1172"></td>
        <td id="LC1172" class="blob-code blob-code-inner js-file-line">     <span class="pl-s"><span class="pl-pds">&quot;</span>solution<span class="pl-pds">&quot;</span></span>: <span class="pl-c1">true</span></td>
      </tr>
      <tr>
        <td id="L1173" class="blob-num js-line-number" data-line-number="1173"></td>
        <td id="LC1173" class="blob-code blob-code-inner js-file-line">    }</td>
      </tr>
      <tr>
        <td id="L1174" class="blob-num js-line-number" data-line-number="1174"></td>
        <td id="LC1174" class="blob-code blob-code-inner js-file-line">   },</td>
      </tr>
      <tr>
        <td id="L1175" class="blob-num js-line-number" data-line-number="1175"></td>
        <td id="LC1175" class="blob-code blob-code-inner js-file-line">   <span class="pl-s"><span class="pl-pds">&quot;</span>outputs<span class="pl-pds">&quot;</span></span>: [],</td>
      </tr>
      <tr>
        <td id="L1176" class="blob-num js-line-number" data-line-number="1176"></td>
        <td id="LC1176" class="blob-code blob-code-inner js-file-line">   <span class="pl-s"><span class="pl-pds">&quot;</span>source<span class="pl-pds">&quot;</span></span>: [</td>
      </tr>
      <tr>
        <td id="L1177" class="blob-num js-line-number" data-line-number="1177"></td>
        <td id="LC1177" class="blob-code blob-code-inner js-file-line">    <span class="pl-s"><span class="pl-pds">&quot;</span># -----------<span class="pl-cce">\n</span><span class="pl-pds">&quot;</span></span>,</td>
      </tr>
      <tr>
        <td id="L1178" class="blob-num js-line-number" data-line-number="1178"></td>
        <td id="LC1178" class="blob-code blob-code-inner js-file-line">    <span class="pl-s"><span class="pl-pds">&quot;</span># Graded Cell<span class="pl-cce">\n</span><span class="pl-pds">&quot;</span></span>,</td>
      </tr>
      <tr>
        <td id="L1179" class="blob-num js-line-number" data-line-number="1179"></td>
        <td id="LC1179" class="blob-code blob-code-inner js-file-line">    <span class="pl-s"><span class="pl-pds">&quot;</span># -----------<span class="pl-cce">\n</span><span class="pl-pds">&quot;</span></span>,</td>
      </tr>
      <tr>
        <td id="L1180" class="blob-num js-line-number" data-line-number="1180"></td>
        <td id="LC1180" class="blob-code blob-code-inner js-file-line">    <span class="pl-s"><span class="pl-pds">&quot;</span>def bellman_optimality_update(env, V, s, gamma):<span class="pl-cce">\n</span><span class="pl-pds">&quot;</span></span>,</td>
      </tr>
      <tr>
        <td id="L1181" class="blob-num js-line-number" data-line-number="1181"></td>
        <td id="LC1181" class="blob-code blob-code-inner js-file-line">    <span class="pl-s"><span class="pl-pds">&quot;</span>    <span class="pl-cce">\&quot;\&quot;\&quot;</span>Mutate ``V`` according to the Bellman optimality update equation.<span class="pl-cce">\&quot;\&quot;\&quot;\n</span><span class="pl-pds">&quot;</span></span>,</td>
      </tr>
      <tr>
        <td id="L1182" class="blob-num js-line-number" data-line-number="1182"></td>
        <td id="LC1182" class="blob-code blob-code-inner js-file-line">    <span class="pl-s"><span class="pl-pds">&quot;</span>    # YOUR CODE HERE<span class="pl-cce">\n</span><span class="pl-pds">&quot;</span></span>,</td>
      </tr>
      <tr>
        <td id="L1183" class="blob-num js-line-number" data-line-number="1183"></td>
        <td id="LC1183" class="blob-code blob-code-inner js-file-line">    <span class="pl-s"><span class="pl-pds">&quot;</span>    best_v = float(&#39;-inf&#39;)<span class="pl-cce">\n</span><span class="pl-pds">&quot;</span></span>,</td>
      </tr>
      <tr>
        <td id="L1184" class="blob-num js-line-number" data-line-number="1184"></td>
        <td id="LC1184" class="blob-code blob-code-inner js-file-line">    <span class="pl-s"><span class="pl-pds">&quot;</span>    for a in env.A:<span class="pl-cce">\n</span><span class="pl-pds">&quot;</span></span>,</td>
      </tr>
      <tr>
        <td id="L1185" class="blob-num js-line-number" data-line-number="1185"></td>
        <td id="LC1185" class="blob-code blob-code-inner js-file-line">    <span class="pl-s"><span class="pl-pds">&quot;</span>        v = 0<span class="pl-cce">\n</span><span class="pl-pds">&quot;</span></span>,</td>
      </tr>
      <tr>
        <td id="L1186" class="blob-num js-line-number" data-line-number="1186"></td>
        <td id="LC1186" class="blob-code blob-code-inner js-file-line">    <span class="pl-s"><span class="pl-pds">&quot;</span>        transitions = env.transitions(s,a)<span class="pl-cce">\n</span><span class="pl-pds">&quot;</span></span>,</td>
      </tr>
      <tr>
        <td id="L1187" class="blob-num js-line-number" data-line-number="1187"></td>
        <td id="LC1187" class="blob-code blob-code-inner js-file-line">    <span class="pl-s"><span class="pl-pds">&quot;</span>        for s_ in env.S:<span class="pl-cce">\n</span><span class="pl-pds">&quot;</span></span>,</td>
      </tr>
      <tr>
        <td id="L1188" class="blob-num js-line-number" data-line-number="1188"></td>
        <td id="LC1188" class="blob-code blob-code-inner js-file-line">    <span class="pl-s"><span class="pl-pds">&quot;</span>            v += transitions[s_][1] * ( transitions[s_][0] + gamma*V[s_] )<span class="pl-cce">\n</span><span class="pl-pds">&quot;</span></span>,</td>
      </tr>
      <tr>
        <td id="L1189" class="blob-num js-line-number" data-line-number="1189"></td>
        <td id="LC1189" class="blob-code blob-code-inner js-file-line">    <span class="pl-s"><span class="pl-pds">&quot;</span>        if best_v &lt; v:<span class="pl-cce">\n</span><span class="pl-pds">&quot;</span></span>,</td>
      </tr>
      <tr>
        <td id="L1190" class="blob-num js-line-number" data-line-number="1190"></td>
        <td id="LC1190" class="blob-code blob-code-inner js-file-line">    <span class="pl-s"><span class="pl-pds">&quot;</span>            best_v = v<span class="pl-cce">\n</span><span class="pl-pds">&quot;</span></span>,</td>
      </tr>
      <tr>
        <td id="L1191" class="blob-num js-line-number" data-line-number="1191"></td>
        <td id="LC1191" class="blob-code blob-code-inner js-file-line">    <span class="pl-s"><span class="pl-pds">&quot;</span>    V[s] = best_v<span class="pl-pds">&quot;</span></span></td>
      </tr>
      <tr>
        <td id="L1192" class="blob-num js-line-number" data-line-number="1192"></td>
        <td id="LC1192" class="blob-code blob-code-inner js-file-line">   ]</td>
      </tr>
      <tr>
        <td id="L1193" class="blob-num js-line-number" data-line-number="1193"></td>
        <td id="LC1193" class="blob-code blob-code-inner js-file-line">  },</td>
      </tr>
      <tr>
        <td id="L1194" class="blob-num js-line-number" data-line-number="1194"></td>
        <td id="LC1194" class="blob-code blob-code-inner js-file-line">  {</td>
      </tr>
      <tr>
        <td id="L1195" class="blob-num js-line-number" data-line-number="1195"></td>
        <td id="LC1195" class="blob-code blob-code-inner js-file-line">   <span class="pl-s"><span class="pl-pds">&quot;</span>cell_type<span class="pl-pds">&quot;</span></span>: <span class="pl-s"><span class="pl-pds">&quot;</span>code<span class="pl-pds">&quot;</span></span>,</td>
      </tr>
      <tr>
        <td id="L1196" class="blob-num js-line-number" data-line-number="1196"></td>
        <td id="LC1196" class="blob-code blob-code-inner js-file-line">   <span class="pl-s"><span class="pl-pds">&quot;</span>execution_count<span class="pl-pds">&quot;</span></span>: <span class="pl-c1">24</span>,</td>
      </tr>
      <tr>
        <td id="L1197" class="blob-num js-line-number" data-line-number="1197"></td>
        <td id="LC1197" class="blob-code blob-code-inner js-file-line">   <span class="pl-s"><span class="pl-pds">&quot;</span>metadata<span class="pl-pds">&quot;</span></span>: {},</td>
      </tr>
      <tr>
        <td id="L1198" class="blob-num js-line-number" data-line-number="1198"></td>
        <td id="LC1198" class="blob-code blob-code-inner js-file-line">   <span class="pl-s"><span class="pl-pds">&quot;</span>outputs<span class="pl-pds">&quot;</span></span>: [],</td>
      </tr>
      <tr>
        <td id="L1199" class="blob-num js-line-number" data-line-number="1199"></td>
        <td id="LC1199" class="blob-code blob-code-inner js-file-line">   <span class="pl-s"><span class="pl-pds">&quot;</span>source<span class="pl-pds">&quot;</span></span>: [</td>
      </tr>
      <tr>
        <td id="L1200" class="blob-num js-line-number" data-line-number="1200"></td>
        <td id="LC1200" class="blob-code blob-code-inner js-file-line">    <span class="pl-s"><span class="pl-pds">&quot;</span># --------------<span class="pl-cce">\n</span><span class="pl-pds">&quot;</span></span>,</td>
      </tr>
      <tr>
        <td id="L1201" class="blob-num js-line-number" data-line-number="1201"></td>
        <td id="LC1201" class="blob-code blob-code-inner js-file-line">    <span class="pl-s"><span class="pl-pds">&quot;</span># Debugging Cell<span class="pl-cce">\n</span><span class="pl-pds">&quot;</span></span>,</td>
      </tr>
      <tr>
        <td id="L1202" class="blob-num js-line-number" data-line-number="1202"></td>
        <td id="LC1202" class="blob-code blob-code-inner js-file-line">    <span class="pl-s"><span class="pl-pds">&quot;</span># --------------<span class="pl-cce">\n</span><span class="pl-pds">&quot;</span></span>,</td>
      </tr>
      <tr>
        <td id="L1203" class="blob-num js-line-number" data-line-number="1203"></td>
        <td id="LC1203" class="blob-code blob-code-inner js-file-line">    <span class="pl-s"><span class="pl-pds">&quot;</span># Feel free to make any changes to this cell to debug your code<span class="pl-cce">\n</span><span class="pl-pds">&quot;</span></span>,</td>
      </tr>
      <tr>
        <td id="L1204" class="blob-num js-line-number" data-line-number="1204"></td>
        <td id="LC1204" class="blob-code blob-code-inner js-file-line">    <span class="pl-s"><span class="pl-pds">&quot;</span><span class="pl-cce">\n</span><span class="pl-pds">&quot;</span></span>,</td>
      </tr>
      <tr>
        <td id="L1205" class="blob-num js-line-number" data-line-number="1205"></td>
        <td id="LC1205" class="blob-code blob-code-inner js-file-line">    <span class="pl-s"><span class="pl-pds">&quot;</span>gamma = 0.9<span class="pl-cce">\n</span><span class="pl-pds">&quot;</span></span>,</td>
      </tr>
      <tr>
        <td id="L1206" class="blob-num js-line-number" data-line-number="1206"></td>
        <td id="LC1206" class="blob-code blob-code-inner js-file-line">    <span class="pl-s"><span class="pl-pds">&quot;</span>env = tools.ParkingWorld(num_spaces=6, num_prices=4)<span class="pl-cce">\n</span><span class="pl-pds">&quot;</span></span>,</td>
      </tr>
      <tr>
        <td id="L1207" class="blob-num js-line-number" data-line-number="1207"></td>
        <td id="LC1207" class="blob-code blob-code-inner js-file-line">    <span class="pl-s"><span class="pl-pds">&quot;</span><span class="pl-cce">\n</span><span class="pl-pds">&quot;</span></span>,</td>
      </tr>
      <tr>
        <td id="L1208" class="blob-num js-line-number" data-line-number="1208"></td>
        <td id="LC1208" class="blob-code blob-code-inner js-file-line">    <span class="pl-s"><span class="pl-pds">&quot;</span>V = np.array([7, 6, 5, 4, 3, 2, 1])<span class="pl-cce">\n</span><span class="pl-pds">&quot;</span></span>,</td>
      </tr>
      <tr>
        <td id="L1209" class="blob-num js-line-number" data-line-number="1209"></td>
        <td id="LC1209" class="blob-code blob-code-inner js-file-line">    <span class="pl-s"><span class="pl-pds">&quot;</span><span class="pl-cce">\n</span><span class="pl-pds">&quot;</span></span>,</td>
      </tr>
      <tr>
        <td id="L1210" class="blob-num js-line-number" data-line-number="1210"></td>
        <td id="LC1210" class="blob-code blob-code-inner js-file-line">    <span class="pl-s"><span class="pl-pds">&quot;</span># only state 0 updated<span class="pl-cce">\n</span><span class="pl-pds">&quot;</span></span>,</td>
      </tr>
      <tr>
        <td id="L1211" class="blob-num js-line-number" data-line-number="1211"></td>
        <td id="LC1211" class="blob-code blob-code-inner js-file-line">    <span class="pl-s"><span class="pl-pds">&quot;</span>bellman_optimality_update(env, V, 0, gamma)<span class="pl-cce">\n</span><span class="pl-pds">&quot;</span></span>,</td>
      </tr>
      <tr>
        <td id="L1212" class="blob-num js-line-number" data-line-number="1212"></td>
        <td id="LC1212" class="blob-code blob-code-inner js-file-line">    <span class="pl-s"><span class="pl-pds">&quot;</span>assert list(V) == [5, 6, 5, 4, 3, 2, 1]<span class="pl-cce">\n</span><span class="pl-pds">&quot;</span></span>,</td>
      </tr>
      <tr>
        <td id="L1213" class="blob-num js-line-number" data-line-number="1213"></td>
        <td id="LC1213" class="blob-code blob-code-inner js-file-line">    <span class="pl-s"><span class="pl-pds">&quot;</span><span class="pl-cce">\n</span><span class="pl-pds">&quot;</span></span>,</td>
      </tr>
      <tr>
        <td id="L1214" class="blob-num js-line-number" data-line-number="1214"></td>
        <td id="LC1214" class="blob-code blob-code-inner js-file-line">    <span class="pl-s"><span class="pl-pds">&quot;</span># only state 2 updated<span class="pl-cce">\n</span><span class="pl-pds">&quot;</span></span>,</td>
      </tr>
      <tr>
        <td id="L1215" class="blob-num js-line-number" data-line-number="1215"></td>
        <td id="LC1215" class="blob-code blob-code-inner js-file-line">    <span class="pl-s"><span class="pl-pds">&quot;</span>bellman_optimality_update(env, V, 2, gamma)<span class="pl-cce">\n</span><span class="pl-pds">&quot;</span></span>,</td>
      </tr>
      <tr>
        <td id="L1216" class="blob-num js-line-number" data-line-number="1216"></td>
        <td id="LC1216" class="blob-code blob-code-inner js-file-line">    <span class="pl-s"><span class="pl-pds">&quot;</span>assert list(V) == [5, 6, 7, 4, 3, 2, 1]<span class="pl-pds">&quot;</span></span></td>
      </tr>
      <tr>
        <td id="L1217" class="blob-num js-line-number" data-line-number="1217"></td>
        <td id="LC1217" class="blob-code blob-code-inner js-file-line">   ]</td>
      </tr>
      <tr>
        <td id="L1218" class="blob-num js-line-number" data-line-number="1218"></td>
        <td id="LC1218" class="blob-code blob-code-inner js-file-line">  },</td>
      </tr>
      <tr>
        <td id="L1219" class="blob-num js-line-number" data-line-number="1219"></td>
        <td id="LC1219" class="blob-code blob-code-inner js-file-line">  {</td>
      </tr>
      <tr>
        <td id="L1220" class="blob-num js-line-number" data-line-number="1220"></td>
        <td id="LC1220" class="blob-code blob-code-inner js-file-line">   <span class="pl-s"><span class="pl-pds">&quot;</span>cell_type<span class="pl-pds">&quot;</span></span>: <span class="pl-s"><span class="pl-pds">&quot;</span>code<span class="pl-pds">&quot;</span></span>,</td>
      </tr>
      <tr>
        <td id="L1221" class="blob-num js-line-number" data-line-number="1221"></td>
        <td id="LC1221" class="blob-code blob-code-inner js-file-line">   <span class="pl-s"><span class="pl-pds">&quot;</span>execution_count<span class="pl-pds">&quot;</span></span>: <span class="pl-c1">25</span>,</td>
      </tr>
      <tr>
        <td id="L1222" class="blob-num js-line-number" data-line-number="1222"></td>
        <td id="LC1222" class="blob-code blob-code-inner js-file-line">   <span class="pl-s"><span class="pl-pds">&quot;</span>metadata<span class="pl-pds">&quot;</span></span>: {</td>
      </tr>
      <tr>
        <td id="L1223" class="blob-num js-line-number" data-line-number="1223"></td>
        <td id="LC1223" class="blob-code blob-code-inner js-file-line">    <span class="pl-s"><span class="pl-pds">&quot;</span>deletable<span class="pl-pds">&quot;</span></span>: <span class="pl-c1">false</span>,</td>
      </tr>
      <tr>
        <td id="L1224" class="blob-num js-line-number" data-line-number="1224"></td>
        <td id="LC1224" class="blob-code blob-code-inner js-file-line">    <span class="pl-s"><span class="pl-pds">&quot;</span>editable<span class="pl-pds">&quot;</span></span>: <span class="pl-c1">false</span>,</td>
      </tr>
      <tr>
        <td id="L1225" class="blob-num js-line-number" data-line-number="1225"></td>
        <td id="LC1225" class="blob-code blob-code-inner js-file-line">    <span class="pl-s"><span class="pl-pds">&quot;</span>nbgrader<span class="pl-pds">&quot;</span></span>: {</td>
      </tr>
      <tr>
        <td id="L1226" class="blob-num js-line-number" data-line-number="1226"></td>
        <td id="LC1226" class="blob-code blob-code-inner js-file-line">     <span class="pl-s"><span class="pl-pds">&quot;</span>cell_type<span class="pl-pds">&quot;</span></span>: <span class="pl-s"><span class="pl-pds">&quot;</span>code<span class="pl-pds">&quot;</span></span>,</td>
      </tr>
      <tr>
        <td id="L1227" class="blob-num js-line-number" data-line-number="1227"></td>
        <td id="LC1227" class="blob-code blob-code-inner js-file-line">     <span class="pl-s"><span class="pl-pds">&quot;</span>checksum<span class="pl-pds">&quot;</span></span>: <span class="pl-s"><span class="pl-pds">&quot;</span>bdcf2724450c1e103db4ded3ade9a97b<span class="pl-pds">&quot;</span></span>,</td>
      </tr>
      <tr>
        <td id="L1228" class="blob-num js-line-number" data-line-number="1228"></td>
        <td id="LC1228" class="blob-code blob-code-inner js-file-line">     <span class="pl-s"><span class="pl-pds">&quot;</span>grade<span class="pl-pds">&quot;</span></span>: <span class="pl-c1">true</span>,</td>
      </tr>
      <tr>
        <td id="L1229" class="blob-num js-line-number" data-line-number="1229"></td>
        <td id="LC1229" class="blob-code blob-code-inner js-file-line">     <span class="pl-s"><span class="pl-pds">&quot;</span>grade_id<span class="pl-pds">&quot;</span></span>: <span class="pl-s"><span class="pl-pds">&quot;</span>cell-92e457ed985823c3<span class="pl-pds">&quot;</span></span>,</td>
      </tr>
      <tr>
        <td id="L1230" class="blob-num js-line-number" data-line-number="1230"></td>
        <td id="LC1230" class="blob-code blob-code-inner js-file-line">     <span class="pl-s"><span class="pl-pds">&quot;</span>locked<span class="pl-pds">&quot;</span></span>: <span class="pl-c1">true</span>,</td>
      </tr>
      <tr>
        <td id="L1231" class="blob-num js-line-number" data-line-number="1231"></td>
        <td id="LC1231" class="blob-code blob-code-inner js-file-line">     <span class="pl-s"><span class="pl-pds">&quot;</span>points<span class="pl-pds">&quot;</span></span>: <span class="pl-c1">10</span>,</td>
      </tr>
      <tr>
        <td id="L1232" class="blob-num js-line-number" data-line-number="1232"></td>
        <td id="LC1232" class="blob-code blob-code-inner js-file-line">     <span class="pl-s"><span class="pl-pds">&quot;</span>schema_version<span class="pl-pds">&quot;</span></span>: <span class="pl-c1">3</span>,</td>
      </tr>
      <tr>
        <td id="L1233" class="blob-num js-line-number" data-line-number="1233"></td>
        <td id="LC1233" class="blob-code blob-code-inner js-file-line">     <span class="pl-s"><span class="pl-pds">&quot;</span>solution<span class="pl-pds">&quot;</span></span>: <span class="pl-c1">false</span>,</td>
      </tr>
      <tr>
        <td id="L1234" class="blob-num js-line-number" data-line-number="1234"></td>
        <td id="LC1234" class="blob-code blob-code-inner js-file-line">     <span class="pl-s"><span class="pl-pds">&quot;</span>task<span class="pl-pds">&quot;</span></span>: <span class="pl-c1">false</span></td>
      </tr>
      <tr>
        <td id="L1235" class="blob-num js-line-number" data-line-number="1235"></td>
        <td id="LC1235" class="blob-code blob-code-inner js-file-line">    }</td>
      </tr>
      <tr>
        <td id="L1236" class="blob-num js-line-number" data-line-number="1236"></td>
        <td id="LC1236" class="blob-code blob-code-inner js-file-line">   },</td>
      </tr>
      <tr>
        <td id="L1237" class="blob-num js-line-number" data-line-number="1237"></td>
        <td id="LC1237" class="blob-code blob-code-inner js-file-line">   <span class="pl-s"><span class="pl-pds">&quot;</span>outputs<span class="pl-pds">&quot;</span></span>: [],</td>
      </tr>
      <tr>
        <td id="L1238" class="blob-num js-line-number" data-line-number="1238"></td>
        <td id="LC1238" class="blob-code blob-code-inner js-file-line">   <span class="pl-s"><span class="pl-pds">&quot;</span>source<span class="pl-pds">&quot;</span></span>: [</td>
      </tr>
      <tr>
        <td id="L1239" class="blob-num js-line-number" data-line-number="1239"></td>
        <td id="LC1239" class="blob-code blob-code-inner js-file-line">    <span class="pl-s"><span class="pl-pds">&quot;</span># -----------<span class="pl-cce">\n</span><span class="pl-pds">&quot;</span></span>,</td>
      </tr>
      <tr>
        <td id="L1240" class="blob-num js-line-number" data-line-number="1240"></td>
        <td id="LC1240" class="blob-code blob-code-inner js-file-line">    <span class="pl-s"><span class="pl-pds">&quot;</span># Tested Cell<span class="pl-cce">\n</span><span class="pl-pds">&quot;</span></span>,</td>
      </tr>
      <tr>
        <td id="L1241" class="blob-num js-line-number" data-line-number="1241"></td>
        <td id="LC1241" class="blob-code blob-code-inner js-file-line">    <span class="pl-s"><span class="pl-pds">&quot;</span># -----------<span class="pl-cce">\n</span><span class="pl-pds">&quot;</span></span>,</td>
      </tr>
      <tr>
        <td id="L1242" class="blob-num js-line-number" data-line-number="1242"></td>
        <td id="LC1242" class="blob-code blob-code-inner js-file-line">    <span class="pl-s"><span class="pl-pds">&quot;</span># The contents of the cell will be tested by the autograder.<span class="pl-cce">\n</span><span class="pl-pds">&quot;</span></span>,</td>
      </tr>
      <tr>
        <td id="L1243" class="blob-num js-line-number" data-line-number="1243"></td>
        <td id="LC1243" class="blob-code blob-code-inner js-file-line">    <span class="pl-s"><span class="pl-pds">&quot;</span># If they do not pass here, they will not pass there.<span class="pl-cce">\n</span><span class="pl-pds">&quot;</span></span>,</td>
      </tr>
      <tr>
        <td id="L1244" class="blob-num js-line-number" data-line-number="1244"></td>
        <td id="LC1244" class="blob-code blob-code-inner js-file-line">    <span class="pl-s"><span class="pl-pds">&quot;</span>gamma = 0.9<span class="pl-cce">\n</span><span class="pl-pds">&quot;</span></span>,</td>
      </tr>
      <tr>
        <td id="L1245" class="blob-num js-line-number" data-line-number="1245"></td>
        <td id="LC1245" class="blob-code blob-code-inner js-file-line">    <span class="pl-s"><span class="pl-pds">&quot;</span>env = tools.ParkingWorld(num_spaces=10, num_prices=4)<span class="pl-cce">\n</span><span class="pl-pds">&quot;</span></span>,</td>
      </tr>
      <tr>
        <td id="L1246" class="blob-num js-line-number" data-line-number="1246"></td>
        <td id="LC1246" class="blob-code blob-code-inner js-file-line">    <span class="pl-s"><span class="pl-pds">&quot;</span><span class="pl-cce">\n</span><span class="pl-pds">&quot;</span></span>,</td>
      </tr>
      <tr>
        <td id="L1247" class="blob-num js-line-number" data-line-number="1247"></td>
        <td id="LC1247" class="blob-code blob-code-inner js-file-line">    <span class="pl-s"><span class="pl-pds">&quot;</span>V = np.array([1, 2, 3, 4, 5, 6, 7, 8, 9, 10, 11])<span class="pl-cce">\n</span><span class="pl-pds">&quot;</span></span>,</td>
      </tr>
      <tr>
        <td id="L1248" class="blob-num js-line-number" data-line-number="1248"></td>
        <td id="LC1248" class="blob-code blob-code-inner js-file-line">    <span class="pl-s"><span class="pl-pds">&quot;</span><span class="pl-cce">\n</span><span class="pl-pds">&quot;</span></span>,</td>
      </tr>
      <tr>
        <td id="L1249" class="blob-num js-line-number" data-line-number="1249"></td>
        <td id="LC1249" class="blob-code blob-code-inner js-file-line">    <span class="pl-s"><span class="pl-pds">&quot;</span>for _ in range(10):<span class="pl-cce">\n</span><span class="pl-pds">&quot;</span></span>,</td>
      </tr>
      <tr>
        <td id="L1250" class="blob-num js-line-number" data-line-number="1250"></td>
        <td id="LC1250" class="blob-code blob-code-inner js-file-line">    <span class="pl-s"><span class="pl-pds">&quot;</span>    for s in env.S:<span class="pl-cce">\n</span><span class="pl-pds">&quot;</span></span>,</td>
      </tr>
      <tr>
        <td id="L1251" class="blob-num js-line-number" data-line-number="1251"></td>
        <td id="LC1251" class="blob-code blob-code-inner js-file-line">    <span class="pl-s"><span class="pl-pds">&quot;</span>        bellman_optimality_update(env, V, s, gamma)<span class="pl-cce">\n</span><span class="pl-pds">&quot;</span></span>,</td>
      </tr>
      <tr>
        <td id="L1252" class="blob-num js-line-number" data-line-number="1252"></td>
        <td id="LC1252" class="blob-code blob-code-inner js-file-line">    <span class="pl-s"><span class="pl-pds">&quot;</span><span class="pl-cce">\n</span><span class="pl-pds">&quot;</span></span>,</td>
      </tr>
      <tr>
        <td id="L1253" class="blob-num js-line-number" data-line-number="1253"></td>
        <td id="LC1253" class="blob-code blob-code-inner js-file-line">    <span class="pl-s"><span class="pl-pds">&quot;</span># make sure value function is exactly correct<span class="pl-cce">\n</span><span class="pl-pds">&quot;</span></span>,</td>
      </tr>
      <tr>
        <td id="L1254" class="blob-num js-line-number" data-line-number="1254"></td>
        <td id="LC1254" class="blob-code blob-code-inner js-file-line">    <span class="pl-s"><span class="pl-pds">&quot;</span>answer = [61, 63, 65, 67, 69, 71, 72, 74, 75, 76, 71]<span class="pl-cce">\n</span><span class="pl-pds">&quot;</span></span>,</td>
      </tr>
      <tr>
        <td id="L1255" class="blob-num js-line-number" data-line-number="1255"></td>
        <td id="LC1255" class="blob-code blob-code-inner js-file-line">    <span class="pl-s"><span class="pl-pds">&quot;</span>assert np.all(V == answer)<span class="pl-pds">&quot;</span></span></td>
      </tr>
      <tr>
        <td id="L1256" class="blob-num js-line-number" data-line-number="1256"></td>
        <td id="LC1256" class="blob-code blob-code-inner js-file-line">   ]</td>
      </tr>
      <tr>
        <td id="L1257" class="blob-num js-line-number" data-line-number="1257"></td>
        <td id="LC1257" class="blob-code blob-code-inner js-file-line">  },</td>
      </tr>
      <tr>
        <td id="L1258" class="blob-num js-line-number" data-line-number="1258"></td>
        <td id="LC1258" class="blob-code blob-code-inner js-file-line">  {</td>
      </tr>
      <tr>
        <td id="L1259" class="blob-num js-line-number" data-line-number="1259"></td>
        <td id="LC1259" class="blob-code blob-code-inner js-file-line">   <span class="pl-s"><span class="pl-pds">&quot;</span>cell_type<span class="pl-pds">&quot;</span></span>: <span class="pl-s"><span class="pl-pds">&quot;</span>markdown<span class="pl-pds">&quot;</span></span>,</td>
      </tr>
      <tr>
        <td id="L1260" class="blob-num js-line-number" data-line-number="1260"></td>
        <td id="LC1260" class="blob-code blob-code-inner js-file-line">   <span class="pl-s"><span class="pl-pds">&quot;</span>metadata<span class="pl-pds">&quot;</span></span>: {</td>
      </tr>
      <tr>
        <td id="L1261" class="blob-num js-line-number" data-line-number="1261"></td>
        <td id="LC1261" class="blob-code blob-code-inner js-file-line">    <span class="pl-s"><span class="pl-pds">&quot;</span>deletable<span class="pl-pds">&quot;</span></span>: <span class="pl-c1">false</span>,</td>
      </tr>
      <tr>
        <td id="L1262" class="blob-num js-line-number" data-line-number="1262"></td>
        <td id="LC1262" class="blob-code blob-code-inner js-file-line">    <span class="pl-s"><span class="pl-pds">&quot;</span>editable<span class="pl-pds">&quot;</span></span>: <span class="pl-c1">false</span>,</td>
      </tr>
      <tr>
        <td id="L1263" class="blob-num js-line-number" data-line-number="1263"></td>
        <td id="LC1263" class="blob-code blob-code-inner js-file-line">    <span class="pl-s"><span class="pl-pds">&quot;</span>nbgrader<span class="pl-pds">&quot;</span></span>: {</td>
      </tr>
      <tr>
        <td id="L1264" class="blob-num js-line-number" data-line-number="1264"></td>
        <td id="LC1264" class="blob-code blob-code-inner js-file-line">     <span class="pl-s"><span class="pl-pds">&quot;</span>cell_type<span class="pl-pds">&quot;</span></span>: <span class="pl-s"><span class="pl-pds">&quot;</span>markdown<span class="pl-pds">&quot;</span></span>,</td>
      </tr>
      <tr>
        <td id="L1265" class="blob-num js-line-number" data-line-number="1265"></td>
        <td id="LC1265" class="blob-code blob-code-inner js-file-line">     <span class="pl-s"><span class="pl-pds">&quot;</span>checksum<span class="pl-pds">&quot;</span></span>: <span class="pl-s"><span class="pl-pds">&quot;</span>c5020582c7de3757fa3ece73983b61d9<span class="pl-pds">&quot;</span></span>,</td>
      </tr>
      <tr>
        <td id="L1266" class="blob-num js-line-number" data-line-number="1266"></td>
        <td id="LC1266" class="blob-code blob-code-inner js-file-line">     <span class="pl-s"><span class="pl-pds">&quot;</span>grade<span class="pl-pds">&quot;</span></span>: <span class="pl-c1">false</span>,</td>
      </tr>
      <tr>
        <td id="L1267" class="blob-num js-line-number" data-line-number="1267"></td>
        <td id="LC1267" class="blob-code blob-code-inner js-file-line">     <span class="pl-s"><span class="pl-pds">&quot;</span>grade_id<span class="pl-pds">&quot;</span></span>: <span class="pl-s"><span class="pl-pds">&quot;</span>cell-d472d58e936b371e<span class="pl-pds">&quot;</span></span>,</td>
      </tr>
      <tr>
        <td id="L1268" class="blob-num js-line-number" data-line-number="1268"></td>
        <td id="LC1268" class="blob-code blob-code-inner js-file-line">     <span class="pl-s"><span class="pl-pds">&quot;</span>locked<span class="pl-pds">&quot;</span></span>: <span class="pl-c1">true</span>,</td>
      </tr>
      <tr>
        <td id="L1269" class="blob-num js-line-number" data-line-number="1269"></td>
        <td id="LC1269" class="blob-code blob-code-inner js-file-line">     <span class="pl-s"><span class="pl-pds">&quot;</span>schema_version<span class="pl-pds">&quot;</span></span>: <span class="pl-c1">3</span>,</td>
      </tr>
      <tr>
        <td id="L1270" class="blob-num js-line-number" data-line-number="1270"></td>
        <td id="LC1270" class="blob-code blob-code-inner js-file-line">     <span class="pl-s"><span class="pl-pds">&quot;</span>solution<span class="pl-pds">&quot;</span></span>: <span class="pl-c1">false</span></td>
      </tr>
      <tr>
        <td id="L1271" class="blob-num js-line-number" data-line-number="1271"></td>
        <td id="LC1271" class="blob-code blob-code-inner js-file-line">    }</td>
      </tr>
      <tr>
        <td id="L1272" class="blob-num js-line-number" data-line-number="1272"></td>
        <td id="LC1272" class="blob-code blob-code-inner js-file-line">   },</td>
      </tr>
      <tr>
        <td id="L1273" class="blob-num js-line-number" data-line-number="1273"></td>
        <td id="LC1273" class="blob-code blob-code-inner js-file-line">   <span class="pl-s"><span class="pl-pds">&quot;</span>source<span class="pl-pds">&quot;</span></span>: [</td>
      </tr>
      <tr>
        <td id="L1274" class="blob-num js-line-number" data-line-number="1274"></td>
        <td id="LC1274" class="blob-code blob-code-inner js-file-line">    <span class="pl-s"><span class="pl-pds">&quot;</span>When you are ready to test the value iteration algorithm, run the cell below.<span class="pl-pds">&quot;</span></span></td>
      </tr>
      <tr>
        <td id="L1275" class="blob-num js-line-number" data-line-number="1275"></td>
        <td id="LC1275" class="blob-code blob-code-inner js-file-line">   ]</td>
      </tr>
      <tr>
        <td id="L1276" class="blob-num js-line-number" data-line-number="1276"></td>
        <td id="LC1276" class="blob-code blob-code-inner js-file-line">  },</td>
      </tr>
      <tr>
        <td id="L1277" class="blob-num js-line-number" data-line-number="1277"></td>
        <td id="LC1277" class="blob-code blob-code-inner js-file-line">  {</td>
      </tr>
      <tr>
        <td id="L1278" class="blob-num js-line-number" data-line-number="1278"></td>
        <td id="LC1278" class="blob-code blob-code-inner js-file-line">   <span class="pl-s"><span class="pl-pds">&quot;</span>cell_type<span class="pl-pds">&quot;</span></span>: <span class="pl-s"><span class="pl-pds">&quot;</span>code<span class="pl-pds">&quot;</span></span>,</td>
      </tr>
      <tr>
        <td id="L1279" class="blob-num js-line-number" data-line-number="1279"></td>
        <td id="LC1279" class="blob-code blob-code-inner js-file-line">   <span class="pl-s"><span class="pl-pds">&quot;</span>execution_count<span class="pl-pds">&quot;</span></span>: <span class="pl-c1">26</span>,</td>
      </tr>
      <tr>
        <td id="L1280" class="blob-num js-line-number" data-line-number="1280"></td>
        <td id="LC1280" class="blob-code blob-code-inner js-file-line">   <span class="pl-s"><span class="pl-pds">&quot;</span>metadata<span class="pl-pds">&quot;</span></span>: {</td>
      </tr>
      <tr>
        <td id="L1281" class="blob-num js-line-number" data-line-number="1281"></td>
        <td id="LC1281" class="blob-code blob-code-inner js-file-line">    <span class="pl-s"><span class="pl-pds">&quot;</span>deletable<span class="pl-pds">&quot;</span></span>: <span class="pl-c1">false</span>,</td>
      </tr>
      <tr>
        <td id="L1282" class="blob-num js-line-number" data-line-number="1282"></td>
        <td id="LC1282" class="blob-code blob-code-inner js-file-line">    <span class="pl-s"><span class="pl-pds">&quot;</span>editable<span class="pl-pds">&quot;</span></span>: <span class="pl-c1">false</span>,</td>
      </tr>
      <tr>
        <td id="L1283" class="blob-num js-line-number" data-line-number="1283"></td>
        <td id="LC1283" class="blob-code blob-code-inner js-file-line">    <span class="pl-s"><span class="pl-pds">&quot;</span>nbgrader<span class="pl-pds">&quot;</span></span>: {</td>
      </tr>
      <tr>
        <td id="L1284" class="blob-num js-line-number" data-line-number="1284"></td>
        <td id="LC1284" class="blob-code blob-code-inner js-file-line">     <span class="pl-s"><span class="pl-pds">&quot;</span>cell_type<span class="pl-pds">&quot;</span></span>: <span class="pl-s"><span class="pl-pds">&quot;</span>code<span class="pl-pds">&quot;</span></span>,</td>
      </tr>
      <tr>
        <td id="L1285" class="blob-num js-line-number" data-line-number="1285"></td>
        <td id="LC1285" class="blob-code blob-code-inner js-file-line">     <span class="pl-s"><span class="pl-pds">&quot;</span>checksum<span class="pl-pds">&quot;</span></span>: <span class="pl-s"><span class="pl-pds">&quot;</span>cd8be31ddef5580d095a7e861e52a479<span class="pl-pds">&quot;</span></span>,</td>
      </tr>
      <tr>
        <td id="L1286" class="blob-num js-line-number" data-line-number="1286"></td>
        <td id="LC1286" class="blob-code blob-code-inner js-file-line">     <span class="pl-s"><span class="pl-pds">&quot;</span>grade<span class="pl-pds">&quot;</span></span>: <span class="pl-c1">false</span>,</td>
      </tr>
      <tr>
        <td id="L1287" class="blob-num js-line-number" data-line-number="1287"></td>
        <td id="LC1287" class="blob-code blob-code-inner js-file-line">     <span class="pl-s"><span class="pl-pds">&quot;</span>grade_id<span class="pl-pds">&quot;</span></span>: <span class="pl-s"><span class="pl-pds">&quot;</span>cell-f609be2c58adc3e2<span class="pl-pds">&quot;</span></span>,</td>
      </tr>
      <tr>
        <td id="L1288" class="blob-num js-line-number" data-line-number="1288"></td>
        <td id="LC1288" class="blob-code blob-code-inner js-file-line">     <span class="pl-s"><span class="pl-pds">&quot;</span>locked<span class="pl-pds">&quot;</span></span>: <span class="pl-c1">true</span>,</td>
      </tr>
      <tr>
        <td id="L1289" class="blob-num js-line-number" data-line-number="1289"></td>
        <td id="LC1289" class="blob-code blob-code-inner js-file-line">     <span class="pl-s"><span class="pl-pds">&quot;</span>schema_version<span class="pl-pds">&quot;</span></span>: <span class="pl-c1">3</span>,</td>
      </tr>
      <tr>
        <td id="L1290" class="blob-num js-line-number" data-line-number="1290"></td>
        <td id="LC1290" class="blob-code blob-code-inner js-file-line">     <span class="pl-s"><span class="pl-pds">&quot;</span>solution<span class="pl-pds">&quot;</span></span>: <span class="pl-c1">false</span></td>
      </tr>
      <tr>
        <td id="L1291" class="blob-num js-line-number" data-line-number="1291"></td>
        <td id="LC1291" class="blob-code blob-code-inner js-file-line">    }</td>
      </tr>
      <tr>
        <td id="L1292" class="blob-num js-line-number" data-line-number="1292"></td>
        <td id="LC1292" class="blob-code blob-code-inner js-file-line">   },</td>
      </tr>
      <tr>
        <td id="L1293" class="blob-num js-line-number" data-line-number="1293"></td>
        <td id="LC1293" class="blob-code blob-code-inner js-file-line">   <span class="pl-s"><span class="pl-pds">&quot;</span>outputs<span class="pl-pds">&quot;</span></span>: [],</td>
      </tr>
      <tr>
        <td id="L1294" class="blob-num js-line-number" data-line-number="1294"></td>
        <td id="LC1294" class="blob-code blob-code-inner js-file-line">   <span class="pl-s"><span class="pl-pds">&quot;</span>source<span class="pl-pds">&quot;</span></span>: [</td>
      </tr>
      <tr>
        <td id="L1295" class="blob-num js-line-number" data-line-number="1295"></td>
        <td id="LC1295" class="blob-code blob-code-inner js-file-line">    <span class="pl-s"><span class="pl-pds">&quot;</span>env = tools.ParkingWorld(num_spaces=10, num_prices=4)<span class="pl-cce">\n</span><span class="pl-pds">&quot;</span></span>,</td>
      </tr>
      <tr>
        <td id="L1296" class="blob-num js-line-number" data-line-number="1296"></td>
        <td id="LC1296" class="blob-code blob-code-inner js-file-line">    <span class="pl-s"><span class="pl-pds">&quot;</span>gamma = 0.9<span class="pl-cce">\n</span><span class="pl-pds">&quot;</span></span>,</td>
      </tr>
      <tr>
        <td id="L1297" class="blob-num js-line-number" data-line-number="1297"></td>
        <td id="LC1297" class="blob-code blob-code-inner js-file-line">    <span class="pl-s"><span class="pl-pds">&quot;</span>theta = 0.1<span class="pl-cce">\n</span><span class="pl-pds">&quot;</span></span>,</td>
      </tr>
      <tr>
        <td id="L1298" class="blob-num js-line-number" data-line-number="1298"></td>
        <td id="LC1298" class="blob-code blob-code-inner js-file-line">    <span class="pl-s"><span class="pl-pds">&quot;</span>V, pi = value_iteration(env, gamma, theta)<span class="pl-pds">&quot;</span></span></td>
      </tr>
      <tr>
        <td id="L1299" class="blob-num js-line-number" data-line-number="1299"></td>
        <td id="LC1299" class="blob-code blob-code-inner js-file-line">   ]</td>
      </tr>
      <tr>
        <td id="L1300" class="blob-num js-line-number" data-line-number="1300"></td>
        <td id="LC1300" class="blob-code blob-code-inner js-file-line">  },</td>
      </tr>
      <tr>
        <td id="L1301" class="blob-num js-line-number" data-line-number="1301"></td>
        <td id="LC1301" class="blob-code blob-code-inner js-file-line">  {</td>
      </tr>
      <tr>
        <td id="L1302" class="blob-num js-line-number" data-line-number="1302"></td>
        <td id="LC1302" class="blob-code blob-code-inner js-file-line">   <span class="pl-s"><span class="pl-pds">&quot;</span>cell_type<span class="pl-pds">&quot;</span></span>: <span class="pl-s"><span class="pl-pds">&quot;</span>markdown<span class="pl-pds">&quot;</span></span>,</td>
      </tr>
      <tr>
        <td id="L1303" class="blob-num js-line-number" data-line-number="1303"></td>
        <td id="LC1303" class="blob-code blob-code-inner js-file-line">   <span class="pl-s"><span class="pl-pds">&quot;</span>metadata<span class="pl-pds">&quot;</span></span>: {</td>
      </tr>
      <tr>
        <td id="L1304" class="blob-num js-line-number" data-line-number="1304"></td>
        <td id="LC1304" class="blob-code blob-code-inner js-file-line">    <span class="pl-s"><span class="pl-pds">&quot;</span>deletable<span class="pl-pds">&quot;</span></span>: <span class="pl-c1">false</span>,</td>
      </tr>
      <tr>
        <td id="L1305" class="blob-num js-line-number" data-line-number="1305"></td>
        <td id="LC1305" class="blob-code blob-code-inner js-file-line">    <span class="pl-s"><span class="pl-pds">&quot;</span>editable<span class="pl-pds">&quot;</span></span>: <span class="pl-c1">false</span>,</td>
      </tr>
      <tr>
        <td id="L1306" class="blob-num js-line-number" data-line-number="1306"></td>
        <td id="LC1306" class="blob-code blob-code-inner js-file-line">    <span class="pl-s"><span class="pl-pds">&quot;</span>nbgrader<span class="pl-pds">&quot;</span></span>: {</td>
      </tr>
      <tr>
        <td id="L1307" class="blob-num js-line-number" data-line-number="1307"></td>
        <td id="LC1307" class="blob-code blob-code-inner js-file-line">     <span class="pl-s"><span class="pl-pds">&quot;</span>cell_type<span class="pl-pds">&quot;</span></span>: <span class="pl-s"><span class="pl-pds">&quot;</span>markdown<span class="pl-pds">&quot;</span></span>,</td>
      </tr>
      <tr>
        <td id="L1308" class="blob-num js-line-number" data-line-number="1308"></td>
        <td id="LC1308" class="blob-code blob-code-inner js-file-line">     <span class="pl-s"><span class="pl-pds">&quot;</span>checksum<span class="pl-pds">&quot;</span></span>: <span class="pl-s"><span class="pl-pds">&quot;</span>8c88ac444253a80a377a7dce46e0c606<span class="pl-pds">&quot;</span></span>,</td>
      </tr>
      <tr>
        <td id="L1309" class="blob-num js-line-number" data-line-number="1309"></td>
        <td id="LC1309" class="blob-code blob-code-inner js-file-line">     <span class="pl-s"><span class="pl-pds">&quot;</span>grade<span class="pl-pds">&quot;</span></span>: <span class="pl-c1">false</span>,</td>
      </tr>
      <tr>
        <td id="L1310" class="blob-num js-line-number" data-line-number="1310"></td>
        <td id="LC1310" class="blob-code blob-code-inner js-file-line">     <span class="pl-s"><span class="pl-pds">&quot;</span>grade_id<span class="pl-pds">&quot;</span></span>: <span class="pl-s"><span class="pl-pds">&quot;</span>cell-cba784b8d158758b<span class="pl-pds">&quot;</span></span>,</td>
      </tr>
      <tr>
        <td id="L1311" class="blob-num js-line-number" data-line-number="1311"></td>
        <td id="LC1311" class="blob-code blob-code-inner js-file-line">     <span class="pl-s"><span class="pl-pds">&quot;</span>locked<span class="pl-pds">&quot;</span></span>: <span class="pl-c1">true</span>,</td>
      </tr>
      <tr>
        <td id="L1312" class="blob-num js-line-number" data-line-number="1312"></td>
        <td id="LC1312" class="blob-code blob-code-inner js-file-line">     <span class="pl-s"><span class="pl-pds">&quot;</span>schema_version<span class="pl-pds">&quot;</span></span>: <span class="pl-c1">3</span>,</td>
      </tr>
      <tr>
        <td id="L1313" class="blob-num js-line-number" data-line-number="1313"></td>
        <td id="LC1313" class="blob-code blob-code-inner js-file-line">     <span class="pl-s"><span class="pl-pds">&quot;</span>solution<span class="pl-pds">&quot;</span></span>: <span class="pl-c1">false</span></td>
      </tr>
      <tr>
        <td id="L1314" class="blob-num js-line-number" data-line-number="1314"></td>
        <td id="LC1314" class="blob-code blob-code-inner js-file-line">    }</td>
      </tr>
      <tr>
        <td id="L1315" class="blob-num js-line-number" data-line-number="1315"></td>
        <td id="LC1315" class="blob-code blob-code-inner js-file-line">   },</td>
      </tr>
      <tr>
        <td id="L1316" class="blob-num js-line-number" data-line-number="1316"></td>
        <td id="LC1316" class="blob-code blob-code-inner js-file-line">   <span class="pl-s"><span class="pl-pds">&quot;</span>source<span class="pl-pds">&quot;</span></span>: [</td>
      </tr>
      <tr>
        <td id="L1317" class="blob-num js-line-number" data-line-number="1317"></td>
        <td id="LC1317" class="blob-code blob-code-inner js-file-line">    <span class="pl-s"><span class="pl-pds">&quot;</span>You can use the ``plot`` function to visualize the final value function and policy.<span class="pl-pds">&quot;</span></span></td>
      </tr>
      <tr>
        <td id="L1318" class="blob-num js-line-number" data-line-number="1318"></td>
        <td id="LC1318" class="blob-code blob-code-inner js-file-line">   ]</td>
      </tr>
      <tr>
        <td id="L1319" class="blob-num js-line-number" data-line-number="1319"></td>
        <td id="LC1319" class="blob-code blob-code-inner js-file-line">  },</td>
      </tr>
      <tr>
        <td id="L1320" class="blob-num js-line-number" data-line-number="1320"></td>
        <td id="LC1320" class="blob-code blob-code-inner js-file-line">  {</td>
      </tr>
      <tr>
        <td id="L1321" class="blob-num js-line-number" data-line-number="1321"></td>
        <td id="LC1321" class="blob-code blob-code-inner js-file-line">   <span class="pl-s"><span class="pl-pds">&quot;</span>cell_type<span class="pl-pds">&quot;</span></span>: <span class="pl-s"><span class="pl-pds">&quot;</span>code<span class="pl-pds">&quot;</span></span>,</td>
      </tr>
      <tr>
        <td id="L1322" class="blob-num js-line-number" data-line-number="1322"></td>
        <td id="LC1322" class="blob-code blob-code-inner js-file-line">   <span class="pl-s"><span class="pl-pds">&quot;</span>execution_count<span class="pl-pds">&quot;</span></span>: <span class="pl-c1">27</span>,</td>
      </tr>
      <tr>
        <td id="L1323" class="blob-num js-line-number" data-line-number="1323"></td>
        <td id="LC1323" class="blob-code blob-code-inner js-file-line">   <span class="pl-s"><span class="pl-pds">&quot;</span>metadata<span class="pl-pds">&quot;</span></span>: {</td>
      </tr>
      <tr>
        <td id="L1324" class="blob-num js-line-number" data-line-number="1324"></td>
        <td id="LC1324" class="blob-code blob-code-inner js-file-line">    <span class="pl-s"><span class="pl-pds">&quot;</span>deletable<span class="pl-pds">&quot;</span></span>: <span class="pl-c1">false</span>,</td>
      </tr>
      <tr>
        <td id="L1325" class="blob-num js-line-number" data-line-number="1325"></td>
        <td id="LC1325" class="blob-code blob-code-inner js-file-line">    <span class="pl-s"><span class="pl-pds">&quot;</span>editable<span class="pl-pds">&quot;</span></span>: <span class="pl-c1">false</span>,</td>
      </tr>
      <tr>
        <td id="L1326" class="blob-num js-line-number" data-line-number="1326"></td>
        <td id="LC1326" class="blob-code blob-code-inner js-file-line">    <span class="pl-s"><span class="pl-pds">&quot;</span>nbgrader<span class="pl-pds">&quot;</span></span>: {</td>
      </tr>
      <tr>
        <td id="L1327" class="blob-num js-line-number" data-line-number="1327"></td>
        <td id="LC1327" class="blob-code blob-code-inner js-file-line">     <span class="pl-s"><span class="pl-pds">&quot;</span>cell_type<span class="pl-pds">&quot;</span></span>: <span class="pl-s"><span class="pl-pds">&quot;</span>code<span class="pl-pds">&quot;</span></span>,</td>
      </tr>
      <tr>
        <td id="L1328" class="blob-num js-line-number" data-line-number="1328"></td>
        <td id="LC1328" class="blob-code blob-code-inner js-file-line">     <span class="pl-s"><span class="pl-pds">&quot;</span>checksum<span class="pl-pds">&quot;</span></span>: <span class="pl-s"><span class="pl-pds">&quot;</span>d18a2592a3bac43de72e18cb54357ac9<span class="pl-pds">&quot;</span></span>,</td>
      </tr>
      <tr>
        <td id="L1329" class="blob-num js-line-number" data-line-number="1329"></td>
        <td id="LC1329" class="blob-code blob-code-inner js-file-line">     <span class="pl-s"><span class="pl-pds">&quot;</span>grade<span class="pl-pds">&quot;</span></span>: <span class="pl-c1">false</span>,</td>
      </tr>
      <tr>
        <td id="L1330" class="blob-num js-line-number" data-line-number="1330"></td>
        <td id="LC1330" class="blob-code blob-code-inner js-file-line">     <span class="pl-s"><span class="pl-pds">&quot;</span>grade_id<span class="pl-pds">&quot;</span></span>: <span class="pl-s"><span class="pl-pds">&quot;</span>cell-086e26bfb519a017<span class="pl-pds">&quot;</span></span>,</td>
      </tr>
      <tr>
        <td id="L1331" class="blob-num js-line-number" data-line-number="1331"></td>
        <td id="LC1331" class="blob-code blob-code-inner js-file-line">     <span class="pl-s"><span class="pl-pds">&quot;</span>locked<span class="pl-pds">&quot;</span></span>: <span class="pl-c1">true</span>,</td>
      </tr>
      <tr>
        <td id="L1332" class="blob-num js-line-number" data-line-number="1332"></td>
        <td id="LC1332" class="blob-code blob-code-inner js-file-line">     <span class="pl-s"><span class="pl-pds">&quot;</span>schema_version<span class="pl-pds">&quot;</span></span>: <span class="pl-c1">3</span>,</td>
      </tr>
      <tr>
        <td id="L1333" class="blob-num js-line-number" data-line-number="1333"></td>
        <td id="LC1333" class="blob-code blob-code-inner js-file-line">     <span class="pl-s"><span class="pl-pds">&quot;</span>solution<span class="pl-pds">&quot;</span></span>: <span class="pl-c1">false</span></td>
      </tr>
      <tr>
        <td id="L1334" class="blob-num js-line-number" data-line-number="1334"></td>
        <td id="LC1334" class="blob-code blob-code-inner js-file-line">    }</td>
      </tr>
      <tr>
        <td id="L1335" class="blob-num js-line-number" data-line-number="1335"></td>
        <td id="LC1335" class="blob-code blob-code-inner js-file-line">   },</td>
      </tr>
      <tr>
        <td id="L1336" class="blob-num js-line-number" data-line-number="1336"></td>
        <td id="LC1336" class="blob-code blob-code-inner js-file-line">   <span class="pl-s"><span class="pl-pds">&quot;</span>outputs<span class="pl-pds">&quot;</span></span>: [</td>
      </tr>
      <tr>
        <td id="L1337" class="blob-num js-line-number" data-line-number="1337"></td>
        <td id="LC1337" class="blob-code blob-code-inner js-file-line">    {</td>
      </tr>
      <tr>
        <td id="L1338" class="blob-num js-line-number" data-line-number="1338"></td>
        <td id="LC1338" class="blob-code blob-code-inner js-file-line">     <span class="pl-s"><span class="pl-pds">&quot;</span>data<span class="pl-pds">&quot;</span></span>: {</td>
      </tr>
      <tr>
        <td id="L1339" class="blob-num js-line-number" data-line-number="1339"></td>
        <td id="LC1339" class="blob-code blob-code-inner js-file-line">      &quot;image/png&quot;: &quot;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\n&quot;,</td>
      </tr>
      <tr>
        <td id="L1340" class="blob-num js-line-number" data-line-number="1340"></td>
        <td id="LC1340" class="blob-code blob-code-inner js-file-line">      <span class="pl-s"><span class="pl-pds">&quot;</span>text/plain<span class="pl-pds">&quot;</span></span>: [</td>
      </tr>
      <tr>
        <td id="L1341" class="blob-num js-line-number" data-line-number="1341"></td>
        <td id="LC1341" class="blob-code blob-code-inner js-file-line">       <span class="pl-s"><span class="pl-pds">&quot;</span>&lt;Figure size 900x360 with 3 Axes&gt;<span class="pl-pds">&quot;</span></span></td>
      </tr>
      <tr>
        <td id="L1342" class="blob-num js-line-number" data-line-number="1342"></td>
        <td id="LC1342" class="blob-code blob-code-inner js-file-line">      ]</td>
      </tr>
      <tr>
        <td id="L1343" class="blob-num js-line-number" data-line-number="1343"></td>
        <td id="LC1343" class="blob-code blob-code-inner js-file-line">     },</td>
      </tr>
      <tr>
        <td id="L1344" class="blob-num js-line-number" data-line-number="1344"></td>
        <td id="LC1344" class="blob-code blob-code-inner js-file-line">     <span class="pl-s"><span class="pl-pds">&quot;</span>metadata<span class="pl-pds">&quot;</span></span>: {},</td>
      </tr>
      <tr>
        <td id="L1345" class="blob-num js-line-number" data-line-number="1345"></td>
        <td id="LC1345" class="blob-code blob-code-inner js-file-line">     <span class="pl-s"><span class="pl-pds">&quot;</span>output_type<span class="pl-pds">&quot;</span></span>: <span class="pl-s"><span class="pl-pds">&quot;</span>display_data<span class="pl-pds">&quot;</span></span></td>
      </tr>
      <tr>
        <td id="L1346" class="blob-num js-line-number" data-line-number="1346"></td>
        <td id="LC1346" class="blob-code blob-code-inner js-file-line">    }</td>
      </tr>
      <tr>
        <td id="L1347" class="blob-num js-line-number" data-line-number="1347"></td>
        <td id="LC1347" class="blob-code blob-code-inner js-file-line">   ],</td>
      </tr>
      <tr>
        <td id="L1348" class="blob-num js-line-number" data-line-number="1348"></td>
        <td id="LC1348" class="blob-code blob-code-inner js-file-line">   <span class="pl-s"><span class="pl-pds">&quot;</span>source<span class="pl-pds">&quot;</span></span>: [</td>
      </tr>
      <tr>
        <td id="L1349" class="blob-num js-line-number" data-line-number="1349"></td>
        <td id="LC1349" class="blob-code blob-code-inner js-file-line">    <span class="pl-s"><span class="pl-pds">&quot;</span>tools.plot(V, pi)<span class="pl-pds">&quot;</span></span></td>
      </tr>
      <tr>
        <td id="L1350" class="blob-num js-line-number" data-line-number="1350"></td>
        <td id="LC1350" class="blob-code blob-code-inner js-file-line">   ]</td>
      </tr>
      <tr>
        <td id="L1351" class="blob-num js-line-number" data-line-number="1351"></td>
        <td id="LC1351" class="blob-code blob-code-inner js-file-line">  },</td>
      </tr>
      <tr>
        <td id="L1352" class="blob-num js-line-number" data-line-number="1352"></td>
        <td id="LC1352" class="blob-code blob-code-inner js-file-line">  {</td>
      </tr>
      <tr>
        <td id="L1353" class="blob-num js-line-number" data-line-number="1353"></td>
        <td id="LC1353" class="blob-code blob-code-inner js-file-line">   <span class="pl-s"><span class="pl-pds">&quot;</span>cell_type<span class="pl-pds">&quot;</span></span>: <span class="pl-s"><span class="pl-pds">&quot;</span>markdown<span class="pl-pds">&quot;</span></span>,</td>
      </tr>
      <tr>
        <td id="L1354" class="blob-num js-line-number" data-line-number="1354"></td>
        <td id="LC1354" class="blob-code blob-code-inner js-file-line">   <span class="pl-s"><span class="pl-pds">&quot;</span>metadata<span class="pl-pds">&quot;</span></span>: {</td>
      </tr>
      <tr>
        <td id="L1355" class="blob-num js-line-number" data-line-number="1355"></td>
        <td id="LC1355" class="blob-code blob-code-inner js-file-line">    <span class="pl-s"><span class="pl-pds">&quot;</span>deletable<span class="pl-pds">&quot;</span></span>: <span class="pl-c1">false</span>,</td>
      </tr>
      <tr>
        <td id="L1356" class="blob-num js-line-number" data-line-number="1356"></td>
        <td id="LC1356" class="blob-code blob-code-inner js-file-line">    <span class="pl-s"><span class="pl-pds">&quot;</span>editable<span class="pl-pds">&quot;</span></span>: <span class="pl-c1">false</span>,</td>
      </tr>
      <tr>
        <td id="L1357" class="blob-num js-line-number" data-line-number="1357"></td>
        <td id="LC1357" class="blob-code blob-code-inner js-file-line">    <span class="pl-s"><span class="pl-pds">&quot;</span>nbgrader<span class="pl-pds">&quot;</span></span>: {</td>
      </tr>
      <tr>
        <td id="L1358" class="blob-num js-line-number" data-line-number="1358"></td>
        <td id="LC1358" class="blob-code blob-code-inner js-file-line">     <span class="pl-s"><span class="pl-pds">&quot;</span>cell_type<span class="pl-pds">&quot;</span></span>: <span class="pl-s"><span class="pl-pds">&quot;</span>markdown<span class="pl-pds">&quot;</span></span>,</td>
      </tr>
      <tr>
        <td id="L1359" class="blob-num js-line-number" data-line-number="1359"></td>
        <td id="LC1359" class="blob-code blob-code-inner js-file-line">     <span class="pl-s"><span class="pl-pds">&quot;</span>checksum<span class="pl-pds">&quot;</span></span>: <span class="pl-s"><span class="pl-pds">&quot;</span>f7ee7bba538aa9300cd636c99403fd72<span class="pl-pds">&quot;</span></span>,</td>
      </tr>
      <tr>
        <td id="L1360" class="blob-num js-line-number" data-line-number="1360"></td>
        <td id="LC1360" class="blob-code blob-code-inner js-file-line">     <span class="pl-s"><span class="pl-pds">&quot;</span>grade<span class="pl-pds">&quot;</span></span>: <span class="pl-c1">false</span>,</td>
      </tr>
      <tr>
        <td id="L1361" class="blob-num js-line-number" data-line-number="1361"></td>
        <td id="LC1361" class="blob-code blob-code-inner js-file-line">     <span class="pl-s"><span class="pl-pds">&quot;</span>grade_id<span class="pl-pds">&quot;</span></span>: <span class="pl-s"><span class="pl-pds">&quot;</span>cell-066f9bbdc057115b<span class="pl-pds">&quot;</span></span>,</td>
      </tr>
      <tr>
        <td id="L1362" class="blob-num js-line-number" data-line-number="1362"></td>
        <td id="LC1362" class="blob-code blob-code-inner js-file-line">     <span class="pl-s"><span class="pl-pds">&quot;</span>locked<span class="pl-pds">&quot;</span></span>: <span class="pl-c1">true</span>,</td>
      </tr>
      <tr>
        <td id="L1363" class="blob-num js-line-number" data-line-number="1363"></td>
        <td id="LC1363" class="blob-code blob-code-inner js-file-line">     <span class="pl-s"><span class="pl-pds">&quot;</span>schema_version<span class="pl-pds">&quot;</span></span>: <span class="pl-c1">3</span>,</td>
      </tr>
      <tr>
        <td id="L1364" class="blob-num js-line-number" data-line-number="1364"></td>
        <td id="LC1364" class="blob-code blob-code-inner js-file-line">     <span class="pl-s"><span class="pl-pds">&quot;</span>solution<span class="pl-pds">&quot;</span></span>: <span class="pl-c1">false</span></td>
      </tr>
      <tr>
        <td id="L1365" class="blob-num js-line-number" data-line-number="1365"></td>
        <td id="LC1365" class="blob-code blob-code-inner js-file-line">    }</td>
      </tr>
      <tr>
        <td id="L1366" class="blob-num js-line-number" data-line-number="1366"></td>
        <td id="LC1366" class="blob-code blob-code-inner js-file-line">   },</td>
      </tr>
      <tr>
        <td id="L1367" class="blob-num js-line-number" data-line-number="1367"></td>
        <td id="LC1367" class="blob-code blob-code-inner js-file-line">   <span class="pl-s"><span class="pl-pds">&quot;</span>source<span class="pl-pds">&quot;</span></span>: [</td>
      </tr>
      <tr>
        <td id="L1368" class="blob-num js-line-number" data-line-number="1368"></td>
        <td id="LC1368" class="blob-code blob-code-inner js-file-line">    <span class="pl-s"><span class="pl-pds">&quot;</span>You can check your value function (rounded to one decimal place) and policy against the answer below:&lt;br&gt;<span class="pl-cce">\n</span><span class="pl-pds">&quot;</span></span>,</td>
      </tr>
      <tr>
        <td id="L1369" class="blob-num js-line-number" data-line-number="1369"></td>
        <td id="LC1369" class="blob-code blob-code-inner js-file-line">    <span class="pl-s"><span class="pl-pds">&quot;</span>State $<span class="pl-cce">\\</span>quad<span class="pl-cce">\\</span>quad$    Value $<span class="pl-cce">\\</span>quad<span class="pl-cce">\\</span>quad$ Action&lt;br&gt;<span class="pl-cce">\n</span><span class="pl-pds">&quot;</span></span>,</td>
      </tr>
      <tr>
        <td id="L1370" class="blob-num js-line-number" data-line-number="1370"></td>
        <td id="LC1370" class="blob-code blob-code-inner js-file-line">    <span class="pl-s"><span class="pl-pds">&quot;</span>0 $<span class="pl-cce">\\</span>quad<span class="pl-cce">\\</span>quad<span class="pl-cce">\\</span>quad<span class="pl-cce">\\</span>;$        81.6 $<span class="pl-cce">\\</span>quad<span class="pl-cce">\\</span>quad<span class="pl-cce">\\</span>;$ 0&lt;br&gt;<span class="pl-cce">\n</span><span class="pl-pds">&quot;</span></span>,</td>
      </tr>
      <tr>
        <td id="L1371" class="blob-num js-line-number" data-line-number="1371"></td>
        <td id="LC1371" class="blob-code blob-code-inner js-file-line">    <span class="pl-s"><span class="pl-pds">&quot;</span>1 $<span class="pl-cce">\\</span>quad<span class="pl-cce">\\</span>quad<span class="pl-cce">\\</span>quad<span class="pl-cce">\\</span>;$        83.3 $<span class="pl-cce">\\</span>quad<span class="pl-cce">\\</span>quad<span class="pl-cce">\\</span>;$ 0&lt;br&gt;<span class="pl-cce">\n</span><span class="pl-pds">&quot;</span></span>,</td>
      </tr>
      <tr>
        <td id="L1372" class="blob-num js-line-number" data-line-number="1372"></td>
        <td id="LC1372" class="blob-code blob-code-inner js-file-line">    <span class="pl-s"><span class="pl-pds">&quot;</span>2 $<span class="pl-cce">\\</span>quad<span class="pl-cce">\\</span>quad<span class="pl-cce">\\</span>quad<span class="pl-cce">\\</span>;$        85.0 $<span class="pl-cce">\\</span>quad<span class="pl-cce">\\</span>quad<span class="pl-cce">\\</span>;$ 0&lt;br&gt;<span class="pl-cce">\n</span><span class="pl-pds">&quot;</span></span>,</td>
      </tr>
      <tr>
        <td id="L1373" class="blob-num js-line-number" data-line-number="1373"></td>
        <td id="LC1373" class="blob-code blob-code-inner js-file-line">    <span class="pl-s"><span class="pl-pds">&quot;</span>3 $<span class="pl-cce">\\</span>quad<span class="pl-cce">\\</span>quad<span class="pl-cce">\\</span>quad<span class="pl-cce">\\</span>;$        86.8 $<span class="pl-cce">\\</span>quad<span class="pl-cce">\\</span>quad<span class="pl-cce">\\</span>;$ 0&lt;br&gt;<span class="pl-cce">\n</span><span class="pl-pds">&quot;</span></span>,</td>
      </tr>
      <tr>
        <td id="L1374" class="blob-num js-line-number" data-line-number="1374"></td>
        <td id="LC1374" class="blob-code blob-code-inner js-file-line">    <span class="pl-s"><span class="pl-pds">&quot;</span>4 $<span class="pl-cce">\\</span>quad<span class="pl-cce">\\</span>quad<span class="pl-cce">\\</span>quad<span class="pl-cce">\\</span>;$        88.5 $<span class="pl-cce">\\</span>quad<span class="pl-cce">\\</span>quad<span class="pl-cce">\\</span>;$ 0&lt;br&gt;<span class="pl-cce">\n</span><span class="pl-pds">&quot;</span></span>,</td>
      </tr>
      <tr>
        <td id="L1375" class="blob-num js-line-number" data-line-number="1375"></td>
        <td id="LC1375" class="blob-code blob-code-inner js-file-line">    <span class="pl-s"><span class="pl-pds">&quot;</span>5 $<span class="pl-cce">\\</span>quad<span class="pl-cce">\\</span>quad<span class="pl-cce">\\</span>quad<span class="pl-cce">\\</span>;$        90.2 $<span class="pl-cce">\\</span>quad<span class="pl-cce">\\</span>quad<span class="pl-cce">\\</span>;$ 0&lt;br&gt;<span class="pl-cce">\n</span><span class="pl-pds">&quot;</span></span>,</td>
      </tr>
      <tr>
        <td id="L1376" class="blob-num js-line-number" data-line-number="1376"></td>
        <td id="LC1376" class="blob-code blob-code-inner js-file-line">    <span class="pl-s"><span class="pl-pds">&quot;</span>6 $<span class="pl-cce">\\</span>quad<span class="pl-cce">\\</span>quad<span class="pl-cce">\\</span>quad<span class="pl-cce">\\</span>;$        91.7 $<span class="pl-cce">\\</span>quad<span class="pl-cce">\\</span>quad<span class="pl-cce">\\</span>;$ 0&lt;br&gt;<span class="pl-cce">\n</span><span class="pl-pds">&quot;</span></span>,</td>
      </tr>
      <tr>
        <td id="L1377" class="blob-num js-line-number" data-line-number="1377"></td>
        <td id="LC1377" class="blob-code blob-code-inner js-file-line">    <span class="pl-s"><span class="pl-pds">&quot;</span>7 $<span class="pl-cce">\\</span>quad<span class="pl-cce">\\</span>quad<span class="pl-cce">\\</span>quad<span class="pl-cce">\\</span>;$        93.1 $<span class="pl-cce">\\</span>quad<span class="pl-cce">\\</span>quad<span class="pl-cce">\\</span>;$ 0&lt;br&gt;<span class="pl-cce">\n</span><span class="pl-pds">&quot;</span></span>,</td>
      </tr>
      <tr>
        <td id="L1378" class="blob-num js-line-number" data-line-number="1378"></td>
        <td id="LC1378" class="blob-code blob-code-inner js-file-line">    <span class="pl-s"><span class="pl-pds">&quot;</span>8 $<span class="pl-cce">\\</span>quad<span class="pl-cce">\\</span>quad<span class="pl-cce">\\</span>quad<span class="pl-cce">\\</span>;$        94.3 $<span class="pl-cce">\\</span>quad<span class="pl-cce">\\</span>quad<span class="pl-cce">\\</span>;$ 0&lt;br&gt;<span class="pl-cce">\n</span><span class="pl-pds">&quot;</span></span>,</td>
      </tr>
      <tr>
        <td id="L1379" class="blob-num js-line-number" data-line-number="1379"></td>
        <td id="LC1379" class="blob-code blob-code-inner js-file-line">    <span class="pl-s"><span class="pl-pds">&quot;</span>9 $<span class="pl-cce">\\</span>quad<span class="pl-cce">\\</span>quad<span class="pl-cce">\\</span>quad<span class="pl-cce">\\</span>;$        95.3 $<span class="pl-cce">\\</span>quad<span class="pl-cce">\\</span>quad<span class="pl-cce">\\</span>;$ 3&lt;br&gt;<span class="pl-cce">\n</span><span class="pl-pds">&quot;</span></span>,</td>
      </tr>
      <tr>
        <td id="L1380" class="blob-num js-line-number" data-line-number="1380"></td>
        <td id="LC1380" class="blob-code blob-code-inner js-file-line">    <span class="pl-s"><span class="pl-pds">&quot;</span>10 $<span class="pl-cce">\\</span>quad<span class="pl-cce">\\</span>quad<span class="pl-cce">\\</span>;<span class="pl-cce">\\</span>;<span class="pl-cce">\\</span>,<span class="pl-cce">\\</span>,$      89.5 $<span class="pl-cce">\\</span>quad<span class="pl-cce">\\</span>quad<span class="pl-cce">\\</span>;$ 3&lt;br&gt;<span class="pl-pds">&quot;</span></span></td>
      </tr>
      <tr>
        <td id="L1381" class="blob-num js-line-number" data-line-number="1381"></td>
        <td id="LC1381" class="blob-code blob-code-inner js-file-line">   ]</td>
      </tr>
      <tr>
        <td id="L1382" class="blob-num js-line-number" data-line-number="1382"></td>
        <td id="LC1382" class="blob-code blob-code-inner js-file-line">  },</td>
      </tr>
      <tr>
        <td id="L1383" class="blob-num js-line-number" data-line-number="1383"></td>
        <td id="LC1383" class="blob-code blob-code-inner js-file-line">  {</td>
      </tr>
      <tr>
        <td id="L1384" class="blob-num js-line-number" data-line-number="1384"></td>
        <td id="LC1384" class="blob-code blob-code-inner js-file-line">   <span class="pl-s"><span class="pl-pds">&quot;</span>cell_type<span class="pl-pds">&quot;</span></span>: <span class="pl-s"><span class="pl-pds">&quot;</span>markdown<span class="pl-pds">&quot;</span></span>,</td>
      </tr>
      <tr>
        <td id="L1385" class="blob-num js-line-number" data-line-number="1385"></td>
        <td id="LC1385" class="blob-code blob-code-inner js-file-line">   <span class="pl-s"><span class="pl-pds">&quot;</span>metadata<span class="pl-pds">&quot;</span></span>: {</td>
      </tr>
      <tr>
        <td id="L1386" class="blob-num js-line-number" data-line-number="1386"></td>
        <td id="LC1386" class="blob-code blob-code-inner js-file-line">    <span class="pl-s"><span class="pl-pds">&quot;</span>deletable<span class="pl-pds">&quot;</span></span>: <span class="pl-c1">false</span>,</td>
      </tr>
      <tr>
        <td id="L1387" class="blob-num js-line-number" data-line-number="1387"></td>
        <td id="LC1387" class="blob-code blob-code-inner js-file-line">    <span class="pl-s"><span class="pl-pds">&quot;</span>editable<span class="pl-pds">&quot;</span></span>: <span class="pl-c1">false</span>,</td>
      </tr>
      <tr>
        <td id="L1388" class="blob-num js-line-number" data-line-number="1388"></td>
        <td id="LC1388" class="blob-code blob-code-inner js-file-line">    <span class="pl-s"><span class="pl-pds">&quot;</span>nbgrader<span class="pl-pds">&quot;</span></span>: {</td>
      </tr>
      <tr>
        <td id="L1389" class="blob-num js-line-number" data-line-number="1389"></td>
        <td id="LC1389" class="blob-code blob-code-inner js-file-line">     <span class="pl-s"><span class="pl-pds">&quot;</span>cell_type<span class="pl-pds">&quot;</span></span>: <span class="pl-s"><span class="pl-pds">&quot;</span>markdown<span class="pl-pds">&quot;</span></span>,</td>
      </tr>
      <tr>
        <td id="L1390" class="blob-num js-line-number" data-line-number="1390"></td>
        <td id="LC1390" class="blob-code blob-code-inner js-file-line">     <span class="pl-s"><span class="pl-pds">&quot;</span>checksum<span class="pl-pds">&quot;</span></span>: <span class="pl-s"><span class="pl-pds">&quot;</span>167e35e35d0d33a6e9b26413281e4592<span class="pl-pds">&quot;</span></span>,</td>
      </tr>
      <tr>
        <td id="L1391" class="blob-num js-line-number" data-line-number="1391"></td>
        <td id="LC1391" class="blob-code blob-code-inner js-file-line">     <span class="pl-s"><span class="pl-pds">&quot;</span>grade<span class="pl-pds">&quot;</span></span>: <span class="pl-c1">false</span>,</td>
      </tr>
      <tr>
        <td id="L1392" class="blob-num js-line-number" data-line-number="1392"></td>
        <td id="LC1392" class="blob-code blob-code-inner js-file-line">     <span class="pl-s"><span class="pl-pds">&quot;</span>grade_id<span class="pl-pds">&quot;</span></span>: <span class="pl-s"><span class="pl-pds">&quot;</span>cell-12976ff0ac11680d<span class="pl-pds">&quot;</span></span>,</td>
      </tr>
      <tr>
        <td id="L1393" class="blob-num js-line-number" data-line-number="1393"></td>
        <td id="LC1393" class="blob-code blob-code-inner js-file-line">     <span class="pl-s"><span class="pl-pds">&quot;</span>locked<span class="pl-pds">&quot;</span></span>: <span class="pl-c1">true</span>,</td>
      </tr>
      <tr>
        <td id="L1394" class="blob-num js-line-number" data-line-number="1394"></td>
        <td id="LC1394" class="blob-code blob-code-inner js-file-line">     <span class="pl-s"><span class="pl-pds">&quot;</span>schema_version<span class="pl-pds">&quot;</span></span>: <span class="pl-c1">3</span>,</td>
      </tr>
      <tr>
        <td id="L1395" class="blob-num js-line-number" data-line-number="1395"></td>
        <td id="LC1395" class="blob-code blob-code-inner js-file-line">     <span class="pl-s"><span class="pl-pds">&quot;</span>solution<span class="pl-pds">&quot;</span></span>: <span class="pl-c1">false</span></td>
      </tr>
      <tr>
        <td id="L1396" class="blob-num js-line-number" data-line-number="1396"></td>
        <td id="LC1396" class="blob-code blob-code-inner js-file-line">    }</td>
      </tr>
      <tr>
        <td id="L1397" class="blob-num js-line-number" data-line-number="1397"></td>
        <td id="LC1397" class="blob-code blob-code-inner js-file-line">   },</td>
      </tr>
      <tr>
        <td id="L1398" class="blob-num js-line-number" data-line-number="1398"></td>
        <td id="LC1398" class="blob-code blob-code-inner js-file-line">   <span class="pl-s"><span class="pl-pds">&quot;</span>source<span class="pl-pds">&quot;</span></span>: [</td>
      </tr>
      <tr>
        <td id="L1399" class="blob-num js-line-number" data-line-number="1399"></td>
        <td id="LC1399" class="blob-code blob-code-inner js-file-line">    <span class="pl-s"><span class="pl-pds">&quot;</span>In the value iteration algorithm above, a policy is not explicitly maintained until the value function has converged. Below, we have written an identically behaving value iteration algorithm that maintains an updated policy. Writing value iteration in this form makes its relationship to policy iteration more evident. Policy iteration alternates between doing complete greedifications and complete evaluations. On the other hand, value iteration alternates between doing local greedifications and local evaluations. <span class="pl-pds">&quot;</span></span></td>
      </tr>
      <tr>
        <td id="L1400" class="blob-num js-line-number" data-line-number="1400"></td>
        <td id="LC1400" class="blob-code blob-code-inner js-file-line">   ]</td>
      </tr>
      <tr>
        <td id="L1401" class="blob-num js-line-number" data-line-number="1401"></td>
        <td id="LC1401" class="blob-code blob-code-inner js-file-line">  },</td>
      </tr>
      <tr>
        <td id="L1402" class="blob-num js-line-number" data-line-number="1402"></td>
        <td id="LC1402" class="blob-code blob-code-inner js-file-line">  {</td>
      </tr>
      <tr>
        <td id="L1403" class="blob-num js-line-number" data-line-number="1403"></td>
        <td id="LC1403" class="blob-code blob-code-inner js-file-line">   <span class="pl-s"><span class="pl-pds">&quot;</span>cell_type<span class="pl-pds">&quot;</span></span>: <span class="pl-s"><span class="pl-pds">&quot;</span>code<span class="pl-pds">&quot;</span></span>,</td>
      </tr>
      <tr>
        <td id="L1404" class="blob-num js-line-number" data-line-number="1404"></td>
        <td id="LC1404" class="blob-code blob-code-inner js-file-line">   <span class="pl-s"><span class="pl-pds">&quot;</span>execution_count<span class="pl-pds">&quot;</span></span>: <span class="pl-c1">28</span>,</td>
      </tr>
      <tr>
        <td id="L1405" class="blob-num js-line-number" data-line-number="1405"></td>
        <td id="LC1405" class="blob-code blob-code-inner js-file-line">   <span class="pl-s"><span class="pl-pds">&quot;</span>metadata<span class="pl-pds">&quot;</span></span>: {</td>
      </tr>
      <tr>
        <td id="L1406" class="blob-num js-line-number" data-line-number="1406"></td>
        <td id="LC1406" class="blob-code blob-code-inner js-file-line">    <span class="pl-s"><span class="pl-pds">&quot;</span>deletable<span class="pl-pds">&quot;</span></span>: <span class="pl-c1">false</span>,</td>
      </tr>
      <tr>
        <td id="L1407" class="blob-num js-line-number" data-line-number="1407"></td>
        <td id="LC1407" class="blob-code blob-code-inner js-file-line">    <span class="pl-s"><span class="pl-pds">&quot;</span>editable<span class="pl-pds">&quot;</span></span>: <span class="pl-c1">false</span>,</td>
      </tr>
      <tr>
        <td id="L1408" class="blob-num js-line-number" data-line-number="1408"></td>
        <td id="LC1408" class="blob-code blob-code-inner js-file-line">    <span class="pl-s"><span class="pl-pds">&quot;</span>nbgrader<span class="pl-pds">&quot;</span></span>: {</td>
      </tr>
      <tr>
        <td id="L1409" class="blob-num js-line-number" data-line-number="1409"></td>
        <td id="LC1409" class="blob-code blob-code-inner js-file-line">     <span class="pl-s"><span class="pl-pds">&quot;</span>cell_type<span class="pl-pds">&quot;</span></span>: <span class="pl-s"><span class="pl-pds">&quot;</span>code<span class="pl-pds">&quot;</span></span>,</td>
      </tr>
      <tr>
        <td id="L1410" class="blob-num js-line-number" data-line-number="1410"></td>
        <td id="LC1410" class="blob-code blob-code-inner js-file-line">     <span class="pl-s"><span class="pl-pds">&quot;</span>checksum<span class="pl-pds">&quot;</span></span>: <span class="pl-s"><span class="pl-pds">&quot;</span>335160bd36744265e1ac43bd4305766b<span class="pl-pds">&quot;</span></span>,</td>
      </tr>
      <tr>
        <td id="L1411" class="blob-num js-line-number" data-line-number="1411"></td>
        <td id="LC1411" class="blob-code blob-code-inner js-file-line">     <span class="pl-s"><span class="pl-pds">&quot;</span>grade<span class="pl-pds">&quot;</span></span>: <span class="pl-c1">false</span>,</td>
      </tr>
      <tr>
        <td id="L1412" class="blob-num js-line-number" data-line-number="1412"></td>
        <td id="LC1412" class="blob-code blob-code-inner js-file-line">     <span class="pl-s"><span class="pl-pds">&quot;</span>grade_id<span class="pl-pds">&quot;</span></span>: <span class="pl-s"><span class="pl-pds">&quot;</span>cell-e7940cfb801649be<span class="pl-pds">&quot;</span></span>,</td>
      </tr>
      <tr>
        <td id="L1413" class="blob-num js-line-number" data-line-number="1413"></td>
        <td id="LC1413" class="blob-code blob-code-inner js-file-line">     <span class="pl-s"><span class="pl-pds">&quot;</span>locked<span class="pl-pds">&quot;</span></span>: <span class="pl-c1">true</span>,</td>
      </tr>
      <tr>
        <td id="L1414" class="blob-num js-line-number" data-line-number="1414"></td>
        <td id="LC1414" class="blob-code blob-code-inner js-file-line">     <span class="pl-s"><span class="pl-pds">&quot;</span>schema_version<span class="pl-pds">&quot;</span></span>: <span class="pl-c1">3</span>,</td>
      </tr>
      <tr>
        <td id="L1415" class="blob-num js-line-number" data-line-number="1415"></td>
        <td id="LC1415" class="blob-code blob-code-inner js-file-line">     <span class="pl-s"><span class="pl-pds">&quot;</span>solution<span class="pl-pds">&quot;</span></span>: <span class="pl-c1">false</span></td>
      </tr>
      <tr>
        <td id="L1416" class="blob-num js-line-number" data-line-number="1416"></td>
        <td id="LC1416" class="blob-code blob-code-inner js-file-line">    }</td>
      </tr>
      <tr>
        <td id="L1417" class="blob-num js-line-number" data-line-number="1417"></td>
        <td id="LC1417" class="blob-code blob-code-inner js-file-line">   },</td>
      </tr>
      <tr>
        <td id="L1418" class="blob-num js-line-number" data-line-number="1418"></td>
        <td id="LC1418" class="blob-code blob-code-inner js-file-line">   <span class="pl-s"><span class="pl-pds">&quot;</span>outputs<span class="pl-pds">&quot;</span></span>: [],</td>
      </tr>
      <tr>
        <td id="L1419" class="blob-num js-line-number" data-line-number="1419"></td>
        <td id="LC1419" class="blob-code blob-code-inner js-file-line">   <span class="pl-s"><span class="pl-pds">&quot;</span>source<span class="pl-pds">&quot;</span></span>: [</td>
      </tr>
      <tr>
        <td id="L1420" class="blob-num js-line-number" data-line-number="1420"></td>
        <td id="LC1420" class="blob-code blob-code-inner js-file-line">    <span class="pl-s"><span class="pl-pds">&quot;</span>def value_iteration2(env, gamma, theta):<span class="pl-cce">\n</span><span class="pl-pds">&quot;</span></span>,</td>
      </tr>
      <tr>
        <td id="L1421" class="blob-num js-line-number" data-line-number="1421"></td>
        <td id="LC1421" class="blob-code blob-code-inner js-file-line">    <span class="pl-s"><span class="pl-pds">&quot;</span>    V = np.zeros(len(env.S))<span class="pl-cce">\n</span><span class="pl-pds">&quot;</span></span>,</td>
      </tr>
      <tr>
        <td id="L1422" class="blob-num js-line-number" data-line-number="1422"></td>
        <td id="LC1422" class="blob-code blob-code-inner js-file-line">    <span class="pl-s"><span class="pl-pds">&quot;</span>    pi = np.ones((len(env.S), len(env.A))) / len(env.A)<span class="pl-cce">\n</span><span class="pl-pds">&quot;</span></span>,</td>
      </tr>
      <tr>
        <td id="L1423" class="blob-num js-line-number" data-line-number="1423"></td>
        <td id="LC1423" class="blob-code blob-code-inner js-file-line">    <span class="pl-s"><span class="pl-pds">&quot;</span>    while True:<span class="pl-cce">\n</span><span class="pl-pds">&quot;</span></span>,</td>
      </tr>
      <tr>
        <td id="L1424" class="blob-num js-line-number" data-line-number="1424"></td>
        <td id="LC1424" class="blob-code blob-code-inner js-file-line">    <span class="pl-s"><span class="pl-pds">&quot;</span>        delta = 0<span class="pl-cce">\n</span><span class="pl-pds">&quot;</span></span>,</td>
      </tr>
      <tr>
        <td id="L1425" class="blob-num js-line-number" data-line-number="1425"></td>
        <td id="LC1425" class="blob-code blob-code-inner js-file-line">    <span class="pl-s"><span class="pl-pds">&quot;</span>        for s in env.S:<span class="pl-cce">\n</span><span class="pl-pds">&quot;</span></span>,</td>
      </tr>
      <tr>
        <td id="L1426" class="blob-num js-line-number" data-line-number="1426"></td>
        <td id="LC1426" class="blob-code blob-code-inner js-file-line">    <span class="pl-s"><span class="pl-pds">&quot;</span>            v = V[s]<span class="pl-cce">\n</span><span class="pl-pds">&quot;</span></span>,</td>
      </tr>
      <tr>
        <td id="L1427" class="blob-num js-line-number" data-line-number="1427"></td>
        <td id="LC1427" class="blob-code blob-code-inner js-file-line">    <span class="pl-s"><span class="pl-pds">&quot;</span>            q_greedify_policy(env, V, pi, s, gamma)<span class="pl-cce">\n</span><span class="pl-pds">&quot;</span></span>,</td>
      </tr>
      <tr>
        <td id="L1428" class="blob-num js-line-number" data-line-number="1428"></td>
        <td id="LC1428" class="blob-code blob-code-inner js-file-line">    <span class="pl-s"><span class="pl-pds">&quot;</span>            bellman_update(env, V, pi, s, gamma)<span class="pl-cce">\n</span><span class="pl-pds">&quot;</span></span>,</td>
      </tr>
      <tr>
        <td id="L1429" class="blob-num js-line-number" data-line-number="1429"></td>
        <td id="LC1429" class="blob-code blob-code-inner js-file-line">    <span class="pl-s"><span class="pl-pds">&quot;</span>            delta = max(delta, abs(v - V[s]))<span class="pl-cce">\n</span><span class="pl-pds">&quot;</span></span>,</td>
      </tr>
      <tr>
        <td id="L1430" class="blob-num js-line-number" data-line-number="1430"></td>
        <td id="LC1430" class="blob-code blob-code-inner js-file-line">    <span class="pl-s"><span class="pl-pds">&quot;</span>        if delta &lt; theta:<span class="pl-cce">\n</span><span class="pl-pds">&quot;</span></span>,</td>
      </tr>
      <tr>
        <td id="L1431" class="blob-num js-line-number" data-line-number="1431"></td>
        <td id="LC1431" class="blob-code blob-code-inner js-file-line">    <span class="pl-s"><span class="pl-pds">&quot;</span>            break<span class="pl-cce">\n</span><span class="pl-pds">&quot;</span></span>,</td>
      </tr>
      <tr>
        <td id="L1432" class="blob-num js-line-number" data-line-number="1432"></td>
        <td id="LC1432" class="blob-code blob-code-inner js-file-line">    <span class="pl-s"><span class="pl-pds">&quot;</span>    return V, pi<span class="pl-pds">&quot;</span></span></td>
      </tr>
      <tr>
        <td id="L1433" class="blob-num js-line-number" data-line-number="1433"></td>
        <td id="LC1433" class="blob-code blob-code-inner js-file-line">   ]</td>
      </tr>
      <tr>
        <td id="L1434" class="blob-num js-line-number" data-line-number="1434"></td>
        <td id="LC1434" class="blob-code blob-code-inner js-file-line">  },</td>
      </tr>
      <tr>
        <td id="L1435" class="blob-num js-line-number" data-line-number="1435"></td>
        <td id="LC1435" class="blob-code blob-code-inner js-file-line">  {</td>
      </tr>
      <tr>
        <td id="L1436" class="blob-num js-line-number" data-line-number="1436"></td>
        <td id="LC1436" class="blob-code blob-code-inner js-file-line">   <span class="pl-s"><span class="pl-pds">&quot;</span>cell_type<span class="pl-pds">&quot;</span></span>: <span class="pl-s"><span class="pl-pds">&quot;</span>markdown<span class="pl-pds">&quot;</span></span>,</td>
      </tr>
      <tr>
        <td id="L1437" class="blob-num js-line-number" data-line-number="1437"></td>
        <td id="LC1437" class="blob-code blob-code-inner js-file-line">   <span class="pl-s"><span class="pl-pds">&quot;</span>metadata<span class="pl-pds">&quot;</span></span>: {</td>
      </tr>
      <tr>
        <td id="L1438" class="blob-num js-line-number" data-line-number="1438"></td>
        <td id="LC1438" class="blob-code blob-code-inner js-file-line">    <span class="pl-s"><span class="pl-pds">&quot;</span>deletable<span class="pl-pds">&quot;</span></span>: <span class="pl-c1">false</span>,</td>
      </tr>
      <tr>
        <td id="L1439" class="blob-num js-line-number" data-line-number="1439"></td>
        <td id="LC1439" class="blob-code blob-code-inner js-file-line">    <span class="pl-s"><span class="pl-pds">&quot;</span>editable<span class="pl-pds">&quot;</span></span>: <span class="pl-c1">false</span>,</td>
      </tr>
      <tr>
        <td id="L1440" class="blob-num js-line-number" data-line-number="1440"></td>
        <td id="LC1440" class="blob-code blob-code-inner js-file-line">    <span class="pl-s"><span class="pl-pds">&quot;</span>nbgrader<span class="pl-pds">&quot;</span></span>: {</td>
      </tr>
      <tr>
        <td id="L1441" class="blob-num js-line-number" data-line-number="1441"></td>
        <td id="LC1441" class="blob-code blob-code-inner js-file-line">     <span class="pl-s"><span class="pl-pds">&quot;</span>cell_type<span class="pl-pds">&quot;</span></span>: <span class="pl-s"><span class="pl-pds">&quot;</span>markdown<span class="pl-pds">&quot;</span></span>,</td>
      </tr>
      <tr>
        <td id="L1442" class="blob-num js-line-number" data-line-number="1442"></td>
        <td id="LC1442" class="blob-code blob-code-inner js-file-line">     <span class="pl-s"><span class="pl-pds">&quot;</span>checksum<span class="pl-pds">&quot;</span></span>: <span class="pl-s"><span class="pl-pds">&quot;</span>795713d092ebf77dbe0f17c46d4286cd<span class="pl-pds">&quot;</span></span>,</td>
      </tr>
      <tr>
        <td id="L1443" class="blob-num js-line-number" data-line-number="1443"></td>
        <td id="LC1443" class="blob-code blob-code-inner js-file-line">     <span class="pl-s"><span class="pl-pds">&quot;</span>grade<span class="pl-pds">&quot;</span></span>: <span class="pl-c1">false</span>,</td>
      </tr>
      <tr>
        <td id="L1444" class="blob-num js-line-number" data-line-number="1444"></td>
        <td id="LC1444" class="blob-code blob-code-inner js-file-line">     <span class="pl-s"><span class="pl-pds">&quot;</span>grade_id<span class="pl-pds">&quot;</span></span>: <span class="pl-s"><span class="pl-pds">&quot;</span>cell-de841fb4eb290d56<span class="pl-pds">&quot;</span></span>,</td>
      </tr>
      <tr>
        <td id="L1445" class="blob-num js-line-number" data-line-number="1445"></td>
        <td id="LC1445" class="blob-code blob-code-inner js-file-line">     <span class="pl-s"><span class="pl-pds">&quot;</span>locked<span class="pl-pds">&quot;</span></span>: <span class="pl-c1">true</span>,</td>
      </tr>
      <tr>
        <td id="L1446" class="blob-num js-line-number" data-line-number="1446"></td>
        <td id="LC1446" class="blob-code blob-code-inner js-file-line">     <span class="pl-s"><span class="pl-pds">&quot;</span>schema_version<span class="pl-pds">&quot;</span></span>: <span class="pl-c1">3</span>,</td>
      </tr>
      <tr>
        <td id="L1447" class="blob-num js-line-number" data-line-number="1447"></td>
        <td id="LC1447" class="blob-code blob-code-inner js-file-line">     <span class="pl-s"><span class="pl-pds">&quot;</span>solution<span class="pl-pds">&quot;</span></span>: <span class="pl-c1">false</span></td>
      </tr>
      <tr>
        <td id="L1448" class="blob-num js-line-number" data-line-number="1448"></td>
        <td id="LC1448" class="blob-code blob-code-inner js-file-line">    }</td>
      </tr>
      <tr>
        <td id="L1449" class="blob-num js-line-number" data-line-number="1449"></td>
        <td id="LC1449" class="blob-code blob-code-inner js-file-line">   },</td>
      </tr>
      <tr>
        <td id="L1450" class="blob-num js-line-number" data-line-number="1450"></td>
        <td id="LC1450" class="blob-code blob-code-inner js-file-line">   <span class="pl-s"><span class="pl-pds">&quot;</span>source<span class="pl-pds">&quot;</span></span>: [</td>
      </tr>
      <tr>
        <td id="L1451" class="blob-num js-line-number" data-line-number="1451"></td>
        <td id="LC1451" class="blob-code blob-code-inner js-file-line">    <span class="pl-s"><span class="pl-pds">&quot;</span>You can try the second value iteration algorithm by running the cell below.<span class="pl-pds">&quot;</span></span></td>
      </tr>
      <tr>
        <td id="L1452" class="blob-num js-line-number" data-line-number="1452"></td>
        <td id="LC1452" class="blob-code blob-code-inner js-file-line">   ]</td>
      </tr>
      <tr>
        <td id="L1453" class="blob-num js-line-number" data-line-number="1453"></td>
        <td id="LC1453" class="blob-code blob-code-inner js-file-line">  },</td>
      </tr>
      <tr>
        <td id="L1454" class="blob-num js-line-number" data-line-number="1454"></td>
        <td id="LC1454" class="blob-code blob-code-inner js-file-line">  {</td>
      </tr>
      <tr>
        <td id="L1455" class="blob-num js-line-number" data-line-number="1455"></td>
        <td id="LC1455" class="blob-code blob-code-inner js-file-line">   <span class="pl-s"><span class="pl-pds">&quot;</span>cell_type<span class="pl-pds">&quot;</span></span>: <span class="pl-s"><span class="pl-pds">&quot;</span>code<span class="pl-pds">&quot;</span></span>,</td>
      </tr>
      <tr>
        <td id="L1456" class="blob-num js-line-number" data-line-number="1456"></td>
        <td id="LC1456" class="blob-code blob-code-inner js-file-line">   <span class="pl-s"><span class="pl-pds">&quot;</span>execution_count<span class="pl-pds">&quot;</span></span>: <span class="pl-c1">29</span>,</td>
      </tr>
      <tr>
        <td id="L1457" class="blob-num js-line-number" data-line-number="1457"></td>
        <td id="LC1457" class="blob-code blob-code-inner js-file-line">   <span class="pl-s"><span class="pl-pds">&quot;</span>metadata<span class="pl-pds">&quot;</span></span>: {</td>
      </tr>
      <tr>
        <td id="L1458" class="blob-num js-line-number" data-line-number="1458"></td>
        <td id="LC1458" class="blob-code blob-code-inner js-file-line">    <span class="pl-s"><span class="pl-pds">&quot;</span>deletable<span class="pl-pds">&quot;</span></span>: <span class="pl-c1">false</span>,</td>
      </tr>
      <tr>
        <td id="L1459" class="blob-num js-line-number" data-line-number="1459"></td>
        <td id="LC1459" class="blob-code blob-code-inner js-file-line">    <span class="pl-s"><span class="pl-pds">&quot;</span>editable<span class="pl-pds">&quot;</span></span>: <span class="pl-c1">false</span>,</td>
      </tr>
      <tr>
        <td id="L1460" class="blob-num js-line-number" data-line-number="1460"></td>
        <td id="LC1460" class="blob-code blob-code-inner js-file-line">    <span class="pl-s"><span class="pl-pds">&quot;</span>nbgrader<span class="pl-pds">&quot;</span></span>: {</td>
      </tr>
      <tr>
        <td id="L1461" class="blob-num js-line-number" data-line-number="1461"></td>
        <td id="LC1461" class="blob-code blob-code-inner js-file-line">     <span class="pl-s"><span class="pl-pds">&quot;</span>cell_type<span class="pl-pds">&quot;</span></span>: <span class="pl-s"><span class="pl-pds">&quot;</span>code<span class="pl-pds">&quot;</span></span>,</td>
      </tr>
      <tr>
        <td id="L1462" class="blob-num js-line-number" data-line-number="1462"></td>
        <td id="LC1462" class="blob-code blob-code-inner js-file-line">     <span class="pl-s"><span class="pl-pds">&quot;</span>checksum<span class="pl-pds">&quot;</span></span>: <span class="pl-s"><span class="pl-pds">&quot;</span>09b1fda9c335946b52cae6c8a55e80fb<span class="pl-pds">&quot;</span></span>,</td>
      </tr>
      <tr>
        <td id="L1463" class="blob-num js-line-number" data-line-number="1463"></td>
        <td id="LC1463" class="blob-code blob-code-inner js-file-line">     <span class="pl-s"><span class="pl-pds">&quot;</span>grade<span class="pl-pds">&quot;</span></span>: <span class="pl-c1">false</span>,</td>
      </tr>
      <tr>
        <td id="L1464" class="blob-num js-line-number" data-line-number="1464"></td>
        <td id="LC1464" class="blob-code blob-code-inner js-file-line">     <span class="pl-s"><span class="pl-pds">&quot;</span>grade_id<span class="pl-pds">&quot;</span></span>: <span class="pl-s"><span class="pl-pds">&quot;</span>cell-2ace3a0ae8ee2e72<span class="pl-pds">&quot;</span></span>,</td>
      </tr>
      <tr>
        <td id="L1465" class="blob-num js-line-number" data-line-number="1465"></td>
        <td id="LC1465" class="blob-code blob-code-inner js-file-line">     <span class="pl-s"><span class="pl-pds">&quot;</span>locked<span class="pl-pds">&quot;</span></span>: <span class="pl-c1">true</span>,</td>
      </tr>
      <tr>
        <td id="L1466" class="blob-num js-line-number" data-line-number="1466"></td>
        <td id="LC1466" class="blob-code blob-code-inner js-file-line">     <span class="pl-s"><span class="pl-pds">&quot;</span>schema_version<span class="pl-pds">&quot;</span></span>: <span class="pl-c1">3</span>,</td>
      </tr>
      <tr>
        <td id="L1467" class="blob-num js-line-number" data-line-number="1467"></td>
        <td id="LC1467" class="blob-code blob-code-inner js-file-line">     <span class="pl-s"><span class="pl-pds">&quot;</span>solution<span class="pl-pds">&quot;</span></span>: <span class="pl-c1">false</span></td>
      </tr>
      <tr>
        <td id="L1468" class="blob-num js-line-number" data-line-number="1468"></td>
        <td id="LC1468" class="blob-code blob-code-inner js-file-line">    }</td>
      </tr>
      <tr>
        <td id="L1469" class="blob-num js-line-number" data-line-number="1469"></td>
        <td id="LC1469" class="blob-code blob-code-inner js-file-line">   },</td>
      </tr>
      <tr>
        <td id="L1470" class="blob-num js-line-number" data-line-number="1470"></td>
        <td id="LC1470" class="blob-code blob-code-inner js-file-line">   <span class="pl-s"><span class="pl-pds">&quot;</span>outputs<span class="pl-pds">&quot;</span></span>: [</td>
      </tr>
      <tr>
        <td id="L1471" class="blob-num js-line-number" data-line-number="1471"></td>
        <td id="LC1471" class="blob-code blob-code-inner js-file-line">    {</td>
      </tr>
      <tr>
        <td id="L1472" class="blob-num js-line-number" data-line-number="1472"></td>
        <td id="LC1472" class="blob-code blob-code-inner js-file-line">     <span class="pl-s"><span class="pl-pds">&quot;</span>data<span class="pl-pds">&quot;</span></span>: {</td>
      </tr>
      <tr>
        <td id="L1473" class="blob-num js-line-number" data-line-number="1473"></td>
        <td id="LC1473" class="blob-code blob-code-inner js-file-line">      &quot;image/png&quot;: &quot;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\n&quot;,</td>
      </tr>
      <tr>
        <td id="L1474" class="blob-num js-line-number" data-line-number="1474"></td>
        <td id="LC1474" class="blob-code blob-code-inner js-file-line">      <span class="pl-s"><span class="pl-pds">&quot;</span>text/plain<span class="pl-pds">&quot;</span></span>: [</td>
      </tr>
      <tr>
        <td id="L1475" class="blob-num js-line-number" data-line-number="1475"></td>
        <td id="LC1475" class="blob-code blob-code-inner js-file-line">       <span class="pl-s"><span class="pl-pds">&quot;</span>&lt;Figure size 900x360 with 3 Axes&gt;<span class="pl-pds">&quot;</span></span></td>
      </tr>
      <tr>
        <td id="L1476" class="blob-num js-line-number" data-line-number="1476"></td>
        <td id="LC1476" class="blob-code blob-code-inner js-file-line">      ]</td>
      </tr>
      <tr>
        <td id="L1477" class="blob-num js-line-number" data-line-number="1477"></td>
        <td id="LC1477" class="blob-code blob-code-inner js-file-line">     },</td>
      </tr>
      <tr>
        <td id="L1478" class="blob-num js-line-number" data-line-number="1478"></td>
        <td id="LC1478" class="blob-code blob-code-inner js-file-line">     <span class="pl-s"><span class="pl-pds">&quot;</span>metadata<span class="pl-pds">&quot;</span></span>: {},</td>
      </tr>
      <tr>
        <td id="L1479" class="blob-num js-line-number" data-line-number="1479"></td>
        <td id="LC1479" class="blob-code blob-code-inner js-file-line">     <span class="pl-s"><span class="pl-pds">&quot;</span>output_type<span class="pl-pds">&quot;</span></span>: <span class="pl-s"><span class="pl-pds">&quot;</span>display_data<span class="pl-pds">&quot;</span></span></td>
      </tr>
      <tr>
        <td id="L1480" class="blob-num js-line-number" data-line-number="1480"></td>
        <td id="LC1480" class="blob-code blob-code-inner js-file-line">    }</td>
      </tr>
      <tr>
        <td id="L1481" class="blob-num js-line-number" data-line-number="1481"></td>
        <td id="LC1481" class="blob-code blob-code-inner js-file-line">   ],</td>
      </tr>
      <tr>
        <td id="L1482" class="blob-num js-line-number" data-line-number="1482"></td>
        <td id="LC1482" class="blob-code blob-code-inner js-file-line">   <span class="pl-s"><span class="pl-pds">&quot;</span>source<span class="pl-pds">&quot;</span></span>: [</td>
      </tr>
      <tr>
        <td id="L1483" class="blob-num js-line-number" data-line-number="1483"></td>
        <td id="LC1483" class="blob-code blob-code-inner js-file-line">    <span class="pl-s"><span class="pl-pds">&quot;</span>env = tools.ParkingWorld(num_spaces=10, num_prices=4)<span class="pl-cce">\n</span><span class="pl-pds">&quot;</span></span>,</td>
      </tr>
      <tr>
        <td id="L1484" class="blob-num js-line-number" data-line-number="1484"></td>
        <td id="LC1484" class="blob-code blob-code-inner js-file-line">    <span class="pl-s"><span class="pl-pds">&quot;</span>gamma = 0.9<span class="pl-cce">\n</span><span class="pl-pds">&quot;</span></span>,</td>
      </tr>
      <tr>
        <td id="L1485" class="blob-num js-line-number" data-line-number="1485"></td>
        <td id="LC1485" class="blob-code blob-code-inner js-file-line">    <span class="pl-s"><span class="pl-pds">&quot;</span>theta = 0.1<span class="pl-cce">\n</span><span class="pl-pds">&quot;</span></span>,</td>
      </tr>
      <tr>
        <td id="L1486" class="blob-num js-line-number" data-line-number="1486"></td>
        <td id="LC1486" class="blob-code blob-code-inner js-file-line">    <span class="pl-s"><span class="pl-pds">&quot;</span>V, pi = value_iteration2(env, gamma, theta)<span class="pl-cce">\n</span><span class="pl-pds">&quot;</span></span>,</td>
      </tr>
      <tr>
        <td id="L1487" class="blob-num js-line-number" data-line-number="1487"></td>
        <td id="LC1487" class="blob-code blob-code-inner js-file-line">    <span class="pl-s"><span class="pl-pds">&quot;</span>tools.plot(V, pi)<span class="pl-pds">&quot;</span></span></td>
      </tr>
      <tr>
        <td id="L1488" class="blob-num js-line-number" data-line-number="1488"></td>
        <td id="LC1488" class="blob-code blob-code-inner js-file-line">   ]</td>
      </tr>
      <tr>
        <td id="L1489" class="blob-num js-line-number" data-line-number="1489"></td>
        <td id="LC1489" class="blob-code blob-code-inner js-file-line">  },</td>
      </tr>
      <tr>
        <td id="L1490" class="blob-num js-line-number" data-line-number="1490"></td>
        <td id="LC1490" class="blob-code blob-code-inner js-file-line">  {</td>
      </tr>
      <tr>
        <td id="L1491" class="blob-num js-line-number" data-line-number="1491"></td>
        <td id="LC1491" class="blob-code blob-code-inner js-file-line">   <span class="pl-s"><span class="pl-pds">&quot;</span>cell_type<span class="pl-pds">&quot;</span></span>: <span class="pl-s"><span class="pl-pds">&quot;</span>markdown<span class="pl-pds">&quot;</span></span>,</td>
      </tr>
      <tr>
        <td id="L1492" class="blob-num js-line-number" data-line-number="1492"></td>
        <td id="LC1492" class="blob-code blob-code-inner js-file-line">   <span class="pl-s"><span class="pl-pds">&quot;</span>metadata<span class="pl-pds">&quot;</span></span>: {</td>
      </tr>
      <tr>
        <td id="L1493" class="blob-num js-line-number" data-line-number="1493"></td>
        <td id="LC1493" class="blob-code blob-code-inner js-file-line">    <span class="pl-s"><span class="pl-pds">&quot;</span>deletable<span class="pl-pds">&quot;</span></span>: <span class="pl-c1">false</span>,</td>
      </tr>
      <tr>
        <td id="L1494" class="blob-num js-line-number" data-line-number="1494"></td>
        <td id="LC1494" class="blob-code blob-code-inner js-file-line">    <span class="pl-s"><span class="pl-pds">&quot;</span>editable<span class="pl-pds">&quot;</span></span>: <span class="pl-c1">false</span>,</td>
      </tr>
      <tr>
        <td id="L1495" class="blob-num js-line-number" data-line-number="1495"></td>
        <td id="LC1495" class="blob-code blob-code-inner js-file-line">    <span class="pl-s"><span class="pl-pds">&quot;</span>nbgrader<span class="pl-pds">&quot;</span></span>: {</td>
      </tr>
      <tr>
        <td id="L1496" class="blob-num js-line-number" data-line-number="1496"></td>
        <td id="LC1496" class="blob-code blob-code-inner js-file-line">     <span class="pl-s"><span class="pl-pds">&quot;</span>cell_type<span class="pl-pds">&quot;</span></span>: <span class="pl-s"><span class="pl-pds">&quot;</span>markdown<span class="pl-pds">&quot;</span></span>,</td>
      </tr>
      <tr>
        <td id="L1497" class="blob-num js-line-number" data-line-number="1497"></td>
        <td id="LC1497" class="blob-code blob-code-inner js-file-line">     <span class="pl-s"><span class="pl-pds">&quot;</span>checksum<span class="pl-pds">&quot;</span></span>: <span class="pl-s"><span class="pl-pds">&quot;</span>524f8f37d4321a149e999e2af4c10756<span class="pl-pds">&quot;</span></span>,</td>
      </tr>
      <tr>
        <td id="L1498" class="blob-num js-line-number" data-line-number="1498"></td>
        <td id="LC1498" class="blob-code blob-code-inner js-file-line">     <span class="pl-s"><span class="pl-pds">&quot;</span>grade<span class="pl-pds">&quot;</span></span>: <span class="pl-c1">false</span>,</td>
      </tr>
      <tr>
        <td id="L1499" class="blob-num js-line-number" data-line-number="1499"></td>
        <td id="LC1499" class="blob-code blob-code-inner js-file-line">     <span class="pl-s"><span class="pl-pds">&quot;</span>grade_id<span class="pl-pds">&quot;</span></span>: <span class="pl-s"><span class="pl-pds">&quot;</span>cell-6025f917f706302b<span class="pl-pds">&quot;</span></span>,</td>
      </tr>
      <tr>
        <td id="L1500" class="blob-num js-line-number" data-line-number="1500"></td>
        <td id="LC1500" class="blob-code blob-code-inner js-file-line">     <span class="pl-s"><span class="pl-pds">&quot;</span>locked<span class="pl-pds">&quot;</span></span>: <span class="pl-c1">true</span>,</td>
      </tr>
      <tr>
        <td id="L1501" class="blob-num js-line-number" data-line-number="1501"></td>
        <td id="LC1501" class="blob-code blob-code-inner js-file-line">     <span class="pl-s"><span class="pl-pds">&quot;</span>schema_version<span class="pl-pds">&quot;</span></span>: <span class="pl-c1">3</span>,</td>
      </tr>
      <tr>
        <td id="L1502" class="blob-num js-line-number" data-line-number="1502"></td>
        <td id="LC1502" class="blob-code blob-code-inner js-file-line">     <span class="pl-s"><span class="pl-pds">&quot;</span>solution<span class="pl-pds">&quot;</span></span>: <span class="pl-c1">false</span></td>
      </tr>
      <tr>
        <td id="L1503" class="blob-num js-line-number" data-line-number="1503"></td>
        <td id="LC1503" class="blob-code blob-code-inner js-file-line">    }</td>
      </tr>
      <tr>
        <td id="L1504" class="blob-num js-line-number" data-line-number="1504"></td>
        <td id="LC1504" class="blob-code blob-code-inner js-file-line">   },</td>
      </tr>
      <tr>
        <td id="L1505" class="blob-num js-line-number" data-line-number="1505"></td>
        <td id="LC1505" class="blob-code blob-code-inner js-file-line">   <span class="pl-s"><span class="pl-pds">&quot;</span>source<span class="pl-pds">&quot;</span></span>: [</td>
      </tr>
      <tr>
        <td id="L1506" class="blob-num js-line-number" data-line-number="1506"></td>
        <td id="LC1506" class="blob-code blob-code-inner js-file-line">    <span class="pl-s"><span class="pl-pds">&quot;</span>## Wrapping Up<span class="pl-cce">\n</span><span class="pl-pds">&quot;</span></span>,</td>
      </tr>
      <tr>
        <td id="L1507" class="blob-num js-line-number" data-line-number="1507"></td>
        <td id="LC1507" class="blob-code blob-code-inner js-file-line">    <span class="pl-s"><span class="pl-pds">&quot;</span>Congratulations, you&#39;ve completed assignment 2! In this assignment, we investigated policy evaluation and policy improvement, policy iteration and value iteration, and Bellman updates. Gridworld City thanks you for your service!<span class="pl-pds">&quot;</span></span></td>
      </tr>
      <tr>
        <td id="L1508" class="blob-num js-line-number" data-line-number="1508"></td>
        <td id="LC1508" class="blob-code blob-code-inner js-file-line">   ]</td>
      </tr>
      <tr>
        <td id="L1509" class="blob-num js-line-number" data-line-number="1509"></td>
        <td id="LC1509" class="blob-code blob-code-inner js-file-line">  }</td>
      </tr>
      <tr>
        <td id="L1510" class="blob-num js-line-number" data-line-number="1510"></td>
        <td id="LC1510" class="blob-code blob-code-inner js-file-line"> ],</td>
      </tr>
      <tr>
        <td id="L1511" class="blob-num js-line-number" data-line-number="1511"></td>
        <td id="LC1511" class="blob-code blob-code-inner js-file-line"> <span class="pl-s"><span class="pl-pds">&quot;</span>metadata<span class="pl-pds">&quot;</span></span>: {</td>
      </tr>
      <tr>
        <td id="L1512" class="blob-num js-line-number" data-line-number="1512"></td>
        <td id="LC1512" class="blob-code blob-code-inner js-file-line">  <span class="pl-s"><span class="pl-pds">&quot;</span>coursera<span class="pl-pds">&quot;</span></span>: {</td>
      </tr>
      <tr>
        <td id="L1513" class="blob-num js-line-number" data-line-number="1513"></td>
        <td id="LC1513" class="blob-code blob-code-inner js-file-line">   <span class="pl-s"><span class="pl-pds">&quot;</span>course_slug<span class="pl-pds">&quot;</span></span>: <span class="pl-s"><span class="pl-pds">&quot;</span>fundamentals-of-reinforcement-learning<span class="pl-pds">&quot;</span></span>,</td>
      </tr>
      <tr>
        <td id="L1514" class="blob-num js-line-number" data-line-number="1514"></td>
        <td id="LC1514" class="blob-code blob-code-inner js-file-line">   <span class="pl-s"><span class="pl-pds">&quot;</span>graded_item_id<span class="pl-pds">&quot;</span></span>: <span class="pl-s"><span class="pl-pds">&quot;</span>fvXSL<span class="pl-pds">&quot;</span></span>,</td>
      </tr>
      <tr>
        <td id="L1515" class="blob-num js-line-number" data-line-number="1515"></td>
        <td id="LC1515" class="blob-code blob-code-inner js-file-line">   <span class="pl-s"><span class="pl-pds">&quot;</span>launcher_item_id<span class="pl-pds">&quot;</span></span>: <span class="pl-s"><span class="pl-pds">&quot;</span>5z8bz<span class="pl-pds">&quot;</span></span></td>
      </tr>
      <tr>
        <td id="L1516" class="blob-num js-line-number" data-line-number="1516"></td>
        <td id="LC1516" class="blob-code blob-code-inner js-file-line">  },</td>
      </tr>
      <tr>
        <td id="L1517" class="blob-num js-line-number" data-line-number="1517"></td>
        <td id="LC1517" class="blob-code blob-code-inner js-file-line">  <span class="pl-s"><span class="pl-pds">&quot;</span>kernelspec<span class="pl-pds">&quot;</span></span>: {</td>
      </tr>
      <tr>
        <td id="L1518" class="blob-num js-line-number" data-line-number="1518"></td>
        <td id="LC1518" class="blob-code blob-code-inner js-file-line">   <span class="pl-s"><span class="pl-pds">&quot;</span>display_name<span class="pl-pds">&quot;</span></span>: <span class="pl-s"><span class="pl-pds">&quot;</span>Python 3<span class="pl-pds">&quot;</span></span>,</td>
      </tr>
      <tr>
        <td id="L1519" class="blob-num js-line-number" data-line-number="1519"></td>
        <td id="LC1519" class="blob-code blob-code-inner js-file-line">   <span class="pl-s"><span class="pl-pds">&quot;</span>language<span class="pl-pds">&quot;</span></span>: <span class="pl-s"><span class="pl-pds">&quot;</span>python<span class="pl-pds">&quot;</span></span>,</td>
      </tr>
      <tr>
        <td id="L1520" class="blob-num js-line-number" data-line-number="1520"></td>
        <td id="LC1520" class="blob-code blob-code-inner js-file-line">   <span class="pl-s"><span class="pl-pds">&quot;</span>name<span class="pl-pds">&quot;</span></span>: <span class="pl-s"><span class="pl-pds">&quot;</span>python3<span class="pl-pds">&quot;</span></span></td>
      </tr>
      <tr>
        <td id="L1521" class="blob-num js-line-number" data-line-number="1521"></td>
        <td id="LC1521" class="blob-code blob-code-inner js-file-line">  },</td>
      </tr>
      <tr>
        <td id="L1522" class="blob-num js-line-number" data-line-number="1522"></td>
        <td id="LC1522" class="blob-code blob-code-inner js-file-line">  <span class="pl-s"><span class="pl-pds">&quot;</span>language_info<span class="pl-pds">&quot;</span></span>: {</td>
      </tr>
      <tr>
        <td id="L1523" class="blob-num js-line-number" data-line-number="1523"></td>
        <td id="LC1523" class="blob-code blob-code-inner js-file-line">   <span class="pl-s"><span class="pl-pds">&quot;</span>codemirror_mode<span class="pl-pds">&quot;</span></span>: {</td>
      </tr>
      <tr>
        <td id="L1524" class="blob-num js-line-number" data-line-number="1524"></td>
        <td id="LC1524" class="blob-code blob-code-inner js-file-line">    <span class="pl-s"><span class="pl-pds">&quot;</span>name<span class="pl-pds">&quot;</span></span>: <span class="pl-s"><span class="pl-pds">&quot;</span>ipython<span class="pl-pds">&quot;</span></span>,</td>
      </tr>
      <tr>
        <td id="L1525" class="blob-num js-line-number" data-line-number="1525"></td>
        <td id="LC1525" class="blob-code blob-code-inner js-file-line">    <span class="pl-s"><span class="pl-pds">&quot;</span>version<span class="pl-pds">&quot;</span></span>: <span class="pl-c1">3</span></td>
      </tr>
      <tr>
        <td id="L1526" class="blob-num js-line-number" data-line-number="1526"></td>
        <td id="LC1526" class="blob-code blob-code-inner js-file-line">   },</td>
      </tr>
      <tr>
        <td id="L1527" class="blob-num js-line-number" data-line-number="1527"></td>
        <td id="LC1527" class="blob-code blob-code-inner js-file-line">   <span class="pl-s"><span class="pl-pds">&quot;</span>file_extension<span class="pl-pds">&quot;</span></span>: <span class="pl-s"><span class="pl-pds">&quot;</span>.py<span class="pl-pds">&quot;</span></span>,</td>
      </tr>
      <tr>
        <td id="L1528" class="blob-num js-line-number" data-line-number="1528"></td>
        <td id="LC1528" class="blob-code blob-code-inner js-file-line">   <span class="pl-s"><span class="pl-pds">&quot;</span>mimetype<span class="pl-pds">&quot;</span></span>: <span class="pl-s"><span class="pl-pds">&quot;</span>text/x-python<span class="pl-pds">&quot;</span></span>,</td>
      </tr>
      <tr>
        <td id="L1529" class="blob-num js-line-number" data-line-number="1529"></td>
        <td id="LC1529" class="blob-code blob-code-inner js-file-line">   <span class="pl-s"><span class="pl-pds">&quot;</span>name<span class="pl-pds">&quot;</span></span>: <span class="pl-s"><span class="pl-pds">&quot;</span>python<span class="pl-pds">&quot;</span></span>,</td>
      </tr>
      <tr>
        <td id="L1530" class="blob-num js-line-number" data-line-number="1530"></td>
        <td id="LC1530" class="blob-code blob-code-inner js-file-line">   <span class="pl-s"><span class="pl-pds">&quot;</span>nbconvert_exporter<span class="pl-pds">&quot;</span></span>: <span class="pl-s"><span class="pl-pds">&quot;</span>python<span class="pl-pds">&quot;</span></span>,</td>
      </tr>
      <tr>
        <td id="L1531" class="blob-num js-line-number" data-line-number="1531"></td>
        <td id="LC1531" class="blob-code blob-code-inner js-file-line">   <span class="pl-s"><span class="pl-pds">&quot;</span>pygments_lexer<span class="pl-pds">&quot;</span></span>: <span class="pl-s"><span class="pl-pds">&quot;</span>ipython3<span class="pl-pds">&quot;</span></span>,</td>
      </tr>
      <tr>
        <td id="L1532" class="blob-num js-line-number" data-line-number="1532"></td>
        <td id="LC1532" class="blob-code blob-code-inner js-file-line">   <span class="pl-s"><span class="pl-pds">&quot;</span>version<span class="pl-pds">&quot;</span></span>: <span class="pl-s"><span class="pl-pds">&quot;</span>3.7.6<span class="pl-pds">&quot;</span></span></td>
      </tr>
      <tr>
        <td id="L1533" class="blob-num js-line-number" data-line-number="1533"></td>
        <td id="LC1533" class="blob-code blob-code-inner js-file-line">  }</td>
      </tr>
      <tr>
        <td id="L1534" class="blob-num js-line-number" data-line-number="1534"></td>
        <td id="LC1534" class="blob-code blob-code-inner js-file-line"> },</td>
      </tr>
      <tr>
        <td id="L1535" class="blob-num js-line-number" data-line-number="1535"></td>
        <td id="LC1535" class="blob-code blob-code-inner js-file-line"> <span class="pl-s"><span class="pl-pds">&quot;</span>nbformat<span class="pl-pds">&quot;</span></span>: <span class="pl-c1">4</span>,</td>
      </tr>
      <tr>
        <td id="L1536" class="blob-num js-line-number" data-line-number="1536"></td>
        <td id="LC1536" class="blob-code blob-code-inner js-file-line"> <span class="pl-s"><span class="pl-pds">&quot;</span>nbformat_minor<span class="pl-pds">&quot;</span></span>: <span class="pl-c1">1</span></td>
      </tr>
      <tr>
        <td id="L1537" class="blob-num js-line-number" data-line-number="1537"></td>
        <td id="LC1537" class="blob-code blob-code-inner js-file-line">}</td>
      </tr>
</table>

  <details class="details-reset details-overlay BlobToolbar position-absolute js-file-line-actions dropdown d-none" aria-hidden="true">
    <summary class="btn-octicon ml-0 px-2 p-0 color-bg-primary border color-border-tertiary rounded-1" aria-label="Inline file action toolbar">
      <svg class="octicon octicon-kebab-horizontal" viewBox="0 0 16 16" version="1.1" width="16" height="16" aria-hidden="true"><path d="M8 9a1.5 1.5 0 100-3 1.5 1.5 0 000 3zM1.5 9a1.5 1.5 0 100-3 1.5 1.5 0 000 3zm13 0a1.5 1.5 0 100-3 1.5 1.5 0 000 3z"></path></svg>
    </summary>
    <details-menu>
      <ul class="BlobToolbar-dropdown dropdown-menu dropdown-menu-se mt-2" style="width:185px">
        <li>
          <clipboard-copy role="menuitem" class="dropdown-item" id="js-copy-lines" style="cursor:pointer;">
            Copy lines
          </clipboard-copy>
        </li>
        <li>
          <clipboard-copy role="menuitem" class="dropdown-item" id="js-copy-permalink" style="cursor:pointer;">
            Copy permalink
          </clipboard-copy>
        </li>
        <li><a class="dropdown-item js-update-url-with-hash" id="js-view-git-blame" role="menuitem" href="/Sahilofficial/Fundamentals-of-Reinforcement-Learning/blame/e607144241d366eb345f59442999b854d979a350/Fundamentals_of_Reinforcement_Learning/Week%204/Assignment2.json">View git blame</a></li>
          <li><a class="dropdown-item" id="js-new-issue" role="menuitem" href="/Sahilofficial/Fundamentals-of-Reinforcement-Learning/issues/new">Reference in new issue</a></li>
      </ul>
    </details-menu>
  </details>

  </div>

    </div>

  

  <details class="details-reset details-overlay details-overlay-dark" id="jumpto-line-details-dialog">
    <summary data-hotkey="l" aria-label="Jump to line"></summary>
    <details-dialog class="Box Box--overlay d-flex flex-column anim-fade-in fast linejump" aria-label="Jump to line">
      <!-- '"` --><!-- </textarea></xmp> --></option></form><form class="js-jump-to-line-form Box-body d-flex" action="" accept-charset="UTF-8" method="get">
        <input class="form-control flex-auto mr-3 linejump-input js-jump-to-line-field" type="text" placeholder="Jump to line&hellip;" aria-label="Jump to line" autofocus>
        <button type="submit" class="btn" data-close-dialog>Go</button>
</form>    </details-dialog>
  </details>


</div>



  </div>
</div>

    </main>
  </div>

  </div>

          
<div class="footer container-xl width-full p-responsive" role="contentinfo">
  <div class="position-relative d-flex flex-row-reverse flex-lg-row flex-wrap flex-lg-nowrap flex-justify-center flex-lg-justify-between pt-6 pb-2 mt-6 f6 color-text-secondary border-top color-border-secondary ">
    <ul class="list-style-none d-flex flex-wrap col-12 col-lg-5 flex-justify-center flex-lg-justify-between mb-2 mb-lg-0">
      <li class="mr-3 mr-lg-0">&copy; 2021 GitHub, Inc.</li>
        <li class="mr-3 mr-lg-0"><a href="https://docs.github.com/en/github/site-policy/github-terms-of-service" data-ga-click="Footer, go to terms, text:terms">Terms</a></li>
        <li class="mr-3 mr-lg-0"><a href="https://docs.github.com/en/github/site-policy/github-privacy-statement" data-ga-click="Footer, go to privacy, text:privacy">Privacy</a></li>
        <li class="mr-3 mr-lg-0"><a data-ga-click="Footer, go to security, text:security" href="https://github.com/security">Security</a></li>
        <li class="mr-3 mr-lg-0"><a href="https://www.githubstatus.com/" data-ga-click="Footer, go to status, text:status">Status</a></li>
        <li><a data-ga-click="Footer, go to help, text:Docs" href="https://docs.github.com">Docs</a></li>
    </ul>

    <a aria-label="Homepage" title="GitHub" class="footer-octicon d-none d-lg-block mx-lg-4" href="https://github.com">
      <svg height="24" class="octicon octicon-mark-github" viewBox="0 0 16 16" version="1.1" width="24" aria-hidden="true"><path fill-rule="evenodd" d="M8 0C3.58 0 0 3.58 0 8c0 3.54 2.29 6.53 5.47 7.59.4.07.55-.17.55-.38 0-.19-.01-.82-.01-1.49-2.01.37-2.53-.49-2.69-.94-.09-.23-.48-.94-.82-1.13-.28-.15-.68-.52-.01-.53.63-.01 1.08.58 1.23.82.72 1.21 1.87.87 2.33.66.07-.52.28-.87.51-1.07-1.78-.2-3.64-.89-3.64-3.95 0-.87.31-1.59.82-2.15-.08-.2-.36-1.02.08-2.12 0 0 .67-.21 2.2.82.64-.18 1.32-.27 2-.27.68 0 1.36.09 2 .27 1.53-1.04 2.2-.82 2.2-.82.44 1.1.16 1.92.08 2.12.51.56.82 1.27.82 2.15 0 3.07-1.87 3.75-3.65 3.95.29.25.54.73.54 1.48 0 1.07-.01 1.93-.01 2.2 0 .21.15.46.55.38A8.013 8.013 0 0016 8c0-4.42-3.58-8-8-8z"></path></svg>
</a>
    <ul class="list-style-none d-flex flex-wrap col-12 col-lg-5 flex-justify-center flex-lg-justify-between mb-2 mb-lg-0">
        <li class="mr-3 mr-lg-0"><a href="https://support.github.com" data-ga-click="Footer, go to contact, text:contact">Contact GitHub</a></li>
        <li class="mr-3 mr-lg-0"><a href="https://github.com/pricing" data-ga-click="Footer, go to Pricing, text:Pricing">Pricing</a></li>
      <li class="mr-3 mr-lg-0"><a href="https://docs.github.com" data-ga-click="Footer, go to api, text:api">API</a></li>
      <li class="mr-3 mr-lg-0"><a href="https://services.github.com" data-ga-click="Footer, go to training, text:training">Training</a></li>
        <li class="mr-3 mr-lg-0"><a href="https://github.blog" data-ga-click="Footer, go to blog, text:blog">Blog</a></li>
        <li><a data-ga-click="Footer, go to about, text:about" href="https://github.com/about">About</a></li>
    </ul>
  </div>
  <div class="d-flex flex-justify-center pb-6">
    <span class="f6 color-text-tertiary"></span>
  </div>

  
</div>



  <div id="ajax-error-message" class="ajax-error-message flash flash-error" hidden>
    <svg class="octicon octicon-alert" viewBox="0 0 16 16" version="1.1" width="16" height="16" aria-hidden="true"><path fill-rule="evenodd" d="M8.22 1.754a.25.25 0 00-.44 0L1.698 13.132a.25.25 0 00.22.368h12.164a.25.25 0 00.22-.368L8.22 1.754zm-1.763-.707c.659-1.234 2.427-1.234 3.086 0l6.082 11.378A1.75 1.75 0 0114.082 15H1.918a1.75 1.75 0 01-1.543-2.575L6.457 1.047zM9 11a1 1 0 11-2 0 1 1 0 012 0zm-.25-5.25a.75.75 0 00-1.5 0v2.5a.75.75 0 001.5 0v-2.5z"></path></svg>
    <button type="button" class="flash-close js-ajax-error-dismiss" aria-label="Dismiss error">
      <svg class="octicon octicon-x" viewBox="0 0 16 16" version="1.1" width="16" height="16" aria-hidden="true"><path fill-rule="evenodd" d="M3.72 3.72a.75.75 0 011.06 0L8 6.94l3.22-3.22a.75.75 0 111.06 1.06L9.06 8l3.22 3.22a.75.75 0 11-1.06 1.06L8 9.06l-3.22 3.22a.75.75 0 01-1.06-1.06L6.94 8 3.72 4.78a.75.75 0 010-1.06z"></path></svg>
    </button>
    You can’t perform that action at this time.
  </div>

  <div class="js-stale-session-flash flash flash-warn flash-banner" hidden
    >
    <svg class="octicon octicon-alert" viewBox="0 0 16 16" version="1.1" width="16" height="16" aria-hidden="true"><path fill-rule="evenodd" d="M8.22 1.754a.25.25 0 00-.44 0L1.698 13.132a.25.25 0 00.22.368h12.164a.25.25 0 00.22-.368L8.22 1.754zm-1.763-.707c.659-1.234 2.427-1.234 3.086 0l6.082 11.378A1.75 1.75 0 0114.082 15H1.918a1.75 1.75 0 01-1.543-2.575L6.457 1.047zM9 11a1 1 0 11-2 0 1 1 0 012 0zm-.25-5.25a.75.75 0 00-1.5 0v2.5a.75.75 0 001.5 0v-2.5z"></path></svg>
    <span class="js-stale-session-flash-signed-in" hidden>You signed in with another tab or window. <a href="">Reload</a> to refresh your session.</span>
    <span class="js-stale-session-flash-signed-out" hidden>You signed out in another tab or window. <a href="">Reload</a> to refresh your session.</span>
  </div>
    <template id="site-details-dialog">
  <details class="details-reset details-overlay details-overlay-dark lh-default color-text-primary hx_rsm" open>
    <summary role="button" aria-label="Close dialog"></summary>
    <details-dialog class="Box Box--overlay d-flex flex-column anim-fade-in fast hx_rsm-dialog hx_rsm-modal">
      <button class="Box-btn-octicon m-0 btn-octicon position-absolute right-0 top-0" type="button" aria-label="Close dialog" data-close-dialog>
        <svg class="octicon octicon-x" viewBox="0 0 16 16" version="1.1" width="16" height="16" aria-hidden="true"><path fill-rule="evenodd" d="M3.72 3.72a.75.75 0 011.06 0L8 6.94l3.22-3.22a.75.75 0 111.06 1.06L9.06 8l3.22 3.22a.75.75 0 11-1.06 1.06L8 9.06l-3.22 3.22a.75.75 0 01-1.06-1.06L6.94 8 3.72 4.78a.75.75 0 010-1.06z"></path></svg>
      </button>
      <div class="octocat-spinner my-6 js-details-dialog-spinner"></div>
    </details-dialog>
  </details>
</template>

    <div class="Popover js-hovercard-content position-absolute" style="display: none; outline: none;" tabindex="0">
  <div class="Popover-message Popover-message--bottom-left Popover-message--large Box color-shadow-large" style="width:360px;">
  </div>
</div>




  </body>
</html>

